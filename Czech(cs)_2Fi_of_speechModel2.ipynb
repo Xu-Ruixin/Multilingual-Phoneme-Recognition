{
  "cells": [
    {
      "cell_type": "markdown",
      "metadata": {
        "id": "view-in-github",
        "colab_type": "text"
      },
      "source": [
        "<a href=\"https://colab.research.google.com/github/Xu-Ruixin/Multilingual-Phoneme-Recognition/blob/main/Czech(cs)_2Fi_of_speechModel2.ipynb\" target=\"_parent\"><img src=\"https://colab.research.google.com/assets/colab-badge.svg\" alt=\"Open In Colab\"/></a>"
      ]
    },
    {
      "cell_type": "code",
      "execution_count": null,
      "metadata": {
        "colab": {
          "base_uri": "https://localhost:8080/"
        },
        "id": "YELVqGxMxnbG",
        "outputId": "787b0051-c5b7-417a-9010-0cd23a6c7f7e"
      },
      "outputs": [
        {
          "output_type": "stream",
          "name": "stdout",
          "text": [
            "Thu Nov 30 09:04:06 2023       \n",
            "+-----------------------------------------------------------------------------+\n",
            "| NVIDIA-SMI 525.105.17   Driver Version: 525.105.17   CUDA Version: 12.0     |\n",
            "|-------------------------------+----------------------+----------------------+\n",
            "| GPU  Name        Persistence-M| Bus-Id        Disp.A | Volatile Uncorr. ECC |\n",
            "| Fan  Temp  Perf  Pwr:Usage/Cap|         Memory-Usage | GPU-Util  Compute M. |\n",
            "|                               |                      |               MIG M. |\n",
            "|===============================+======================+======================|\n",
            "|   0  Tesla T4            Off  | 00000000:00:04.0 Off |                    0 |\n",
            "| N/A   47C    P8    10W /  70W |      0MiB / 15360MiB |      0%      Default |\n",
            "|                               |                      |                  N/A |\n",
            "+-------------------------------+----------------------+----------------------+\n",
            "                                                                               \n",
            "+-----------------------------------------------------------------------------+\n",
            "| Processes:                                                                  |\n",
            "|  GPU   GI   CI        PID   Type   Process name                  GPU Memory |\n",
            "|        ID   ID                                                   Usage      |\n",
            "|=============================================================================|\n",
            "|  No running processes found                                                 |\n",
            "+-----------------------------------------------------------------------------+\n"
          ]
        }
      ],
      "source": [
        "gpu_info = !nvidia-smi\n",
        "gpu_info = '\\n'.join(gpu_info)\n",
        "if gpu_info.find('failed') >= 0:\n",
        "  print('Not connected to a GPU')\n",
        "else:\n",
        "  print(gpu_info)"
      ]
    },
    {
      "cell_type": "code",
      "execution_count": null,
      "metadata": {
        "colab": {
          "base_uri": "https://localhost:8080/"
        },
        "id": "c8eh87Hoee5d",
        "outputId": "9f5258db-efa5-45d1-fd6a-dafa0cf27838"
      },
      "outputs": [
        {
          "output_type": "stream",
          "name": "stdout",
          "text": [
            "Requirement already satisfied: datasets in /usr/local/lib/python3.10/dist-packages (2.15.0)\n",
            "Requirement already satisfied: numpy>=1.17 in /usr/local/lib/python3.10/dist-packages (from datasets) (1.23.5)\n",
            "Requirement already satisfied: pyarrow>=8.0.0 in /usr/local/lib/python3.10/dist-packages (from datasets) (9.0.0)\n",
            "Requirement already satisfied: pyarrow-hotfix in /usr/local/lib/python3.10/dist-packages (from datasets) (0.6)\n",
            "Requirement already satisfied: dill<0.3.8,>=0.3.0 in /usr/local/lib/python3.10/dist-packages (from datasets) (0.3.7)\n",
            "Requirement already satisfied: pandas in /usr/local/lib/python3.10/dist-packages (from datasets) (1.5.3)\n",
            "Requirement already satisfied: requests>=2.19.0 in /usr/local/lib/python3.10/dist-packages (from datasets) (2.31.0)\n",
            "Requirement already satisfied: tqdm>=4.62.1 in /usr/local/lib/python3.10/dist-packages (from datasets) (4.66.1)\n",
            "Requirement already satisfied: xxhash in /usr/local/lib/python3.10/dist-packages (from datasets) (3.4.1)\n",
            "Requirement already satisfied: multiprocess in /usr/local/lib/python3.10/dist-packages (from datasets) (0.70.15)\n",
            "Requirement already satisfied: fsspec[http]<=2023.10.0,>=2023.1.0 in /usr/local/lib/python3.10/dist-packages (from datasets) (2023.6.0)\n",
            "Requirement already satisfied: aiohttp in /usr/local/lib/python3.10/dist-packages (from datasets) (3.8.6)\n",
            "Requirement already satisfied: huggingface-hub>=0.18.0 in /usr/local/lib/python3.10/dist-packages (from datasets) (0.19.4)\n",
            "Requirement already satisfied: packaging in /usr/local/lib/python3.10/dist-packages (from datasets) (23.2)\n",
            "Requirement already satisfied: pyyaml>=5.1 in /usr/local/lib/python3.10/dist-packages (from datasets) (6.0.1)\n",
            "Requirement already satisfied: attrs>=17.3.0 in /usr/local/lib/python3.10/dist-packages (from aiohttp->datasets) (23.1.0)\n",
            "Requirement already satisfied: charset-normalizer<4.0,>=2.0 in /usr/local/lib/python3.10/dist-packages (from aiohttp->datasets) (3.3.2)\n",
            "Requirement already satisfied: multidict<7.0,>=4.5 in /usr/local/lib/python3.10/dist-packages (from aiohttp->datasets) (6.0.4)\n",
            "Requirement already satisfied: async-timeout<5.0,>=4.0.0a3 in /usr/local/lib/python3.10/dist-packages (from aiohttp->datasets) (4.0.3)\n",
            "Requirement already satisfied: yarl<2.0,>=1.0 in /usr/local/lib/python3.10/dist-packages (from aiohttp->datasets) (1.9.2)\n",
            "Requirement already satisfied: frozenlist>=1.1.1 in /usr/local/lib/python3.10/dist-packages (from aiohttp->datasets) (1.4.0)\n",
            "Requirement already satisfied: aiosignal>=1.1.2 in /usr/local/lib/python3.10/dist-packages (from aiohttp->datasets) (1.3.1)\n",
            "Requirement already satisfied: filelock in /usr/local/lib/python3.10/dist-packages (from huggingface-hub>=0.18.0->datasets) (3.13.1)\n",
            "Requirement already satisfied: typing-extensions>=3.7.4.3 in /usr/local/lib/python3.10/dist-packages (from huggingface-hub>=0.18.0->datasets) (4.5.0)\n",
            "Requirement already satisfied: idna<4,>=2.5 in /usr/local/lib/python3.10/dist-packages (from requests>=2.19.0->datasets) (3.4)\n",
            "Requirement already satisfied: urllib3<3,>=1.21.1 in /usr/local/lib/python3.10/dist-packages (from requests>=2.19.0->datasets) (2.0.7)\n",
            "Requirement already satisfied: certifi>=2017.4.17 in /usr/local/lib/python3.10/dist-packages (from requests>=2.19.0->datasets) (2023.7.22)\n",
            "Requirement already satisfied: python-dateutil>=2.8.1 in /usr/local/lib/python3.10/dist-packages (from pandas->datasets) (2.8.2)\n",
            "Requirement already satisfied: pytz>=2020.1 in /usr/local/lib/python3.10/dist-packages (from pandas->datasets) (2023.3.post1)\n",
            "Requirement already satisfied: six>=1.5 in /usr/local/lib/python3.10/dist-packages (from python-dateutil>=2.8.1->pandas->datasets) (1.16.0)\n",
            "Requirement already satisfied: transformers[torch] in /usr/local/lib/python3.10/dist-packages (4.35.2)\n",
            "Requirement already satisfied: filelock in /usr/local/lib/python3.10/dist-packages (from transformers[torch]) (3.13.1)\n",
            "Requirement already satisfied: huggingface-hub<1.0,>=0.16.4 in /usr/local/lib/python3.10/dist-packages (from transformers[torch]) (0.19.4)\n",
            "Requirement already satisfied: numpy>=1.17 in /usr/local/lib/python3.10/dist-packages (from transformers[torch]) (1.23.5)\n",
            "Requirement already satisfied: packaging>=20.0 in /usr/local/lib/python3.10/dist-packages (from transformers[torch]) (23.2)\n",
            "Requirement already satisfied: pyyaml>=5.1 in /usr/local/lib/python3.10/dist-packages (from transformers[torch]) (6.0.1)\n",
            "Requirement already satisfied: regex!=2019.12.17 in /usr/local/lib/python3.10/dist-packages (from transformers[torch]) (2023.6.3)\n",
            "Requirement already satisfied: requests in /usr/local/lib/python3.10/dist-packages (from transformers[torch]) (2.31.0)\n",
            "Requirement already satisfied: tokenizers<0.19,>=0.14 in /usr/local/lib/python3.10/dist-packages (from transformers[torch]) (0.15.0)\n",
            "Requirement already satisfied: safetensors>=0.3.1 in /usr/local/lib/python3.10/dist-packages (from transformers[torch]) (0.4.0)\n",
            "Requirement already satisfied: tqdm>=4.27 in /usr/local/lib/python3.10/dist-packages (from transformers[torch]) (4.66.1)\n",
            "Requirement already satisfied: torch!=1.12.0,>=1.10 in /usr/local/lib/python3.10/dist-packages (from transformers[torch]) (2.1.0+cu118)\n",
            "Requirement already satisfied: accelerate>=0.20.3 in /usr/local/lib/python3.10/dist-packages (from transformers[torch]) (0.24.1)\n",
            "Requirement already satisfied: psutil in /usr/local/lib/python3.10/dist-packages (from accelerate>=0.20.3->transformers[torch]) (5.9.5)\n",
            "Requirement already satisfied: fsspec>=2023.5.0 in /usr/local/lib/python3.10/dist-packages (from huggingface-hub<1.0,>=0.16.4->transformers[torch]) (2023.6.0)\n",
            "Requirement already satisfied: typing-extensions>=3.7.4.3 in /usr/local/lib/python3.10/dist-packages (from huggingface-hub<1.0,>=0.16.4->transformers[torch]) (4.5.0)\n",
            "Requirement already satisfied: sympy in /usr/local/lib/python3.10/dist-packages (from torch!=1.12.0,>=1.10->transformers[torch]) (1.12)\n",
            "Requirement already satisfied: networkx in /usr/local/lib/python3.10/dist-packages (from torch!=1.12.0,>=1.10->transformers[torch]) (3.2.1)\n",
            "Requirement already satisfied: jinja2 in /usr/local/lib/python3.10/dist-packages (from torch!=1.12.0,>=1.10->transformers[torch]) (3.1.2)\n",
            "Requirement already satisfied: triton==2.1.0 in /usr/local/lib/python3.10/dist-packages (from torch!=1.12.0,>=1.10->transformers[torch]) (2.1.0)\n",
            "Requirement already satisfied: charset-normalizer<4,>=2 in /usr/local/lib/python3.10/dist-packages (from requests->transformers[torch]) (3.3.2)\n",
            "Requirement already satisfied: idna<4,>=2.5 in /usr/local/lib/python3.10/dist-packages (from requests->transformers[torch]) (3.4)\n",
            "Requirement already satisfied: urllib3<3,>=1.21.1 in /usr/local/lib/python3.10/dist-packages (from requests->transformers[torch]) (2.0.7)\n",
            "Requirement already satisfied: certifi>=2017.4.17 in /usr/local/lib/python3.10/dist-packages (from requests->transformers[torch]) (2023.7.22)\n",
            "Requirement already satisfied: MarkupSafe>=2.0 in /usr/local/lib/python3.10/dist-packages (from jinja2->torch!=1.12.0,>=1.10->transformers[torch]) (2.1.3)\n",
            "Requirement already satisfied: mpmath>=0.19 in /usr/local/lib/python3.10/dist-packages (from sympy->torch!=1.12.0,>=1.10->transformers[torch]) (1.3.0)\n",
            "Requirement already satisfied: torchaudio in /usr/local/lib/python3.10/dist-packages (2.1.0+cu118)\n",
            "Requirement already satisfied: torch==2.1.0 in /usr/local/lib/python3.10/dist-packages (from torchaudio) (2.1.0+cu118)\n",
            "Requirement already satisfied: filelock in /usr/local/lib/python3.10/dist-packages (from torch==2.1.0->torchaudio) (3.13.1)\n",
            "Requirement already satisfied: typing-extensions in /usr/local/lib/python3.10/dist-packages (from torch==2.1.0->torchaudio) (4.5.0)\n",
            "Requirement already satisfied: sympy in /usr/local/lib/python3.10/dist-packages (from torch==2.1.0->torchaudio) (1.12)\n",
            "Requirement already satisfied: networkx in /usr/local/lib/python3.10/dist-packages (from torch==2.1.0->torchaudio) (3.2.1)\n",
            "Requirement already satisfied: jinja2 in /usr/local/lib/python3.10/dist-packages (from torch==2.1.0->torchaudio) (3.1.2)\n",
            "Requirement already satisfied: fsspec in /usr/local/lib/python3.10/dist-packages (from torch==2.1.0->torchaudio) (2023.6.0)\n",
            "Requirement already satisfied: triton==2.1.0 in /usr/local/lib/python3.10/dist-packages (from torch==2.1.0->torchaudio) (2.1.0)\n",
            "Requirement already satisfied: MarkupSafe>=2.0 in /usr/local/lib/python3.10/dist-packages (from jinja2->torch==2.1.0->torchaudio) (2.1.3)\n",
            "Requirement already satisfied: mpmath>=0.19 in /usr/local/lib/python3.10/dist-packages (from sympy->torch==2.1.0->torchaudio) (1.3.0)\n",
            "Requirement already satisfied: librosa in /usr/local/lib/python3.10/dist-packages (0.10.1)\n",
            "Requirement already satisfied: audioread>=2.1.9 in /usr/local/lib/python3.10/dist-packages (from librosa) (3.0.1)\n",
            "Requirement already satisfied: numpy!=1.22.0,!=1.22.1,!=1.22.2,>=1.20.3 in /usr/local/lib/python3.10/dist-packages (from librosa) (1.23.5)\n",
            "Requirement already satisfied: scipy>=1.2.0 in /usr/local/lib/python3.10/dist-packages (from librosa) (1.11.3)\n",
            "Requirement already satisfied: scikit-learn>=0.20.0 in /usr/local/lib/python3.10/dist-packages (from librosa) (1.2.2)\n",
            "Requirement already satisfied: joblib>=0.14 in /usr/local/lib/python3.10/dist-packages (from librosa) (1.3.2)\n",
            "Requirement already satisfied: decorator>=4.3.0 in /usr/local/lib/python3.10/dist-packages (from librosa) (4.4.2)\n",
            "Requirement already satisfied: numba>=0.51.0 in /usr/local/lib/python3.10/dist-packages (from librosa) (0.58.1)\n",
            "Requirement already satisfied: soundfile>=0.12.1 in /usr/local/lib/python3.10/dist-packages (from librosa) (0.12.1)\n",
            "Requirement already satisfied: pooch>=1.0 in /usr/local/lib/python3.10/dist-packages (from librosa) (1.8.0)\n",
            "Requirement already satisfied: soxr>=0.3.2 in /usr/local/lib/python3.10/dist-packages (from librosa) (0.3.7)\n",
            "Requirement already satisfied: typing-extensions>=4.1.1 in /usr/local/lib/python3.10/dist-packages (from librosa) (4.5.0)\n",
            "Requirement already satisfied: lazy-loader>=0.1 in /usr/local/lib/python3.10/dist-packages (from librosa) (0.3)\n",
            "Requirement already satisfied: msgpack>=1.0 in /usr/local/lib/python3.10/dist-packages (from librosa) (1.0.7)\n",
            "Requirement already satisfied: llvmlite<0.42,>=0.41.0dev0 in /usr/local/lib/python3.10/dist-packages (from numba>=0.51.0->librosa) (0.41.1)\n",
            "Requirement already satisfied: platformdirs>=2.5.0 in /usr/local/lib/python3.10/dist-packages (from pooch>=1.0->librosa) (4.0.0)\n",
            "Requirement already satisfied: packaging>=20.0 in /usr/local/lib/python3.10/dist-packages (from pooch>=1.0->librosa) (23.2)\n",
            "Requirement already satisfied: requests>=2.19.0 in /usr/local/lib/python3.10/dist-packages (from pooch>=1.0->librosa) (2.31.0)\n",
            "Requirement already satisfied: threadpoolctl>=2.0.0 in /usr/local/lib/python3.10/dist-packages (from scikit-learn>=0.20.0->librosa) (3.2.0)\n",
            "Requirement already satisfied: cffi>=1.0 in /usr/local/lib/python3.10/dist-packages (from soundfile>=0.12.1->librosa) (1.16.0)\n",
            "Requirement already satisfied: pycparser in /usr/local/lib/python3.10/dist-packages (from cffi>=1.0->soundfile>=0.12.1->librosa) (2.21)\n",
            "Requirement already satisfied: charset-normalizer<4,>=2 in /usr/local/lib/python3.10/dist-packages (from requests>=2.19.0->pooch>=1.0->librosa) (3.3.2)\n",
            "Requirement already satisfied: idna<4,>=2.5 in /usr/local/lib/python3.10/dist-packages (from requests>=2.19.0->pooch>=1.0->librosa) (3.4)\n",
            "Requirement already satisfied: urllib3<3,>=1.21.1 in /usr/local/lib/python3.10/dist-packages (from requests>=2.19.0->pooch>=1.0->librosa) (2.0.7)\n",
            "Requirement already satisfied: certifi>=2017.4.17 in /usr/local/lib/python3.10/dist-packages (from requests>=2.19.0->pooch>=1.0->librosa) (2023.7.22)\n",
            "Requirement already satisfied: huggingface_hub in /usr/local/lib/python3.10/dist-packages (0.19.4)\n",
            "Requirement already satisfied: filelock in /usr/local/lib/python3.10/dist-packages (from huggingface_hub) (3.13.1)\n",
            "Requirement already satisfied: fsspec>=2023.5.0 in /usr/local/lib/python3.10/dist-packages (from huggingface_hub) (2023.6.0)\n",
            "Requirement already satisfied: requests in /usr/local/lib/python3.10/dist-packages (from huggingface_hub) (2.31.0)\n",
            "Requirement already satisfied: tqdm>=4.42.1 in /usr/local/lib/python3.10/dist-packages (from huggingface_hub) (4.66.1)\n",
            "Requirement already satisfied: pyyaml>=5.1 in /usr/local/lib/python3.10/dist-packages (from huggingface_hub) (6.0.1)\n",
            "Requirement already satisfied: typing-extensions>=3.7.4.3 in /usr/local/lib/python3.10/dist-packages (from huggingface_hub) (4.5.0)\n",
            "Requirement already satisfied: packaging>=20.9 in /usr/local/lib/python3.10/dist-packages (from huggingface_hub) (23.2)\n",
            "Requirement already satisfied: charset-normalizer<4,>=2 in /usr/local/lib/python3.10/dist-packages (from requests->huggingface_hub) (3.3.2)\n",
            "Requirement already satisfied: idna<4,>=2.5 in /usr/local/lib/python3.10/dist-packages (from requests->huggingface_hub) (3.4)\n",
            "Requirement already satisfied: urllib3<3,>=1.21.1 in /usr/local/lib/python3.10/dist-packages (from requests->huggingface_hub) (2.0.7)\n",
            "Requirement already satisfied: certifi>=2017.4.17 in /usr/local/lib/python3.10/dist-packages (from requests->huggingface_hub) (2023.7.22)\n",
            "Requirement already satisfied: jiwer in /usr/local/lib/python3.10/dist-packages (3.0.3)\n",
            "Requirement already satisfied: click<9.0.0,>=8.1.3 in /usr/local/lib/python3.10/dist-packages (from jiwer) (8.1.7)\n",
            "Requirement already satisfied: rapidfuzz<4,>=3 in /usr/local/lib/python3.10/dist-packages (from jiwer) (3.5.2)\n",
            "Requirement already satisfied: accelerate in /usr/local/lib/python3.10/dist-packages (0.24.1)\n",
            "Requirement already satisfied: numpy>=1.17 in /usr/local/lib/python3.10/dist-packages (from accelerate) (1.23.5)\n",
            "Requirement already satisfied: packaging>=20.0 in /usr/local/lib/python3.10/dist-packages (from accelerate) (23.2)\n",
            "Requirement already satisfied: psutil in /usr/local/lib/python3.10/dist-packages (from accelerate) (5.9.5)\n",
            "Requirement already satisfied: pyyaml in /usr/local/lib/python3.10/dist-packages (from accelerate) (6.0.1)\n",
            "Requirement already satisfied: torch>=1.10.0 in /usr/local/lib/python3.10/dist-packages (from accelerate) (2.1.0+cu118)\n",
            "Requirement already satisfied: huggingface-hub in /usr/local/lib/python3.10/dist-packages (from accelerate) (0.19.4)\n",
            "Requirement already satisfied: filelock in /usr/local/lib/python3.10/dist-packages (from torch>=1.10.0->accelerate) (3.13.1)\n",
            "Requirement already satisfied: typing-extensions in /usr/local/lib/python3.10/dist-packages (from torch>=1.10.0->accelerate) (4.5.0)\n",
            "Requirement already satisfied: sympy in /usr/local/lib/python3.10/dist-packages (from torch>=1.10.0->accelerate) (1.12)\n",
            "Requirement already satisfied: networkx in /usr/local/lib/python3.10/dist-packages (from torch>=1.10.0->accelerate) (3.2.1)\n",
            "Requirement already satisfied: jinja2 in /usr/local/lib/python3.10/dist-packages (from torch>=1.10.0->accelerate) (3.1.2)\n",
            "Requirement already satisfied: fsspec in /usr/local/lib/python3.10/dist-packages (from torch>=1.10.0->accelerate) (2023.6.0)\n",
            "Requirement already satisfied: triton==2.1.0 in /usr/local/lib/python3.10/dist-packages (from torch>=1.10.0->accelerate) (2.1.0)\n",
            "Requirement already satisfied: requests in /usr/local/lib/python3.10/dist-packages (from huggingface-hub->accelerate) (2.31.0)\n",
            "Requirement already satisfied: tqdm>=4.42.1 in /usr/local/lib/python3.10/dist-packages (from huggingface-hub->accelerate) (4.66.1)\n",
            "Requirement already satisfied: MarkupSafe>=2.0 in /usr/local/lib/python3.10/dist-packages (from jinja2->torch>=1.10.0->accelerate) (2.1.3)\n",
            "Requirement already satisfied: charset-normalizer<4,>=2 in /usr/local/lib/python3.10/dist-packages (from requests->huggingface-hub->accelerate) (3.3.2)\n",
            "Requirement already satisfied: idna<4,>=2.5 in /usr/local/lib/python3.10/dist-packages (from requests->huggingface-hub->accelerate) (3.4)\n",
            "Requirement already satisfied: urllib3<3,>=1.21.1 in /usr/local/lib/python3.10/dist-packages (from requests->huggingface-hub->accelerate) (2.0.7)\n",
            "Requirement already satisfied: certifi>=2017.4.17 in /usr/local/lib/python3.10/dist-packages (from requests->huggingface-hub->accelerate) (2023.7.22)\n",
            "Requirement already satisfied: mpmath>=0.19 in /usr/local/lib/python3.10/dist-packages (from sympy->torch>=1.10.0->accelerate) (1.3.0)\n",
            "Requirement already satisfied: phonemizer in /usr/local/lib/python3.10/dist-packages (3.2.1)\n",
            "Requirement already satisfied: joblib in /usr/local/lib/python3.10/dist-packages (from phonemizer) (1.3.2)\n",
            "Requirement already satisfied: segments in /usr/local/lib/python3.10/dist-packages (from phonemizer) (2.2.1)\n",
            "Requirement already satisfied: attrs>=18.1 in /usr/local/lib/python3.10/dist-packages (from phonemizer) (23.1.0)\n",
            "Requirement already satisfied: dlinfo in /usr/local/lib/python3.10/dist-packages (from phonemizer) (1.2.1)\n",
            "Requirement already satisfied: typing-extensions in /usr/local/lib/python3.10/dist-packages (from phonemizer) (4.5.0)\n",
            "Requirement already satisfied: clldutils>=1.7.3 in /usr/local/lib/python3.10/dist-packages (from segments->phonemizer) (3.20.0)\n",
            "Requirement already satisfied: csvw>=1.5.6 in /usr/local/lib/python3.10/dist-packages (from segments->phonemizer) (3.2.1)\n",
            "Requirement already satisfied: regex in /usr/local/lib/python3.10/dist-packages (from segments->phonemizer) (2023.6.3)\n",
            "Requirement already satisfied: python-dateutil in /usr/local/lib/python3.10/dist-packages (from clldutils>=1.7.3->segments->phonemizer) (2.8.2)\n",
            "Requirement already satisfied: tabulate>=0.7.7 in /usr/local/lib/python3.10/dist-packages (from clldutils>=1.7.3->segments->phonemizer) (0.9.0)\n",
            "Requirement already satisfied: colorlog in /usr/local/lib/python3.10/dist-packages (from clldutils>=1.7.3->segments->phonemizer) (6.7.0)\n",
            "Requirement already satisfied: pylatexenc in /usr/local/lib/python3.10/dist-packages (from clldutils>=1.7.3->segments->phonemizer) (2.10)\n",
            "Requirement already satisfied: markdown in /usr/local/lib/python3.10/dist-packages (from clldutils>=1.7.3->segments->phonemizer) (3.5.1)\n",
            "Requirement already satisfied: lxml in /usr/local/lib/python3.10/dist-packages (from clldutils>=1.7.3->segments->phonemizer) (4.9.3)\n",
            "Requirement already satisfied: markupsafe in /usr/local/lib/python3.10/dist-packages (from clldutils>=1.7.3->segments->phonemizer) (2.1.3)\n",
            "Requirement already satisfied: babel in /usr/local/lib/python3.10/dist-packages (from csvw>=1.5.6->segments->phonemizer) (2.13.1)\n",
            "Requirement already satisfied: colorama in /usr/local/lib/python3.10/dist-packages (from csvw>=1.5.6->segments->phonemizer) (0.4.6)\n",
            "Requirement already satisfied: isodate in /usr/local/lib/python3.10/dist-packages (from csvw>=1.5.6->segments->phonemizer) (0.6.1)\n",
            "Requirement already satisfied: jsonschema in /usr/local/lib/python3.10/dist-packages (from csvw>=1.5.6->segments->phonemizer) (4.19.2)\n",
            "Requirement already satisfied: language-tags in /usr/local/lib/python3.10/dist-packages (from csvw>=1.5.6->segments->phonemizer) (1.2.0)\n",
            "Requirement already satisfied: rdflib in /usr/local/lib/python3.10/dist-packages (from csvw>=1.5.6->segments->phonemizer) (7.0.0)\n",
            "Requirement already satisfied: requests in /usr/local/lib/python3.10/dist-packages (from csvw>=1.5.6->segments->phonemizer) (2.31.0)\n",
            "Requirement already satisfied: rfc3986<2 in /usr/local/lib/python3.10/dist-packages (from csvw>=1.5.6->segments->phonemizer) (1.5.0)\n",
            "Requirement already satisfied: uritemplate>=3.0.0 in /usr/local/lib/python3.10/dist-packages (from csvw>=1.5.6->segments->phonemizer) (4.1.1)\n",
            "Requirement already satisfied: six in /usr/local/lib/python3.10/dist-packages (from isodate->csvw>=1.5.6->segments->phonemizer) (1.16.0)\n",
            "Requirement already satisfied: jsonschema-specifications>=2023.03.6 in /usr/local/lib/python3.10/dist-packages (from jsonschema->csvw>=1.5.6->segments->phonemizer) (2023.11.1)\n",
            "Requirement already satisfied: referencing>=0.28.4 in /usr/local/lib/python3.10/dist-packages (from jsonschema->csvw>=1.5.6->segments->phonemizer) (0.31.0)\n",
            "Requirement already satisfied: rpds-py>=0.7.1 in /usr/local/lib/python3.10/dist-packages (from jsonschema->csvw>=1.5.6->segments->phonemizer) (0.13.0)\n",
            "Requirement already satisfied: pyparsing<4,>=2.1.0 in /usr/local/lib/python3.10/dist-packages (from rdflib->csvw>=1.5.6->segments->phonemizer) (3.1.1)\n",
            "Requirement already satisfied: charset-normalizer<4,>=2 in /usr/local/lib/python3.10/dist-packages (from requests->csvw>=1.5.6->segments->phonemizer) (3.3.2)\n",
            "Requirement already satisfied: idna<4,>=2.5 in /usr/local/lib/python3.10/dist-packages (from requests->csvw>=1.5.6->segments->phonemizer) (3.4)\n",
            "Requirement already satisfied: urllib3<3,>=1.21.1 in /usr/local/lib/python3.10/dist-packages (from requests->csvw>=1.5.6->segments->phonemizer) (2.0.7)\n",
            "Requirement already satisfied: certifi>=2017.4.17 in /usr/local/lib/python3.10/dist-packages (from requests->csvw>=1.5.6->segments->phonemizer) (2023.7.22)\n"
          ]
        }
      ],
      "source": [
        "!pip install -U datasets\n",
        "!pip install -U transformers[torch]\n",
        "!pip install torchaudio\n",
        "!pip install librosa\n",
        "!pip install -U huggingface_hub\n",
        "!pip install jiwer\n",
        "!pip install accelerate -U\n",
        "!pip install phonemizer"
      ]
    },
    {
      "cell_type": "code",
      "execution_count": null,
      "metadata": {
        "colab": {
          "base_uri": "https://localhost:8080/",
          "height": 145,
          "referenced_widgets": [
            "2503e85407604caebd8dc0b574700da0",
            "7a73cbadd7b4412081630bd5fd078679",
            "8247cc58fd9b47029f5e33cf0d8bef71",
            "f0a949d6b1244c15a3cbfdbcb580677a",
            "469f9de943444df7b5d7c809982d602e",
            "363e8f22cd884e0aa0336bdd24ac913b",
            "890f67dd72fc4ef98fdbb94b31f4658f",
            "12e2eb90a4444092b3621908c9d6f274",
            "06e435711239489fa69023fb17171149",
            "f68d50f8ab7b4726a8e557d1e66b29e9",
            "f17416b8f2c643e380d196cf03e3cc35",
            "fc686127b618426e89016195cf6e35c5",
            "02be5c623a9845b7b4eab806c95054f4",
            "42bedd39e31b495b88ec96da20f25e5d",
            "8159de6fdecf4999bb26bf8bd883b6dd",
            "ebfd6906dd644eef89bb0a430ffc18c8",
            "f5ddfbfcb6ab4576994e78090992a41a",
            "1df0daa31d794784863816383affdb67",
            "23e80f5e268643a688c5999185cc14d5",
            "0d26086c611f4260883782436b80901f",
            "d64a253177294154b9962d01844a33ea",
            "3afcb0e858224db1b5cba2bddfa99358",
            "3747374af98f424682002c13f64f6b54",
            "a8b3d22b7dd04e23a8813ce909e76b19",
            "d4c98c07b7d04a739a44767cd250def8",
            "a6586415fa8042ceb51c5cf43e895016",
            "8a2996fa51a94a39ad8da91c1a271cf8",
            "4ad65c4ae2d449d69bcb98eea1c7d25a",
            "91e7c8856119435ab374bd88880e9837",
            "fce3a124486f4656b09b7c97719e8d50",
            "fa999ba9770f43a7b7578cbb32ff5507",
            "9100a1b758024305bb610085a24d7f4f"
          ]
        },
        "id": "mlMSH3T3EazV",
        "outputId": "ded1ec9d-ce23-4624-da8c-60456cacdf08"
      },
      "outputs": [
        {
          "output_type": "display_data",
          "data": {
            "text/plain": [
              "VBox(children=(HTML(value='<center> <img\\nsrc=https://huggingface.co/front/assets/huggingface_logo-noborder.sv…"
            ],
            "application/vnd.jupyter.widget-view+json": {
              "version_major": 2,
              "version_minor": 0,
              "model_id": "2503e85407604caebd8dc0b574700da0"
            }
          },
          "metadata": {}
        }
      ],
      "source": [
        "from huggingface_hub import notebook_login\n",
        "\n",
        "notebook_login()"
      ]
    },
    {
      "cell_type": "code",
      "execution_count": null,
      "metadata": {
        "id": "WcR-d83OEkqb"
      },
      "outputs": [],
      "source": [
        "%%capture\n",
        "!apt install git-lfs\n",
        "!sudo apt-get install festival espeak-ng mbrola\n",
        "!apt search mbrola"
      ]
    },
    {
      "cell_type": "code",
      "execution_count": null,
      "metadata": {
        "id": "2MMXcWFFgCXU"
      },
      "outputs": [],
      "source": [
        "from datasets import load_dataset, load_metric, Audio\n",
        "\n",
        "common_voice_train = load_dataset(\"facebook/voxpopuli\", \"cs\", split=\"train\")\n",
        "common_voice_test = load_dataset(\"facebook/voxpopuli\", \"fi\", split=\"test\")"
      ]
    },
    {
      "cell_type": "code",
      "execution_count": null,
      "metadata": {
        "colab": {
          "base_uri": "https://localhost:8080/"
        },
        "id": "oP3vzIwpL8an",
        "outputId": "2e171bc7-5b69-410c-dd00-9940c61c8c3b"
      },
      "outputs": [
        {
          "output_type": "execute_result",
          "data": {
            "text/plain": [
              "Dataset({\n",
              "    features: ['audio_id', 'language', 'audio', 'raw_text', 'normalized_text', 'gender', 'speaker_id', 'is_gold_transcript', 'accent'],\n",
              "    num_rows: 18902\n",
              "})"
            ]
          },
          "metadata": {},
          "execution_count": 6
        }
      ],
      "source": [
        "common_voice_train"
      ]
    },
    {
      "cell_type": "code",
      "execution_count": null,
      "metadata": {
        "colab": {
          "base_uri": "https://localhost:8080/"
        },
        "id": "gg4zB_mUPJ6G",
        "outputId": "500ef6d0-86a0-4d4d-beb7-c815724750d0"
      },
      "outputs": [
        {
          "output_type": "execute_result",
          "data": {
            "text/plain": [
              "Dataset({\n",
              "    features: ['audio_id', 'language', 'audio', 'raw_text', 'normalized_text', 'gender', 'speaker_id', 'is_gold_transcript', 'accent'],\n",
              "    num_rows: 478\n",
              "})"
            ]
          },
          "metadata": {},
          "execution_count": 7
        }
      ],
      "source": [
        "common_voice_test"
      ]
    },
    {
      "cell_type": "code",
      "execution_count": null,
      "metadata": {
        "colab": {
          "base_uri": "https://localhost:8080/"
        },
        "id": "vSKdzEoPPL8U",
        "outputId": "47726904-0d07-4525-cb88-d818d28dd072"
      },
      "outputs": [
        {
          "output_type": "execute_result",
          "data": {
            "text/plain": [
              "Dataset({\n",
              "    features: ['audio_id', 'language', 'audio', 'raw_text', 'normalized_text', 'gender', 'speaker_id', 'is_gold_transcript', 'accent'],\n",
              "    num_rows: 3000\n",
              "})"
            ]
          },
          "metadata": {},
          "execution_count": 8
        }
      ],
      "source": [
        "# common_voice_train = common_voice_train.select(list(range(5000)))\n",
        "common_voice_train = common_voice_train.select(list(range(3000)))\n",
        "common_voice_train"
      ]
    },
    {
      "cell_type": "code",
      "execution_count": null,
      "metadata": {
        "colab": {
          "base_uri": "https://localhost:8080/"
        },
        "id": "WJ-5gr94H7Q7",
        "outputId": "40deda9b-b5e0-4ed1-c0be-5e61244f9596"
      },
      "outputs": [
        {
          "output_type": "execute_result",
          "data": {
            "text/plain": [
              "Dataset({\n",
              "    features: ['audio_id', 'language', 'audio', 'raw_text', 'normalized_text', 'gender', 'speaker_id', 'is_gold_transcript', 'accent'],\n",
              "    num_rows: 478\n",
              "})"
            ]
          },
          "metadata": {},
          "execution_count": 9
        }
      ],
      "source": [
        "# common_voice_test = common_voice_test.select(list(range(500)))\n",
        "common_voice_test"
      ]
    },
    {
      "cell_type": "code",
      "execution_count": null,
      "metadata": {
        "id": "-aRt3tPcL-7k"
      },
      "outputs": [],
      "source": [
        "common_voice_train = common_voice_train.remove_columns([\"accent\", \"gender\"])\n",
        "common_voice_test = common_voice_test.remove_columns([\"accent\", \"gender\"])"
      ]
    },
    {
      "cell_type": "code",
      "execution_count": null,
      "metadata": {
        "id": "72737oog2F6U"
      },
      "outputs": [],
      "source": [
        "from datasets import ClassLabel\n",
        "import random\n",
        "import pandas as pd\n",
        "from IPython.display import display, HTML\n",
        "\n",
        "def show_random_elements(dataset, num_examples=10):\n",
        "    assert num_examples <= len(dataset), \"Can't pick more elements than there are in the dataset.\"\n",
        "    picks = []\n",
        "    for _ in range(num_examples):\n",
        "        pick = random.randint(0, len(dataset)-1)\n",
        "        while pick in picks:\n",
        "            pick = random.randint(0, len(dataset)-1)\n",
        "        picks.append(pick)\n",
        "\n",
        "    df = pd.DataFrame(dataset[picks])\n",
        "    display(HTML(df.to_html()))"
      ]
    },
    {
      "cell_type": "code",
      "execution_count": null,
      "metadata": {
        "colab": {
          "base_uri": "https://localhost:8080/",
          "height": 1000
        },
        "id": "K_JUmf3G3b9S",
        "outputId": "35c5c6bd-0fa9-4fa8-8aa7-265c9e8b9183"
      },
      "outputs": [
        {
          "output_type": "display_data",
          "data": {
            "text/plain": [
              "<IPython.core.display.HTML object>"
            ],
            "text/html": [
              "<table border=\"1\" class=\"dataframe\">\n",
              "  <thead>\n",
              "    <tr style=\"text-align: right;\">\n",
              "      <th></th>\n",
              "      <th>language</th>\n",
              "      <th>audio</th>\n",
              "      <th>normalized_text</th>\n",
              "      <th>speaker_id</th>\n",
              "      <th>is_gold_transcript</th>\n",
              "    </tr>\n",
              "  </thead>\n",
              "  <tbody>\n",
              "    <tr>\n",
              "      <th>0</th>\n",
              "      <td>8</td>\n",
              "      <td>{'path': '/root/.cache/huggingface/datasets/downloads/extracted/f860858b1727f7dfcbcf1817dd95332e8fad098537c56802f61c4de2454c7def/train_part_0/20180705-0900-PLENARY-cs_20180705-09:24:15_4.wav', 'array': [0.0009765625, 0.002197265625, -0.00128173828125, -0.000274658203125, 0.00201416015625, -0.002410888671875, -0.00250244140625, 0.00189208984375, 0.003143310546875, 9.1552734375e-05, -0.0015869140625, 0.000579833984375, 0.00213623046875, 0.002105712890625, -0.0020751953125, -0.003936767578125, 0.001800537109375, 0.004058837890625, -0.00030517578125, -0.000946044921875, 0.001861572265625, 0.00225830078125, -0.000640869140625, -0.003692626953125, -0.0009765625, 0.002777099609375, 0.00079345703125, -0.00115966796875, 0.00067138671875, 0.001983642578125, -0.0015869140625, -0.002685546875, 0.000762939453125, 0.002838134765625, 0.0008544921875, -0.00311279296875, -0.00091552734375, 0.0015869140625, -0.0010986328125, -0.001861572265625, -0.000152587890625, 0.001800537109375, 0.001251220703125, -0.004669189453125, -0.00439453125, 0.001983642578125, 0.00299072265625, -0.000213623046875, -0.003021240234375, -0.0028076171875, 0.00079345703125, 0.002838134765625, 0.000885009765625, -0.00152587890625, -0.00103759765625, 0.000335693359375, 0.000762939453125, 0.000335693359375, 0.000640869140625, 0.00018310546875, -0.000579833984375, 0.002960205078125, 0.00030517578125, -0.003570556640625, 0.002044677734375, 0.004241943359375, 0.0001220703125, -0.00140380859375, -0.00152587890625, 0.00103759765625, 0.00341796875, -0.000518798828125, -0.00177001953125, 0.00286865234375, 0.00347900390625, -0.00164794921875, -0.00286865234375, 0.001220703125, 0.0013427734375, -0.0010986328125, 3.0517578125e-05, 0.000701904296875, 0.000732421875, -0.0020751953125, -0.001739501953125, 0.00067138671875, 0.000274658203125, -0.00048828125, -0.000274658203125, -0.001007080078125, -0.00079345703125, -0.0008544921875, -0.001739501953125, 0.000701904296875, 0.001495361328125, -0.000885009765625, -0.0006103515625, 0.00048828125, -0.001678466796875, -0.001312255859375, ...], 'sampling_rate': 16000}</td>\n",
              "      <td>pro zodpovědnou volbu je také nutné mít dostatek informací.</td>\n",
              "      <td>96718</td>\n",
              "      <td>True</td>\n",
              "    </tr>\n",
              "    <tr>\n",
              "      <th>1</th>\n",
              "      <td>8</td>\n",
              "      <td>{'path': '/root/.cache/huggingface/datasets/downloads/extracted/f860858b1727f7dfcbcf1817dd95332e8fad098537c56802f61c4de2454c7def/train_part_0/20100119-0900-PLENARY-4-cs_20100119-15:41:43_5.wav', 'array': [-0.00250244140625, -0.003143310546875, -0.00079345703125, 0.0003662109375, -0.00152587890625, -0.001739501953125, -0.000885009765625, -0.001129150390625, -0.000457763671875, 0.00048828125, 0.0008544921875, 0.001800537109375, 0.0013427734375, 0.003082275390625, 0.0045166015625, 0.002593994140625, 0.002838134765625, 0.00244140625, 0.00140380859375, 0.000732421875, 0.000732421875, 6.103515625e-05, -0.000518798828125, -0.00030517578125, -0.000457763671875, 0.00091552734375, 0.0008544921875, -0.0003662109375, -0.00128173828125, 0.0001220703125, 0.000640869140625, -0.00201416015625, -0.001922607421875, 0.000762939453125, 0.0023193359375, 0.00128173828125, 0.00054931640625, 0.001922607421875, 0.002685546875, 0.0013427734375, 0.0, 0.00164794921875, 0.00201416015625, 0.000457763671875, 0.00115966796875, 0.00128173828125, -3.0517578125e-05, -0.0018310546875, -0.00201416015625, -0.001708984375, -0.002349853515625, -0.00140380859375, -0.0010986328125, -0.00054931640625, -0.00018310546875, -0.000885009765625, -0.00079345703125, -0.00128173828125, -0.000244140625, 0.00030517578125, -0.0001220703125, 3.0517578125e-05, -0.002197265625, -0.001953125, -0.000579833984375, -0.000885009765625, -9.1552734375e-05, 0.0, 0.000518798828125, -0.00048828125, -0.001251220703125, -0.000579833984375, -0.001617431640625, -0.002105712890625, -0.00274658203125, -0.00274658203125, -0.00146484375, 0.000213623046875, 0.00177001953125, 0.001251220703125, 0.00079345703125, 0.00225830078125, 0.002410888671875, 0.001861572265625, 0.001983642578125, 0.000396728515625, -0.00115966796875, -0.0018310546875, -0.002685546875, -0.002899169921875, -0.00262451171875, -0.001983642578125, -0.000457763671875, 0.000335693359375, 0.000274658203125, 0.001068115234375, 0.001861572265625, 0.002471923828125, 0.00244140625, 0.002410888671875, ...], 'sampling_rate': 16000}</td>\n",
              "      <td>kdo nezaspal tak jsou občané jednotlivých členských zemí kteří poskytují dnes a denně jak svou materiální tak finanční pomoc.</td>\n",
              "      <td>96704</td>\n",
              "      <td>True</td>\n",
              "    </tr>\n",
              "    <tr>\n",
              "      <th>2</th>\n",
              "      <td>8</td>\n",
              "      <td>{'path': '/root/.cache/huggingface/datasets/downloads/extracted/f860858b1727f7dfcbcf1817dd95332e8fad098537c56802f61c4de2454c7def/train_part_0/20190403-0900-PLENARY-cs_20190403-22:02:08_6.wav', 'array': [0.010040283203125, 0.0062255859375, 0.0047607421875, 0.002960205078125, -0.0020751953125, -0.00439453125, 0.000335693359375, 0.003631591796875, 0.006561279296875, 0.006622314453125, 0.002593994140625, 0.00018310546875, -0.0028076171875, -0.00738525390625, -0.013671875, -0.012237548828125, -0.008697509765625, -0.000762939453125, 0.003662109375, -0.002655029296875, -0.003448486328125, -0.00445556640625, -0.00860595703125, -0.002777099609375, 0.000244140625, -0.00091552734375, 0.005584716796875, 0.001800537109375, -0.00396728515625, -0.002685546875, 0.00067138671875, 0.007568359375, 0.01605224609375, 0.013671875, 0.00567626953125, 0.00634765625, 0.004852294921875, 0.00372314453125, 0.004913330078125, 0.0006103515625, 0.001800537109375, 0.0025634765625, -0.00311279296875, -0.002197265625, -0.00421142578125, -0.00665283203125, -0.009918212890625, -0.012786865234375, -0.00933837890625, -0.01202392578125, -0.013336181640625, -0.0098876953125, -0.009063720703125, -0.00677490234375, -0.0048828125, -0.009185791015625, -0.012908935546875, -0.01104736328125, -0.007049560546875, -0.0050048828125, -0.00177001953125, -0.0028076171875, -0.00665283203125, -0.004547119140625, -0.00482177734375, -0.004425048828125, -0.00347900390625, -0.0018310546875, -0.0018310546875, -0.005523681640625, -0.0047607421875, -0.0001220703125, 0.005615234375, 0.011749267578125, 0.01593017578125, 0.016143798828125, 0.007904052734375, 0.0025634765625, 0.003814697265625, 0.004913330078125, 0.0098876953125, 0.01708984375, 0.01959228515625, 0.016326904296875, 0.012176513671875, 0.008209228515625, 0.008087158203125, 0.0057373046875, 0.005279541015625, 0.00592041015625, 0.00347900390625, 0.000885009765625, -0.001739501953125, -0.003936767578125, -0.002655029296875, -0.00018310546875, -0.003143310546875, -0.008270263671875, -0.00823974609375, -0.008026123046875, ...], 'sampling_rate': 16000}</td>\n",
              "      <td>celní unii uvnitř eu budujeme schengen ale to nás nemůže vést k tomu abychom nebyli ostražití při kontrole vnější hranice abychom nebyli ostražití jaké zboží vstupuje na území eu protože to není pouze o clech jak zde hovořil kolega ale je to právě i o ochraně zdraví života a práv občanů eu práv spotřebitelů kteří mají vědět jaké zboží ze třetích zemí je na našem trhu prodáváno jaké zboží sem vstupuje a měli bychom my zajistit aby to zboží bylo bezpečné a kvalitní.</td>\n",
              "      <td>125706</td>\n",
              "      <td>True</td>\n",
              "    </tr>\n",
              "    <tr>\n",
              "      <th>3</th>\n",
              "      <td>8</td>\n",
              "      <td>{'path': '/root/.cache/huggingface/datasets/downloads/extracted/f860858b1727f7dfcbcf1817dd95332e8fad098537c56802f61c4de2454c7def/train_part_0/20160913-0900-PLENARY-14-cs_20160913-17:19:12_10.wav', 'array': [0.00347900390625, 0.002593994140625, 0.0, -0.00091552734375, -0.00189208984375, -0.001373291015625, -0.000518798828125, -0.002685546875, -0.00311279296875, -0.0010986328125, -0.001129150390625, -0.000640869140625, -0.00054931640625, 0.000579833984375, 0.002227783203125, 0.000579833984375, -0.00164794921875, -0.00201416015625, 0.00152587890625, 0.00213623046875, -0.00067138671875, -0.00396728515625, -0.00262451171875, -0.000701904296875, 0.000213623046875, 9.1552734375e-05, -0.001861572265625, -0.002593994140625, -0.001617431640625, 0.00018310546875, -0.00115966796875, -0.00262451171875, -0.001220703125, -0.000823974609375, 0.00048828125, -0.001373291015625, -0.00177001953125, -6.103515625e-05, 0.000762939453125, 0.001068115234375, 0.002593994140625, 0.003326416015625, 0.00189208984375, 0.0013427734375, 0.000396728515625, -0.001312255859375, -0.002227783203125, -0.0020751953125, -0.0008544921875, -0.0006103515625, -0.001373291015625, -0.0018310546875, -0.00372314453125, -0.003173828125, -0.001708984375, -0.00244140625, -0.0020751953125, -0.0018310546875, -0.00262451171875, -0.003692626953125, -0.0010986328125, 0.000244140625, -0.001007080078125, 0.0008544921875, 0.0030517578125, 0.002960205078125, 0.0018310546875, 0.00048828125, 0.000396728515625, 0.000579833984375, -0.000732421875, -0.00079345703125, 0.00225830078125, 0.0032958984375, 0.00244140625, 0.0008544921875, 0.000823974609375, 0.002227783203125, 0.0020751953125, 0.001678466796875, -0.00341796875, -0.006134033203125, -0.003936767578125, -0.00048828125, -0.000213623046875, -0.000518798828125, 9.1552734375e-05, 0.0020751953125, 0.00299072265625, 0.002716064453125, 0.00018310546875, -0.0008544921875, 0.001007080078125, 0.001800537109375, 0.00091552734375, -0.000518798828125, -0.00140380859375, -0.00103759765625, 0.000579833984375, 0.001861572265625, ...], 'sampling_rate': 16000}</td>\n",
              "      <td>svůj postup odůvodňuje i ideologicky poukazem na marxistické formy terorismu.</td>\n",
              "      <td>124702</td>\n",
              "      <td>True</td>\n",
              "    </tr>\n",
              "    <tr>\n",
              "      <th>4</th>\n",
              "      <td>8</td>\n",
              "      <td>{'path': '/root/.cache/huggingface/datasets/downloads/extracted/f860858b1727f7dfcbcf1817dd95332e8fad098537c56802f61c4de2454c7def/train_part_0/20110214-0900-PLENARY-9-cs_20110214-18:23:36_1.wav', 'array': [0.0111083984375, 0.00738525390625, -0.011749267578125, -0.01263427734375, -0.0048828125, -0.016510009765625, -0.009918212890625, -0.01007080078125, 0.010009765625, -0.014617919921875, -0.012725830078125, 0.0006103515625, -0.013427734375, 0.00244140625, -0.0235595703125, 0.001708984375, -0.00054931640625, -0.016998291015625, 0.001434326171875, -0.002166748046875, 0.004791259765625, -0.019561767578125, -0.027801513671875, -0.00347900390625, 0.02142333984375, 0.02197265625, 0.001953125, -0.0150146484375, -0.01837158203125, 0.018310546875, 0.016387939453125, -0.00042724609375, -0.0133056640625, -0.00830078125, 0.006103515625, -0.00469970703125, 0.006622314453125, -0.008636474609375, 0.0120849609375, 0.00384521484375, -0.029510498046875, 0.003662109375, 0.019744873046875, 0.033966064453125, 0.001739501953125, -0.009765625, 0.00250244140625, 0.02423095703125, 0.02362060546875, -0.00750732421875, 0.0015869140625, 0.017974853515625, 0.015716552734375, -0.014801025390625, -0.015167236328125, -0.0006103515625, -0.00201416015625, 0.0255126953125, -0.01239013671875, -0.019744873046875, -0.00848388671875, -0.021881103515625, 0.01483154296875, -0.01312255859375, -0.002532958984375, -0.008636474609375, -0.02056884765625, 0.012939453125, 0.004638671875, -0.0020751953125, -0.03009033203125, -0.03302001953125, -0.008209228515625, 0.021728515625, 0.017364501953125, -0.018280029296875, -0.025543212890625, -0.015472412109375, -0.01507568359375, 0.01727294921875, 0.021881103515625, -0.011322021484375, 0.0098876953125, -0.004241943359375, -0.00738525390625, -0.004669189453125, -0.005615234375, 0.006103515625, 0.01171875, -0.000762939453125, -0.006744384765625, -0.01580810546875, -0.006805419921875, -0.008087158203125, 0.0042724609375, 0.023284912109375, -0.0008544921875, -0.014892578125, -0.002593994140625, 0.004730224609375, ...], 'sampling_rate': 16000}</td>\n",
              "      <td>jak pro podnikatele tak také pro spotřebitele.</td>\n",
              "      <td>28352</td>\n",
              "      <td>True</td>\n",
              "    </tr>\n",
              "    <tr>\n",
              "      <th>5</th>\n",
              "      <td>8</td>\n",
              "      <td>{'path': '/root/.cache/huggingface/datasets/downloads/extracted/f860858b1727f7dfcbcf1817dd95332e8fad098537c56802f61c4de2454c7def/train_part_0/20090323-0900-PLENARY-9-cs_20090323-18:36:38_38.wav', 'array': [0.001800537109375, 0.00244140625, 0.000518798828125, -0.0006103515625, -0.000152587890625, -0.00067138671875, 0.00054931640625, 0.00164794921875, 0.000640869140625, 0.000946044921875, 0.001678466796875, 0.00152587890625, 0.001007080078125, -0.000762939453125, -0.001678466796875, -0.00054931640625, -0.000335693359375, -0.001190185546875, 0.000396728515625, 0.0020751953125, -0.000335693359375, -0.0010986328125, 0.00189208984375, 0.0020751953125, 0.000762939453125, 0.000152587890625, -0.002288818359375, -0.002685546875, 0.000244140625, 0.001068115234375, 0.000732421875, 0.001129150390625, 6.103515625e-05, -0.001251220703125, -0.000579833984375, 0.000152587890625, 0.000213623046875, 0.00091552734375, 0.001495361328125, 0.001007080078125, 0.001373291015625, 0.0023193359375, 0.001434326171875, 0.00140380859375, 0.002197265625, -6.103515625e-05, -0.000457763671875, 0.002777099609375, 0.0030517578125, 0.00201416015625, 0.001800537109375, -3.0517578125e-05, -0.00146484375, -0.001190185546875, -0.000946044921875, -0.000335693359375, 0.002471923828125, 0.0050048828125, 0.0029296875, -0.000457763671875, -0.00225830078125, -0.00262451171875, -0.000518798828125, -0.000152587890625, -0.00146484375, -0.00067138671875, -0.000152587890625, 0.00079345703125, 0.00054931640625, -0.00201416015625, -0.000946044921875, 0.00067138671875, -0.000457763671875, -0.000213623046875, 0.00054931640625, 0.001495361328125, 0.002410888671875, 0.001678466796875, 0.001495361328125, 0.00201416015625, 0.00152587890625, -0.0001220703125, -0.0015869140625, -0.001251220703125, 9.1552734375e-05, 0.001678466796875, 0.00225830078125, 0.001129150390625, 0.000335693359375, 0.000579833984375, 0.00067138671875, -0.001190185546875, -0.003448486328125, -0.002410888671875, -0.00091552734375, -0.001129150390625, -0.0006103515625, -0.000335693359375, -0.000396728515625, 6.103515625e-05, ...], 'sampling_rate': 16000}</td>\n",
              "      <td>mezi ně patří pobřeží slonoviny jehož prozatímní dohoda epa rovněž čeká na souhlas tohoto parlamentu.</td>\n",
              "      <td>95982</td>\n",
              "      <td>True</td>\n",
              "    </tr>\n",
              "    <tr>\n",
              "      <th>6</th>\n",
              "      <td>8</td>\n",
              "      <td>{'path': '/root/.cache/huggingface/datasets/downloads/extracted/f860858b1727f7dfcbcf1817dd95332e8fad098537c56802f61c4de2454c7def/train_part_0/20120418-0900-PLENARY-15-cs_20120418-18:52:37_1.wav', 'array': [-0.00128173828125, -0.001220703125, -0.00146484375, -0.003143310546875, -0.004730224609375, -0.004669189453125, -0.00341796875, 0.000335693359375, 0.00054931640625, -0.000457763671875, 0.001190185546875, -3.0517578125e-05, 0.00054931640625, 0.002777099609375, 0.000885009765625, -0.00140380859375, -0.0032958984375, -0.00201416015625, -0.000274658203125, -0.00189208984375, -0.00030517578125, -0.00201416015625, -0.003021240234375, 0.00079345703125, -0.00103759765625, -0.001251220703125, -0.001373291015625, 0.0, -0.000396728515625, -0.005096435546875, -0.00372314453125, -0.0013427734375, -0.002593994140625, -0.002410888671875, -0.003936767578125, -0.00677490234375, -0.006072998046875, -0.00372314453125, -0.00323486328125, -0.0062255859375, -0.003509521484375, -0.000457763671875, -0.0025634765625, 3.0517578125e-05, 0.00140380859375, -0.000579833984375, 0.00225830078125, 0.00311279296875, -0.00018310546875, -0.0010986328125, 6.103515625e-05, 0.00079345703125, 0.000152587890625, 0.000885009765625, 0.00152587890625, -6.103515625e-05, -0.000152587890625, -0.00140380859375, -6.103515625e-05, -0.000335693359375, -0.00244140625, -0.00543212890625, -0.0054931640625, -0.00238037109375, 0.00054931640625, 0.002166748046875, 0.000396728515625, -0.001953125, -0.00250244140625, -0.001190185546875, -0.000640869140625, -0.00244140625, -0.002410888671875, -0.00146484375, 6.103515625e-05, 0.002044677734375, 0.001739501953125, -0.000946044921875, -6.103515625e-05, 0.0013427734375, -0.0009765625, -0.00396728515625, -0.0020751953125, -0.003662109375, -0.00152587890625, 0.0013427734375, 0.001434326171875, 0.002197265625, -0.001800537109375, -0.0023193359375, -0.000457763671875, -0.00030517578125, 0.0006103515625, -0.002471923828125, -0.003997802734375, -0.003936767578125, -0.000701904296875, 0.002532958984375, -6.103515625e-05, -0.000762939453125, ...], 'sampling_rate': 16000}</td>\n",
              "      <td>proto mě velmi znepokojují pokusy o prosazení konsolidovaného základu daně.</td>\n",
              "      <td>96704</td>\n",
              "      <td>True</td>\n",
              "    </tr>\n",
              "    <tr>\n",
              "      <th>7</th>\n",
              "      <td>8</td>\n",
              "      <td>{'path': '/root/.cache/huggingface/datasets/downloads/extracted/f860858b1727f7dfcbcf1817dd95332e8fad098537c56802f61c4de2454c7def/train_part_0/20120524-0900-PLENARY-3-cs_20120524-09:21:45_3.wav', 'array': [0.010711669921875, 0.0045166015625, -0.004486083984375, -0.001678466796875, -0.00531005859375, -0.0047607421875, 0.005462646484375, 0.00128173828125, -0.0059814453125, -0.005279541015625, -0.00189208984375, 0.002105712890625, 0.001953125, -0.00384521484375, -0.004974365234375, 0.0008544921875, 0.001556396484375, -0.000732421875, -0.000640869140625, -0.0013427734375, -0.000274658203125, 0.001373291015625, -0.0025634765625, -0.00225830078125, 0.006072998046875, 0.004547119140625, -0.005889892578125, -0.002227783203125, 0.006866455078125, 0.00213623046875, -0.00653076171875, -0.000946044921875, 0.00537109375, 0.004302978515625, 0.003021240234375, -0.0009765625, -0.003753662109375, 0.004791259765625, 0.008514404296875, -0.000885009765625, -0.00347900390625, 0.001312255859375, -0.001312255859375, -0.003448486328125, 0.0010986328125, -0.000335693359375, -0.001007080078125, -0.00042724609375, -0.0003662109375, -0.00201416015625, -0.005096435546875, -0.00457763671875, 0.003326416015625, 0.002716064453125, -0.003021240234375, -0.003204345703125, -0.0025634765625, -0.00439453125, -0.00115966796875, 0.00341796875, 0.0042724609375, 0.001800537109375, -0.002685546875, -0.0045166015625, 0.00311279296875, 0.00518798828125, 0.001434326171875, 0.002685546875, 0.002655029296875, 0.00079345703125, 0.003173828125, 0.004425048828125, -6.103515625e-05, -0.004608154296875, -0.001556396484375, 0.000274658203125, -0.00433349609375, -0.001953125, 0.0050048828125, -0.00079345703125, -0.0091552734375, -0.00384521484375, 0.0020751953125, 0.0001220703125, -0.001373291015625, -0.00286865234375, -0.000457763671875, 0.000518798828125, -0.001220703125, -0.001495361328125, 0.0, -3.0517578125e-05, 0.005126953125, 0.009490966796875, 0.0084228515625, 0.00177001953125, -0.00262451171875, 0.000732421875, 0.0069580078125, 0.00518798828125, ...], 'sampling_rate': 16000}</td>\n",
              "      <td>změna legislativy sice může být významnou součástí avšak jak ukazuje praxe tento samotný krok nestačí.</td>\n",
              "      <td>96719</td>\n",
              "      <td>True</td>\n",
              "    </tr>\n",
              "    <tr>\n",
              "      <th>8</th>\n",
              "      <td>8</td>\n",
              "      <td>{'path': '/root/.cache/huggingface/datasets/downloads/extracted/f860858b1727f7dfcbcf1817dd95332e8fad098537c56802f61c4de2454c7def/train_part_0/20151125-0900-PLENARY-21-cs_20151125-20:48:15_8.wav', 'array': [0.005645751953125, -0.0008544921875, -0.00714111328125, -0.009490966796875, -0.00921630859375, -0.0185546875, -0.011566162109375, 0.00994873046875, 0.000396728515625, -0.0145263671875, -0.006256103515625, -0.000152587890625, -0.00048828125, -0.004730224609375, -0.00531005859375, 0.0052490234375, 0.0079345703125, 0.007354736328125, 0.018798828125, 0.022308349609375, 0.004974365234375, -0.0086669921875, -0.00177001953125, 0.010894775390625, 0.015625, 0.006866455078125, 0.002227783203125, 0.01580810546875, 0.013763427734375, -0.0023193359375, -0.007568359375, -0.010650634765625, 0.001953125, 0.012359619140625, -0.007293701171875, -0.017974853515625, -0.0113525390625, -0.008056640625, -0.013702392578125, -0.02471923828125, -0.011810302734375, 0.013671875, 0.01446533203125, -0.005859375, -0.021820068359375, -0.0111083984375, 0.003265380859375, -0.00079345703125, -0.004302978515625, 3.0517578125e-05, 0.01275634765625, 0.011962890625, -0.010406494140625, -0.013885498046875, 0.002166748046875, 0.01495361328125, 0.0106201171875, -0.006927490234375, -0.001190185546875, 0.01593017578125, 0.019744873046875, 0.01739501953125, 0.006500244140625, 0.003204345703125, -0.000244140625, -0.019073486328125, -0.0155029296875, 0.0086669921875, 0.014251708984375, 0.00079345703125, -0.011016845703125, -0.017303466796875, -0.02178955078125, -0.010040283203125, 0.003753662109375, -9.1552734375e-05, -0.00396728515625, -0.011016845703125, -0.01214599609375, 0.001556396484375, 0.00189208984375, 0.00775146484375, 0.0245361328125, 0.008697509765625, -0.017333984375, -0.0074462890625, 0.017364501953125, 0.015350341796875, -0.007171630859375, -0.014190673828125, 0.006561279296875, 0.02685546875, 0.0098876953125, -0.0146484375, -0.00146484375, 0.01849365234375, 0.01806640625, 0.005401611328125, -0.00885009765625, -0.000518798828125, ...], 'sampling_rate': 16000}</td>\n",
              "      <td>před několika lety jsem natáčel jako novinář televizní reportáž o jevgeniji džugašvilim.</td>\n",
              "      <td>124702</td>\n",
              "      <td>True</td>\n",
              "    </tr>\n",
              "    <tr>\n",
              "      <th>9</th>\n",
              "      <td>8</td>\n",
              "      <td>{'path': '/root/.cache/huggingface/datasets/downloads/extracted/f860858b1727f7dfcbcf1817dd95332e8fad098537c56802f61c4de2454c7def/train_part_0/20130207-0900-PLENARY-12-cs_20130207-16:20:03_3.wav', 'array': [0.001953125, 0.002044677734375, 0.002227783203125, 0.002197265625, 0.001739501953125, 0.00115966796875, 0.000762939453125, 0.00030517578125, -9.1552734375e-05, -0.000213623046875, -0.000457763671875, -0.001190185546875, -0.001861572265625, -0.001800537109375, -0.001434326171875, -0.001312255859375, -0.001251220703125, -0.001251220703125, -0.001556396484375, -0.002227783203125, -0.002777099609375, -0.00311279296875, -0.003204345703125, -0.00311279296875, -0.00299072265625, -0.00311279296875, -0.00323486328125, -0.002960205078125, -0.002593994140625, -0.002655029296875, -0.0030517578125, -0.00323486328125, -0.00286865234375, -0.00225830078125, -0.001922607421875, -0.00189208984375, -0.002044677734375, -0.002197265625, -0.0023193359375, -0.0023193359375, -0.002105712890625, -0.001983642578125, -0.001861572265625, -0.00152587890625, -0.001251220703125, -0.00115966796875, -0.001068115234375, -0.000640869140625, -9.1552734375e-05, 0.000274658203125, 0.00030517578125, 3.0517578125e-05, -0.000244140625, 0.000152587890625, 0.001068115234375, 0.0015869140625, 0.001373291015625, 0.001190185546875, 0.001617431640625, 0.002105712890625, 0.00213623046875, 0.00189208984375, 0.00177001953125, 0.001861572265625, 0.002044677734375, 0.00201416015625, 0.001678466796875, 0.001251220703125, 0.001312255859375, 0.001861572265625, 0.00244140625, 0.002532958984375, 0.002227783203125, 0.001922607421875, 0.002044677734375, 0.00225830078125, 0.0020751953125, 0.001373291015625, 0.000732421875, 0.00067138671875, 0.0009765625, 0.0010986328125, 0.000823974609375, 0.0006103515625, 0.000732421875, 0.000823974609375, 0.000335693359375, -0.00048828125, -0.000946044921875, -0.00091552734375, -0.0006103515625, -0.0003662109375, -9.1552734375e-05, 3.0517578125e-05, -3.0517578125e-05, -9.1552734375e-05, -0.00030517578125, -0.000701904296875, -0.000885009765625, -0.000823974609375, ...], 'sampling_rate': 16000}</td>\n",
              "      <td>hluboce se skláním před kolegy kteří ve válečných podmínkách nasazují vlastní život pro záchranu jiných.</td>\n",
              "      <td>23704</td>\n",
              "      <td>True</td>\n",
              "    </tr>\n",
              "  </tbody>\n",
              "</table>"
            ]
          },
          "metadata": {}
        }
      ],
      "source": [
        "show_random_elements(common_voice_train.remove_columns([\"audio_id\", \"raw_text\"]), num_examples=10)"
      ]
    },
    {
      "cell_type": "code",
      "execution_count": null,
      "metadata": {
        "id": "svKzVJ_hQGK6"
      },
      "outputs": [],
      "source": [
        "import re\n",
        "chars_to_remove_regex = '[\\,\\?\\.\\!\\-\\;\\:\\\"\\“\\%\\‘\\”\\�\\']'\n",
        "\n",
        "def remove_special_characters(batch):\n",
        "    batch[\"raw_text\"] = re.sub(chars_to_remove_regex, '', batch[\"raw_text\"]).lower()\n",
        "    return batch"
      ]
    },
    {
      "cell_type": "code",
      "execution_count": null,
      "metadata": {
        "colab": {
          "base_uri": "https://localhost:8080/"
        },
        "id": "-1PIwzSvVHJp",
        "outputId": "f494b41d-2de3-4611-a843-2e86cef91176"
      },
      "outputs": [
        {
          "output_type": "execute_result",
          "data": {
            "text/plain": [
              "Dataset({\n",
              "    features: ['audio_id', 'language', 'audio', 'raw_text', 'normalized_text', 'speaker_id', 'is_gold_transcript'],\n",
              "    num_rows: 3000\n",
              "})"
            ]
          },
          "metadata": {},
          "execution_count": 14
        }
      ],
      "source": [
        "common_voice_train"
      ]
    },
    {
      "cell_type": "code",
      "execution_count": null,
      "metadata": {
        "id": "XIHocAuTQbBR"
      },
      "outputs": [],
      "source": [
        "common_voice_train = common_voice_train.map(remove_special_characters)\n",
        "common_voice_test = common_voice_test.map(remove_special_characters)"
      ]
    },
    {
      "cell_type": "code",
      "execution_count": null,
      "metadata": {
        "colab": {
          "base_uri": "https://localhost:8080/"
        },
        "id": "OdiaN4vbTDN-",
        "outputId": "0e3aa3fb-531b-4662-94d3-2bec4f932dc7"
      },
      "outputs": [
        {
          "output_type": "execute_result",
          "data": {
            "text/plain": [
              "Dataset({\n",
              "    features: ['audio_id', 'language', 'audio', 'raw_text', 'normalized_text', 'speaker_id', 'is_gold_transcript'],\n",
              "    num_rows: 3000\n",
              "})"
            ]
          },
          "metadata": {},
          "execution_count": 16
        }
      ],
      "source": [
        "common_voice_train"
      ]
    },
    {
      "cell_type": "code",
      "execution_count": null,
      "metadata": {
        "id": "TGAA3quKUZpI"
      },
      "outputs": [],
      "source": [
        "def replace_hatted_characters(batch):\n",
        "  # train\n",
        "  batch[\"normalized_text\"] = re.sub('á', 'a', batch[\"normalized_text\"])\n",
        "  batch[\"normalized_text\"] = re.sub('é', 'e', batch[\"normalized_text\"])\n",
        "  batch[\"normalized_text\"] = re.sub('í', 'i', batch[\"normalized_text\"])\n",
        "  batch[\"normalized_text\"] = re.sub('ó', 'o', batch[\"normalized_text\"])\n",
        "  batch[\"normalized_text\"] = re.sub('ú', 'u', batch[\"normalized_text\"])\n",
        "  batch[\"normalized_text\"] = re.sub('ý', 'y', batch[\"normalized_text\"])\n",
        "  batch[\"normalized_text\"] = re.sub('č', 'c', batch[\"normalized_text\"])\n",
        "  batch[\"normalized_text\"] = re.sub('ď', 'd', batch[\"normalized_text\"])\n",
        "  batch[\"normalized_text\"] = re.sub('ě', 'e', batch[\"normalized_text\"])\n",
        "  batch[\"normalized_text\"] = re.sub('ň', 'n', batch[\"normalized_text\"])\n",
        "  batch[\"normalized_text\"] = re.sub('ř', 'r', batch[\"normalized_text\"])\n",
        "  batch[\"normalized_text\"] = re.sub('š', 's', batch[\"normalized_text\"])\n",
        "  batch[\"normalized_text\"] = re.sub('ť', 't', batch[\"normalized_text\"])\n",
        "  batch[\"normalized_text\"] = re.sub('ů', 'u', batch[\"normalized_text\"])\n",
        "  batch[\"normalized_text\"] = re.sub('ž', 'z', batch[\"normalized_text\"])\n",
        "\n",
        "  # test\n",
        "  batch[\"normalized_text\"] = re.sub('å', 'a', batch[\"normalized_text\"])\n",
        "  batch[\"normalized_text\"] = re.sub('ä', 'a', batch[\"normalized_text\"])\n",
        "  batch[\"normalized_text\"] = re.sub('ö', 'o', batch[\"normalized_text\"])\n",
        "  batch[\"normalized_text\"] = re.sub('ć', 'c', batch[\"normalized_text\"])\n",
        "  batch[\"normalized_text\"] = re.sub('č', 'c', batch[\"normalized_text\"])\n",
        "  batch[\"normalized_text\"] = re.sub('đ', 'd', batch[\"normalized_text\"])\n",
        "  batch[\"normalized_text\"] = re.sub('š', 's', batch[\"normalized_text\"])\n",
        "  # batch[\"normalized_text\"] = re.sub('ž', 'z', batch[\"normalized_text\"])\n",
        "\n",
        "  return batch"
      ]
    },
    {
      "cell_type": "code",
      "execution_count": null,
      "metadata": {
        "id": "0Qw1wv3bXKtA"
      },
      "outputs": [],
      "source": [
        "common_voice_train = common_voice_train.map(replace_hatted_characters)\n",
        "common_voice_test = common_voice_test.map(replace_hatted_characters)"
      ]
    },
    {
      "cell_type": "code",
      "execution_count": null,
      "metadata": {
        "id": "KdH2mfk9thPM"
      },
      "outputs": [],
      "source": [
        "# import requests\n",
        "# from phonemizer import phonemize\n",
        "# from phonemizer.separator import Separator\n",
        "\n",
        "sentence = 'normalized_text'\n",
        "\n",
        "# def ipa_encode(batch):\n",
        "#   sentences = batch[sentence]\n",
        "#   if type(sentences) is list:\n",
        "#     sentences = \"\\n\".join(sentences)\n",
        "#   text = [line.strip() for line in sentences.split('\\n') if line]\n",
        "\n",
        "#   phn = phonemize(\n",
        "#     text,\n",
        "#     language='cs',\n",
        "#     backend='espeak',\n",
        "#     separator=Separator(phone=None, word=' ', syllable='|'),\n",
        "#     strip=True,\n",
        "#     preserve_punctuation=True)\n",
        "#   batch[sentence] = phn\n",
        "#   return batch\n",
        "\n",
        "# # 整的需要ipa_encode吗？？？\n",
        "# # using 'normalized_text' or raw? Could be able to use normalized_text directly without any processing, right? ? ?"
      ]
    },
    {
      "cell_type": "code",
      "execution_count": null,
      "metadata": {
        "id": "pfp4p3ETtywE"
      },
      "outputs": [],
      "source": [
        "# common_voice_train = common_voice_train.map(ipa_encode, batched=True, batch_size=20, keep_in_memory=True)\n",
        "# common_voice_test = common_voice_test.map(ipa_encode, batched=True, batch_size=20, keep_in_memory=True)"
      ]
    },
    {
      "cell_type": "code",
      "execution_count": null,
      "metadata": {
        "colab": {
          "base_uri": "https://localhost:8080/",
          "height": 1000
        },
        "id": "RBDRAAYxRE6n",
        "outputId": "9a5d332c-841d-4597-9537-7a19b3baef18"
      },
      "outputs": [
        {
          "output_type": "display_data",
          "data": {
            "text/plain": [
              "<IPython.core.display.HTML object>"
            ],
            "text/html": [
              "<table border=\"1\" class=\"dataframe\">\n",
              "  <thead>\n",
              "    <tr style=\"text-align: right;\">\n",
              "      <th></th>\n",
              "      <th>language</th>\n",
              "      <th>raw_text</th>\n",
              "      <th>normalized_text</th>\n",
              "      <th>speaker_id</th>\n",
              "      <th>is_gold_transcript</th>\n",
              "    </tr>\n",
              "  </thead>\n",
              "  <tbody>\n",
              "    <tr>\n",
              "      <th>0</th>\n",
              "      <td>8</td>\n",
              "      <td>tím se tyto zbraně stanou potencionálně dostupné zločincům a teroristům</td>\n",
              "      <td>tim se tyto zbrane stanou potencionalne dostupne zlocincum a teroristum.</td>\n",
              "      <td>23704</td>\n",
              "      <td>True</td>\n",
              "    </tr>\n",
              "    <tr>\n",
              "      <th>1</th>\n",
              "      <td>8</td>\n",
              "      <td>pokud jde o arménii ta se rozhodla pro partnerství s ruskem a ázerbájdžán prakticky suspenduje práci v rámci východního partnerství</td>\n",
              "      <td>pokud jde o armenii ta se rozhodla pro partnerstvi s ruskem a azerbajdzan prakticky suspenduje praci v ramci vychodniho partnerstvi.</td>\n",
              "      <td>23706</td>\n",
              "      <td>True</td>\n",
              "    </tr>\n",
              "    <tr>\n",
              "      <th>2</th>\n",
              "      <td>8</td>\n",
              "      <td>a komise může mít stokrát pravdu pokud jde o formální dodržení procedur ale fatálně selhala pokud šlo řekněme o umělecký dojem nebo o image a poškodila svoji vlastní pověst vytvořila dojem že šlo o předem připravenou akci podle not pana junckera která má nějakým způsobem zachovat jeho dědictví až už nebude šéfem evropské komise</td>\n",
              "      <td>a komise muze mit stokrat pravdu pokud jde o formalni dodrzeni procedur ale fatalne selhala pokud slo rekneme o umelecky dojem nebo o image a poskodila svoji vlastni povest. vytvorila dojem ze slo o predem pripravenou akci podle not pana junckera ktera ma nejakym zpusobem zachovat jeho dedictvi az uz nebude sefem evropske komise.</td>\n",
              "      <td>23712</td>\n",
              "      <td>True</td>\n",
              "    </tr>\n",
              "    <tr>\n",
              "      <th>3</th>\n",
              "      <td>8</td>\n",
              "      <td>rámec pro provádění testu proporcionality bude tak vymezen jasně a zároveň nebude příliš komplikovaný po procesní stránce a nepřinese tak zbytečnou administrativní zátěž</td>\n",
              "      <td>ramec pro provadeni testu proporcionality bude tak vymezen jasne a zaroven nebude prilis komplikovany po procesni strance a neprinese tak zbytecnou administrativni zatez.</td>\n",
              "      <td>124710</td>\n",
              "      <td>True</td>\n",
              "    </tr>\n",
              "    <tr>\n",
              "      <th>4</th>\n",
              "      <td>8</td>\n",
              "      <td>musíme si uvědomit že i v letecké dopravě platí že nic není zadarmo</td>\n",
              "      <td>musime si uvedomit ze i v letecke doprave plati ze nic neni zadarmo.</td>\n",
              "      <td>28323</td>\n",
              "      <td>True</td>\n",
              "    </tr>\n",
              "    <tr>\n",
              "      <th>5</th>\n",
              "      <td>8</td>\n",
              "      <td>realitou je různorodost podmínek v členských zemích které mají své logické historické důvody ale jsou postaveny často i účelové zábrany chránící obchodní zájmy různých společností</td>\n",
              "      <td>realitou je ruznorodost podminek v clenskych zemich ktere maji sve logicke historicke duvody ale jsou postaveny casto i ucelove zabrany chranici obchodni zajmy ruznych spolecnosti.</td>\n",
              "      <td>96713</td>\n",
              "      <td>True</td>\n",
              "    </tr>\n",
              "    <tr>\n",
              "      <th>6</th>\n",
              "      <td>8</td>\n",
              "      <td>poslední poznámka vidím že zde nemáme zástupce členských států zástupce rady považuji to za velkou chybu</td>\n",
              "      <td>posledni poznamka vidim ze zde nemame zastupce clenskych statu zastupce rady povazuji to za velkou chybu.</td>\n",
              "      <td>124708</td>\n",
              "      <td>True</td>\n",
              "    </tr>\n",
              "    <tr>\n",
              "      <th>7</th>\n",
              "      <td>8</td>\n",
              "      <td>jako místopředsedkyně výboru pro kulturu a vzdělávání je pro mě podstatné že touto dohodou nebude dotčena možnost evropské unie poskytovat dotace a finanční podporu kulturním odvětvím</td>\n",
              "      <td>jako mistopredsedkyne vyboru pro kulturu a vzdelavani je pro me podstatne ze touto dohodou nebude dotcena moznost evropske unie poskytovat dotace a financni podporu kulturnim odvetvim.</td>\n",
              "      <td>124710</td>\n",
              "      <td>True</td>\n",
              "    </tr>\n",
              "    <tr>\n",
              "      <th>8</th>\n",
              "      <td>8</td>\n",
              "      <td>jedná se vlastně o neomezené bezcelní přístupy které jsou jednostranné a autonomní</td>\n",
              "      <td>jedna se vlastne o neomezene bezcelni pristupy ktere jsou jednostranne a autonomni.</td>\n",
              "      <td>124704</td>\n",
              "      <td>True</td>\n",
              "    </tr>\n",
              "    <tr>\n",
              "      <th>9</th>\n",
              "      <td>8</td>\n",
              "      <td>není důvod oddalovat zveřejnění nedůvěrné verze žádosti u které ani samotný žadatel nepředpokládá že by ho zveřejnění nějak poškodilo</td>\n",
              "      <td>neni duvod oddalovat zverejneni neduverne verze zadosti u ktere ani samotny zadatel nepredpoklada ze by ho zverejneni nejak poskodilo.</td>\n",
              "      <td>96715</td>\n",
              "      <td>True</td>\n",
              "    </tr>\n",
              "  </tbody>\n",
              "</table>"
            ]
          },
          "metadata": {}
        }
      ],
      "source": [
        "show_random_elements(common_voice_train.remove_columns([\"audio_id\",\"audio\"]))"
      ]
    },
    {
      "cell_type": "code",
      "execution_count": null,
      "metadata": {
        "id": "LwCshNbbeRZR"
      },
      "outputs": [],
      "source": [
        "def extract_all_chars(batch):\n",
        "  all_text = \" \".join(batch[\"normalized_text\"])\n",
        "  vocab = list(set(all_text))\n",
        "  return {\"vocab\": [vocab], \"all_text\": [all_text]}"
      ]
    },
    {
      "cell_type": "code",
      "execution_count": null,
      "metadata": {
        "colab": {
          "base_uri": "https://localhost:8080/",
          "height": 81,
          "referenced_widgets": [
            "fe1cefb7c2604a3487be639d6de4338f",
            "f650534265fe4f27b905591a084cda20",
            "1570e25a61634c57b2b106cb81d444f3",
            "8671913331624a6daabf687b12ff88e9",
            "a9d99ad9bbfc48cebc3201886f90a68d",
            "367ada4e0b274e368ccd102d5e0fcf27",
            "0fdcca4a929849a1bcb1c0235b2c4396",
            "52cd95bd75574347b1250610e28ea14e",
            "a002ccdcc62d4e95a2f26658bcdfd0d5",
            "e2e78af0637f4abc9ffa5adb9ede05af",
            "8b7bac2404de4767aa859da4e1386190",
            "18d8b030c6da4b4caf1faba2ff99c6de",
            "05eed8756ace47528b020724a7c90cbf",
            "f4bffe6fa644436f9949ffc46b3e650e",
            "22254a4836284b4b90fe77e30d360392",
            "a78572cde76a476aa385357404acb116",
            "156515e6abc94bbcb3eacd5f3dbead6c",
            "99d65706b91048fea6a519b5222af3a3",
            "cc0d740cc8e442529dfefc6682fbf5d4",
            "e87d26cb772b4f7593dbca97871e04b1",
            "977e69ac992949df85c586f3d08eac04",
            "4e0a1dc3ab0b463199fd837ae237a413"
          ]
        },
        "id": "_m6uUjjcfbjH",
        "outputId": "36d46882-a4f1-4ce7-ca29-bf1c2c86606c"
      },
      "outputs": [
        {
          "output_type": "display_data",
          "data": {
            "text/plain": [
              "Map:   0%|          | 0/3000 [00:00<?, ? examples/s]"
            ],
            "application/vnd.jupyter.widget-view+json": {
              "version_major": 2,
              "version_minor": 0,
              "model_id": "fe1cefb7c2604a3487be639d6de4338f"
            }
          },
          "metadata": {}
        },
        {
          "output_type": "display_data",
          "data": {
            "text/plain": [
              "Map:   0%|          | 0/478 [00:00<?, ? examples/s]"
            ],
            "application/vnd.jupyter.widget-view+json": {
              "version_major": 2,
              "version_minor": 0,
              "model_id": "18d8b030c6da4b4caf1faba2ff99c6de"
            }
          },
          "metadata": {}
        }
      ],
      "source": [
        "vocab_train = common_voice_train.map(extract_all_chars, batched=True, batch_size=-1, keep_in_memory=True, remove_columns=common_voice_train.column_names)\n",
        "vocab_test = common_voice_test.map(extract_all_chars, batched=True, batch_size=-1, keep_in_memory=True, remove_columns=common_voice_test.column_names)"
      ]
    },
    {
      "cell_type": "code",
      "execution_count": null,
      "metadata": {
        "colab": {
          "base_uri": "https://localhost:8080/"
        },
        "id": "AoN0u2IH8gxO",
        "outputId": "1284123f-86c6-42b2-8a0f-d1e1d7fdeb47"
      },
      "outputs": [
        {
          "output_type": "execute_result",
          "data": {
            "text/plain": [
              "{'audio_id': '20140204-0900-PLENARY-23-cs_20140204-22:43:32_1',\n",
              " 'language': 8,\n",
              " 'audio': {'path': '/root/.cache/huggingface/datasets/downloads/extracted/f860858b1727f7dfcbcf1817dd95332e8fad098537c56802f61c4de2454c7def/train_part_0/20140204-0900-PLENARY-23-cs_20140204-22:43:32_1.wav',\n",
              "  'array': array([-0.00384521, -0.00048828,  0.00222778, ...,  0.00286865,\n",
              "          0.00192261,  0.00024414]),\n",
              "  'sampling_rate': 16000},\n",
              " 'raw_text': 'musí být transparentní a srozumitelný firmám musí zaručovat právní jistotu musí usilovat o odstraňování zbytečných byrokratických překážek ale současně musí umět zaručit a vymoci i vysokou úroveň ochrany spotřebitelů a zejména jejich bezpečnost',\n",
              " 'normalized_text': 'musi byt transparentni a srozumitelny firmam musi zarucovat pravni jistotu musi usilovat o odstranovani zbytecnych byrokratickych prekazek ale soucasne musi umet zarucit a vymoci i vysokou uroven ochrany spotrebitelu a zejmena jejich bezpecnost.',\n",
              " 'speaker_id': '96718',\n",
              " 'is_gold_transcript': True}"
            ]
          },
          "metadata": {},
          "execution_count": 24
        }
      ],
      "source": [
        "common_voice_train[0]"
      ]
    },
    {
      "cell_type": "code",
      "execution_count": null,
      "metadata": {
        "id": "aQfneNsmlJI0"
      },
      "outputs": [],
      "source": [
        "vocab_list = list(set(vocab_train[\"vocab\"][0]) | set(vocab_test[\"vocab\"][0]))"
      ]
    },
    {
      "cell_type": "code",
      "execution_count": null,
      "metadata": {
        "colab": {
          "base_uri": "https://localhost:8080/"
        },
        "id": "_0kRndSvqaKk",
        "outputId": "ab01b8c4-332a-45dd-bbca-303b288038c2"
      },
      "outputs": [
        {
          "output_type": "execute_result",
          "data": {
            "text/plain": [
              "{' ': 0,\n",
              " '!': 1,\n",
              " \"'\": 2,\n",
              " '.': 3,\n",
              " '?': 4,\n",
              " 'a': 5,\n",
              " 'b': 6,\n",
              " 'c': 7,\n",
              " 'd': 8,\n",
              " 'e': 9,\n",
              " 'f': 10,\n",
              " 'g': 11,\n",
              " 'h': 12,\n",
              " 'i': 13,\n",
              " 'j': 14,\n",
              " 'k': 15,\n",
              " 'l': 16,\n",
              " 'm': 17,\n",
              " 'n': 18,\n",
              " 'o': 19,\n",
              " 'p': 20,\n",
              " 'q': 21,\n",
              " 'r': 22,\n",
              " 's': 23,\n",
              " 't': 24,\n",
              " 'u': 25,\n",
              " 'v': 26,\n",
              " 'w': 27,\n",
              " 'x': 28,\n",
              " 'y': 29,\n",
              " 'z': 30}"
            ]
          },
          "metadata": {},
          "execution_count": 26
        }
      ],
      "source": [
        "vocab_dict = {v: k for k, v in enumerate(sorted(vocab_list))}\n",
        "vocab_dict"
      ]
    },
    {
      "cell_type": "code",
      "execution_count": null,
      "metadata": {
        "id": "npbIbBoLgaFX"
      },
      "outputs": [],
      "source": [
        "vocab_dict[\"|\"] = vocab_dict[\" \"]\n",
        "del vocab_dict[\" \"]"
      ]
    },
    {
      "cell_type": "code",
      "execution_count": null,
      "metadata": {
        "colab": {
          "base_uri": "https://localhost:8080/"
        },
        "id": "znF0bNunsjbl",
        "outputId": "8e5d4d45-ea6d-4262-b0b9-dffed2a6347b"
      },
      "outputs": [
        {
          "output_type": "execute_result",
          "data": {
            "text/plain": [
              "33"
            ]
          },
          "metadata": {},
          "execution_count": 28
        }
      ],
      "source": [
        "vocab_dict[\"[UNK]\"] = len(vocab_dict)\n",
        "vocab_dict[\"[PAD]\"] = len(vocab_dict)\n",
        "len(vocab_dict)"
      ]
    },
    {
      "cell_type": "code",
      "execution_count": null,
      "metadata": {
        "id": "mSqxIfY1pch8"
      },
      "outputs": [],
      "source": [
        "import json\n",
        "with open('vocab.json', 'w') as vocab_file:\n",
        "    json.dump(vocab_dict, vocab_file)"
      ]
    },
    {
      "cell_type": "code",
      "execution_count": null,
      "metadata": {
        "id": "xriFGEWQkO4M"
      },
      "outputs": [],
      "source": [
        "from transformers import Wav2Vec2CTCTokenizer\n",
        "\n",
        "tokenizer = Wav2Vec2CTCTokenizer.from_pretrained(\"./\", unk_token=\"[UNK]\", pad_token=\"[PAD]\", word_delimiter_token=\"|\")"
      ]
    },
    {
      "cell_type": "code",
      "execution_count": null,
      "metadata": {
        "id": "A1XApZBAF2zr"
      },
      "outputs": [],
      "source": [
        "repo_name = \"cs2fi_wav2vec2-large-xls-r-300m-czech-colab\""
      ]
    },
    {
      "cell_type": "code",
      "execution_count": null,
      "metadata": {
        "colab": {
          "base_uri": "https://localhost:8080/"
        },
        "id": "zytE1175GAKM",
        "outputId": "93442487-4a2b-46e0-a943-28bf780f7b8a"
      },
      "outputs": [
        {
          "output_type": "execute_result",
          "data": {
            "text/plain": [
              "CommitInfo(commit_url='https://huggingface.co/Roxysun/cs2fi_wav2vec2-large-xls-r-300m-czech-colab/commit/22cf056341db238e3c492035d2478c229db90ff8', commit_message='Upload tokenizer', commit_description='', oid='22cf056341db238e3c492035d2478c229db90ff8', pr_url=None, pr_revision=None, pr_num=None)"
            ]
          },
          "metadata": {},
          "execution_count": 32
        }
      ],
      "source": [
        "tokenizer.push_to_hub(repo_name)"
      ]
    },
    {
      "cell_type": "code",
      "execution_count": null,
      "metadata": {
        "id": "kAR0-2KLkopp"
      },
      "outputs": [],
      "source": [
        "from transformers import Wav2Vec2FeatureExtractor\n",
        "\n",
        "feature_extractor = Wav2Vec2FeatureExtractor(feature_size=1, sampling_rate=16000, padding_value=0.0, do_normalize=True, return_attention_mask=True)"
      ]
    },
    {
      "cell_type": "code",
      "execution_count": null,
      "metadata": {
        "id": "KYZtoW-tlZgl"
      },
      "outputs": [],
      "source": [
        "from transformers import Wav2Vec2Processor\n",
        "\n",
        "# processor = Wav2Vec2Processor(feature_extractor=feature_extractor, tokenizer=tokenizer)\n",
        "processor = Wav2Vec2Processor.from_pretrained(\"facebook/wav2vec2-base-960h\")"
      ]
    },
    {
      "cell_type": "code",
      "execution_count": null,
      "metadata": {
        "colab": {
          "base_uri": "https://localhost:8080/"
        },
        "id": "39LONaVkWPOu",
        "outputId": "44810690-58f9-44e7-e67c-a390d7d4696f"
      },
      "outputs": [
        {
          "output_type": "execute_result",
          "data": {
            "text/plain": [
              "Dataset({\n",
              "    features: ['audio_id', 'language', 'audio', 'raw_text', 'normalized_text', 'speaker_id', 'is_gold_transcript'],\n",
              "    num_rows: 3000\n",
              "})"
            ]
          },
          "metadata": {},
          "execution_count": 35
        }
      ],
      "source": [
        "common_voice_train"
      ]
    },
    {
      "cell_type": "code",
      "execution_count": null,
      "metadata": {
        "colab": {
          "base_uri": "https://localhost:8080/"
        },
        "id": "qj_z5Zc3GAs9",
        "outputId": "ab3163f1-8fec-4eff-b4e6-3f3c42b83350"
      },
      "outputs": [
        {
          "output_type": "execute_result",
          "data": {
            "text/plain": [
              "{'path': '/root/.cache/huggingface/datasets/downloads/extracted/f860858b1727f7dfcbcf1817dd95332e8fad098537c56802f61c4de2454c7def/train_part_0/20140204-0900-PLENARY-23-cs_20140204-22:43:32_1.wav',\n",
              " 'array': array([-0.00384521, -0.00048828,  0.00222778, ...,  0.00286865,\n",
              "         0.00192261,  0.00024414]),\n",
              " 'sampling_rate': 16000}"
            ]
          },
          "metadata": {},
          "execution_count": 36
        }
      ],
      "source": [
        "common_voice_train[0][\"audio\"]"
      ]
    },
    {
      "cell_type": "code",
      "execution_count": null,
      "metadata": {
        "id": "rrv65aj7G95i"
      },
      "outputs": [],
      "source": [
        "common_voice_train = common_voice_train.cast_column(\"audio\", Audio(sampling_rate=16_000))\n",
        "common_voice_test = common_voice_test.cast_column(\"audio\", Audio(sampling_rate=16_000))"
      ]
    },
    {
      "cell_type": "code",
      "execution_count": null,
      "metadata": {
        "colab": {
          "base_uri": "https://localhost:8080/"
        },
        "id": "aKtkc1o_HWHC",
        "outputId": "e98a591b-fd76-4556-f209-8b26de929cd8"
      },
      "outputs": [
        {
          "output_type": "execute_result",
          "data": {
            "text/plain": [
              "{'path': '/root/.cache/huggingface/datasets/downloads/extracted/f860858b1727f7dfcbcf1817dd95332e8fad098537c56802f61c4de2454c7def/train_part_0/20140204-0900-PLENARY-23-cs_20140204-22:43:32_1.wav',\n",
              " 'array': array([-0.00384521, -0.00048828,  0.00222778, ...,  0.00286865,\n",
              "         0.00192261,  0.00024414]),\n",
              " 'sampling_rate': 16000}"
            ]
          },
          "metadata": {},
          "execution_count": 38
        }
      ],
      "source": [
        "common_voice_train[0][\"audio\"]"
      ]
    },
    {
      "cell_type": "code",
      "execution_count": null,
      "metadata": {
        "colab": {
          "base_uri": "https://localhost:8080/",
          "height": 93
        },
        "id": "dueM6U7Ev0OA",
        "outputId": "df7f8446-0e9a-4817-e211-b02400fbbae7"
      },
      "outputs": [
        {
          "output_type": "stream",
          "name": "stdout",
          "text": [
            "dezinformacemi byly zaplaveny a ovlivneny i prezidentske volby v me zemi ceske republice.\n"
          ]
        },
        {
          "output_type": "execute_result",
          "data": {
            "text/plain": [
              "<IPython.lib.display.Audio object>"
            ],
            "text/html": [
              "\n",
              "                <audio  controls=\"controls\" autoplay=\"autoplay\">\n",
              "                    <source src=\"data:audio/wav;base64,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\" type=\"audio/wav\" />\n",
              "                    Your browser does not support the audio element.\n",
              "                </audio>\n",
              "              "
            ]
          },
          "metadata": {},
          "execution_count": 39
        }
      ],
      "source": [
        "import IPython.display as ipd\n",
        "import numpy as np\n",
        "import random\n",
        "\n",
        "rand_int = random.randint(0, len(common_voice_train)-1)\n",
        "\n",
        "print(common_voice_train[rand_int][sentence])\n",
        "ipd.Audio(data=common_voice_train[rand_int][\"audio\"][\"array\"], autoplay=True, rate=16000)"
      ]
    },
    {
      "cell_type": "code",
      "execution_count": null,
      "metadata": {
        "colab": {
          "base_uri": "https://localhost:8080/"
        },
        "id": "1Po2g7YPuRTx",
        "outputId": "694484b7-ffab-4b96-db5b-afa22e053a71"
      },
      "outputs": [
        {
          "output_type": "stream",
          "name": "stdout",
          "text": [
            "Target text: z hlediska srovnani s dunajskou strategii neni mozne zahrnout karpatskou strategii k dunaji protoze se jedna uplne o jine podminky.\n",
            "Input array shape: (143039,)\n",
            "Sampling rate: 16000\n"
          ]
        }
      ],
      "source": [
        "rand_int = random.randint(0, len(common_voice_train)-1)\n",
        "\n",
        "print(\"Target text:\", common_voice_train[rand_int][sentence])\n",
        "print(\"Input array shape:\", common_voice_train[rand_int][\"audio\"][\"array\"].shape)\n",
        "print(\"Sampling rate:\", common_voice_train[rand_int][\"audio\"][\"sampling_rate\"])"
      ]
    },
    {
      "cell_type": "code",
      "execution_count": null,
      "metadata": {
        "id": "eJY7I0XAwe9p"
      },
      "outputs": [],
      "source": [
        "def prepare_dataset(batch):\n",
        "    audio = batch[\"audio\"]\n",
        "\n",
        "    # batched output is \"un-batched\"\n",
        "    batch[\"input_values\"] = processor(audio[\"array\"], sampling_rate=audio[\"sampling_rate\"]).input_values[0]\n",
        "    batch[\"input_length\"] = len(batch[\"input_values\"])\n",
        "\n",
        "    with processor.as_target_processor():\n",
        "        batch[\"labels\"] = processor(batch[sentence]).input_ids\n",
        "\n",
        "    return batch"
      ]
    },
    {
      "cell_type": "code",
      "execution_count": null,
      "metadata": {
        "id": "-np9xYK-wl8q"
      },
      "outputs": [],
      "source": [
        "common_voice_train = common_voice_train.map(prepare_dataset, remove_columns=common_voice_train.column_names)\n",
        "common_voice_test = common_voice_test.map(prepare_dataset, remove_columns=common_voice_test.column_names)"
      ]
    },
    {
      "cell_type": "code",
      "execution_count": null,
      "metadata": {
        "id": "pA2gzUSCUmJ0",
        "colab": {
          "base_uri": "https://localhost:8080/"
        },
        "outputId": "25516175-4afc-4131-e9ab-442bc231d808"
      },
      "outputs": [
        {
          "output_type": "execute_result",
          "data": {
            "text/plain": [
              "Dataset({\n",
              "    features: ['input_values', 'input_length', 'labels'],\n",
              "    num_rows: 3000\n",
              "})"
            ]
          },
          "metadata": {},
          "execution_count": 43
        }
      ],
      "source": [
        "common_voice_train"
      ]
    },
    {
      "cell_type": "code",
      "execution_count": null,
      "metadata": {
        "id": "tdHfbUJ_09iA"
      },
      "outputs": [],
      "source": [
        "# max_input_length_in_sec = 5.0\n",
        "max_input_length_in_sec = 5.0\n",
        "common_voice_train = common_voice_train.filter(lambda x: x < max_input_length_in_sec * processor.feature_extractor.sampling_rate, input_columns=[\"input_length\"])"
      ]
    },
    {
      "cell_type": "code",
      "execution_count": null,
      "metadata": {
        "id": "ObFoJYtPkzxH"
      },
      "outputs": [],
      "source": [
        "max_input_length_in_sec = 5.0\n",
        "common_voice_test = common_voice_test.filter(lambda x: x < max_input_length_in_sec * processor.feature_extractor.sampling_rate, input_columns=[\"input_length\"])"
      ]
    },
    {
      "cell_type": "code",
      "execution_count": null,
      "metadata": {
        "id": "tborvC9hx88e"
      },
      "outputs": [],
      "source": [
        "import torch\n",
        "\n",
        "from dataclasses import dataclass, field\n",
        "from typing import Any, Dict, List, Optional, Union\n",
        "\n",
        "@dataclass\n",
        "class DataCollatorCTCWithPadding:\n",
        "    \"\"\"\n",
        "    Data collator that will dynamically pad the inputs received.\n",
        "    Args:\n",
        "        processor (:class:`~transformers.Wav2Vec2Processor`)\n",
        "            The processor used for proccessing the data.\n",
        "        padding (:obj:`bool`, :obj:`str` or :class:`~transformers.tokenization_utils_base.PaddingStrategy`, `optional`, defaults to :obj:`True`):\n",
        "            Select a strategy to pad the returned sequences (according to the model's padding side and padding index)\n",
        "            among:\n",
        "            * :obj:`True` or :obj:`'longest'`: Pad to the longest sequence in the batch (or no padding if only a single\n",
        "              sequence if provided).\n",
        "            * :obj:`'max_length'`: Pad to a maximum length specified with the argument :obj:`max_length` or to the\n",
        "              maximum acceptable input length for the model if that argument is not provided.\n",
        "            * :obj:`False` or :obj:`'do_not_pad'` (default): No padding (i.e., can output a batch with sequences of\n",
        "              different lengths).\n",
        "    \"\"\"\n",
        "\n",
        "    processor: Wav2Vec2Processor\n",
        "    padding: Union[bool, str] = True\n",
        "\n",
        "    def __call__(self, features: List[Dict[str, Union[List[int], torch.Tensor]]]) -> Dict[str, torch.Tensor]:\n",
        "        # split inputs and labels since they have to be of different lenghts and need\n",
        "        # different padding methods\n",
        "        input_features = [{\"input_values\": feature[\"input_values\"]} for feature in features]\n",
        "        label_features = [{\"input_ids\": feature[\"labels\"]} for feature in features]\n",
        "\n",
        "        batch = self.processor.pad(\n",
        "            input_features,\n",
        "            padding=self.padding,\n",
        "            return_tensors=\"pt\",\n",
        "        )\n",
        "        with self.processor.as_target_processor():\n",
        "            labels_batch = self.processor.pad(\n",
        "                label_features,\n",
        "                padding=self.padding,\n",
        "                return_tensors=\"pt\",\n",
        "            )\n",
        "\n",
        "        # replace padding with -100 to ignore loss correctly\n",
        "        labels = labels_batch[\"input_ids\"].masked_fill(labels_batch.attention_mask.ne(1), -100)\n",
        "\n",
        "        batch[\"labels\"] = labels\n",
        "\n",
        "        return batch"
      ]
    },
    {
      "cell_type": "code",
      "execution_count": null,
      "metadata": {
        "id": "lbQf5GuZyQ4_"
      },
      "outputs": [],
      "source": [
        "data_collator = DataCollatorCTCWithPadding(processor=processor, padding=True)"
      ]
    },
    {
      "cell_type": "code",
      "execution_count": null,
      "metadata": {
        "id": "9Xsux2gmyXso",
        "colab": {
          "base_uri": "https://localhost:8080/"
        },
        "outputId": "1f3995af-fdae-4f93-aec6-adc919698212"
      },
      "outputs": [
        {
          "output_type": "stream",
          "name": "stderr",
          "text": [
            "<ipython-input-48-605de035dfd7>:1: FutureWarning: load_metric is deprecated and will be removed in the next major version of datasets. Use 'evaluate.load' instead, from the new library 🤗 Evaluate: https://huggingface.co/docs/evaluate\n",
            "  wer_metric = load_metric(\"wer\")\n"
          ]
        }
      ],
      "source": [
        "wer_metric = load_metric(\"wer\")"
      ]
    },
    {
      "cell_type": "code",
      "execution_count": null,
      "metadata": {
        "id": "1XZ-kjweyTy_"
      },
      "outputs": [],
      "source": [
        "def compute_metrics(pred):\n",
        "    pred_logits = pred.predictions\n",
        "    pred_ids = np.argmax(pred_logits, axis=-1)\n",
        "\n",
        "    pred.label_ids[pred.label_ids == -100] = processor.tokenizer.pad_token_id\n",
        "\n",
        "    pred_str = processor.batch_decode(pred_ids)\n",
        "    # we do not want to group tokens when computing the metrics\n",
        "    label_str = processor.batch_decode(pred.label_ids, group_tokens=False)\n",
        "\n",
        "    wer = wer_metric.compute(predictions=pred_str, references=label_str)\n",
        "\n",
        "    return {\"wer\": wer}"
      ]
    },
    {
      "cell_type": "code",
      "execution_count": null,
      "metadata": {
        "id": "2-VQOa1fKYHk",
        "colab": {
          "base_uri": "https://localhost:8080/"
        },
        "outputId": "82abf8a4-5b8e-4b93-8e15-65db10ed5108"
      },
      "outputs": [
        {
          "output_type": "stream",
          "name": "stderr",
          "text": [
            "Some weights of the model checkpoint at facebook/wav2vec2-lv-60-espeak-cv-ft were not used when initializing Wav2Vec2ForCTC: ['wav2vec2.encoder.pos_conv_embed.conv.weight_g', 'wav2vec2.encoder.pos_conv_embed.conv.weight_v']\n",
            "- This IS expected if you are initializing Wav2Vec2ForCTC from the checkpoint of a model trained on another task or with another architecture (e.g. initializing a BertForSequenceClassification model from a BertForPreTraining model).\n",
            "- This IS NOT expected if you are initializing Wav2Vec2ForCTC from the checkpoint of a model that you expect to be exactly identical (initializing a BertForSequenceClassification model from a BertForSequenceClassification model).\n",
            "Some weights of Wav2Vec2ForCTC were not initialized from the model checkpoint at facebook/wav2vec2-lv-60-espeak-cv-ft and are newly initialized: ['wav2vec2.encoder.pos_conv_embed.conv.parametrizations.weight.original1', 'wav2vec2.encoder.pos_conv_embed.conv.parametrizations.weight.original0']\n",
            "You should probably TRAIN this model on a down-stream task to be able to use it for predictions and inference.\n"
          ]
        }
      ],
      "source": [
        "from transformers import Wav2Vec2ForCTC\n",
        "\n",
        "model = Wav2Vec2ForCTC.from_pretrained(\"facebook/wav2vec2-lv-60-espeak-cv-ft\")"
      ]
    },
    {
      "cell_type": "code",
      "execution_count": null,
      "metadata": {
        "id": "Opx8K_O6RvyV"
      },
      "outputs": [],
      "source": [
        "# from transformers import Wav2Vec2ForCTC\n",
        "\n",
        "# model = Wav2Vec2ForCTC.from_pretrained(\n",
        "#     \"facebook/wav2vec2-lv-60-espeak-cv-ft\",\n",
        "#     attention_dropout=0.0,\n",
        "#     hidden_dropout=0.0,\n",
        "#     feat_proj_dropout=0.0,\n",
        "#     mask_time_prob=0.05,\n",
        "#     layerdrop=0.0,\n",
        "#     ctc_loss_reduction=\"mean\",\n",
        "#     pad_token_id=processor.tokenizer.pad_token_id,\n",
        "#     vocab_size=len(processor.tokenizer),\n",
        "# )"
      ]
    },
    {
      "cell_type": "code",
      "execution_count": null,
      "metadata": {
        "id": "oGI8zObtZ3V0",
        "colab": {
          "base_uri": "https://localhost:8080/"
        },
        "outputId": "e6b4f449-88e2-4eeb-8f4b-f34cbd66077c"
      },
      "outputs": [
        {
          "output_type": "stream",
          "name": "stderr",
          "text": [
            "/usr/local/lib/python3.10/dist-packages/transformers/models/wav2vec2/modeling_wav2vec2.py:1913: FutureWarning: The method `freeze_feature_extractor` is deprecated and will be removed in Transformers v5. Please use the equivalent `freeze_feature_encoder` method instead.\n",
            "  warnings.warn(\n"
          ]
        }
      ],
      "source": [
        "model.freeze_feature_extractor()"
      ]
    },
    {
      "cell_type": "code",
      "execution_count": null,
      "metadata": {
        "id": "KbeKSV7uzGPP"
      },
      "outputs": [],
      "source": [
        "from transformers import TrainingArguments\n",
        "\n",
        "# Not sure. using the name after finetune training here? ? ?\n",
        "\n",
        "training_args = TrainingArguments(\n",
        "  output_dir=repo_name,\n",
        "  group_by_length=True,\n",
        "  per_device_train_batch_size=8,\n",
        "  gradient_accumulation_steps=2,\n",
        "  evaluation_strategy=\"steps\",\n",
        "  num_train_epochs=50, #50\n",
        "  gradient_checkpointing=True,\n",
        "  fp16=True,\n",
        "  save_steps=100,\n",
        "  eval_steps=100,\n",
        "  logging_steps=100,\n",
        "  learning_rate=3e-4,\n",
        "  warmup_steps=500,\n",
        "  save_total_limit=2,\n",
        "  push_to_hub=True,\n",
        ")"
      ]
    },
    {
      "cell_type": "code",
      "execution_count": null,
      "metadata": {
        "id": "rY7vBmFCPFgC"
      },
      "outputs": [],
      "source": [
        "from transformers import Trainer\n",
        "\n",
        "trainer = Trainer(\n",
        "    model=model,\n",
        "    data_collator=data_collator,\n",
        "    args=training_args,\n",
        "    compute_metrics=compute_metrics,\n",
        "    train_dataset=common_voice_train,\n",
        "    eval_dataset=common_voice_test,\n",
        "    tokenizer=processor.feature_extractor,\n",
        ")"
      ]
    },
    {
      "cell_type": "code",
      "source": [
        "trainer.evaluate()"
      ],
      "metadata": {
        "colab": {
          "base_uri": "https://localhost:8080/",
          "height": 182
        },
        "id": "sWnW4vJ9ctgL",
        "outputId": "d1af0428-ede8-46b0-a85c-8a9f5f1efa40"
      },
      "execution_count": null,
      "outputs": [
        {
          "output_type": "stream",
          "name": "stderr",
          "text": [
            "/usr/local/lib/python3.10/dist-packages/transformers/models/wav2vec2/processing_wav2vec2.py:155: UserWarning: `as_target_processor` is deprecated and will be removed in v5 of Transformers. You can process your labels by using the argument `text` of the regular `__call__` method (either in the same call as your audio inputs, or in a separate call.\n",
            "  warnings.warn(\n"
          ]
        },
        {
          "output_type": "display_data",
          "data": {
            "text/plain": [
              "<IPython.core.display.HTML object>"
            ],
            "text/html": [
              "\n",
              "    <div>\n",
              "      \n",
              "      <progress value='8' max='8' style='width:300px; height:20px; vertical-align: middle;'></progress>\n",
              "      [8/8 00:02]\n",
              "    </div>\n",
              "    "
            ]
          },
          "metadata": {}
        },
        {
          "output_type": "execute_result",
          "data": {
            "text/plain": [
              "{'eval_loss': 7530.18212890625,\n",
              " 'eval_wer': 1.0020964360587001,\n",
              " 'eval_runtime': 4.453,\n",
              " 'eval_samples_per_second': 14.372,\n",
              " 'eval_steps_per_second': 1.797}"
            ]
          },
          "metadata": {},
          "execution_count": 55
        }
      ]
    },
    {
      "cell_type": "code",
      "execution_count": null,
      "metadata": {
        "id": "y2l9-hrSVVcI",
        "colab": {
          "base_uri": "https://localhost:8080/",
          "height": 1000
        },
        "outputId": "a6460fe5-706f-47a7-e0fc-283c44e2ff89"
      },
      "outputs": [
        {
          "metadata": {
            "tags": null
          },
          "name": "stderr",
          "output_type": "stream",
          "text": [
            "/usr/local/lib/python3.10/dist-packages/torch/utils/checkpoint.py:429: UserWarning: torch.utils.checkpoint: please pass in use_reentrant=True or use_reentrant=False explicitly. The default value of use_reentrant will be updated to be False in the future. To maintain current behavior, pass use_reentrant=True. It is recommended that you use use_reentrant=False. Refer to docs for more details on the differences between the two variants.\n",
            "  warnings.warn(\n"
          ]
        },
        {
          "data": {
            "text/html": [
              "\n",
              "    <div>\n",
              "      \n",
              "      <progress value='1294' max='1400' style='width:300px; height:20px; vertical-align: middle;'></progress>\n",
              "      [1294/1400 39:23 < 03:13, 0.55 it/s, Epoch 45.37/50]\n",
              "    </div>\n",
              "    <table border=\"1\" class=\"dataframe\">\n",
              "  <thead>\n",
              " <tr style=\"text-align: left;\">\n",
              "      <th>Step</th>\n",
              "      <th>Training Loss</th>\n",
              "      <th>Validation Loss</th>\n",
              "      <th>Wer</th>\n",
              "    </tr>\n",
              "  </thead>\n",
              "  <tbody>\n",
              "    <tr>\n",
              "      <td>100</td>\n",
              "      <td>3042.873800</td>\n",
              "      <td>422.193817</td>\n",
              "      <td>0.951782</td>\n",
              "    </tr>\n",
              "    <tr>\n",
              "      <td>200</td>\n",
              "      <td>362.155400</td>\n",
              "      <td>231.748596</td>\n",
              "      <td>1.000000</td>\n",
              "    </tr>\n",
              "    <tr>\n",
              "      <td>300</td>\n",
              "      <td>208.092000</td>\n",
              "      <td>196.419373</td>\n",
              "      <td>0.995807</td>\n",
              "    </tr>\n",
              "    <tr>\n",
              "      <td>400</td>\n",
              "      <td>189.135400</td>\n",
              "      <td>211.622314</td>\n",
              "      <td>0.935010</td>\n",
              "    </tr>\n",
              "    <tr>\n",
              "      <td>500</td>\n",
              "      <td>163.635500</td>\n",
              "      <td>235.320129</td>\n",
              "      <td>0.918239</td>\n",
              "    </tr>\n",
              "    <tr>\n",
              "      <td>600</td>\n",
              "      <td>140.795900</td>\n",
              "      <td>256.402802</td>\n",
              "      <td>0.953878</td>\n",
              "    </tr>\n",
              "    <tr>\n",
              "      <td>700</td>\n",
              "      <td>115.550600</td>\n",
              "      <td>311.456207</td>\n",
              "      <td>1.014675</td>\n",
              "    </tr>\n",
              "    <tr>\n",
              "      <td>800</td>\n",
              "      <td>93.662900</td>\n",
              "      <td>304.088196</td>\n",
              "      <td>1.224319</td>\n",
              "    </tr>\n",
              "    <tr>\n",
              "      <td>900</td>\n",
              "      <td>78.969400</td>\n",
              "      <td>354.541504</td>\n",
              "      <td>1.127883</td>\n",
              "    </tr>\n",
              "    <tr>\n",
              "      <td>1000</td>\n",
              "      <td>67.415100</td>\n",
              "      <td>423.617798</td>\n",
              "      <td>1.085954</td>\n",
              "    </tr>\n",
              "    <tr>\n",
              "      <td>1100</td>\n",
              "      <td>55.147100</td>\n",
              "      <td>468.319244</td>\n",
              "      <td>1.092243</td>\n",
              "    </tr>\n",
              "    <tr>\n",
              "      <td>1200</td>\n",
              "      <td>55.800100</td>\n",
              "      <td>408.803864</td>\n",
              "      <td>1.083857</td>\n",
              "    </tr>\n",
              "  </tbody>\n",
              "</table><p>"
            ],
            "text/plain": [
              "<IPython.core.display.HTML object>"
            ]
          },
          "metadata": {},
          "output_type": "display_data"
        },
        {
          "data": {
            "text/html": [
              "\n",
              "    <div>\n",
              "      \n",
              "      <progress value='16' max='8' style='width:300px; height:20px; vertical-align: middle;'></progress>\n",
              "      [8/8 02:27]\n",
              "    </div>\n",
              "    "
            ],
            "text/plain": [
              "<IPython.core.display.HTML object>"
            ]
          },
          "metadata": {},
          "output_type": "display_data"
        },
        {
          "metadata": {
            "tags": null
          },
          "name": "stderr",
          "output_type": "stream",
          "text": [
            "/usr/local/lib/python3.10/dist-packages/transformers/models/wav2vec2/processing_wav2vec2.py:155: UserWarning: `as_target_processor` is deprecated and will be removed in v5 of Transformers. You can process your labels by using the argument `text` of the regular `__call__` method (either in the same call as your audio inputs, or in a separate call.\n",
            "  warnings.warn(\n",
            "/usr/local/lib/python3.10/dist-packages/torch/utils/checkpoint.py:429: UserWarning: torch.utils.checkpoint: please pass in use_reentrant=True or use_reentrant=False explicitly. The default value of use_reentrant will be updated to be False in the future. To maintain current behavior, pass use_reentrant=True. It is recommended that you use use_reentrant=False. Refer to docs for more details on the differences between the two variants.\n",
            "  warnings.warn(\n",
            "/usr/local/lib/python3.10/dist-packages/transformers/models/wav2vec2/processing_wav2vec2.py:155: UserWarning: `as_target_processor` is deprecated and will be removed in v5 of Transformers. You can process your labels by using the argument `text` of the regular `__call__` method (either in the same call as your audio inputs, or in a separate call.\n",
            "  warnings.warn(\n",
            "/usr/local/lib/python3.10/dist-packages/torch/utils/checkpoint.py:429: UserWarning: torch.utils.checkpoint: please pass in use_reentrant=True or use_reentrant=False explicitly. The default value of use_reentrant will be updated to be False in the future. To maintain current behavior, pass use_reentrant=True. It is recommended that you use use_reentrant=False. Refer to docs for more details on the differences between the two variants.\n",
            "  warnings.warn(\n",
            "/usr/local/lib/python3.10/dist-packages/transformers/models/wav2vec2/processing_wav2vec2.py:155: UserWarning: `as_target_processor` is deprecated and will be removed in v5 of Transformers. You can process your labels by using the argument `text` of the regular `__call__` method (either in the same call as your audio inputs, or in a separate call.\n",
            "  warnings.warn(\n",
            "/usr/local/lib/python3.10/dist-packages/torch/utils/checkpoint.py:429: UserWarning: torch.utils.checkpoint: please pass in use_reentrant=True or use_reentrant=False explicitly. The default value of use_reentrant will be updated to be False in the future. To maintain current behavior, pass use_reentrant=True. It is recommended that you use use_reentrant=False. Refer to docs for more details on the differences between the two variants.\n",
            "  warnings.warn(\n",
            "/usr/local/lib/python3.10/dist-packages/transformers/models/wav2vec2/processing_wav2vec2.py:155: UserWarning: `as_target_processor` is deprecated and will be removed in v5 of Transformers. You can process your labels by using the argument `text` of the regular `__call__` method (either in the same call as your audio inputs, or in a separate call.\n",
            "  warnings.warn(\n",
            "/usr/local/lib/python3.10/dist-packages/torch/utils/checkpoint.py:429: UserWarning: torch.utils.checkpoint: please pass in use_reentrant=True or use_reentrant=False explicitly. The default value of use_reentrant will be updated to be False in the future. To maintain current behavior, pass use_reentrant=True. It is recommended that you use use_reentrant=False. Refer to docs for more details on the differences between the two variants.\n",
            "  warnings.warn(\n",
            "/usr/local/lib/python3.10/dist-packages/transformers/models/wav2vec2/processing_wav2vec2.py:155: UserWarning: `as_target_processor` is deprecated and will be removed in v5 of Transformers. You can process your labels by using the argument `text` of the regular `__call__` method (either in the same call as your audio inputs, or in a separate call.\n",
            "  warnings.warn(\n",
            "/usr/local/lib/python3.10/dist-packages/torch/utils/checkpoint.py:429: UserWarning: torch.utils.checkpoint: please pass in use_reentrant=True or use_reentrant=False explicitly. The default value of use_reentrant will be updated to be False in the future. To maintain current behavior, pass use_reentrant=True. It is recommended that you use use_reentrant=False. Refer to docs for more details on the differences between the two variants.\n",
            "  warnings.warn(\n",
            "/usr/local/lib/python3.10/dist-packages/transformers/models/wav2vec2/processing_wav2vec2.py:155: UserWarning: `as_target_processor` is deprecated and will be removed in v5 of Transformers. You can process your labels by using the argument `text` of the regular `__call__` method (either in the same call as your audio inputs, or in a separate call.\n",
            "  warnings.warn(\n",
            "/usr/local/lib/python3.10/dist-packages/torch/utils/checkpoint.py:429: UserWarning: torch.utils.checkpoint: please pass in use_reentrant=True or use_reentrant=False explicitly. The default value of use_reentrant will be updated to be False in the future. To maintain current behavior, pass use_reentrant=True. It is recommended that you use use_reentrant=False. Refer to docs for more details on the differences between the two variants.\n",
            "  warnings.warn(\n",
            "/usr/local/lib/python3.10/dist-packages/transformers/models/wav2vec2/processing_wav2vec2.py:155: UserWarning: `as_target_processor` is deprecated and will be removed in v5 of Transformers. You can process your labels by using the argument `text` of the regular `__call__` method (either in the same call as your audio inputs, or in a separate call.\n",
            "  warnings.warn(\n",
            "/usr/local/lib/python3.10/dist-packages/torch/utils/checkpoint.py:429: UserWarning: torch.utils.checkpoint: please pass in use_reentrant=True or use_reentrant=False explicitly. The default value of use_reentrant will be updated to be False in the future. To maintain current behavior, pass use_reentrant=True. It is recommended that you use use_reentrant=False. Refer to docs for more details on the differences between the two variants.\n",
            "  warnings.warn(\n",
            "/usr/local/lib/python3.10/dist-packages/transformers/models/wav2vec2/processing_wav2vec2.py:155: UserWarning: `as_target_processor` is deprecated and will be removed in v5 of Transformers. You can process your labels by using the argument `text` of the regular `__call__` method (either in the same call as your audio inputs, or in a separate call.\n",
            "  warnings.warn(\n",
            "/usr/local/lib/python3.10/dist-packages/torch/utils/checkpoint.py:429: UserWarning: torch.utils.checkpoint: please pass in use_reentrant=True or use_reentrant=False explicitly. The default value of use_reentrant will be updated to be False in the future. To maintain current behavior, pass use_reentrant=True. It is recommended that you use use_reentrant=False. Refer to docs for more details on the differences between the two variants.\n",
            "  warnings.warn(\n",
            "/usr/local/lib/python3.10/dist-packages/transformers/models/wav2vec2/processing_wav2vec2.py:155: UserWarning: `as_target_processor` is deprecated and will be removed in v5 of Transformers. You can process your labels by using the argument `text` of the regular `__call__` method (either in the same call as your audio inputs, or in a separate call.\n",
            "  warnings.warn(\n",
            "/usr/local/lib/python3.10/dist-packages/torch/utils/checkpoint.py:429: UserWarning: torch.utils.checkpoint: please pass in use_reentrant=True or use_reentrant=False explicitly. The default value of use_reentrant will be updated to be False in the future. To maintain current behavior, pass use_reentrant=True. It is recommended that you use use_reentrant=False. Refer to docs for more details on the differences between the two variants.\n",
            "  warnings.warn(\n",
            "/usr/local/lib/python3.10/dist-packages/transformers/models/wav2vec2/processing_wav2vec2.py:155: UserWarning: `as_target_processor` is deprecated and will be removed in v5 of Transformers. You can process your labels by using the argument `text` of the regular `__call__` method (either in the same call as your audio inputs, or in a separate call.\n",
            "  warnings.warn(\n",
            "/usr/local/lib/python3.10/dist-packages/torch/utils/checkpoint.py:429: UserWarning: torch.utils.checkpoint: please pass in use_reentrant=True or use_reentrant=False explicitly. The default value of use_reentrant will be updated to be False in the future. To maintain current behavior, pass use_reentrant=True. It is recommended that you use use_reentrant=False. Refer to docs for more details on the differences between the two variants.\n",
            "  warnings.warn(\n",
            "/usr/local/lib/python3.10/dist-packages/transformers/models/wav2vec2/processing_wav2vec2.py:155: UserWarning: `as_target_processor` is deprecated and will be removed in v5 of Transformers. You can process your labels by using the argument `text` of the regular `__call__` method (either in the same call as your audio inputs, or in a separate call.\n",
            "  warnings.warn(\n",
            "/usr/local/lib/python3.10/dist-packages/torch/utils/checkpoint.py:429: UserWarning: torch.utils.checkpoint: please pass in use_reentrant=True or use_reentrant=False explicitly. The default value of use_reentrant will be updated to be False in the future. To maintain current behavior, pass use_reentrant=True. It is recommended that you use use_reentrant=False. Refer to docs for more details on the differences between the two variants.\n",
            "  warnings.warn(\n",
            "/usr/local/lib/python3.10/dist-packages/transformers/models/wav2vec2/processing_wav2vec2.py:155: UserWarning: `as_target_processor` is deprecated and will be removed in v5 of Transformers. You can process your labels by using the argument `text` of the regular `__call__` method (either in the same call as your audio inputs, or in a separate call.\n",
            "  warnings.warn(\n",
            "/usr/local/lib/python3.10/dist-packages/torch/utils/checkpoint.py:429: UserWarning: torch.utils.checkpoint: please pass in use_reentrant=True or use_reentrant=False explicitly. The default value of use_reentrant will be updated to be False in the future. To maintain current behavior, pass use_reentrant=True. It is recommended that you use use_reentrant=False. Refer to docs for more details on the differences between the two variants.\n",
            "  warnings.warn(\n"
          ]
        },
        {
          "output_type": "display_data",
          "data": {
            "text/plain": [
              "<IPython.core.display.HTML object>"
            ],
            "text/html": [
              "\n",
              "    <div>\n",
              "      \n",
              "      <progress value='1400' max='1400' style='width:300px; height:20px; vertical-align: middle;'></progress>\n",
              "      [1400/1400 43:45, Epoch 49/50]\n",
              "    </div>\n",
              "    <table border=\"1\" class=\"dataframe\">\n",
              "  <thead>\n",
              " <tr style=\"text-align: left;\">\n",
              "      <th>Step</th>\n",
              "      <th>Training Loss</th>\n",
              "      <th>Validation Loss</th>\n",
              "      <th>Wer</th>\n",
              "    </tr>\n",
              "  </thead>\n",
              "  <tbody>\n",
              "    <tr>\n",
              "      <td>100</td>\n",
              "      <td>3042.873800</td>\n",
              "      <td>422.193817</td>\n",
              "      <td>0.951782</td>\n",
              "    </tr>\n",
              "    <tr>\n",
              "      <td>200</td>\n",
              "      <td>362.155400</td>\n",
              "      <td>231.748596</td>\n",
              "      <td>1.000000</td>\n",
              "    </tr>\n",
              "    <tr>\n",
              "      <td>300</td>\n",
              "      <td>208.092000</td>\n",
              "      <td>196.419373</td>\n",
              "      <td>0.995807</td>\n",
              "    </tr>\n",
              "    <tr>\n",
              "      <td>400</td>\n",
              "      <td>189.135400</td>\n",
              "      <td>211.622314</td>\n",
              "      <td>0.935010</td>\n",
              "    </tr>\n",
              "    <tr>\n",
              "      <td>500</td>\n",
              "      <td>163.635500</td>\n",
              "      <td>235.320129</td>\n",
              "      <td>0.918239</td>\n",
              "    </tr>\n",
              "    <tr>\n",
              "      <td>600</td>\n",
              "      <td>140.795900</td>\n",
              "      <td>256.402802</td>\n",
              "      <td>0.953878</td>\n",
              "    </tr>\n",
              "    <tr>\n",
              "      <td>700</td>\n",
              "      <td>115.550600</td>\n",
              "      <td>311.456207</td>\n",
              "      <td>1.014675</td>\n",
              "    </tr>\n",
              "    <tr>\n",
              "      <td>800</td>\n",
              "      <td>93.662900</td>\n",
              "      <td>304.088196</td>\n",
              "      <td>1.224319</td>\n",
              "    </tr>\n",
              "    <tr>\n",
              "      <td>900</td>\n",
              "      <td>78.969400</td>\n",
              "      <td>354.541504</td>\n",
              "      <td>1.127883</td>\n",
              "    </tr>\n",
              "    <tr>\n",
              "      <td>1000</td>\n",
              "      <td>67.415100</td>\n",
              "      <td>423.617798</td>\n",
              "      <td>1.085954</td>\n",
              "    </tr>\n",
              "    <tr>\n",
              "      <td>1100</td>\n",
              "      <td>55.147100</td>\n",
              "      <td>468.319244</td>\n",
              "      <td>1.092243</td>\n",
              "    </tr>\n",
              "    <tr>\n",
              "      <td>1200</td>\n",
              "      <td>55.800100</td>\n",
              "      <td>408.803864</td>\n",
              "      <td>1.083857</td>\n",
              "    </tr>\n",
              "    <tr>\n",
              "      <td>1300</td>\n",
              "      <td>46.920800</td>\n",
              "      <td>524.136719</td>\n",
              "      <td>1.064990</td>\n",
              "    </tr>\n",
              "    <tr>\n",
              "      <td>1400</td>\n",
              "      <td>43.726400</td>\n",
              "      <td>507.524780</td>\n",
              "      <td>1.085954</td>\n",
              "    </tr>\n",
              "  </tbody>\n",
              "</table><p>"
            ]
          },
          "metadata": {}
        },
        {
          "output_type": "stream",
          "name": "stderr",
          "text": [
            "/usr/local/lib/python3.10/dist-packages/transformers/models/wav2vec2/processing_wav2vec2.py:155: UserWarning: `as_target_processor` is deprecated and will be removed in v5 of Transformers. You can process your labels by using the argument `text` of the regular `__call__` method (either in the same call as your audio inputs, or in a separate call.\n",
            "  warnings.warn(\n",
            "/usr/local/lib/python3.10/dist-packages/torch/utils/checkpoint.py:429: UserWarning: torch.utils.checkpoint: please pass in use_reentrant=True or use_reentrant=False explicitly. The default value of use_reentrant will be updated to be False in the future. To maintain current behavior, pass use_reentrant=True. It is recommended that you use use_reentrant=False. Refer to docs for more details on the differences between the two variants.\n",
            "  warnings.warn(\n"
          ]
        },
        {
          "output_type": "execute_result",
          "data": {
            "text/plain": [
              "TrainOutput(global_step=1400, training_loss=333.1342972237723, metrics={'train_runtime': 2627.088, 'train_samples_per_second': 8.641, 'train_steps_per_second': 0.533, 'total_flos': 2.46684733278004e+18, 'train_loss': 333.1342972237723, 'epoch': 49.12})"
            ]
          },
          "metadata": {},
          "execution_count": 56
        }
      ],
      "source": [
        "torch.cuda.empty_cache()\n",
        "trainer.train()"
      ]
    },
    {
      "cell_type": "code",
      "execution_count": null,
      "metadata": {
        "id": "ArG1Thf6NBWm",
        "colab": {
          "base_uri": "https://localhost:8080/",
          "height": 35
        },
        "outputId": "5b0a8a04-9b53-4fba-9a87-f405876d15ff"
      },
      "outputs": [
        {
          "output_type": "execute_result",
          "data": {
            "text/plain": [
              "'https://huggingface.co/Roxysun/cs2fi_wav2vec2-large-xls-r-300m-czech-colab/tree/main/'"
            ],
            "application/vnd.google.colaboratory.intrinsic+json": {
              "type": "string"
            }
          },
          "metadata": {},
          "execution_count": 57
        }
      ],
      "source": [
        "# upload the model after finetune\n",
        "trainer.push_to_hub(repo_name)"
      ]
    }
  ],
  "metadata": {
    "accelerator": "GPU",
    "colab": {
      "provenance": [],
      "include_colab_link": true
    },
    "kernelspec": {
      "display_name": "Python 3",
      "name": "python3"
    },
    "widgets": {
      "application/vnd.jupyter.widget-state+json": {
        "2503e85407604caebd8dc0b574700da0": {
          "model_module": "@jupyter-widgets/controls",
          "model_name": "VBoxModel",
          "model_module_version": "1.5.0",
          "state": {
            "_dom_classes": [],
            "_model_module": "@jupyter-widgets/controls",
            "_model_module_version": "1.5.0",
            "_model_name": "VBoxModel",
            "_view_count": null,
            "_view_module": "@jupyter-widgets/controls",
            "_view_module_version": "1.5.0",
            "_view_name": "VBoxView",
            "box_style": "",
            "children": [
              "IPY_MODEL_d64a253177294154b9962d01844a33ea",
              "IPY_MODEL_3afcb0e858224db1b5cba2bddfa99358",
              "IPY_MODEL_3747374af98f424682002c13f64f6b54",
              "IPY_MODEL_a8b3d22b7dd04e23a8813ce909e76b19"
            ],
            "layout": "IPY_MODEL_890f67dd72fc4ef98fdbb94b31f4658f"
          }
        },
        "7a73cbadd7b4412081630bd5fd078679": {
          "model_module": "@jupyter-widgets/controls",
          "model_name": "HTMLModel",
          "model_module_version": "1.5.0",
          "state": {
            "_dom_classes": [],
            "_model_module": "@jupyter-widgets/controls",
            "_model_module_version": "1.5.0",
            "_model_name": "HTMLModel",
            "_view_count": null,
            "_view_module": "@jupyter-widgets/controls",
            "_view_module_version": "1.5.0",
            "_view_name": "HTMLView",
            "description": "",
            "description_tooltip": null,
            "layout": "IPY_MODEL_12e2eb90a4444092b3621908c9d6f274",
            "placeholder": "​",
            "style": "IPY_MODEL_06e435711239489fa69023fb17171149",
            "value": "<center> <img\nsrc=https://huggingface.co/front/assets/huggingface_logo-noborder.svg\nalt='Hugging Face'> <br> Copy a token from <a\nhref=\"https://huggingface.co/settings/tokens\" target=\"_blank\">your Hugging Face\ntokens page</a> and paste it below. <br> Immediately click login after copying\nyour token or it might be stored in plain text in this notebook file. </center>"
          }
        },
        "8247cc58fd9b47029f5e33cf0d8bef71": {
          "model_module": "@jupyter-widgets/controls",
          "model_name": "PasswordModel",
          "model_module_version": "1.5.0",
          "state": {
            "_dom_classes": [],
            "_model_module": "@jupyter-widgets/controls",
            "_model_module_version": "1.5.0",
            "_model_name": "PasswordModel",
            "_view_count": null,
            "_view_module": "@jupyter-widgets/controls",
            "_view_module_version": "1.5.0",
            "_view_name": "PasswordView",
            "continuous_update": true,
            "description": "Token:",
            "description_tooltip": null,
            "disabled": false,
            "layout": "IPY_MODEL_f68d50f8ab7b4726a8e557d1e66b29e9",
            "placeholder": "​",
            "style": "IPY_MODEL_f17416b8f2c643e380d196cf03e3cc35",
            "value": ""
          }
        },
        "f0a949d6b1244c15a3cbfdbcb580677a": {
          "model_module": "@jupyter-widgets/controls",
          "model_name": "CheckboxModel",
          "model_module_version": "1.5.0",
          "state": {
            "_dom_classes": [],
            "_model_module": "@jupyter-widgets/controls",
            "_model_module_version": "1.5.0",
            "_model_name": "CheckboxModel",
            "_view_count": null,
            "_view_module": "@jupyter-widgets/controls",
            "_view_module_version": "1.5.0",
            "_view_name": "CheckboxView",
            "description": "Add token as git credential?",
            "description_tooltip": null,
            "disabled": false,
            "indent": true,
            "layout": "IPY_MODEL_fc686127b618426e89016195cf6e35c5",
            "style": "IPY_MODEL_02be5c623a9845b7b4eab806c95054f4",
            "value": true
          }
        },
        "469f9de943444df7b5d7c809982d602e": {
          "model_module": "@jupyter-widgets/controls",
          "model_name": "ButtonModel",
          "model_module_version": "1.5.0",
          "state": {
            "_dom_classes": [],
            "_model_module": "@jupyter-widgets/controls",
            "_model_module_version": "1.5.0",
            "_model_name": "ButtonModel",
            "_view_count": null,
            "_view_module": "@jupyter-widgets/controls",
            "_view_module_version": "1.5.0",
            "_view_name": "ButtonView",
            "button_style": "",
            "description": "Login",
            "disabled": false,
            "icon": "",
            "layout": "IPY_MODEL_42bedd39e31b495b88ec96da20f25e5d",
            "style": "IPY_MODEL_8159de6fdecf4999bb26bf8bd883b6dd",
            "tooltip": ""
          }
        },
        "363e8f22cd884e0aa0336bdd24ac913b": {
          "model_module": "@jupyter-widgets/controls",
          "model_name": "HTMLModel",
          "model_module_version": "1.5.0",
          "state": {
            "_dom_classes": [],
            "_model_module": "@jupyter-widgets/controls",
            "_model_module_version": "1.5.0",
            "_model_name": "HTMLModel",
            "_view_count": null,
            "_view_module": "@jupyter-widgets/controls",
            "_view_module_version": "1.5.0",
            "_view_name": "HTMLView",
            "description": "",
            "description_tooltip": null,
            "layout": "IPY_MODEL_ebfd6906dd644eef89bb0a430ffc18c8",
            "placeholder": "​",
            "style": "IPY_MODEL_f5ddfbfcb6ab4576994e78090992a41a",
            "value": "\n<b>Pro Tip:</b> If you don't already have one, you can create a dedicated\n'notebooks' token with 'write' access, that you can then easily reuse for all\nnotebooks. </center>"
          }
        },
        "890f67dd72fc4ef98fdbb94b31f4658f": {
          "model_module": "@jupyter-widgets/base",
          "model_name": "LayoutModel",
          "model_module_version": "1.2.0",
          "state": {
            "_model_module": "@jupyter-widgets/base",
            "_model_module_version": "1.2.0",
            "_model_name": "LayoutModel",
            "_view_count": null,
            "_view_module": "@jupyter-widgets/base",
            "_view_module_version": "1.2.0",
            "_view_name": "LayoutView",
            "align_content": null,
            "align_items": "center",
            "align_self": null,
            "border": null,
            "bottom": null,
            "display": "flex",
            "flex": null,
            "flex_flow": "column",
            "grid_area": null,
            "grid_auto_columns": null,
            "grid_auto_flow": null,
            "grid_auto_rows": null,
            "grid_column": null,
            "grid_gap": null,
            "grid_row": null,
            "grid_template_areas": null,
            "grid_template_columns": null,
            "grid_template_rows": null,
            "height": null,
            "justify_content": null,
            "justify_items": null,
            "left": null,
            "margin": null,
            "max_height": null,
            "max_width": null,
            "min_height": null,
            "min_width": null,
            "object_fit": null,
            "object_position": null,
            "order": null,
            "overflow": null,
            "overflow_x": null,
            "overflow_y": null,
            "padding": null,
            "right": null,
            "top": null,
            "visibility": null,
            "width": "50%"
          }
        },
        "12e2eb90a4444092b3621908c9d6f274": {
          "model_module": "@jupyter-widgets/base",
          "model_name": "LayoutModel",
          "model_module_version": "1.2.0",
          "state": {
            "_model_module": "@jupyter-widgets/base",
            "_model_module_version": "1.2.0",
            "_model_name": "LayoutModel",
            "_view_count": null,
            "_view_module": "@jupyter-widgets/base",
            "_view_module_version": "1.2.0",
            "_view_name": "LayoutView",
            "align_content": null,
            "align_items": null,
            "align_self": null,
            "border": null,
            "bottom": null,
            "display": null,
            "flex": null,
            "flex_flow": null,
            "grid_area": null,
            "grid_auto_columns": null,
            "grid_auto_flow": null,
            "grid_auto_rows": null,
            "grid_column": null,
            "grid_gap": null,
            "grid_row": null,
            "grid_template_areas": null,
            "grid_template_columns": null,
            "grid_template_rows": null,
            "height": null,
            "justify_content": null,
            "justify_items": null,
            "left": null,
            "margin": null,
            "max_height": null,
            "max_width": null,
            "min_height": null,
            "min_width": null,
            "object_fit": null,
            "object_position": null,
            "order": null,
            "overflow": null,
            "overflow_x": null,
            "overflow_y": null,
            "padding": null,
            "right": null,
            "top": null,
            "visibility": null,
            "width": null
          }
        },
        "06e435711239489fa69023fb17171149": {
          "model_module": "@jupyter-widgets/controls",
          "model_name": "DescriptionStyleModel",
          "model_module_version": "1.5.0",
          "state": {
            "_model_module": "@jupyter-widgets/controls",
            "_model_module_version": "1.5.0",
            "_model_name": "DescriptionStyleModel",
            "_view_count": null,
            "_view_module": "@jupyter-widgets/base",
            "_view_module_version": "1.2.0",
            "_view_name": "StyleView",
            "description_width": ""
          }
        },
        "f68d50f8ab7b4726a8e557d1e66b29e9": {
          "model_module": "@jupyter-widgets/base",
          "model_name": "LayoutModel",
          "model_module_version": "1.2.0",
          "state": {
            "_model_module": "@jupyter-widgets/base",
            "_model_module_version": "1.2.0",
            "_model_name": "LayoutModel",
            "_view_count": null,
            "_view_module": "@jupyter-widgets/base",
            "_view_module_version": "1.2.0",
            "_view_name": "LayoutView",
            "align_content": null,
            "align_items": null,
            "align_self": null,
            "border": null,
            "bottom": null,
            "display": null,
            "flex": null,
            "flex_flow": null,
            "grid_area": null,
            "grid_auto_columns": null,
            "grid_auto_flow": null,
            "grid_auto_rows": null,
            "grid_column": null,
            "grid_gap": null,
            "grid_row": null,
            "grid_template_areas": null,
            "grid_template_columns": null,
            "grid_template_rows": null,
            "height": null,
            "justify_content": null,
            "justify_items": null,
            "left": null,
            "margin": null,
            "max_height": null,
            "max_width": null,
            "min_height": null,
            "min_width": null,
            "object_fit": null,
            "object_position": null,
            "order": null,
            "overflow": null,
            "overflow_x": null,
            "overflow_y": null,
            "padding": null,
            "right": null,
            "top": null,
            "visibility": null,
            "width": null
          }
        },
        "f17416b8f2c643e380d196cf03e3cc35": {
          "model_module": "@jupyter-widgets/controls",
          "model_name": "DescriptionStyleModel",
          "model_module_version": "1.5.0",
          "state": {
            "_model_module": "@jupyter-widgets/controls",
            "_model_module_version": "1.5.0",
            "_model_name": "DescriptionStyleModel",
            "_view_count": null,
            "_view_module": "@jupyter-widgets/base",
            "_view_module_version": "1.2.0",
            "_view_name": "StyleView",
            "description_width": ""
          }
        },
        "fc686127b618426e89016195cf6e35c5": {
          "model_module": "@jupyter-widgets/base",
          "model_name": "LayoutModel",
          "model_module_version": "1.2.0",
          "state": {
            "_model_module": "@jupyter-widgets/base",
            "_model_module_version": "1.2.0",
            "_model_name": "LayoutModel",
            "_view_count": null,
            "_view_module": "@jupyter-widgets/base",
            "_view_module_version": "1.2.0",
            "_view_name": "LayoutView",
            "align_content": null,
            "align_items": null,
            "align_self": null,
            "border": null,
            "bottom": null,
            "display": null,
            "flex": null,
            "flex_flow": null,
            "grid_area": null,
            "grid_auto_columns": null,
            "grid_auto_flow": null,
            "grid_auto_rows": null,
            "grid_column": null,
            "grid_gap": null,
            "grid_row": null,
            "grid_template_areas": null,
            "grid_template_columns": null,
            "grid_template_rows": null,
            "height": null,
            "justify_content": null,
            "justify_items": null,
            "left": null,
            "margin": null,
            "max_height": null,
            "max_width": null,
            "min_height": null,
            "min_width": null,
            "object_fit": null,
            "object_position": null,
            "order": null,
            "overflow": null,
            "overflow_x": null,
            "overflow_y": null,
            "padding": null,
            "right": null,
            "top": null,
            "visibility": null,
            "width": null
          }
        },
        "02be5c623a9845b7b4eab806c95054f4": {
          "model_module": "@jupyter-widgets/controls",
          "model_name": "DescriptionStyleModel",
          "model_module_version": "1.5.0",
          "state": {
            "_model_module": "@jupyter-widgets/controls",
            "_model_module_version": "1.5.0",
            "_model_name": "DescriptionStyleModel",
            "_view_count": null,
            "_view_module": "@jupyter-widgets/base",
            "_view_module_version": "1.2.0",
            "_view_name": "StyleView",
            "description_width": ""
          }
        },
        "42bedd39e31b495b88ec96da20f25e5d": {
          "model_module": "@jupyter-widgets/base",
          "model_name": "LayoutModel",
          "model_module_version": "1.2.0",
          "state": {
            "_model_module": "@jupyter-widgets/base",
            "_model_module_version": "1.2.0",
            "_model_name": "LayoutModel",
            "_view_count": null,
            "_view_module": "@jupyter-widgets/base",
            "_view_module_version": "1.2.0",
            "_view_name": "LayoutView",
            "align_content": null,
            "align_items": null,
            "align_self": null,
            "border": null,
            "bottom": null,
            "display": null,
            "flex": null,
            "flex_flow": null,
            "grid_area": null,
            "grid_auto_columns": null,
            "grid_auto_flow": null,
            "grid_auto_rows": null,
            "grid_column": null,
            "grid_gap": null,
            "grid_row": null,
            "grid_template_areas": null,
            "grid_template_columns": null,
            "grid_template_rows": null,
            "height": null,
            "justify_content": null,
            "justify_items": null,
            "left": null,
            "margin": null,
            "max_height": null,
            "max_width": null,
            "min_height": null,
            "min_width": null,
            "object_fit": null,
            "object_position": null,
            "order": null,
            "overflow": null,
            "overflow_x": null,
            "overflow_y": null,
            "padding": null,
            "right": null,
            "top": null,
            "visibility": null,
            "width": null
          }
        },
        "8159de6fdecf4999bb26bf8bd883b6dd": {
          "model_module": "@jupyter-widgets/controls",
          "model_name": "ButtonStyleModel",
          "model_module_version": "1.5.0",
          "state": {
            "_model_module": "@jupyter-widgets/controls",
            "_model_module_version": "1.5.0",
            "_model_name": "ButtonStyleModel",
            "_view_count": null,
            "_view_module": "@jupyter-widgets/base",
            "_view_module_version": "1.2.0",
            "_view_name": "StyleView",
            "button_color": null,
            "font_weight": ""
          }
        },
        "ebfd6906dd644eef89bb0a430ffc18c8": {
          "model_module": "@jupyter-widgets/base",
          "model_name": "LayoutModel",
          "model_module_version": "1.2.0",
          "state": {
            "_model_module": "@jupyter-widgets/base",
            "_model_module_version": "1.2.0",
            "_model_name": "LayoutModel",
            "_view_count": null,
            "_view_module": "@jupyter-widgets/base",
            "_view_module_version": "1.2.0",
            "_view_name": "LayoutView",
            "align_content": null,
            "align_items": null,
            "align_self": null,
            "border": null,
            "bottom": null,
            "display": null,
            "flex": null,
            "flex_flow": null,
            "grid_area": null,
            "grid_auto_columns": null,
            "grid_auto_flow": null,
            "grid_auto_rows": null,
            "grid_column": null,
            "grid_gap": null,
            "grid_row": null,
            "grid_template_areas": null,
            "grid_template_columns": null,
            "grid_template_rows": null,
            "height": null,
            "justify_content": null,
            "justify_items": null,
            "left": null,
            "margin": null,
            "max_height": null,
            "max_width": null,
            "min_height": null,
            "min_width": null,
            "object_fit": null,
            "object_position": null,
            "order": null,
            "overflow": null,
            "overflow_x": null,
            "overflow_y": null,
            "padding": null,
            "right": null,
            "top": null,
            "visibility": null,
            "width": null
          }
        },
        "f5ddfbfcb6ab4576994e78090992a41a": {
          "model_module": "@jupyter-widgets/controls",
          "model_name": "DescriptionStyleModel",
          "model_module_version": "1.5.0",
          "state": {
            "_model_module": "@jupyter-widgets/controls",
            "_model_module_version": "1.5.0",
            "_model_name": "DescriptionStyleModel",
            "_view_count": null,
            "_view_module": "@jupyter-widgets/base",
            "_view_module_version": "1.2.0",
            "_view_name": "StyleView",
            "description_width": ""
          }
        },
        "1df0daa31d794784863816383affdb67": {
          "model_module": "@jupyter-widgets/controls",
          "model_name": "LabelModel",
          "model_module_version": "1.5.0",
          "state": {
            "_dom_classes": [],
            "_model_module": "@jupyter-widgets/controls",
            "_model_module_version": "1.5.0",
            "_model_name": "LabelModel",
            "_view_count": null,
            "_view_module": "@jupyter-widgets/controls",
            "_view_module_version": "1.5.0",
            "_view_name": "LabelView",
            "description": "",
            "description_tooltip": null,
            "layout": "IPY_MODEL_23e80f5e268643a688c5999185cc14d5",
            "placeholder": "​",
            "style": "IPY_MODEL_0d26086c611f4260883782436b80901f",
            "value": "Connecting..."
          }
        },
        "23e80f5e268643a688c5999185cc14d5": {
          "model_module": "@jupyter-widgets/base",
          "model_name": "LayoutModel",
          "model_module_version": "1.2.0",
          "state": {
            "_model_module": "@jupyter-widgets/base",
            "_model_module_version": "1.2.0",
            "_model_name": "LayoutModel",
            "_view_count": null,
            "_view_module": "@jupyter-widgets/base",
            "_view_module_version": "1.2.0",
            "_view_name": "LayoutView",
            "align_content": null,
            "align_items": null,
            "align_self": null,
            "border": null,
            "bottom": null,
            "display": null,
            "flex": null,
            "flex_flow": null,
            "grid_area": null,
            "grid_auto_columns": null,
            "grid_auto_flow": null,
            "grid_auto_rows": null,
            "grid_column": null,
            "grid_gap": null,
            "grid_row": null,
            "grid_template_areas": null,
            "grid_template_columns": null,
            "grid_template_rows": null,
            "height": null,
            "justify_content": null,
            "justify_items": null,
            "left": null,
            "margin": null,
            "max_height": null,
            "max_width": null,
            "min_height": null,
            "min_width": null,
            "object_fit": null,
            "object_position": null,
            "order": null,
            "overflow": null,
            "overflow_x": null,
            "overflow_y": null,
            "padding": null,
            "right": null,
            "top": null,
            "visibility": null,
            "width": null
          }
        },
        "0d26086c611f4260883782436b80901f": {
          "model_module": "@jupyter-widgets/controls",
          "model_name": "DescriptionStyleModel",
          "model_module_version": "1.5.0",
          "state": {
            "_model_module": "@jupyter-widgets/controls",
            "_model_module_version": "1.5.0",
            "_model_name": "DescriptionStyleModel",
            "_view_count": null,
            "_view_module": "@jupyter-widgets/base",
            "_view_module_version": "1.2.0",
            "_view_name": "StyleView",
            "description_width": ""
          }
        },
        "d64a253177294154b9962d01844a33ea": {
          "model_module": "@jupyter-widgets/controls",
          "model_name": "LabelModel",
          "model_module_version": "1.5.0",
          "state": {
            "_dom_classes": [],
            "_model_module": "@jupyter-widgets/controls",
            "_model_module_version": "1.5.0",
            "_model_name": "LabelModel",
            "_view_count": null,
            "_view_module": "@jupyter-widgets/controls",
            "_view_module_version": "1.5.0",
            "_view_name": "LabelView",
            "description": "",
            "description_tooltip": null,
            "layout": "IPY_MODEL_d4c98c07b7d04a739a44767cd250def8",
            "placeholder": "​",
            "style": "IPY_MODEL_a6586415fa8042ceb51c5cf43e895016",
            "value": "Token is valid (permission: write)."
          }
        },
        "3afcb0e858224db1b5cba2bddfa99358": {
          "model_module": "@jupyter-widgets/controls",
          "model_name": "LabelModel",
          "model_module_version": "1.5.0",
          "state": {
            "_dom_classes": [],
            "_model_module": "@jupyter-widgets/controls",
            "_model_module_version": "1.5.0",
            "_model_name": "LabelModel",
            "_view_count": null,
            "_view_module": "@jupyter-widgets/controls",
            "_view_module_version": "1.5.0",
            "_view_name": "LabelView",
            "description": "",
            "description_tooltip": null,
            "layout": "IPY_MODEL_8a2996fa51a94a39ad8da91c1a271cf8",
            "placeholder": "​",
            "style": "IPY_MODEL_4ad65c4ae2d449d69bcb98eea1c7d25a",
            "value": "Your token has been saved in your configured git credential helpers (store)."
          }
        },
        "3747374af98f424682002c13f64f6b54": {
          "model_module": "@jupyter-widgets/controls",
          "model_name": "LabelModel",
          "model_module_version": "1.5.0",
          "state": {
            "_dom_classes": [],
            "_model_module": "@jupyter-widgets/controls",
            "_model_module_version": "1.5.0",
            "_model_name": "LabelModel",
            "_view_count": null,
            "_view_module": "@jupyter-widgets/controls",
            "_view_module_version": "1.5.0",
            "_view_name": "LabelView",
            "description": "",
            "description_tooltip": null,
            "layout": "IPY_MODEL_91e7c8856119435ab374bd88880e9837",
            "placeholder": "​",
            "style": "IPY_MODEL_fce3a124486f4656b09b7c97719e8d50",
            "value": "Your token has been saved to /root/.cache/huggingface/token"
          }
        },
        "a8b3d22b7dd04e23a8813ce909e76b19": {
          "model_module": "@jupyter-widgets/controls",
          "model_name": "LabelModel",
          "model_module_version": "1.5.0",
          "state": {
            "_dom_classes": [],
            "_model_module": "@jupyter-widgets/controls",
            "_model_module_version": "1.5.0",
            "_model_name": "LabelModel",
            "_view_count": null,
            "_view_module": "@jupyter-widgets/controls",
            "_view_module_version": "1.5.0",
            "_view_name": "LabelView",
            "description": "",
            "description_tooltip": null,
            "layout": "IPY_MODEL_fa999ba9770f43a7b7578cbb32ff5507",
            "placeholder": "​",
            "style": "IPY_MODEL_9100a1b758024305bb610085a24d7f4f",
            "value": "Login successful"
          }
        },
        "d4c98c07b7d04a739a44767cd250def8": {
          "model_module": "@jupyter-widgets/base",
          "model_name": "LayoutModel",
          "model_module_version": "1.2.0",
          "state": {
            "_model_module": "@jupyter-widgets/base",
            "_model_module_version": "1.2.0",
            "_model_name": "LayoutModel",
            "_view_count": null,
            "_view_module": "@jupyter-widgets/base",
            "_view_module_version": "1.2.0",
            "_view_name": "LayoutView",
            "align_content": null,
            "align_items": null,
            "align_self": null,
            "border": null,
            "bottom": null,
            "display": null,
            "flex": null,
            "flex_flow": null,
            "grid_area": null,
            "grid_auto_columns": null,
            "grid_auto_flow": null,
            "grid_auto_rows": null,
            "grid_column": null,
            "grid_gap": null,
            "grid_row": null,
            "grid_template_areas": null,
            "grid_template_columns": null,
            "grid_template_rows": null,
            "height": null,
            "justify_content": null,
            "justify_items": null,
            "left": null,
            "margin": null,
            "max_height": null,
            "max_width": null,
            "min_height": null,
            "min_width": null,
            "object_fit": null,
            "object_position": null,
            "order": null,
            "overflow": null,
            "overflow_x": null,
            "overflow_y": null,
            "padding": null,
            "right": null,
            "top": null,
            "visibility": null,
            "width": null
          }
        },
        "a6586415fa8042ceb51c5cf43e895016": {
          "model_module": "@jupyter-widgets/controls",
          "model_name": "DescriptionStyleModel",
          "model_module_version": "1.5.0",
          "state": {
            "_model_module": "@jupyter-widgets/controls",
            "_model_module_version": "1.5.0",
            "_model_name": "DescriptionStyleModel",
            "_view_count": null,
            "_view_module": "@jupyter-widgets/base",
            "_view_module_version": "1.2.0",
            "_view_name": "StyleView",
            "description_width": ""
          }
        },
        "8a2996fa51a94a39ad8da91c1a271cf8": {
          "model_module": "@jupyter-widgets/base",
          "model_name": "LayoutModel",
          "model_module_version": "1.2.0",
          "state": {
            "_model_module": "@jupyter-widgets/base",
            "_model_module_version": "1.2.0",
            "_model_name": "LayoutModel",
            "_view_count": null,
            "_view_module": "@jupyter-widgets/base",
            "_view_module_version": "1.2.0",
            "_view_name": "LayoutView",
            "align_content": null,
            "align_items": null,
            "align_self": null,
            "border": null,
            "bottom": null,
            "display": null,
            "flex": null,
            "flex_flow": null,
            "grid_area": null,
            "grid_auto_columns": null,
            "grid_auto_flow": null,
            "grid_auto_rows": null,
            "grid_column": null,
            "grid_gap": null,
            "grid_row": null,
            "grid_template_areas": null,
            "grid_template_columns": null,
            "grid_template_rows": null,
            "height": null,
            "justify_content": null,
            "justify_items": null,
            "left": null,
            "margin": null,
            "max_height": null,
            "max_width": null,
            "min_height": null,
            "min_width": null,
            "object_fit": null,
            "object_position": null,
            "order": null,
            "overflow": null,
            "overflow_x": null,
            "overflow_y": null,
            "padding": null,
            "right": null,
            "top": null,
            "visibility": null,
            "width": null
          }
        },
        "4ad65c4ae2d449d69bcb98eea1c7d25a": {
          "model_module": "@jupyter-widgets/controls",
          "model_name": "DescriptionStyleModel",
          "model_module_version": "1.5.0",
          "state": {
            "_model_module": "@jupyter-widgets/controls",
            "_model_module_version": "1.5.0",
            "_model_name": "DescriptionStyleModel",
            "_view_count": null,
            "_view_module": "@jupyter-widgets/base",
            "_view_module_version": "1.2.0",
            "_view_name": "StyleView",
            "description_width": ""
          }
        },
        "91e7c8856119435ab374bd88880e9837": {
          "model_module": "@jupyter-widgets/base",
          "model_name": "LayoutModel",
          "model_module_version": "1.2.0",
          "state": {
            "_model_module": "@jupyter-widgets/base",
            "_model_module_version": "1.2.0",
            "_model_name": "LayoutModel",
            "_view_count": null,
            "_view_module": "@jupyter-widgets/base",
            "_view_module_version": "1.2.0",
            "_view_name": "LayoutView",
            "align_content": null,
            "align_items": null,
            "align_self": null,
            "border": null,
            "bottom": null,
            "display": null,
            "flex": null,
            "flex_flow": null,
            "grid_area": null,
            "grid_auto_columns": null,
            "grid_auto_flow": null,
            "grid_auto_rows": null,
            "grid_column": null,
            "grid_gap": null,
            "grid_row": null,
            "grid_template_areas": null,
            "grid_template_columns": null,
            "grid_template_rows": null,
            "height": null,
            "justify_content": null,
            "justify_items": null,
            "left": null,
            "margin": null,
            "max_height": null,
            "max_width": null,
            "min_height": null,
            "min_width": null,
            "object_fit": null,
            "object_position": null,
            "order": null,
            "overflow": null,
            "overflow_x": null,
            "overflow_y": null,
            "padding": null,
            "right": null,
            "top": null,
            "visibility": null,
            "width": null
          }
        },
        "fce3a124486f4656b09b7c97719e8d50": {
          "model_module": "@jupyter-widgets/controls",
          "model_name": "DescriptionStyleModel",
          "model_module_version": "1.5.0",
          "state": {
            "_model_module": "@jupyter-widgets/controls",
            "_model_module_version": "1.5.0",
            "_model_name": "DescriptionStyleModel",
            "_view_count": null,
            "_view_module": "@jupyter-widgets/base",
            "_view_module_version": "1.2.0",
            "_view_name": "StyleView",
            "description_width": ""
          }
        },
        "fa999ba9770f43a7b7578cbb32ff5507": {
          "model_module": "@jupyter-widgets/base",
          "model_name": "LayoutModel",
          "model_module_version": "1.2.0",
          "state": {
            "_model_module": "@jupyter-widgets/base",
            "_model_module_version": "1.2.0",
            "_model_name": "LayoutModel",
            "_view_count": null,
            "_view_module": "@jupyter-widgets/base",
            "_view_module_version": "1.2.0",
            "_view_name": "LayoutView",
            "align_content": null,
            "align_items": null,
            "align_self": null,
            "border": null,
            "bottom": null,
            "display": null,
            "flex": null,
            "flex_flow": null,
            "grid_area": null,
            "grid_auto_columns": null,
            "grid_auto_flow": null,
            "grid_auto_rows": null,
            "grid_column": null,
            "grid_gap": null,
            "grid_row": null,
            "grid_template_areas": null,
            "grid_template_columns": null,
            "grid_template_rows": null,
            "height": null,
            "justify_content": null,
            "justify_items": null,
            "left": null,
            "margin": null,
            "max_height": null,
            "max_width": null,
            "min_height": null,
            "min_width": null,
            "object_fit": null,
            "object_position": null,
            "order": null,
            "overflow": null,
            "overflow_x": null,
            "overflow_y": null,
            "padding": null,
            "right": null,
            "top": null,
            "visibility": null,
            "width": null
          }
        },
        "9100a1b758024305bb610085a24d7f4f": {
          "model_module": "@jupyter-widgets/controls",
          "model_name": "DescriptionStyleModel",
          "model_module_version": "1.5.0",
          "state": {
            "_model_module": "@jupyter-widgets/controls",
            "_model_module_version": "1.5.0",
            "_model_name": "DescriptionStyleModel",
            "_view_count": null,
            "_view_module": "@jupyter-widgets/base",
            "_view_module_version": "1.2.0",
            "_view_name": "StyleView",
            "description_width": ""
          }
        },
        "fe1cefb7c2604a3487be639d6de4338f": {
          "model_module": "@jupyter-widgets/controls",
          "model_name": "HBoxModel",
          "model_module_version": "1.5.0",
          "state": {
            "_dom_classes": [],
            "_model_module": "@jupyter-widgets/controls",
            "_model_module_version": "1.5.0",
            "_model_name": "HBoxModel",
            "_view_count": null,
            "_view_module": "@jupyter-widgets/controls",
            "_view_module_version": "1.5.0",
            "_view_name": "HBoxView",
            "box_style": "",
            "children": [
              "IPY_MODEL_f650534265fe4f27b905591a084cda20",
              "IPY_MODEL_1570e25a61634c57b2b106cb81d444f3",
              "IPY_MODEL_8671913331624a6daabf687b12ff88e9"
            ],
            "layout": "IPY_MODEL_a9d99ad9bbfc48cebc3201886f90a68d"
          }
        },
        "f650534265fe4f27b905591a084cda20": {
          "model_module": "@jupyter-widgets/controls",
          "model_name": "HTMLModel",
          "model_module_version": "1.5.0",
          "state": {
            "_dom_classes": [],
            "_model_module": "@jupyter-widgets/controls",
            "_model_module_version": "1.5.0",
            "_model_name": "HTMLModel",
            "_view_count": null,
            "_view_module": "@jupyter-widgets/controls",
            "_view_module_version": "1.5.0",
            "_view_name": "HTMLView",
            "description": "",
            "description_tooltip": null,
            "layout": "IPY_MODEL_367ada4e0b274e368ccd102d5e0fcf27",
            "placeholder": "​",
            "style": "IPY_MODEL_0fdcca4a929849a1bcb1c0235b2c4396",
            "value": "Map: 100%"
          }
        },
        "1570e25a61634c57b2b106cb81d444f3": {
          "model_module": "@jupyter-widgets/controls",
          "model_name": "FloatProgressModel",
          "model_module_version": "1.5.0",
          "state": {
            "_dom_classes": [],
            "_model_module": "@jupyter-widgets/controls",
            "_model_module_version": "1.5.0",
            "_model_name": "FloatProgressModel",
            "_view_count": null,
            "_view_module": "@jupyter-widgets/controls",
            "_view_module_version": "1.5.0",
            "_view_name": "ProgressView",
            "bar_style": "success",
            "description": "",
            "description_tooltip": null,
            "layout": "IPY_MODEL_52cd95bd75574347b1250610e28ea14e",
            "max": 3000,
            "min": 0,
            "orientation": "horizontal",
            "style": "IPY_MODEL_a002ccdcc62d4e95a2f26658bcdfd0d5",
            "value": 3000
          }
        },
        "8671913331624a6daabf687b12ff88e9": {
          "model_module": "@jupyter-widgets/controls",
          "model_name": "HTMLModel",
          "model_module_version": "1.5.0",
          "state": {
            "_dom_classes": [],
            "_model_module": "@jupyter-widgets/controls",
            "_model_module_version": "1.5.0",
            "_model_name": "HTMLModel",
            "_view_count": null,
            "_view_module": "@jupyter-widgets/controls",
            "_view_module_version": "1.5.0",
            "_view_name": "HTMLView",
            "description": "",
            "description_tooltip": null,
            "layout": "IPY_MODEL_e2e78af0637f4abc9ffa5adb9ede05af",
            "placeholder": "​",
            "style": "IPY_MODEL_8b7bac2404de4767aa859da4e1386190",
            "value": " 3000/3000 [00:00&lt;00:00, 57943.05 examples/s]"
          }
        },
        "a9d99ad9bbfc48cebc3201886f90a68d": {
          "model_module": "@jupyter-widgets/base",
          "model_name": "LayoutModel",
          "model_module_version": "1.2.0",
          "state": {
            "_model_module": "@jupyter-widgets/base",
            "_model_module_version": "1.2.0",
            "_model_name": "LayoutModel",
            "_view_count": null,
            "_view_module": "@jupyter-widgets/base",
            "_view_module_version": "1.2.0",
            "_view_name": "LayoutView",
            "align_content": null,
            "align_items": null,
            "align_self": null,
            "border": null,
            "bottom": null,
            "display": null,
            "flex": null,
            "flex_flow": null,
            "grid_area": null,
            "grid_auto_columns": null,
            "grid_auto_flow": null,
            "grid_auto_rows": null,
            "grid_column": null,
            "grid_gap": null,
            "grid_row": null,
            "grid_template_areas": null,
            "grid_template_columns": null,
            "grid_template_rows": null,
            "height": null,
            "justify_content": null,
            "justify_items": null,
            "left": null,
            "margin": null,
            "max_height": null,
            "max_width": null,
            "min_height": null,
            "min_width": null,
            "object_fit": null,
            "object_position": null,
            "order": null,
            "overflow": null,
            "overflow_x": null,
            "overflow_y": null,
            "padding": null,
            "right": null,
            "top": null,
            "visibility": null,
            "width": null
          }
        },
        "367ada4e0b274e368ccd102d5e0fcf27": {
          "model_module": "@jupyter-widgets/base",
          "model_name": "LayoutModel",
          "model_module_version": "1.2.0",
          "state": {
            "_model_module": "@jupyter-widgets/base",
            "_model_module_version": "1.2.0",
            "_model_name": "LayoutModel",
            "_view_count": null,
            "_view_module": "@jupyter-widgets/base",
            "_view_module_version": "1.2.0",
            "_view_name": "LayoutView",
            "align_content": null,
            "align_items": null,
            "align_self": null,
            "border": null,
            "bottom": null,
            "display": null,
            "flex": null,
            "flex_flow": null,
            "grid_area": null,
            "grid_auto_columns": null,
            "grid_auto_flow": null,
            "grid_auto_rows": null,
            "grid_column": null,
            "grid_gap": null,
            "grid_row": null,
            "grid_template_areas": null,
            "grid_template_columns": null,
            "grid_template_rows": null,
            "height": null,
            "justify_content": null,
            "justify_items": null,
            "left": null,
            "margin": null,
            "max_height": null,
            "max_width": null,
            "min_height": null,
            "min_width": null,
            "object_fit": null,
            "object_position": null,
            "order": null,
            "overflow": null,
            "overflow_x": null,
            "overflow_y": null,
            "padding": null,
            "right": null,
            "top": null,
            "visibility": null,
            "width": null
          }
        },
        "0fdcca4a929849a1bcb1c0235b2c4396": {
          "model_module": "@jupyter-widgets/controls",
          "model_name": "DescriptionStyleModel",
          "model_module_version": "1.5.0",
          "state": {
            "_model_module": "@jupyter-widgets/controls",
            "_model_module_version": "1.5.0",
            "_model_name": "DescriptionStyleModel",
            "_view_count": null,
            "_view_module": "@jupyter-widgets/base",
            "_view_module_version": "1.2.0",
            "_view_name": "StyleView",
            "description_width": ""
          }
        },
        "52cd95bd75574347b1250610e28ea14e": {
          "model_module": "@jupyter-widgets/base",
          "model_name": "LayoutModel",
          "model_module_version": "1.2.0",
          "state": {
            "_model_module": "@jupyter-widgets/base",
            "_model_module_version": "1.2.0",
            "_model_name": "LayoutModel",
            "_view_count": null,
            "_view_module": "@jupyter-widgets/base",
            "_view_module_version": "1.2.0",
            "_view_name": "LayoutView",
            "align_content": null,
            "align_items": null,
            "align_self": null,
            "border": null,
            "bottom": null,
            "display": null,
            "flex": null,
            "flex_flow": null,
            "grid_area": null,
            "grid_auto_columns": null,
            "grid_auto_flow": null,
            "grid_auto_rows": null,
            "grid_column": null,
            "grid_gap": null,
            "grid_row": null,
            "grid_template_areas": null,
            "grid_template_columns": null,
            "grid_template_rows": null,
            "height": null,
            "justify_content": null,
            "justify_items": null,
            "left": null,
            "margin": null,
            "max_height": null,
            "max_width": null,
            "min_height": null,
            "min_width": null,
            "object_fit": null,
            "object_position": null,
            "order": null,
            "overflow": null,
            "overflow_x": null,
            "overflow_y": null,
            "padding": null,
            "right": null,
            "top": null,
            "visibility": null,
            "width": null
          }
        },
        "a002ccdcc62d4e95a2f26658bcdfd0d5": {
          "model_module": "@jupyter-widgets/controls",
          "model_name": "ProgressStyleModel",
          "model_module_version": "1.5.0",
          "state": {
            "_model_module": "@jupyter-widgets/controls",
            "_model_module_version": "1.5.0",
            "_model_name": "ProgressStyleModel",
            "_view_count": null,
            "_view_module": "@jupyter-widgets/base",
            "_view_module_version": "1.2.0",
            "_view_name": "StyleView",
            "bar_color": null,
            "description_width": ""
          }
        },
        "e2e78af0637f4abc9ffa5adb9ede05af": {
          "model_module": "@jupyter-widgets/base",
          "model_name": "LayoutModel",
          "model_module_version": "1.2.0",
          "state": {
            "_model_module": "@jupyter-widgets/base",
            "_model_module_version": "1.2.0",
            "_model_name": "LayoutModel",
            "_view_count": null,
            "_view_module": "@jupyter-widgets/base",
            "_view_module_version": "1.2.0",
            "_view_name": "LayoutView",
            "align_content": null,
            "align_items": null,
            "align_self": null,
            "border": null,
            "bottom": null,
            "display": null,
            "flex": null,
            "flex_flow": null,
            "grid_area": null,
            "grid_auto_columns": null,
            "grid_auto_flow": null,
            "grid_auto_rows": null,
            "grid_column": null,
            "grid_gap": null,
            "grid_row": null,
            "grid_template_areas": null,
            "grid_template_columns": null,
            "grid_template_rows": null,
            "height": null,
            "justify_content": null,
            "justify_items": null,
            "left": null,
            "margin": null,
            "max_height": null,
            "max_width": null,
            "min_height": null,
            "min_width": null,
            "object_fit": null,
            "object_position": null,
            "order": null,
            "overflow": null,
            "overflow_x": null,
            "overflow_y": null,
            "padding": null,
            "right": null,
            "top": null,
            "visibility": null,
            "width": null
          }
        },
        "8b7bac2404de4767aa859da4e1386190": {
          "model_module": "@jupyter-widgets/controls",
          "model_name": "DescriptionStyleModel",
          "model_module_version": "1.5.0",
          "state": {
            "_model_module": "@jupyter-widgets/controls",
            "_model_module_version": "1.5.0",
            "_model_name": "DescriptionStyleModel",
            "_view_count": null,
            "_view_module": "@jupyter-widgets/base",
            "_view_module_version": "1.2.0",
            "_view_name": "StyleView",
            "description_width": ""
          }
        },
        "18d8b030c6da4b4caf1faba2ff99c6de": {
          "model_module": "@jupyter-widgets/controls",
          "model_name": "HBoxModel",
          "model_module_version": "1.5.0",
          "state": {
            "_dom_classes": [],
            "_model_module": "@jupyter-widgets/controls",
            "_model_module_version": "1.5.0",
            "_model_name": "HBoxModel",
            "_view_count": null,
            "_view_module": "@jupyter-widgets/controls",
            "_view_module_version": "1.5.0",
            "_view_name": "HBoxView",
            "box_style": "",
            "children": [
              "IPY_MODEL_05eed8756ace47528b020724a7c90cbf",
              "IPY_MODEL_f4bffe6fa644436f9949ffc46b3e650e",
              "IPY_MODEL_22254a4836284b4b90fe77e30d360392"
            ],
            "layout": "IPY_MODEL_a78572cde76a476aa385357404acb116"
          }
        },
        "05eed8756ace47528b020724a7c90cbf": {
          "model_module": "@jupyter-widgets/controls",
          "model_name": "HTMLModel",
          "model_module_version": "1.5.0",
          "state": {
            "_dom_classes": [],
            "_model_module": "@jupyter-widgets/controls",
            "_model_module_version": "1.5.0",
            "_model_name": "HTMLModel",
            "_view_count": null,
            "_view_module": "@jupyter-widgets/controls",
            "_view_module_version": "1.5.0",
            "_view_name": "HTMLView",
            "description": "",
            "description_tooltip": null,
            "layout": "IPY_MODEL_156515e6abc94bbcb3eacd5f3dbead6c",
            "placeholder": "​",
            "style": "IPY_MODEL_99d65706b91048fea6a519b5222af3a3",
            "value": "Map: 100%"
          }
        },
        "f4bffe6fa644436f9949ffc46b3e650e": {
          "model_module": "@jupyter-widgets/controls",
          "model_name": "FloatProgressModel",
          "model_module_version": "1.5.0",
          "state": {
            "_dom_classes": [],
            "_model_module": "@jupyter-widgets/controls",
            "_model_module_version": "1.5.0",
            "_model_name": "FloatProgressModel",
            "_view_count": null,
            "_view_module": "@jupyter-widgets/controls",
            "_view_module_version": "1.5.0",
            "_view_name": "ProgressView",
            "bar_style": "success",
            "description": "",
            "description_tooltip": null,
            "layout": "IPY_MODEL_cc0d740cc8e442529dfefc6682fbf5d4",
            "max": 478,
            "min": 0,
            "orientation": "horizontal",
            "style": "IPY_MODEL_e87d26cb772b4f7593dbca97871e04b1",
            "value": 478
          }
        },
        "22254a4836284b4b90fe77e30d360392": {
          "model_module": "@jupyter-widgets/controls",
          "model_name": "HTMLModel",
          "model_module_version": "1.5.0",
          "state": {
            "_dom_classes": [],
            "_model_module": "@jupyter-widgets/controls",
            "_model_module_version": "1.5.0",
            "_model_name": "HTMLModel",
            "_view_count": null,
            "_view_module": "@jupyter-widgets/controls",
            "_view_module_version": "1.5.0",
            "_view_name": "HTMLView",
            "description": "",
            "description_tooltip": null,
            "layout": "IPY_MODEL_977e69ac992949df85c586f3d08eac04",
            "placeholder": "​",
            "style": "IPY_MODEL_4e0a1dc3ab0b463199fd837ae237a413",
            "value": " 478/478 [00:00&lt;00:00, 16510.02 examples/s]"
          }
        },
        "a78572cde76a476aa385357404acb116": {
          "model_module": "@jupyter-widgets/base",
          "model_name": "LayoutModel",
          "model_module_version": "1.2.0",
          "state": {
            "_model_module": "@jupyter-widgets/base",
            "_model_module_version": "1.2.0",
            "_model_name": "LayoutModel",
            "_view_count": null,
            "_view_module": "@jupyter-widgets/base",
            "_view_module_version": "1.2.0",
            "_view_name": "LayoutView",
            "align_content": null,
            "align_items": null,
            "align_self": null,
            "border": null,
            "bottom": null,
            "display": null,
            "flex": null,
            "flex_flow": null,
            "grid_area": null,
            "grid_auto_columns": null,
            "grid_auto_flow": null,
            "grid_auto_rows": null,
            "grid_column": null,
            "grid_gap": null,
            "grid_row": null,
            "grid_template_areas": null,
            "grid_template_columns": null,
            "grid_template_rows": null,
            "height": null,
            "justify_content": null,
            "justify_items": null,
            "left": null,
            "margin": null,
            "max_height": null,
            "max_width": null,
            "min_height": null,
            "min_width": null,
            "object_fit": null,
            "object_position": null,
            "order": null,
            "overflow": null,
            "overflow_x": null,
            "overflow_y": null,
            "padding": null,
            "right": null,
            "top": null,
            "visibility": null,
            "width": null
          }
        },
        "156515e6abc94bbcb3eacd5f3dbead6c": {
          "model_module": "@jupyter-widgets/base",
          "model_name": "LayoutModel",
          "model_module_version": "1.2.0",
          "state": {
            "_model_module": "@jupyter-widgets/base",
            "_model_module_version": "1.2.0",
            "_model_name": "LayoutModel",
            "_view_count": null,
            "_view_module": "@jupyter-widgets/base",
            "_view_module_version": "1.2.0",
            "_view_name": "LayoutView",
            "align_content": null,
            "align_items": null,
            "align_self": null,
            "border": null,
            "bottom": null,
            "display": null,
            "flex": null,
            "flex_flow": null,
            "grid_area": null,
            "grid_auto_columns": null,
            "grid_auto_flow": null,
            "grid_auto_rows": null,
            "grid_column": null,
            "grid_gap": null,
            "grid_row": null,
            "grid_template_areas": null,
            "grid_template_columns": null,
            "grid_template_rows": null,
            "height": null,
            "justify_content": null,
            "justify_items": null,
            "left": null,
            "margin": null,
            "max_height": null,
            "max_width": null,
            "min_height": null,
            "min_width": null,
            "object_fit": null,
            "object_position": null,
            "order": null,
            "overflow": null,
            "overflow_x": null,
            "overflow_y": null,
            "padding": null,
            "right": null,
            "top": null,
            "visibility": null,
            "width": null
          }
        },
        "99d65706b91048fea6a519b5222af3a3": {
          "model_module": "@jupyter-widgets/controls",
          "model_name": "DescriptionStyleModel",
          "model_module_version": "1.5.0",
          "state": {
            "_model_module": "@jupyter-widgets/controls",
            "_model_module_version": "1.5.0",
            "_model_name": "DescriptionStyleModel",
            "_view_count": null,
            "_view_module": "@jupyter-widgets/base",
            "_view_module_version": "1.2.0",
            "_view_name": "StyleView",
            "description_width": ""
          }
        },
        "cc0d740cc8e442529dfefc6682fbf5d4": {
          "model_module": "@jupyter-widgets/base",
          "model_name": "LayoutModel",
          "model_module_version": "1.2.0",
          "state": {
            "_model_module": "@jupyter-widgets/base",
            "_model_module_version": "1.2.0",
            "_model_name": "LayoutModel",
            "_view_count": null,
            "_view_module": "@jupyter-widgets/base",
            "_view_module_version": "1.2.0",
            "_view_name": "LayoutView",
            "align_content": null,
            "align_items": null,
            "align_self": null,
            "border": null,
            "bottom": null,
            "display": null,
            "flex": null,
            "flex_flow": null,
            "grid_area": null,
            "grid_auto_columns": null,
            "grid_auto_flow": null,
            "grid_auto_rows": null,
            "grid_column": null,
            "grid_gap": null,
            "grid_row": null,
            "grid_template_areas": null,
            "grid_template_columns": null,
            "grid_template_rows": null,
            "height": null,
            "justify_content": null,
            "justify_items": null,
            "left": null,
            "margin": null,
            "max_height": null,
            "max_width": null,
            "min_height": null,
            "min_width": null,
            "object_fit": null,
            "object_position": null,
            "order": null,
            "overflow": null,
            "overflow_x": null,
            "overflow_y": null,
            "padding": null,
            "right": null,
            "top": null,
            "visibility": null,
            "width": null
          }
        },
        "e87d26cb772b4f7593dbca97871e04b1": {
          "model_module": "@jupyter-widgets/controls",
          "model_name": "ProgressStyleModel",
          "model_module_version": "1.5.0",
          "state": {
            "_model_module": "@jupyter-widgets/controls",
            "_model_module_version": "1.5.0",
            "_model_name": "ProgressStyleModel",
            "_view_count": null,
            "_view_module": "@jupyter-widgets/base",
            "_view_module_version": "1.2.0",
            "_view_name": "StyleView",
            "bar_color": null,
            "description_width": ""
          }
        },
        "977e69ac992949df85c586f3d08eac04": {
          "model_module": "@jupyter-widgets/base",
          "model_name": "LayoutModel",
          "model_module_version": "1.2.0",
          "state": {
            "_model_module": "@jupyter-widgets/base",
            "_model_module_version": "1.2.0",
            "_model_name": "LayoutModel",
            "_view_count": null,
            "_view_module": "@jupyter-widgets/base",
            "_view_module_version": "1.2.0",
            "_view_name": "LayoutView",
            "align_content": null,
            "align_items": null,
            "align_self": null,
            "border": null,
            "bottom": null,
            "display": null,
            "flex": null,
            "flex_flow": null,
            "grid_area": null,
            "grid_auto_columns": null,
            "grid_auto_flow": null,
            "grid_auto_rows": null,
            "grid_column": null,
            "grid_gap": null,
            "grid_row": null,
            "grid_template_areas": null,
            "grid_template_columns": null,
            "grid_template_rows": null,
            "height": null,
            "justify_content": null,
            "justify_items": null,
            "left": null,
            "margin": null,
            "max_height": null,
            "max_width": null,
            "min_height": null,
            "min_width": null,
            "object_fit": null,
            "object_position": null,
            "order": null,
            "overflow": null,
            "overflow_x": null,
            "overflow_y": null,
            "padding": null,
            "right": null,
            "top": null,
            "visibility": null,
            "width": null
          }
        },
        "4e0a1dc3ab0b463199fd837ae237a413": {
          "model_module": "@jupyter-widgets/controls",
          "model_name": "DescriptionStyleModel",
          "model_module_version": "1.5.0",
          "state": {
            "_model_module": "@jupyter-widgets/controls",
            "_model_module_version": "1.5.0",
            "_model_name": "DescriptionStyleModel",
            "_view_count": null,
            "_view_module": "@jupyter-widgets/base",
            "_view_module_version": "1.2.0",
            "_view_name": "StyleView",
            "description_width": ""
          }
        }
      }
    }
  },
  "nbformat": 4,
  "nbformat_minor": 0
}