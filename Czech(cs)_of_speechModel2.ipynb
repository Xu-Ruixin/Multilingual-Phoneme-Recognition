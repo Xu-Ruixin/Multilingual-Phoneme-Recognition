{
  "cells": [
    {
      "cell_type": "markdown",
      "metadata": {
        "id": "view-in-github",
        "colab_type": "text"
      },
      "source": [
        "<a href=\"https://colab.research.google.com/github/Xu-Ruixin/Multilingual-Phoneme-Recognition/blob/main/Czech(cs)_of_speechModel2.ipynb\" target=\"_parent\"><img src=\"https://colab.research.google.com/assets/colab-badge.svg\" alt=\"Open In Colab\"/></a>"
      ]
    },
    {
      "cell_type": "code",
      "execution_count": null,
      "metadata": {
        "colab": {
          "base_uri": "https://localhost:8080/"
        },
        "id": "YELVqGxMxnbG",
        "outputId": "f7ce8329-2f18-4c9e-eb1f-cd53eca3fc8d"
      },
      "outputs": [
        {
          "output_type": "stream",
          "name": "stdout",
          "text": [
            "Wed Nov 29 08:49:45 2023       \n",
            "+-----------------------------------------------------------------------------+\n",
            "| NVIDIA-SMI 525.105.17   Driver Version: 525.105.17   CUDA Version: 12.0     |\n",
            "|-------------------------------+----------------------+----------------------+\n",
            "| GPU  Name        Persistence-M| Bus-Id        Disp.A | Volatile Uncorr. ECC |\n",
            "| Fan  Temp  Perf  Pwr:Usage/Cap|         Memory-Usage | GPU-Util  Compute M. |\n",
            "|                               |                      |               MIG M. |\n",
            "|===============================+======================+======================|\n",
            "|   0  Tesla T4            Off  | 00000000:00:04.0 Off |                    0 |\n",
            "| N/A   72C    P8    11W /  70W |      0MiB / 15360MiB |      0%      Default |\n",
            "|                               |                      |                  N/A |\n",
            "+-------------------------------+----------------------+----------------------+\n",
            "                                                                               \n",
            "+-----------------------------------------------------------------------------+\n",
            "| Processes:                                                                  |\n",
            "|  GPU   GI   CI        PID   Type   Process name                  GPU Memory |\n",
            "|        ID   ID                                                   Usage      |\n",
            "|=============================================================================|\n",
            "|  No running processes found                                                 |\n",
            "+-----------------------------------------------------------------------------+\n"
          ]
        }
      ],
      "source": [
        "gpu_info = !nvidia-smi\n",
        "gpu_info = '\\n'.join(gpu_info)\n",
        "if gpu_info.find('failed') >= 0:\n",
        "  print('Not connected to a GPU')\n",
        "else:\n",
        "  print(gpu_info)"
      ]
    },
    {
      "cell_type": "code",
      "execution_count": null,
      "metadata": {
        "colab": {
          "base_uri": "https://localhost:8080/"
        },
        "id": "c8eh87Hoee5d",
        "outputId": "19cd40a4-5493-4590-80b4-b5f82bbae031"
      },
      "outputs": [
        {
          "output_type": "stream",
          "name": "stdout",
          "text": [
            "Requirement already satisfied: datasets in /usr/local/lib/python3.10/dist-packages (2.15.0)\n",
            "Requirement already satisfied: numpy>=1.17 in /usr/local/lib/python3.10/dist-packages (from datasets) (1.23.5)\n",
            "Requirement already satisfied: pyarrow>=8.0.0 in /usr/local/lib/python3.10/dist-packages (from datasets) (9.0.0)\n",
            "Requirement already satisfied: pyarrow-hotfix in /usr/local/lib/python3.10/dist-packages (from datasets) (0.6)\n",
            "Requirement already satisfied: dill<0.3.8,>=0.3.0 in /usr/local/lib/python3.10/dist-packages (from datasets) (0.3.7)\n",
            "Requirement already satisfied: pandas in /usr/local/lib/python3.10/dist-packages (from datasets) (1.5.3)\n",
            "Requirement already satisfied: requests>=2.19.0 in /usr/local/lib/python3.10/dist-packages (from datasets) (2.31.0)\n",
            "Requirement already satisfied: tqdm>=4.62.1 in /usr/local/lib/python3.10/dist-packages (from datasets) (4.66.1)\n",
            "Requirement already satisfied: xxhash in /usr/local/lib/python3.10/dist-packages (from datasets) (3.4.1)\n",
            "Requirement already satisfied: multiprocess in /usr/local/lib/python3.10/dist-packages (from datasets) (0.70.15)\n",
            "Requirement already satisfied: fsspec[http]<=2023.10.0,>=2023.1.0 in /usr/local/lib/python3.10/dist-packages (from datasets) (2023.6.0)\n",
            "Requirement already satisfied: aiohttp in /usr/local/lib/python3.10/dist-packages (from datasets) (3.8.6)\n",
            "Requirement already satisfied: huggingface-hub>=0.18.0 in /usr/local/lib/python3.10/dist-packages (from datasets) (0.19.4)\n",
            "Requirement already satisfied: packaging in /usr/local/lib/python3.10/dist-packages (from datasets) (23.2)\n",
            "Requirement already satisfied: pyyaml>=5.1 in /usr/local/lib/python3.10/dist-packages (from datasets) (6.0.1)\n",
            "Requirement already satisfied: attrs>=17.3.0 in /usr/local/lib/python3.10/dist-packages (from aiohttp->datasets) (23.1.0)\n",
            "Requirement already satisfied: charset-normalizer<4.0,>=2.0 in /usr/local/lib/python3.10/dist-packages (from aiohttp->datasets) (3.3.2)\n",
            "Requirement already satisfied: multidict<7.0,>=4.5 in /usr/local/lib/python3.10/dist-packages (from aiohttp->datasets) (6.0.4)\n",
            "Requirement already satisfied: async-timeout<5.0,>=4.0.0a3 in /usr/local/lib/python3.10/dist-packages (from aiohttp->datasets) (4.0.3)\n",
            "Requirement already satisfied: yarl<2.0,>=1.0 in /usr/local/lib/python3.10/dist-packages (from aiohttp->datasets) (1.9.2)\n",
            "Requirement already satisfied: frozenlist>=1.1.1 in /usr/local/lib/python3.10/dist-packages (from aiohttp->datasets) (1.4.0)\n",
            "Requirement already satisfied: aiosignal>=1.1.2 in /usr/local/lib/python3.10/dist-packages (from aiohttp->datasets) (1.3.1)\n",
            "Requirement already satisfied: filelock in /usr/local/lib/python3.10/dist-packages (from huggingface-hub>=0.18.0->datasets) (3.13.1)\n",
            "Requirement already satisfied: typing-extensions>=3.7.4.3 in /usr/local/lib/python3.10/dist-packages (from huggingface-hub>=0.18.0->datasets) (4.5.0)\n",
            "Requirement already satisfied: idna<4,>=2.5 in /usr/local/lib/python3.10/dist-packages (from requests>=2.19.0->datasets) (3.4)\n",
            "Requirement already satisfied: urllib3<3,>=1.21.1 in /usr/local/lib/python3.10/dist-packages (from requests>=2.19.0->datasets) (2.0.7)\n",
            "Requirement already satisfied: certifi>=2017.4.17 in /usr/local/lib/python3.10/dist-packages (from requests>=2.19.0->datasets) (2023.7.22)\n",
            "Requirement already satisfied: python-dateutil>=2.8.1 in /usr/local/lib/python3.10/dist-packages (from pandas->datasets) (2.8.2)\n",
            "Requirement already satisfied: pytz>=2020.1 in /usr/local/lib/python3.10/dist-packages (from pandas->datasets) (2023.3.post1)\n",
            "Requirement already satisfied: six>=1.5 in /usr/local/lib/python3.10/dist-packages (from python-dateutil>=2.8.1->pandas->datasets) (1.16.0)\n",
            "Requirement already satisfied: transformers[torch] in /usr/local/lib/python3.10/dist-packages (4.35.2)\n",
            "Requirement already satisfied: filelock in /usr/local/lib/python3.10/dist-packages (from transformers[torch]) (3.13.1)\n",
            "Requirement already satisfied: huggingface-hub<1.0,>=0.16.4 in /usr/local/lib/python3.10/dist-packages (from transformers[torch]) (0.19.4)\n",
            "Requirement already satisfied: numpy>=1.17 in /usr/local/lib/python3.10/dist-packages (from transformers[torch]) (1.23.5)\n",
            "Requirement already satisfied: packaging>=20.0 in /usr/local/lib/python3.10/dist-packages (from transformers[torch]) (23.2)\n",
            "Requirement already satisfied: pyyaml>=5.1 in /usr/local/lib/python3.10/dist-packages (from transformers[torch]) (6.0.1)\n",
            "Requirement already satisfied: regex!=2019.12.17 in /usr/local/lib/python3.10/dist-packages (from transformers[torch]) (2023.6.3)\n",
            "Requirement already satisfied: requests in /usr/local/lib/python3.10/dist-packages (from transformers[torch]) (2.31.0)\n",
            "Requirement already satisfied: tokenizers<0.19,>=0.14 in /usr/local/lib/python3.10/dist-packages (from transformers[torch]) (0.15.0)\n",
            "Requirement already satisfied: safetensors>=0.3.1 in /usr/local/lib/python3.10/dist-packages (from transformers[torch]) (0.4.0)\n",
            "Requirement already satisfied: tqdm>=4.27 in /usr/local/lib/python3.10/dist-packages (from transformers[torch]) (4.66.1)\n",
            "Requirement already satisfied: torch!=1.12.0,>=1.10 in /usr/local/lib/python3.10/dist-packages (from transformers[torch]) (2.1.0+cu118)\n",
            "Requirement already satisfied: accelerate>=0.20.3 in /usr/local/lib/python3.10/dist-packages (from transformers[torch]) (0.24.1)\n",
            "Requirement already satisfied: psutil in /usr/local/lib/python3.10/dist-packages (from accelerate>=0.20.3->transformers[torch]) (5.9.5)\n",
            "Requirement already satisfied: fsspec>=2023.5.0 in /usr/local/lib/python3.10/dist-packages (from huggingface-hub<1.0,>=0.16.4->transformers[torch]) (2023.6.0)\n",
            "Requirement already satisfied: typing-extensions>=3.7.4.3 in /usr/local/lib/python3.10/dist-packages (from huggingface-hub<1.0,>=0.16.4->transformers[torch]) (4.5.0)\n",
            "Requirement already satisfied: sympy in /usr/local/lib/python3.10/dist-packages (from torch!=1.12.0,>=1.10->transformers[torch]) (1.12)\n",
            "Requirement already satisfied: networkx in /usr/local/lib/python3.10/dist-packages (from torch!=1.12.0,>=1.10->transformers[torch]) (3.2.1)\n",
            "Requirement already satisfied: jinja2 in /usr/local/lib/python3.10/dist-packages (from torch!=1.12.0,>=1.10->transformers[torch]) (3.1.2)\n",
            "Requirement already satisfied: triton==2.1.0 in /usr/local/lib/python3.10/dist-packages (from torch!=1.12.0,>=1.10->transformers[torch]) (2.1.0)\n",
            "Requirement already satisfied: charset-normalizer<4,>=2 in /usr/local/lib/python3.10/dist-packages (from requests->transformers[torch]) (3.3.2)\n",
            "Requirement already satisfied: idna<4,>=2.5 in /usr/local/lib/python3.10/dist-packages (from requests->transformers[torch]) (3.4)\n",
            "Requirement already satisfied: urllib3<3,>=1.21.1 in /usr/local/lib/python3.10/dist-packages (from requests->transformers[torch]) (2.0.7)\n",
            "Requirement already satisfied: certifi>=2017.4.17 in /usr/local/lib/python3.10/dist-packages (from requests->transformers[torch]) (2023.7.22)\n",
            "Requirement already satisfied: MarkupSafe>=2.0 in /usr/local/lib/python3.10/dist-packages (from jinja2->torch!=1.12.0,>=1.10->transformers[torch]) (2.1.3)\n",
            "Requirement already satisfied: mpmath>=0.19 in /usr/local/lib/python3.10/dist-packages (from sympy->torch!=1.12.0,>=1.10->transformers[torch]) (1.3.0)\n",
            "Requirement already satisfied: torchaudio in /usr/local/lib/python3.10/dist-packages (2.1.0+cu118)\n",
            "Requirement already satisfied: torch==2.1.0 in /usr/local/lib/python3.10/dist-packages (from torchaudio) (2.1.0+cu118)\n",
            "Requirement already satisfied: filelock in /usr/local/lib/python3.10/dist-packages (from torch==2.1.0->torchaudio) (3.13.1)\n",
            "Requirement already satisfied: typing-extensions in /usr/local/lib/python3.10/dist-packages (from torch==2.1.0->torchaudio) (4.5.0)\n",
            "Requirement already satisfied: sympy in /usr/local/lib/python3.10/dist-packages (from torch==2.1.0->torchaudio) (1.12)\n",
            "Requirement already satisfied: networkx in /usr/local/lib/python3.10/dist-packages (from torch==2.1.0->torchaudio) (3.2.1)\n",
            "Requirement already satisfied: jinja2 in /usr/local/lib/python3.10/dist-packages (from torch==2.1.0->torchaudio) (3.1.2)\n",
            "Requirement already satisfied: fsspec in /usr/local/lib/python3.10/dist-packages (from torch==2.1.0->torchaudio) (2023.6.0)\n",
            "Requirement already satisfied: triton==2.1.0 in /usr/local/lib/python3.10/dist-packages (from torch==2.1.0->torchaudio) (2.1.0)\n",
            "Requirement already satisfied: MarkupSafe>=2.0 in /usr/local/lib/python3.10/dist-packages (from jinja2->torch==2.1.0->torchaudio) (2.1.3)\n",
            "Requirement already satisfied: mpmath>=0.19 in /usr/local/lib/python3.10/dist-packages (from sympy->torch==2.1.0->torchaudio) (1.3.0)\n",
            "Requirement already satisfied: librosa in /usr/local/lib/python3.10/dist-packages (0.10.1)\n",
            "Requirement already satisfied: audioread>=2.1.9 in /usr/local/lib/python3.10/dist-packages (from librosa) (3.0.1)\n",
            "Requirement already satisfied: numpy!=1.22.0,!=1.22.1,!=1.22.2,>=1.20.3 in /usr/local/lib/python3.10/dist-packages (from librosa) (1.23.5)\n",
            "Requirement already satisfied: scipy>=1.2.0 in /usr/local/lib/python3.10/dist-packages (from librosa) (1.11.3)\n",
            "Requirement already satisfied: scikit-learn>=0.20.0 in /usr/local/lib/python3.10/dist-packages (from librosa) (1.2.2)\n",
            "Requirement already satisfied: joblib>=0.14 in /usr/local/lib/python3.10/dist-packages (from librosa) (1.3.2)\n",
            "Requirement already satisfied: decorator>=4.3.0 in /usr/local/lib/python3.10/dist-packages (from librosa) (4.4.2)\n",
            "Requirement already satisfied: numba>=0.51.0 in /usr/local/lib/python3.10/dist-packages (from librosa) (0.58.1)\n",
            "Requirement already satisfied: soundfile>=0.12.1 in /usr/local/lib/python3.10/dist-packages (from librosa) (0.12.1)\n",
            "Requirement already satisfied: pooch>=1.0 in /usr/local/lib/python3.10/dist-packages (from librosa) (1.8.0)\n",
            "Requirement already satisfied: soxr>=0.3.2 in /usr/local/lib/python3.10/dist-packages (from librosa) (0.3.7)\n",
            "Requirement already satisfied: typing-extensions>=4.1.1 in /usr/local/lib/python3.10/dist-packages (from librosa) (4.5.0)\n",
            "Requirement already satisfied: lazy-loader>=0.1 in /usr/local/lib/python3.10/dist-packages (from librosa) (0.3)\n",
            "Requirement already satisfied: msgpack>=1.0 in /usr/local/lib/python3.10/dist-packages (from librosa) (1.0.7)\n",
            "Requirement already satisfied: llvmlite<0.42,>=0.41.0dev0 in /usr/local/lib/python3.10/dist-packages (from numba>=0.51.0->librosa) (0.41.1)\n",
            "Requirement already satisfied: platformdirs>=2.5.0 in /usr/local/lib/python3.10/dist-packages (from pooch>=1.0->librosa) (4.0.0)\n",
            "Requirement already satisfied: packaging>=20.0 in /usr/local/lib/python3.10/dist-packages (from pooch>=1.0->librosa) (23.2)\n",
            "Requirement already satisfied: requests>=2.19.0 in /usr/local/lib/python3.10/dist-packages (from pooch>=1.0->librosa) (2.31.0)\n",
            "Requirement already satisfied: threadpoolctl>=2.0.0 in /usr/local/lib/python3.10/dist-packages (from scikit-learn>=0.20.0->librosa) (3.2.0)\n",
            "Requirement already satisfied: cffi>=1.0 in /usr/local/lib/python3.10/dist-packages (from soundfile>=0.12.1->librosa) (1.16.0)\n",
            "Requirement already satisfied: pycparser in /usr/local/lib/python3.10/dist-packages (from cffi>=1.0->soundfile>=0.12.1->librosa) (2.21)\n",
            "Requirement already satisfied: charset-normalizer<4,>=2 in /usr/local/lib/python3.10/dist-packages (from requests>=2.19.0->pooch>=1.0->librosa) (3.3.2)\n",
            "Requirement already satisfied: idna<4,>=2.5 in /usr/local/lib/python3.10/dist-packages (from requests>=2.19.0->pooch>=1.0->librosa) (3.4)\n",
            "Requirement already satisfied: urllib3<3,>=1.21.1 in /usr/local/lib/python3.10/dist-packages (from requests>=2.19.0->pooch>=1.0->librosa) (2.0.7)\n",
            "Requirement already satisfied: certifi>=2017.4.17 in /usr/local/lib/python3.10/dist-packages (from requests>=2.19.0->pooch>=1.0->librosa) (2023.7.22)\n",
            "Requirement already satisfied: huggingface_hub in /usr/local/lib/python3.10/dist-packages (0.19.4)\n",
            "Requirement already satisfied: filelock in /usr/local/lib/python3.10/dist-packages (from huggingface_hub) (3.13.1)\n",
            "Requirement already satisfied: fsspec>=2023.5.0 in /usr/local/lib/python3.10/dist-packages (from huggingface_hub) (2023.6.0)\n",
            "Requirement already satisfied: requests in /usr/local/lib/python3.10/dist-packages (from huggingface_hub) (2.31.0)\n",
            "Requirement already satisfied: tqdm>=4.42.1 in /usr/local/lib/python3.10/dist-packages (from huggingface_hub) (4.66.1)\n",
            "Requirement already satisfied: pyyaml>=5.1 in /usr/local/lib/python3.10/dist-packages (from huggingface_hub) (6.0.1)\n",
            "Requirement already satisfied: typing-extensions>=3.7.4.3 in /usr/local/lib/python3.10/dist-packages (from huggingface_hub) (4.5.0)\n",
            "Requirement already satisfied: packaging>=20.9 in /usr/local/lib/python3.10/dist-packages (from huggingface_hub) (23.2)\n",
            "Requirement already satisfied: charset-normalizer<4,>=2 in /usr/local/lib/python3.10/dist-packages (from requests->huggingface_hub) (3.3.2)\n",
            "Requirement already satisfied: idna<4,>=2.5 in /usr/local/lib/python3.10/dist-packages (from requests->huggingface_hub) (3.4)\n",
            "Requirement already satisfied: urllib3<3,>=1.21.1 in /usr/local/lib/python3.10/dist-packages (from requests->huggingface_hub) (2.0.7)\n",
            "Requirement already satisfied: certifi>=2017.4.17 in /usr/local/lib/python3.10/dist-packages (from requests->huggingface_hub) (2023.7.22)\n",
            "Requirement already satisfied: jiwer in /usr/local/lib/python3.10/dist-packages (3.0.3)\n",
            "Requirement already satisfied: click<9.0.0,>=8.1.3 in /usr/local/lib/python3.10/dist-packages (from jiwer) (8.1.7)\n",
            "Requirement already satisfied: rapidfuzz<4,>=3 in /usr/local/lib/python3.10/dist-packages (from jiwer) (3.5.2)\n",
            "Requirement already satisfied: accelerate in /usr/local/lib/python3.10/dist-packages (0.24.1)\n",
            "Requirement already satisfied: numpy>=1.17 in /usr/local/lib/python3.10/dist-packages (from accelerate) (1.23.5)\n",
            "Requirement already satisfied: packaging>=20.0 in /usr/local/lib/python3.10/dist-packages (from accelerate) (23.2)\n",
            "Requirement already satisfied: psutil in /usr/local/lib/python3.10/dist-packages (from accelerate) (5.9.5)\n",
            "Requirement already satisfied: pyyaml in /usr/local/lib/python3.10/dist-packages (from accelerate) (6.0.1)\n",
            "Requirement already satisfied: torch>=1.10.0 in /usr/local/lib/python3.10/dist-packages (from accelerate) (2.1.0+cu118)\n",
            "Requirement already satisfied: huggingface-hub in /usr/local/lib/python3.10/dist-packages (from accelerate) (0.19.4)\n",
            "Requirement already satisfied: filelock in /usr/local/lib/python3.10/dist-packages (from torch>=1.10.0->accelerate) (3.13.1)\n",
            "Requirement already satisfied: typing-extensions in /usr/local/lib/python3.10/dist-packages (from torch>=1.10.0->accelerate) (4.5.0)\n",
            "Requirement already satisfied: sympy in /usr/local/lib/python3.10/dist-packages (from torch>=1.10.0->accelerate) (1.12)\n",
            "Requirement already satisfied: networkx in /usr/local/lib/python3.10/dist-packages (from torch>=1.10.0->accelerate) (3.2.1)\n",
            "Requirement already satisfied: jinja2 in /usr/local/lib/python3.10/dist-packages (from torch>=1.10.0->accelerate) (3.1.2)\n",
            "Requirement already satisfied: fsspec in /usr/local/lib/python3.10/dist-packages (from torch>=1.10.0->accelerate) (2023.6.0)\n",
            "Requirement already satisfied: triton==2.1.0 in /usr/local/lib/python3.10/dist-packages (from torch>=1.10.0->accelerate) (2.1.0)\n",
            "Requirement already satisfied: requests in /usr/local/lib/python3.10/dist-packages (from huggingface-hub->accelerate) (2.31.0)\n",
            "Requirement already satisfied: tqdm>=4.42.1 in /usr/local/lib/python3.10/dist-packages (from huggingface-hub->accelerate) (4.66.1)\n",
            "Requirement already satisfied: MarkupSafe>=2.0 in /usr/local/lib/python3.10/dist-packages (from jinja2->torch>=1.10.0->accelerate) (2.1.3)\n",
            "Requirement already satisfied: charset-normalizer<4,>=2 in /usr/local/lib/python3.10/dist-packages (from requests->huggingface-hub->accelerate) (3.3.2)\n",
            "Requirement already satisfied: idna<4,>=2.5 in /usr/local/lib/python3.10/dist-packages (from requests->huggingface-hub->accelerate) (3.4)\n",
            "Requirement already satisfied: urllib3<3,>=1.21.1 in /usr/local/lib/python3.10/dist-packages (from requests->huggingface-hub->accelerate) (2.0.7)\n",
            "Requirement already satisfied: certifi>=2017.4.17 in /usr/local/lib/python3.10/dist-packages (from requests->huggingface-hub->accelerate) (2023.7.22)\n",
            "Requirement already satisfied: mpmath>=0.19 in /usr/local/lib/python3.10/dist-packages (from sympy->torch>=1.10.0->accelerate) (1.3.0)\n",
            "Requirement already satisfied: phonemizer in /usr/local/lib/python3.10/dist-packages (3.2.1)\n",
            "Requirement already satisfied: joblib in /usr/local/lib/python3.10/dist-packages (from phonemizer) (1.3.2)\n",
            "Requirement already satisfied: segments in /usr/local/lib/python3.10/dist-packages (from phonemizer) (2.2.1)\n",
            "Requirement already satisfied: attrs>=18.1 in /usr/local/lib/python3.10/dist-packages (from phonemizer) (23.1.0)\n",
            "Requirement already satisfied: dlinfo in /usr/local/lib/python3.10/dist-packages (from phonemizer) (1.2.1)\n",
            "Requirement already satisfied: typing-extensions in /usr/local/lib/python3.10/dist-packages (from phonemizer) (4.5.0)\n",
            "Requirement already satisfied: clldutils>=1.7.3 in /usr/local/lib/python3.10/dist-packages (from segments->phonemizer) (3.20.0)\n",
            "Requirement already satisfied: csvw>=1.5.6 in /usr/local/lib/python3.10/dist-packages (from segments->phonemizer) (3.2.1)\n",
            "Requirement already satisfied: regex in /usr/local/lib/python3.10/dist-packages (from segments->phonemizer) (2023.6.3)\n",
            "Requirement already satisfied: python-dateutil in /usr/local/lib/python3.10/dist-packages (from clldutils>=1.7.3->segments->phonemizer) (2.8.2)\n",
            "Requirement already satisfied: tabulate>=0.7.7 in /usr/local/lib/python3.10/dist-packages (from clldutils>=1.7.3->segments->phonemizer) (0.9.0)\n",
            "Requirement already satisfied: colorlog in /usr/local/lib/python3.10/dist-packages (from clldutils>=1.7.3->segments->phonemizer) (6.7.0)\n",
            "Requirement already satisfied: pylatexenc in /usr/local/lib/python3.10/dist-packages (from clldutils>=1.7.3->segments->phonemizer) (2.10)\n",
            "Requirement already satisfied: markdown in /usr/local/lib/python3.10/dist-packages (from clldutils>=1.7.3->segments->phonemizer) (3.5.1)\n",
            "Requirement already satisfied: lxml in /usr/local/lib/python3.10/dist-packages (from clldutils>=1.7.3->segments->phonemizer) (4.9.3)\n",
            "Requirement already satisfied: markupsafe in /usr/local/lib/python3.10/dist-packages (from clldutils>=1.7.3->segments->phonemizer) (2.1.3)\n",
            "Requirement already satisfied: babel in /usr/local/lib/python3.10/dist-packages (from csvw>=1.5.6->segments->phonemizer) (2.13.1)\n",
            "Requirement already satisfied: colorama in /usr/local/lib/python3.10/dist-packages (from csvw>=1.5.6->segments->phonemizer) (0.4.6)\n",
            "Requirement already satisfied: isodate in /usr/local/lib/python3.10/dist-packages (from csvw>=1.5.6->segments->phonemizer) (0.6.1)\n",
            "Requirement already satisfied: jsonschema in /usr/local/lib/python3.10/dist-packages (from csvw>=1.5.6->segments->phonemizer) (4.19.2)\n",
            "Requirement already satisfied: language-tags in /usr/local/lib/python3.10/dist-packages (from csvw>=1.5.6->segments->phonemizer) (1.2.0)\n",
            "Requirement already satisfied: rdflib in /usr/local/lib/python3.10/dist-packages (from csvw>=1.5.6->segments->phonemizer) (7.0.0)\n",
            "Requirement already satisfied: requests in /usr/local/lib/python3.10/dist-packages (from csvw>=1.5.6->segments->phonemizer) (2.31.0)\n",
            "Requirement already satisfied: rfc3986<2 in /usr/local/lib/python3.10/dist-packages (from csvw>=1.5.6->segments->phonemizer) (1.5.0)\n",
            "Requirement already satisfied: uritemplate>=3.0.0 in /usr/local/lib/python3.10/dist-packages (from csvw>=1.5.6->segments->phonemizer) (4.1.1)\n",
            "Requirement already satisfied: six in /usr/local/lib/python3.10/dist-packages (from isodate->csvw>=1.5.6->segments->phonemizer) (1.16.0)\n",
            "Requirement already satisfied: jsonschema-specifications>=2023.03.6 in /usr/local/lib/python3.10/dist-packages (from jsonschema->csvw>=1.5.6->segments->phonemizer) (2023.11.1)\n",
            "Requirement already satisfied: referencing>=0.28.4 in /usr/local/lib/python3.10/dist-packages (from jsonschema->csvw>=1.5.6->segments->phonemizer) (0.31.0)\n",
            "Requirement already satisfied: rpds-py>=0.7.1 in /usr/local/lib/python3.10/dist-packages (from jsonschema->csvw>=1.5.6->segments->phonemizer) (0.13.0)\n",
            "Requirement already satisfied: pyparsing<4,>=2.1.0 in /usr/local/lib/python3.10/dist-packages (from rdflib->csvw>=1.5.6->segments->phonemizer) (3.1.1)\n",
            "Requirement already satisfied: charset-normalizer<4,>=2 in /usr/local/lib/python3.10/dist-packages (from requests->csvw>=1.5.6->segments->phonemizer) (3.3.2)\n",
            "Requirement already satisfied: idna<4,>=2.5 in /usr/local/lib/python3.10/dist-packages (from requests->csvw>=1.5.6->segments->phonemizer) (3.4)\n",
            "Requirement already satisfied: urllib3<3,>=1.21.1 in /usr/local/lib/python3.10/dist-packages (from requests->csvw>=1.5.6->segments->phonemizer) (2.0.7)\n",
            "Requirement already satisfied: certifi>=2017.4.17 in /usr/local/lib/python3.10/dist-packages (from requests->csvw>=1.5.6->segments->phonemizer) (2023.7.22)\n"
          ]
        }
      ],
      "source": [
        "!pip install -U datasets\n",
        "!pip install -U transformers[torch]\n",
        "!pip install torchaudio\n",
        "!pip install librosa\n",
        "!pip install -U huggingface_hub\n",
        "!pip install jiwer\n",
        "!pip install accelerate -U\n",
        "!pip install phonemizer"
      ]
    },
    {
      "cell_type": "code",
      "execution_count": null,
      "metadata": {
        "colab": {
          "base_uri": "https://localhost:8080/",
          "height": 160,
          "referenced_widgets": [
            "dc9798b5b17549f7b48bc7ff3b2cec34",
            "f062e5cfd9d14f168948b0b34e3156b4",
            "20f4289415d0418e9977257731f7a101",
            "c4c45765e3e942d78c958671167332b2",
            "51cc001fe74f42b3982e88fabd651582",
            "d4c68a5279ee4074b09709e4f1f0599f",
            "4b2e3f31b27440cea43a04721670af8f",
            "8de0efdb1ae34948bcb64e47051a4bf8",
            "a6af583dc79d4e17920de56d699c730a",
            "c8971ba5a2da49c7b74b10cec52d69c1",
            "f1bae7ced0ea4f4fa8c3837e63d2e1c6",
            "0b0ddf4577ad4c858a9eca49e4c45bf1",
            "bea1c6000e414b558a80026a9a866d1e",
            "b2c6efaadeeb4943baa76ea0829bb406",
            "777cd6823a8b488bae05354c4cace949",
            "c04f05f2779242c6a24ed63f67f9f635",
            "0e43154712c242468269491addb37790",
            "da37f4dcfe4c4603b29153950c248afe",
            "b1cfbf4fb19e48cface8c5efb76c706c",
            "999acac4be2b477aa9d09f150007bef6",
            "18339c61b0884650989bae30444a693d",
            "ad0288f117bd4fcdbf8f1aaa45962c8d",
            "9bb7bf4b1e52435aa9dc1922214ed48a",
            "5365c93a9da14cbcae41af169731bfa3",
            "7140513a12d9499b9b239d9233b11112",
            "dc64064f82a843d7b6d42b1667cc7ba2",
            "aba322a97e8e4e7e8fa966762b6ae11d",
            "1ca5f850e52442dd820506ba57062984",
            "ac72543cd65f4176b1f3331b661f62b2",
            "407e5c7b341e45fab098f19acce1fb6f",
            "96663216faf3423ab07b35f7a198fff0",
            "9dde53e831a2484b825392779be7d1b4"
          ]
        },
        "id": "mlMSH3T3EazV",
        "outputId": "695b9c43-5a58-408b-c550-aef1af68c73e"
      },
      "outputs": [
        {
          "output_type": "display_data",
          "data": {
            "text/plain": [
              "VBox(children=(HTML(value='<center> <img\\nsrc=https://huggingface.co/front/assets/huggingface_logo-noborder.sv…"
            ],
            "application/vnd.jupyter.widget-view+json": {
              "version_major": 2,
              "version_minor": 0,
              "model_id": "dc9798b5b17549f7b48bc7ff3b2cec34"
            }
          },
          "metadata": {}
        }
      ],
      "source": [
        "from huggingface_hub import notebook_login\n",
        "\n",
        "notebook_login()"
      ]
    },
    {
      "cell_type": "code",
      "execution_count": null,
      "metadata": {
        "id": "WcR-d83OEkqb"
      },
      "outputs": [],
      "source": [
        "%%capture\n",
        "!apt install git-lfs\n",
        "!sudo apt-get install festival espeak-ng mbrola\n",
        "!apt search mbrola"
      ]
    },
    {
      "cell_type": "code",
      "execution_count": null,
      "metadata": {
        "id": "2MMXcWFFgCXU"
      },
      "outputs": [],
      "source": [
        "from datasets import load_dataset, load_metric, Audio\n",
        "\n",
        "common_voice_train = load_dataset(\"facebook/voxpopuli\", \"cs\", split=\"train\")\n",
        "common_voice_test = load_dataset(\"facebook/voxpopuli\", \"cs\", split=\"test\")"
      ]
    },
    {
      "cell_type": "code",
      "execution_count": null,
      "metadata": {
        "colab": {
          "base_uri": "https://localhost:8080/"
        },
        "id": "oP3vzIwpL8an",
        "outputId": "c29d1fe7-86f5-4635-9cf4-dd3599978566"
      },
      "outputs": [
        {
          "output_type": "execute_result",
          "data": {
            "text/plain": [
              "Dataset({\n",
              "    features: ['audio_id', 'language', 'audio', 'raw_text', 'normalized_text', 'gender', 'speaker_id', 'is_gold_transcript', 'accent'],\n",
              "    num_rows: 18902\n",
              "})"
            ]
          },
          "metadata": {},
          "execution_count": 6
        }
      ],
      "source": [
        "common_voice_train"
      ]
    },
    {
      "cell_type": "code",
      "execution_count": null,
      "metadata": {
        "colab": {
          "base_uri": "https://localhost:8080/"
        },
        "id": "gg4zB_mUPJ6G",
        "outputId": "cfafd028-3108-452d-a7ab-9c981b3ada53"
      },
      "outputs": [
        {
          "output_type": "execute_result",
          "data": {
            "text/plain": [
              "Dataset({\n",
              "    features: ['audio_id', 'language', 'audio', 'raw_text', 'normalized_text', 'gender', 'speaker_id', 'is_gold_transcript', 'accent'],\n",
              "    num_rows: 1123\n",
              "})"
            ]
          },
          "metadata": {},
          "execution_count": 7
        }
      ],
      "source": [
        "common_voice_test"
      ]
    },
    {
      "cell_type": "code",
      "execution_count": null,
      "metadata": {
        "colab": {
          "base_uri": "https://localhost:8080/"
        },
        "id": "vSKdzEoPPL8U",
        "outputId": "0ff73f94-ee9d-4440-f13f-a0721ae62b3b"
      },
      "outputs": [
        {
          "output_type": "execute_result",
          "data": {
            "text/plain": [
              "Dataset({\n",
              "    features: ['audio_id', 'language', 'audio', 'raw_text', 'normalized_text', 'gender', 'speaker_id', 'is_gold_transcript', 'accent'],\n",
              "    num_rows: 3000\n",
              "})"
            ]
          },
          "metadata": {},
          "execution_count": 8
        }
      ],
      "source": [
        "# common_voice_train = common_voice_train.select(list(range(5000)))\n",
        "common_voice_train = common_voice_train.select(list(range(3000)))\n",
        "common_voice_train"
      ]
    },
    {
      "cell_type": "code",
      "execution_count": null,
      "metadata": {
        "colab": {
          "base_uri": "https://localhost:8080/"
        },
        "id": "WJ-5gr94H7Q7",
        "outputId": "a972921a-31d6-4087-c65b-4d61cd0c67be"
      },
      "outputs": [
        {
          "output_type": "execute_result",
          "data": {
            "text/plain": [
              "Dataset({\n",
              "    features: ['audio_id', 'language', 'audio', 'raw_text', 'normalized_text', 'gender', 'speaker_id', 'is_gold_transcript', 'accent'],\n",
              "    num_rows: 500\n",
              "})"
            ]
          },
          "metadata": {},
          "execution_count": 9
        }
      ],
      "source": [
        "common_voice_test = common_voice_test.select(list(range(500)))\n",
        "common_voice_test"
      ]
    },
    {
      "cell_type": "code",
      "execution_count": null,
      "metadata": {
        "id": "-aRt3tPcL-7k"
      },
      "outputs": [],
      "source": [
        "common_voice_train = common_voice_train.remove_columns([\"accent\", \"gender\"])\n",
        "common_voice_test = common_voice_test.remove_columns([\"accent\", \"gender\"])"
      ]
    },
    {
      "cell_type": "code",
      "execution_count": null,
      "metadata": {
        "id": "72737oog2F6U"
      },
      "outputs": [],
      "source": [
        "from datasets import ClassLabel\n",
        "import random\n",
        "import pandas as pd\n",
        "from IPython.display import display, HTML\n",
        "\n",
        "def show_random_elements(dataset, num_examples=10):\n",
        "    assert num_examples <= len(dataset), \"Can't pick more elements than there are in the dataset.\"\n",
        "    picks = []\n",
        "    for _ in range(num_examples):\n",
        "        pick = random.randint(0, len(dataset)-1)\n",
        "        while pick in picks:\n",
        "            pick = random.randint(0, len(dataset)-1)\n",
        "        picks.append(pick)\n",
        "\n",
        "    df = pd.DataFrame(dataset[picks])\n",
        "    display(HTML(df.to_html()))"
      ]
    },
    {
      "cell_type": "code",
      "execution_count": null,
      "metadata": {
        "colab": {
          "base_uri": "https://localhost:8080/",
          "height": 1000
        },
        "id": "K_JUmf3G3b9S",
        "outputId": "fdeb9abf-1094-4dc1-a65a-f1835a59ba2b"
      },
      "outputs": [
        {
          "output_type": "display_data",
          "data": {
            "text/plain": [
              "<IPython.core.display.HTML object>"
            ],
            "text/html": [
              "<table border=\"1\" class=\"dataframe\">\n",
              "  <thead>\n",
              "    <tr style=\"text-align: right;\">\n",
              "      <th></th>\n",
              "      <th>language</th>\n",
              "      <th>audio</th>\n",
              "      <th>normalized_text</th>\n",
              "      <th>speaker_id</th>\n",
              "      <th>is_gold_transcript</th>\n",
              "    </tr>\n",
              "  </thead>\n",
              "  <tbody>\n",
              "    <tr>\n",
              "      <th>0</th>\n",
              "      <td>8</td>\n",
              "      <td>{'path': '/root/.cache/huggingface/datasets/downloads/extracted/f860858b1727f7dfcbcf1817dd95332e8fad098537c56802f61c4de2454c7def/train_part_0/20130520-0900-PLENARY-12-cs_20130520-17:56:22_2.wav', 'array': [-0.008148193359375, -0.00738525390625, -0.0035400390625, -0.007476806640625, -0.0079345703125, -0.001373291015625, -0.005126953125, -0.008514404296875, -0.006439208984375, -0.002593994140625, 0.0048828125, 0.0013427734375, -0.009307861328125, -0.006378173828125, 0.0047607421875, 0.009490966796875, 0.00787353515625, 0.002899169921875, -0.001434326171875, 0.000885009765625, 0.003753662109375, 0.005126953125, 0.010955810546875, 0.012298583984375, 0.003936767578125, -0.000213623046875, 0.007232666015625, 0.007843017578125, -0.00360107421875, -0.00885009765625, -0.0067138671875, -0.000579833984375, -0.002166748046875, -0.013885498046875, -0.0120849609375, -0.00860595703125, -0.008697509765625, -0.002593994140625, -0.00689697265625, -0.011871337890625, -0.012115478515625, -0.00848388671875, -0.00140380859375, -0.010345458984375, -0.00677490234375, 0.00909423828125, 0.005126953125, 0.007720947265625, 0.008880615234375, 0.002593994140625, 0.009918212890625, 0.007476806640625, 0.001678466796875, 0.00347900390625, 0.00213623046875, 0.0096435546875, 0.011016845703125, 0.0028076171875, 0.012115478515625, 0.017181396484375, -0.0050048828125, -0.0194091796875, -0.007781982421875, 0.000640869140625, -0.002685546875, -0.003265380859375, 0.002685546875, 0.008544921875, 0.004180908203125, -0.003204345703125, -0.003662109375, 0.001678466796875, 0.00421142578125, -0.00335693359375, -0.00335693359375, 0.001617431640625, -0.001739501953125, -0.00067138671875, -0.001678466796875, 0.003875732421875, 0.014556884765625, 0.002044677734375, -0.002716064453125, 0.00750732421875, 0.0052490234375, 0.0020751953125, -0.00262451171875, -0.002227783203125, 0.001556396484375, -0.009033203125, -0.010345458984375, 0.0003662109375, 0.002716064453125, -0.001373291015625, -0.00286865234375, 0.003173828125, 0.005462646484375, 0.000213623046875, -0.00872802734375, -0.00860595703125, ...], 'sampling_rate': 16000}</td>\n",
              "      <td>tak se stalo že při snaze podpořit energie z obnovitelných zdrojů mnohé země přistoupily k různým druhům finančních stimulací často i přímých dotací na výkupní ceny takto získané energie aby vůbec byly konkurenceschopné.</td>\n",
              "      <td>96713</td>\n",
              "      <td>True</td>\n",
              "    </tr>\n",
              "    <tr>\n",
              "      <th>1</th>\n",
              "      <td>8</td>\n",
              "      <td>{'path': '/root/.cache/huggingface/datasets/downloads/extracted/f860858b1727f7dfcbcf1817dd95332e8fad098537c56802f61c4de2454c7def/train_part_0/20090323-0900-PLENARY-10-cs_20090323-20:35:17_0.wav', 'array': [0.005126953125, 0.00323486328125, 0.002593994140625, 0.004486083984375, 0.004119873046875, 0.00439453125, 0.005279541015625, 0.005279541015625, 0.003570556640625, 0.002685546875, 0.00408935546875, 0.00494384765625, 0.00433349609375, 0.00323486328125, 0.003814697265625, 0.00372314453125, 0.002838134765625, 0.003387451171875, 0.00372314453125, 0.00494384765625, 0.003326416015625, 0.0010986328125, 0.00384521484375, 0.003570556640625, 0.002227783203125, 0.003021240234375, 0.002227783203125, 0.0032958984375, 0.00311279296875, 0.002471923828125, 0.00384521484375, 0.002716064453125, 0.002227783203125, 0.002532958984375, 0.002685546875, 0.00347900390625, 0.003387451171875, 0.003570556640625, 0.00244140625, 0.002349853515625, 0.002960205078125, 0.001129150390625, 0.0018310546875, 0.002166748046875, 0.0008544921875, 0.00054931640625, 0.000244140625, 0.00262451171875, 0.001861572265625, -0.000701904296875, 0.001861572265625, 0.001556396484375, -0.000274658203125, 0.000579833984375, 0.001190185546875, 0.001068115234375, -0.0009765625, 0.00067138671875, 0.004058837890625, 0.00091552734375, -0.0015869140625, 0.00091552734375, 0.001068115234375, -0.001007080078125, 0.00054931640625, 0.001739501953125, -0.0001220703125, -3.0517578125e-05, -0.000762939453125, -0.000885009765625, 0.00079345703125, -0.001861572265625, -0.002716064453125, -0.00079345703125, -0.0009765625, -0.000885009765625, -0.00128173828125, -0.0006103515625, -0.00042724609375, -0.001678466796875, 0.000335693359375, -0.000274658203125, -0.00213623046875, 0.000579833984375, 0.00189208984375, 0.0006103515625, 0.0, 0.001129150390625, 0.001190185546875, -0.001312255859375, -0.00115966796875, 0.000701904296875, -3.0517578125e-05, -0.001617431640625, 0.00042724609375, 0.003570556640625, 0.00018310546875, -0.0029296875, 9.1552734375e-05, 0.0008544921875, ...], 'sampling_rate': 16000}</td>\n",
              "      <td>pane předsedo zavedení minimálních standardů pro bezpečnost kosmetických výrobků je důležitým krokem k zajištění podstatně vyšší bezpečnosti evropských spotřebitelů.</td>\n",
              "      <td>28352</td>\n",
              "      <td>True</td>\n",
              "    </tr>\n",
              "    <tr>\n",
              "      <th>2</th>\n",
              "      <td>8</td>\n",
              "      <td>{'path': '/root/.cache/huggingface/datasets/downloads/extracted/f860858b1727f7dfcbcf1817dd95332e8fad098537c56802f61c4de2454c7def/train_part_0/20170612-0900-PLENARY-13-cs_20170612-20:09:48_7.wav', 'array': [0.0003662109375, -0.001708984375, -0.00201416015625, 0.002532958984375, 0.003875732421875, 0.0023193359375, -0.00042724609375, -0.00177001953125, -0.009521484375, -0.005157470703125, 0.008331298828125, 0.01165771484375, 0.003936767578125, -0.00201416015625, 0.00341796875, 0.000640869140625, -0.006195068359375, -0.00677490234375, -0.000244140625, 0.00994873046875, 0.0081787109375, -0.005401611328125, -0.013641357421875, -0.003570556640625, 0.009185791015625, 0.00604248046875, -0.00677490234375, -0.0133056640625, -0.00360107421875, 0.00738525390625, 0.007354736328125, -0.0057373046875, -0.01507568359375, -0.0047607421875, 0.0091552734375, 0.012664794921875, 0.003021240234375, -0.011322021484375, -0.009429931640625, 0.0062255859375, 0.013214111328125, 0.002288818359375, -0.007232666015625, -0.003662109375, 0.007476806640625, 0.006988525390625, -0.00579833984375, -0.006439208984375, 0.001373291015625, 0.006072998046875, 0.00408935546875, 0.001678466796875, -0.00311279296875, -0.001373291015625, -0.000396728515625, -0.008270263671875, -0.009063720703125, 0.00244140625, 0.01226806640625, 0.00457763671875, -0.004638671875, -0.00677490234375, -0.005859375, -0.003021240234375, -0.00146484375, 0.00164794921875, 0.001800537109375, 0.0037841796875, 0.006988525390625, 0.00433349609375, -0.00286865234375, -0.00860595703125, -0.00189208984375, 0.005279541015625, 0.00274658203125, -0.003509521484375, 0.0023193359375, 0.004058837890625, -0.005523681640625, -0.00677490234375, -0.000396728515625, -0.001129150390625, -0.002655029296875, 0.004241943359375, 0.00689697265625, -0.0032958984375, -0.01275634765625, -0.00311279296875, 0.00732421875, 0.00433349609375, -0.004669189453125, -0.001495361328125, 0.004913330078125, 0.0048828125, 0.000274658203125, -0.000152587890625, 0.001007080078125, -0.00653076171875, -0.0013427734375, 0.013031005859375, ...], 'sampling_rate': 16000}</td>\n",
              "      <td>to však neznamená že bychom ji měli jako celek jakkoliv zpochybňovat nebo relativizovat její význam a přínos.</td>\n",
              "      <td>96718</td>\n",
              "      <td>True</td>\n",
              "    </tr>\n",
              "    <tr>\n",
              "      <th>3</th>\n",
              "      <td>8</td>\n",
              "      <td>{'path': '/root/.cache/huggingface/datasets/downloads/extracted/f860858b1727f7dfcbcf1817dd95332e8fad098537c56802f61c4de2454c7def/train_part_0/20150115-0900-PLENARY-10-cs_20150115-13:05:13_2.wav', 'array': [-0.0062255859375, -0.004974365234375, -0.009674072265625, -0.0050048828125, 0.0001220703125, 0.002899169921875, 0.0091552734375, 0.00469970703125, -0.010772705078125, -0.01605224609375, -0.007110595703125, 0.002105712890625, 0.003753662109375, 0.005889892578125, 0.0081787109375, 0.00421142578125, 0.00274658203125, -0.002105712890625, -0.012481689453125, -0.006072998046875, 0.012115478515625, 0.014984130859375, -0.00213623046875, -0.0108642578125, -0.003997802734375, -0.0068359375, -0.00189208984375, 0.014068603515625, 0.009124755859375, 3.0517578125e-05, -0.00274658203125, -0.005218505859375, -0.0032958984375, -0.0079345703125, -0.008758544921875, 0.000732421875, 0.00714111328125, 0.0045166015625, -0.006500244140625, -0.005401611328125, 0.00164794921875, -0.0013427734375, 0.00140380859375, 0.0029296875, -0.002685546875, -0.00628662109375, -0.0048828125, 0.003753662109375, 0.003692626953125, 0.002532958984375, 0.01031494140625, 0.006744384765625, 0.0006103515625, -0.000823974609375, -0.0042724609375, -0.002410888671875, 0.00091552734375, 0.003326416015625, 0.004180908203125, 0.003509521484375, 0.00726318359375, 0.00677490234375, -0.000823974609375, -0.00604248046875, -0.003692626953125, 0.004669189453125, 0.0048828125, -0.010833740234375, -0.019500732421875, -0.001312255859375, 0.01043701171875, -0.004669189453125, -0.009674072265625, -0.004791259765625, -0.0079345703125, -0.003387451171875, -0.0003662109375, -0.0025634765625, 0.005096435546875, 0.0059814453125, -0.006103515625, -0.011383056640625, -0.00390625, 0.00726318359375, 0.0145263671875, 0.015869140625, 0.005401611328125, -0.003173828125, 0.01019287109375, 0.015533447265625, -0.00030517578125, 0.000701904296875, 0.010345458984375, 0.00067138671875, -0.006256103515625, 0.004730224609375, 0.009735107421875, -0.00390625, -0.01116943359375, -0.002777099609375, ...], 'sampling_rate': 16000}</td>\n",
              "      <td>jsem rád že toto zde jasně říkáme byť to někomu může připadat jako zbytečné ale stále jsou zde politici i v evropě kteří relativizují daný konflikt a zpochybňují kdo je viníkem a kdo je obětí. jsem také rád že to usnesení jasně říká že je třeba zachovat sankce vůči rusku.</td>\n",
              "      <td>125706</td>\n",
              "      <td>True</td>\n",
              "    </tr>\n",
              "    <tr>\n",
              "      <th>4</th>\n",
              "      <td>8</td>\n",
              "      <td>{'path': '/root/.cache/huggingface/datasets/downloads/extracted/f860858b1727f7dfcbcf1817dd95332e8fad098537c56802f61c4de2454c7def/train_part_0/20170201-0900-PLENARY-18-cs_20170201-23:41:51_4.wav', 'array': [0.0003662109375, -0.00018310546875, 0.00018310546875, 0.000823974609375, -0.000579833984375, -0.00030517578125, 6.103515625e-05, -9.1552734375e-05, 0.001373291015625, -0.000335693359375, 3.0517578125e-05, 0.001068115234375, 0.00067138671875, 0.000274658203125, 0.000152587890625, -0.000335693359375, 0.000732421875, 0.000152587890625, -0.000640869140625, -0.000579833984375, -0.000457763671875, -0.001068115234375, -0.00067138671875, -0.0006103515625, -0.00146484375, -0.000762939453125, 0.0008544921875, -0.000640869140625, -0.000701904296875, 0.0, 0.000518798828125, 0.000518798828125, -0.000457763671875, 0.000946044921875, 0.001678466796875, 0.0008544921875, -0.000396728515625, 3.0517578125e-05, 0.00164794921875, 0.0001220703125, 0.00018310546875, 0.00140380859375, 0.00054931640625, 0.0003662109375, -9.1552734375e-05, -0.000152587890625, 0.0015869140625, 0.000518798828125, -0.0008544921875, 0.000640869140625, 0.000732421875, -0.001983642578125, -0.000762939453125, -0.000457763671875, -0.000701904296875, 6.103515625e-05, -0.0006103515625, -6.103515625e-05, -0.000274658203125, 0.000457763671875, -0.000396728515625, -0.00018310546875, 3.0517578125e-05, -0.000579833984375, 0.000640869140625, 0.000823974609375, 0.000457763671875, -0.00042724609375, -0.00042724609375, -0.000762939453125, -0.0010986328125, 0.00018310546875, -0.000732421875, 6.103515625e-05, 0.0009765625, 0.000396728515625, -0.00177001953125, 0.00091552734375, 0.00189208984375, -0.00067138671875, -6.103515625e-05, 0.00054931640625, -0.0008544921875, 3.0517578125e-05, 0.001007080078125, 0.002044677734375, 0.0008544921875, -0.00067138671875, -0.0006103515625, 6.103515625e-05, 0.000213623046875, 0.000762939453125, -0.000396728515625, -3.0517578125e-05, -0.000244140625, -0.0001220703125, -0.0006103515625, -0.000946044921875, -0.0001220703125, -0.001678466796875, ...], 'sampling_rate': 16000}</td>\n",
              "      <td>chci informovat že u nás v české republice je nyní v parlamentu návrh veterinárního zákona který má zavést registraci psů který má dát jasné podmínky pro čipování a pro veřejný registr.</td>\n",
              "      <td>125706</td>\n",
              "      <td>True</td>\n",
              "    </tr>\n",
              "    <tr>\n",
              "      <th>5</th>\n",
              "      <td>8</td>\n",
              "      <td>{'path': '/root/.cache/huggingface/datasets/downloads/extracted/f860858b1727f7dfcbcf1817dd95332e8fad098537c56802f61c4de2454c7def/train_part_0/20190416-0900-PLENARY-cs_20190416-13:10:07_4.wav', 'array': [-0.003936767578125, -0.00311279296875, -0.0025634765625, -0.00274658203125, -0.003082275390625, -0.002655029296875, -0.002593994140625, -0.001953125, -0.00115966796875, -0.000457763671875, -0.000701904296875, -0.0020751953125, -0.003143310546875, -0.004150390625, -0.006011962890625, -0.008270263671875, -0.00921630859375, -0.0079345703125, -0.007171630859375, -0.0072021484375, -0.00933837890625, -0.011566162109375, -0.012481689453125, -0.014129638671875, -0.014892578125, -0.01513671875, -0.01513671875, -0.015960693359375, -0.0172119140625, -0.017547607421875, -0.016021728515625, -0.013092041015625, -0.010009765625, -0.008209228515625, -0.00762939453125, -0.007354736328125, -0.0064697265625, -0.004547119140625, -0.00164794921875, 0.001373291015625, 0.003326416015625, 0.004913330078125, 0.006317138671875, 0.00872802734375, 0.0115966796875, 0.0147705078125, 0.017364501953125, 0.01824951171875, 0.0179443359375, 0.016998291015625, 0.016326904296875, 0.0166015625, 0.017578125, 0.018096923828125, 0.018096923828125, 0.018829345703125, 0.0196533203125, 0.01898193359375, 0.017242431640625, 0.01629638671875, 0.016357421875, 0.015716552734375, 0.013763427734375, 0.011444091796875, 0.010009765625, 0.0093994140625, 0.0084228515625, 0.006805419921875, 0.00653076171875, 0.006622314453125, 0.005523681640625, 0.002777099609375, -0.0001220703125, -0.001190185546875, -0.00140380859375, -0.002288818359375, -0.005157470703125, -0.00701904296875, -0.007232666015625, -0.00787353515625, -0.0091552734375, -0.009735107421875, -0.009246826171875, -0.009521484375, -0.01141357421875, -0.014190673828125, -0.01446533203125, -0.01324462890625, -0.01336669921875, -0.014617919921875, -0.015380859375, -0.013946533203125, -0.0130615234375, -0.013031005859375, -0.012451171875, -0.010833740234375, -0.00994873046875, -0.011016845703125, -0.01177978515625, -0.01043701171875, ...], 'sampling_rate': 16000}</td>\n",
              "      <td>jedná se o zpřístupňování informací a podávání zpráv v rámci subjektů které působí ve finančním sektoru.</td>\n",
              "      <td>124704</td>\n",
              "      <td>True</td>\n",
              "    </tr>\n",
              "    <tr>\n",
              "      <th>6</th>\n",
              "      <td>8</td>\n",
              "      <td>{'path': '/root/.cache/huggingface/datasets/downloads/extracted/f860858b1727f7dfcbcf1817dd95332e8fad098537c56802f61c4de2454c7def/train_part_0/20180314-0900-PLENARY-8-cs_20180314-13:33:50_2.wav', 'array': [0.00115966796875, 0.000640869140625, 6.103515625e-05, 0.0001220703125, 0.000213623046875, -9.1552734375e-05, -0.0001220703125, 0.000457763671875, 0.000946044921875, 0.00048828125, -0.000457763671875, -0.00067138671875, 6.103515625e-05, 0.0006103515625, 0.000518798828125, 0.00042724609375, 0.000274658203125, 3.0517578125e-05, -0.0001220703125, 0.0001220703125, 0.000335693359375, 0.00030517578125, 0.00018310546875, 6.103515625e-05, 0.0, 9.1552734375e-05, 0.000335693359375, 0.00018310546875, 3.0517578125e-05, 0.000335693359375, 0.000274658203125, -0.00054931640625, -0.0008544921875, -0.000335693359375, 0.000274658203125, 0.00054931640625, -6.103515625e-05, -0.00079345703125, -0.00030517578125, 0.000640869140625, 0.000213623046875, -0.000762939453125, -0.000732421875, -9.1552734375e-05, 0.000396728515625, 0.000335693359375, -0.000213623046875, -0.000579833984375, -0.00042724609375, -0.00048828125, -0.00048828125, 3.0517578125e-05, 0.00048828125, -3.0517578125e-05, -0.00103759765625, -0.001190185546875, -3.0517578125e-05, 0.000823974609375, 0.000152587890625, -0.000823974609375, -0.0009765625, -0.00030517578125, 0.000152587890625, -0.00018310546875, -0.000579833984375, -0.00054931640625, -0.00054931640625, -0.000640869140625, -0.00030517578125, -9.1552734375e-05, -0.000244140625, -0.000396728515625, -0.0006103515625, -0.00030517578125, 0.0003662109375, 0.00018310546875, -0.00030517578125, -3.0517578125e-05, -3.0517578125e-05, -0.000396728515625, -0.00030517578125, 0.0, 0.000274658203125, 0.00048828125, 0.000213623046875, -0.000152587890625, 0.000213623046875, 0.00048828125, 0.0001220703125, -0.000213623046875, -0.0001220703125, 0.000152587890625, 9.1552734375e-05, -0.000335693359375, -0.000518798828125, -0.000335693359375, -9.1552734375e-05, 0.000335693359375, 0.00030517578125, -0.000152587890625, ...], 'sampling_rate': 16000}</td>\n",
              "      <td>kladu si otázku proč tomu tak je?</td>\n",
              "      <td>23712</td>\n",
              "      <td>True</td>\n",
              "    </tr>\n",
              "    <tr>\n",
              "      <th>7</th>\n",
              "      <td>8</td>\n",
              "      <td>{'path': '/root/.cache/huggingface/datasets/downloads/extracted/f860858b1727f7dfcbcf1817dd95332e8fad098537c56802f61c4de2454c7def/train_part_0/20191218-0900-PLENARY-cs_20191218-22:12:04_1.wav', 'array': [-0.000274658203125, -0.0120849609375, -0.00250244140625, -0.0001220703125, 0.00152587890625, 0.006103515625, 0.00213623046875, -0.00054931640625, -0.0086669921875, -0.00482177734375, 0.005279541015625, 0.005523681640625, 0.00482177734375, 0.000762939453125, -0.005401611328125, -0.002593994140625, 0.00543212890625, 0.0003662109375, -0.003875732421875, 0.002655029296875, 0.002960205078125, -0.001434326171875, -0.00433349609375, 0.002593994140625, 0.006561279296875, 0.0006103515625, -0.0035400390625, -0.004486083984375, 0.002655029296875, -0.00152587890625, -0.003997802734375, 0.00384521484375, -0.0006103515625, 0.005950927734375, 0.007049560546875, -0.0107421875, -0.005218505859375, 0.006500244140625, 0.003326416015625, -0.004302978515625, -0.001068115234375, 0.0064697265625, -0.009765625, -0.010955810546875, 0.012908935546875, 0.004119873046875, -0.01666259765625, 0.005645751953125, 0.013824462890625, -0.01007080078125, 0.001190185546875, 0.01336669921875, -0.011810302734375, -0.015716552734375, 0.016937255859375, 0.00982666015625, -0.018096923828125, -0.002655029296875, 0.010162353515625, -0.005828857421875, -0.002349853515625, 0.016326904296875, 0.0001220703125, -0.00640869140625, 0.007049560546875, -0.000640869140625, -0.0054931640625, -0.001953125, -0.0029296875, -0.007965087890625, -0.00244140625, 0.010223388671875, 0.01019287109375, 0.001495361328125, -0.00091552734375, 0.00048828125, -0.000885009765625, -0.0067138671875, -0.008697509765625, 0.003265380859375, 0.00494384765625, -0.00799560546875, 0.001220703125, 0.0107421875, -6.103515625e-05, 0.00189208984375, -0.001434326171875, -0.00872802734375, 0.000579833984375, 0.00836181640625, -0.001708984375, -0.011199951171875, -0.00177001953125, 0.00714111328125, 0.009185791015625, -0.001129150390625, -0.00433349609375, 0.00140380859375, -0.00457763671875, -0.001617431640625, ...], 'sampling_rate': 16000}</td>\n",
              "      <td>já neznám žádné odůvodnění žádnými společenskými kulturními normami nebo nějakými zvyklostmi.</td>\n",
              "      <td>124704</td>\n",
              "      <td>True</td>\n",
              "    </tr>\n",
              "    <tr>\n",
              "      <th>8</th>\n",
              "      <td>8</td>\n",
              "      <td>{'path': '/root/.cache/huggingface/datasets/downloads/extracted/f860858b1727f7dfcbcf1817dd95332e8fad098537c56802f61c4de2454c7def/train_part_0/20200210-0900-PLENARY-cs_20200210-20:14:10_2.wav', 'array': [-0.00640869140625, 0.004425048828125, 0.000335693359375, 0.005615234375, 0.012359619140625, 0.000518798828125, -0.0089111328125, -0.00518798828125, -0.000762939453125, 0.00244140625, 0.008544921875, 0.003662109375, -0.001220703125, -0.00323486328125, -0.0048828125, 0.001251220703125, 0.0062255859375, 0.005706787109375, 0.000823974609375, -0.00738525390625, -0.0078125, 9.1552734375e-05, 0.008941650390625, -0.00128173828125, -0.009002685546875, -0.00091552734375, 0.0106201171875, 0.003814697265625, -0.0113525390625, -0.00421142578125, 0.008819580078125, 0.003509521484375, -0.00714111328125, -0.003631591796875, 0.000457763671875, 0.00640869140625, 0.00439453125, -0.0086669921875, -0.0042724609375, 0.0048828125, 0.0072021484375, -0.001708984375, -0.00640869140625, 0.001922607421875, 0.010040283203125, 0.00177001953125, -0.011688232421875, -0.008056640625, 0.00958251953125, 0.013214111328125, 0.0, -0.006988525390625, -0.00701904296875, 0.00250244140625, 0.00201416015625, -0.002899169921875, 0.000946044921875, 0.0059814453125, -0.002716064453125, -0.0111083984375, 0.00042724609375, 0.01141357421875, 0.006072998046875, -0.002777099609375, -0.008758544921875, -0.010833740234375, 0.00067138671875, 0.01324462890625, 0.009246826171875, -0.005096435546875, -0.0106201171875, 0.000457763671875, 0.006378173828125, 0.00030517578125, -0.004486083984375, 0.002685546875, 0.0054931640625, -0.006256103515625, -0.01275634765625, 0.000762939453125, 0.0133056640625, 0.007354736328125, -0.0081787109375, -0.003265380859375, 0.001251220703125, 0.0029296875, 0.004425048828125, -0.002044677734375, -0.009765625, -0.0057373046875, 0.0009765625, 0.003082275390625, 0.0101318359375, 0.0010986328125, -0.00531005859375, -0.002960205078125, 0.0015869140625, -0.002593994140625, -0.007232666015625, 0.004180908203125, ...], 'sampling_rate': 16000}</td>\n",
              "      <td>my jsme tomuto tématu věnovali velkou pozornost i v minulém volebním období ve výboru imco.</td>\n",
              "      <td>125706</td>\n",
              "      <td>True</td>\n",
              "    </tr>\n",
              "    <tr>\n",
              "      <th>9</th>\n",
              "      <td>8</td>\n",
              "      <td>{'path': '/root/.cache/huggingface/datasets/downloads/extracted/f860858b1727f7dfcbcf1817dd95332e8fad098537c56802f61c4de2454c7def/train_part_0/20130311-0900-PLENARY-16-cs_20130311-21:06:00_1.wav', 'array': [0.000396728515625, -0.001739501953125, 0.002197265625, 0.004486083984375, 0.002166748046875, -0.000701904296875, 0.00030517578125, 0.006195068359375, 0.004638671875, 0.00079345703125, 0.00103759765625, -0.002410888671875, 0.000152587890625, 0.006744384765625, 0.003265380859375, 0.00079345703125, 0.000274658203125, -0.00250244140625, 3.0517578125e-05, 0.00115966796875, -3.0517578125e-05, 0.00067138671875, -0.000274658203125, -0.002105712890625, -0.00299072265625, -0.003204345703125, -0.001678466796875, -0.00067138671875, -0.00360107421875, -0.004119873046875, 0.000823974609375, 0.003570556640625, 0.00152587890625, -0.001495361328125, -0.004058837890625, -0.003662109375, 0.00091552734375, 0.001678466796875, -0.001983642578125, -0.00372314453125, -0.00457763671875, -0.002685546875, 0.0001220703125, 0.00201416015625, 0.00225830078125, -0.00146484375, 0.00164794921875, 0.003692626953125, -0.001678466796875, -0.001373291015625, -0.00146484375, -0.000732421875, 0.002960205078125, 0.00152587890625, 0.001190185546875, 0.00079345703125, -0.003662109375, -0.00439453125, -0.0023193359375, -0.00091552734375, -0.000518798828125, -0.002044677734375, -0.002838134765625, -0.001983642578125, 0.000823974609375, 0.001861572265625, 9.1552734375e-05, -0.00054931640625, 0.00054931640625, 0.002349853515625, 0.000213623046875, -0.0003662109375, 0.0018310546875, -0.003387451171875, -0.00634765625, -0.002471923828125, 0.000640869140625, -0.00079345703125, -0.0042724609375, 0.002197265625, 0.004669189453125, -0.00286865234375, -0.00531005859375, -0.009246826171875, -0.00555419921875, 0.005950927734375, 0.0042724609375, -0.000213623046875, 0.000335693359375, -0.0006103515625, -0.004241943359375, -0.003570556640625, 0.005462646484375, 0.005218505859375, -0.001373291015625, 0.001251220703125, 0.006072998046875, 0.00933837890625, 0.005615234375, -0.00250244140625, ...], 'sampling_rate': 16000}</td>\n",
              "      <td>jsou to právě členské státy a jejich národní regulátoři kteří plně odpovídají za bezpečnost jaderných elektráren.</td>\n",
              "      <td>28323</td>\n",
              "      <td>True</td>\n",
              "    </tr>\n",
              "  </tbody>\n",
              "</table>"
            ]
          },
          "metadata": {}
        }
      ],
      "source": [
        "show_random_elements(common_voice_train.remove_columns([\"audio_id\", \"raw_text\"]), num_examples=10)"
      ]
    },
    {
      "cell_type": "code",
      "execution_count": null,
      "metadata": {
        "id": "svKzVJ_hQGK6"
      },
      "outputs": [],
      "source": [
        "import re\n",
        "chars_to_remove_regex = '[\\,\\?\\.\\!\\-\\;\\:\\\"\\“\\%\\‘\\”\\�\\']'\n",
        "\n",
        "def remove_special_characters(batch):\n",
        "    batch[\"raw_text\"] = re.sub(chars_to_remove_regex, '', batch[\"raw_text\"]).lower()\n",
        "    return batch"
      ]
    },
    {
      "cell_type": "code",
      "execution_count": null,
      "metadata": {
        "colab": {
          "base_uri": "https://localhost:8080/"
        },
        "id": "-1PIwzSvVHJp",
        "outputId": "3b34fcae-eeb4-48a9-9d66-d89bb7dca734"
      },
      "outputs": [
        {
          "output_type": "execute_result",
          "data": {
            "text/plain": [
              "Dataset({\n",
              "    features: ['audio_id', 'language', 'audio', 'raw_text', 'normalized_text', 'speaker_id', 'is_gold_transcript'],\n",
              "    num_rows: 3000\n",
              "})"
            ]
          },
          "metadata": {},
          "execution_count": 14
        }
      ],
      "source": [
        "common_voice_train"
      ]
    },
    {
      "cell_type": "code",
      "execution_count": null,
      "metadata": {
        "colab": {
          "base_uri": "https://localhost:8080/",
          "height": 49,
          "referenced_widgets": [
            "e070a4a6646d4ead825d6abfffe4a15a",
            "937696b89909437ebfeb159c3f5cbe44",
            "9092dfa6f81142ea9d6efc5a683b413f",
            "14c0386024654281822c9b69277ac0d5",
            "b57efcd2b0c0492b872f80476c5e492e",
            "80b846610a674c298e5a27189016b868",
            "d56f574412ab44fb947baec9d239904f",
            "7fe66d679b78429db7c3602011f7c1af",
            "80749835ee8b4e8e8cc8269d7a8e37f1",
            "e0fbc67387bc4e72b53633620c7eb102",
            "e7178de5b26e402a8bd5bb687c5aead6"
          ]
        },
        "id": "XIHocAuTQbBR",
        "outputId": "9c179ed2-70d2-4124-8141-794535d71dbb"
      },
      "outputs": [
        {
          "output_type": "display_data",
          "data": {
            "text/plain": [
              "Map:   0%|          | 0/3000 [00:00<?, ? examples/s]"
            ],
            "application/vnd.jupyter.widget-view+json": {
              "version_major": 2,
              "version_minor": 0,
              "model_id": "e070a4a6646d4ead825d6abfffe4a15a"
            }
          },
          "metadata": {}
        }
      ],
      "source": [
        "common_voice_train = common_voice_train.map(remove_special_characters)\n",
        "common_voice_test = common_voice_test.map(remove_special_characters)"
      ]
    },
    {
      "cell_type": "code",
      "execution_count": null,
      "metadata": {
        "colab": {
          "base_uri": "https://localhost:8080/"
        },
        "id": "OdiaN4vbTDN-",
        "outputId": "bfa27397-292a-45f9-b5ac-c5d1edc2677f"
      },
      "outputs": [
        {
          "output_type": "execute_result",
          "data": {
            "text/plain": [
              "Dataset({\n",
              "    features: ['audio_id', 'language', 'audio', 'raw_text', 'normalized_text', 'speaker_id', 'is_gold_transcript'],\n",
              "    num_rows: 3000\n",
              "})"
            ]
          },
          "metadata": {},
          "execution_count": 16
        }
      ],
      "source": [
        "common_voice_train"
      ]
    },
    {
      "cell_type": "code",
      "execution_count": null,
      "metadata": {
        "id": "TGAA3quKUZpI"
      },
      "outputs": [],
      "source": [
        "def replace_hatted_characters(batch):\n",
        "    batch[\"normalized_text\"] = re.sub('á', 'a', batch[\"normalized_text\"])\n",
        "    batch[\"normalized_text\"] = re.sub('é', 'e', batch[\"normalized_text\"])\n",
        "    batch[\"normalized_text\"] = re.sub('í', 'i', batch[\"normalized_text\"])\n",
        "    batch[\"normalized_text\"] = re.sub('ó', 'o', batch[\"normalized_text\"])\n",
        "    batch[\"normalized_text\"] = re.sub('ú', 'u', batch[\"normalized_text\"])\n",
        "    batch[\"normalized_text\"] = re.sub('ý', 'y', batch[\"normalized_text\"])\n",
        "    batch[\"normalized_text\"] = re.sub('č', 'c', batch[\"normalized_text\"])\n",
        "    batch[\"normalized_text\"] = re.sub('ď', 'd', batch[\"normalized_text\"])\n",
        "    batch[\"normalized_text\"] = re.sub('ě', 'e', batch[\"normalized_text\"])\n",
        "    batch[\"normalized_text\"] = re.sub('ň', 'n', batch[\"normalized_text\"])\n",
        "    batch[\"normalized_text\"] = re.sub('ř', 'r', batch[\"normalized_text\"])\n",
        "    batch[\"normalized_text\"] = re.sub('š', 's', batch[\"normalized_text\"])\n",
        "    batch[\"normalized_text\"] = re.sub('ť', 't', batch[\"normalized_text\"])\n",
        "    batch[\"normalized_text\"] = re.sub('ů', 'u', batch[\"normalized_text\"])\n",
        "    batch[\"normalized_text\"] = re.sub('ž', 'z', batch[\"normalized_text\"])\n",
        "    # how to find this???\n",
        "    return batch\n",
        "\n",
        "# should be changed???"
      ]
    },
    {
      "cell_type": "code",
      "execution_count": null,
      "metadata": {
        "colab": {
          "base_uri": "https://localhost:8080/",
          "height": 49,
          "referenced_widgets": [
            "8a45258777cd4df1b37c64b8d5c7b6c0",
            "e2377d1232e9411bba506055a63d78db",
            "969dff7c4bd14e16b2312b0904285cda",
            "fcc88049f4c240d991fa535f7692d1d2",
            "792b33324bd142b78e9902cd361b3c11",
            "4079cf9528a24e838973ff3c1d2ba29b",
            "ab661d768e504006b7d69d94a463c489",
            "42f80385246e4bb3bd993c9212f2b3ed",
            "1a72dd7e295b439aba271d4a4f871563",
            "065c62d51bb940639e8075ac67731393",
            "bf90812a3c7c4a288d4e51e7d749711f"
          ]
        },
        "id": "0Qw1wv3bXKtA",
        "outputId": "7cb475b0-9751-4d08-98d8-9e8477a920a9"
      },
      "outputs": [
        {
          "output_type": "display_data",
          "data": {
            "text/plain": [
              "Map:   0%|          | 0/3000 [00:00<?, ? examples/s]"
            ],
            "application/vnd.jupyter.widget-view+json": {
              "version_major": 2,
              "version_minor": 0,
              "model_id": "8a45258777cd4df1b37c64b8d5c7b6c0"
            }
          },
          "metadata": {}
        }
      ],
      "source": [
        "common_voice_train = common_voice_train.map(replace_hatted_characters)\n",
        "common_voice_test = common_voice_test.map(replace_hatted_characters)"
      ]
    },
    {
      "cell_type": "code",
      "execution_count": null,
      "metadata": {
        "id": "KdH2mfk9thPM"
      },
      "outputs": [],
      "source": [
        "# import requests\n",
        "# from phonemizer import phonemize\n",
        "# from phonemizer.separator import Separator\n",
        "\n",
        "sentence = 'normalized_text'\n",
        "\n",
        "# def ipa_encode(batch):\n",
        "#   sentences = batch[sentence]\n",
        "#   if type(sentences) is list:\n",
        "#     sentences = \"\\n\".join(sentences)\n",
        "#   text = [line.strip() for line in sentences.split('\\n') if line]\n",
        "\n",
        "#   phn = phonemize(\n",
        "#     text,\n",
        "#     language='cs',\n",
        "#     backend='espeak',\n",
        "#     separator=Separator(phone=None, word=' ', syllable='|'),\n",
        "#     strip=True,\n",
        "#     preserve_punctuation=True)\n",
        "#   batch[sentence] = phn\n",
        "#   return batch\n",
        "\n",
        "# # 整的需要ipa_encode吗？？？\n",
        "# # using 'normalized_text' or raw? Could be able to use normalized_text directly without any processing, right? ? ?"
      ]
    },
    {
      "cell_type": "code",
      "execution_count": null,
      "metadata": {
        "id": "pfp4p3ETtywE"
      },
      "outputs": [],
      "source": [
        "# common_voice_train = common_voice_train.map(ipa_encode, batched=True, batch_size=20, keep_in_memory=True)\n",
        "# common_voice_test = common_voice_test.map(ipa_encode, batched=True, batch_size=20, keep_in_memory=True)"
      ]
    },
    {
      "cell_type": "code",
      "execution_count": null,
      "metadata": {
        "colab": {
          "base_uri": "https://localhost:8080/",
          "height": 936
        },
        "id": "RBDRAAYxRE6n",
        "outputId": "9301c1d8-22f8-4f0b-b22b-c6fe8f744e2b"
      },
      "outputs": [
        {
          "output_type": "display_data",
          "data": {
            "text/plain": [
              "<IPython.core.display.HTML object>"
            ],
            "text/html": [
              "<table border=\"1\" class=\"dataframe\">\n",
              "  <thead>\n",
              "    <tr style=\"text-align: right;\">\n",
              "      <th></th>\n",
              "      <th>language</th>\n",
              "      <th>raw_text</th>\n",
              "      <th>normalized_text</th>\n",
              "      <th>speaker_id</th>\n",
              "      <th>is_gold_transcript</th>\n",
              "    </tr>\n",
              "  </thead>\n",
              "  <tbody>\n",
              "    <tr>\n",
              "      <th>0</th>\n",
              "      <td>8</td>\n",
              "      <td>už jsem zde jednou hovořila o tom že jsem přesvědčena že celá evropská unie je postavena na dohodách na dohodách mezi členskými státy a institucemi</td>\n",
              "      <td>už jsem zde jednou hovořila o tom že jsem přesvědcena že cela evropska unie je postavena na dohodach na dohodach mezi clenskymi staty a institucemi.</td>\n",
              "      <td>96719</td>\n",
              "      <td>True</td>\n",
              "    </tr>\n",
              "    <tr>\n",
              "      <th>1</th>\n",
              "      <td>8</td>\n",
              "      <td>pole jsou plná herbicidů a pesticidů roundup tomu říkají</td>\n",
              "      <td>pole jsou plna herbicidů a pesticidů roundup tomu řikaji.</td>\n",
              "      <td>197537</td>\n",
              "      <td>True</td>\n",
              "    </tr>\n",
              "    <tr>\n",
              "      <th>2</th>\n",
              "      <td>8</td>\n",
              "      <td>vždy se musela vypracovat vždy musela nějak začít</td>\n",
              "      <td>vždy se musela vypracovat vždy musela nějak zacit.</td>\n",
              "      <td>124709</td>\n",
              "      <td>True</td>\n",
              "    </tr>\n",
              "    <tr>\n",
              "      <th>3</th>\n",
              "      <td>8</td>\n",
              "      <td>bohužel dramaticky to dopadá na podnikatele jiných zemí kteří jsou tak buď nuceni porušovat domácí zákony nebo se vystavit vysokým sankčním pokutám ze strany německých úřadů</td>\n",
              "      <td>bohužel dramaticky to dopada na podnikatele jinych zemi kteři jsou tak buď nuceni porušovat domaci zakony nebo se vystavit vysokym sankcnim pokutam ze strany německych uřadů.</td>\n",
              "      <td>96713</td>\n",
              "      <td>True</td>\n",
              "    </tr>\n",
              "    <tr>\n",
              "      <th>4</th>\n",
              "      <td>8</td>\n",
              "      <td>myslím si totiž že odvedl obrovský kus práce a chtěl bych poděkovat i všem kteří se na této zprávě spolupodíleli protože mi přijde z mého pohledu velmi vyvážená</td>\n",
              "      <td>myslim si totiž že odvedl obrovsky kus prace a chtěl bych poděkovat i všem kteři se na teto zpravě spolupodileli protože mi přijde z meho pohledu velmi vyvažena.</td>\n",
              "      <td>124713</td>\n",
              "      <td>True</td>\n",
              "    </tr>\n",
              "    <tr>\n",
              "      <th>5</th>\n",
              "      <td>8</td>\n",
              "      <td>na bývalý sovětský svaz</td>\n",
              "      <td>na byvaly sovětsky svaz.</td>\n",
              "      <td>23707</td>\n",
              "      <td>True</td>\n",
              "    </tr>\n",
              "    <tr>\n",
              "      <th>6</th>\n",
              "      <td>8</td>\n",
              "      <td>je proto přirozené že zde existuje i řada společných projektů</td>\n",
              "      <td>je proto přirozene že zde existuje i řada spolecnych projektů.</td>\n",
              "      <td>96718</td>\n",
              "      <td>True</td>\n",
              "    </tr>\n",
              "    <tr>\n",
              "      <th>7</th>\n",
              "      <td>8</td>\n",
              "      <td>efektivní kontrola dnes již není možná bez dohody o společných pravidlech pro celou „sedmadvacítku</td>\n",
              "      <td>efektivni kontrola dnes již neni možna bez dohody o spolecnych pravidlech pro celou sedmadvacitku.</td>\n",
              "      <td>28352</td>\n",
              "      <td>True</td>\n",
              "    </tr>\n",
              "    <tr>\n",
              "      <th>8</th>\n",
              "      <td>8</td>\n",
              "      <td>poté co zavedeme nějaké opatření tak ho hned musíme kritizovat a nepočkáme na jeho dopady a na jeho zaběhnutí</td>\n",
              "      <td>pote co zavedeme nějake opatřeni tak ho hned musime kritizovat a nepockame na jeho dopady a na jeho zaběhnuti.</td>\n",
              "      <td>124713</td>\n",
              "      <td>True</td>\n",
              "    </tr>\n",
              "    <tr>\n",
              "      <th>9</th>\n",
              "      <td>8</td>\n",
              "      <td>to co bych chtěl ovšem zdůraznit v té zprávě je uvedeno tuším v bodu 13 že podstoupení této praktiky má mít za následek případně automaticky přiznání práva na azyl</td>\n",
              "      <td>to co bych chtěl ovšem zdůraznit v te zpravě je uvedeno tušim v bodu thirteen že podstoupeni teto praktiky ma mit za nasledek připadně automaticky přiznani prava na azyl.</td>\n",
              "      <td>124704</td>\n",
              "      <td>True</td>\n",
              "    </tr>\n",
              "  </tbody>\n",
              "</table>"
            ]
          },
          "metadata": {}
        }
      ],
      "source": [
        "show_random_elements(common_voice_train.remove_columns([\"audio_id\",\"audio\"]))"
      ]
    },
    {
      "cell_type": "code",
      "execution_count": null,
      "metadata": {
        "id": "LwCshNbbeRZR"
      },
      "outputs": [],
      "source": [
        "def extract_all_chars(batch):\n",
        "  all_text = \" \".join(batch[\"normalized_text\"])\n",
        "  vocab = list(set(all_text))\n",
        "  return {\"vocab\": [vocab], \"all_text\": [all_text]}"
      ]
    },
    {
      "cell_type": "code",
      "execution_count": null,
      "metadata": {
        "colab": {
          "base_uri": "https://localhost:8080/",
          "height": 81,
          "referenced_widgets": [
            "e14a5c8fb38243288b7184d2c08d8354",
            "2a06bf049e34419e9dc0808a07d49e7f",
            "df2aa115a7ca4aebb4e94c6cdc38a4a8",
            "f42b95e63bc140f1b7d821abad8b297b",
            "d765fb100dfc4a3baf116cf677ef17de",
            "68226ba23acc44a7b3827fec53af31a0",
            "8242efd5b88445e5b199af09ca671915",
            "9d8b5ff9dade44fa9bfbd6bc42498cf2",
            "df76dab8ac4d41fe8153d8232f4a7927",
            "f8ea66e7211f49d39e2d2afb434210b7",
            "669ba455519e438ba88d7f9c0c82ed94",
            "5039ba151ebd431295d4ccfb1fad98bd",
            "075fbd0d852748c8af7996c1b970a663",
            "87c571538a564b19acb98c8f5f9be4ca",
            "85c1dcba9e0948be88283c54e24507e9",
            "95689ad436c646c1b71ff362f23da047",
            "339b877954c04d61b55f171891d39668",
            "8d6268aef3cd44bf8f48e410a22739f5",
            "45e52602a6de48908a648f59d342a2d7",
            "686e6715642d4f2aaf0030747743ee75",
            "6fe1f839ecb0419b886f54d66ed8a0da",
            "47e51fcfbc3f4e8ea7ecf2f3a72376eb"
          ]
        },
        "id": "_m6uUjjcfbjH",
        "outputId": "28b3dd80-dc1e-4e7a-e2f4-1a0c7bb7dbb8"
      },
      "outputs": [
        {
          "output_type": "display_data",
          "data": {
            "text/plain": [
              "Map:   0%|          | 0/3000 [00:00<?, ? examples/s]"
            ],
            "application/vnd.jupyter.widget-view+json": {
              "version_major": 2,
              "version_minor": 0,
              "model_id": "e14a5c8fb38243288b7184d2c08d8354"
            }
          },
          "metadata": {}
        },
        {
          "output_type": "display_data",
          "data": {
            "text/plain": [
              "Map:   0%|          | 0/500 [00:00<?, ? examples/s]"
            ],
            "application/vnd.jupyter.widget-view+json": {
              "version_major": 2,
              "version_minor": 0,
              "model_id": "5039ba151ebd431295d4ccfb1fad98bd"
            }
          },
          "metadata": {}
        }
      ],
      "source": [
        "vocab_train = common_voice_train.map(extract_all_chars, batched=True, batch_size=-1, keep_in_memory=True, remove_columns=common_voice_train.column_names)\n",
        "vocab_test = common_voice_test.map(extract_all_chars, batched=True, batch_size=-1, keep_in_memory=True, remove_columns=common_voice_test.column_names)"
      ]
    },
    {
      "cell_type": "code",
      "execution_count": null,
      "metadata": {
        "colab": {
          "base_uri": "https://localhost:8080/"
        },
        "id": "AoN0u2IH8gxO",
        "outputId": "bb128188-0064-465b-857e-655fb1e34bd2"
      },
      "outputs": [
        {
          "output_type": "execute_result",
          "data": {
            "text/plain": [
              "{'audio_id': '20140204-0900-PLENARY-23-cs_20140204-22:43:32_1',\n",
              " 'language': 8,\n",
              " 'audio': {'path': '/root/.cache/huggingface/datasets/downloads/extracted/f860858b1727f7dfcbcf1817dd95332e8fad098537c56802f61c4de2454c7def/train_part_0/20140204-0900-PLENARY-23-cs_20140204-22:43:32_1.wav',\n",
              "  'array': array([-0.00384521, -0.00048828,  0.00222778, ...,  0.00286865,\n",
              "          0.00192261,  0.00024414]),\n",
              "  'sampling_rate': 16000},\n",
              " 'raw_text': 'musí být transparentní a srozumitelný firmám musí zaručovat právní jistotu musí usilovat o odstraňování zbytečných byrokratických překážek ale současně musí umět zaručit a vymoci i vysokou úroveň ochrany spotřebitelů a zejména jejich bezpečnost',\n",
              " 'normalized_text': 'musi byt transparentni a srozumitelny firmam musi zarucovat pravni jistotu musi usilovat o odstraňovani zbytecnych byrokratickych překažek ale soucasně musi umět zarucit a vymoci i vysokou uroveň ochrany spotřebitelů a zejmena jejich bezpecnost.',\n",
              " 'speaker_id': '96718',\n",
              " 'is_gold_transcript': True}"
            ]
          },
          "metadata": {},
          "execution_count": 24
        }
      ],
      "source": [
        "common_voice_train[0]"
      ]
    },
    {
      "cell_type": "code",
      "execution_count": null,
      "metadata": {
        "id": "aQfneNsmlJI0"
      },
      "outputs": [],
      "source": [
        "vocab_list = list(set(vocab_train[\"vocab\"][0]) | set(vocab_test[\"vocab\"][0]))"
      ]
    },
    {
      "cell_type": "code",
      "execution_count": null,
      "metadata": {
        "colab": {
          "base_uri": "https://localhost:8080/"
        },
        "id": "_0kRndSvqaKk",
        "outputId": "616925c7-403a-488a-89a5-39ba270751cf"
      },
      "outputs": [
        {
          "output_type": "execute_result",
          "data": {
            "text/plain": [
              "{' ': 0,\n",
              " '!': 1,\n",
              " \"'\": 2,\n",
              " '.': 3,\n",
              " '?': 4,\n",
              " 'a': 5,\n",
              " 'b': 6,\n",
              " 'c': 7,\n",
              " 'd': 8,\n",
              " 'e': 9,\n",
              " 'f': 10,\n",
              " 'g': 11,\n",
              " 'h': 12,\n",
              " 'i': 13,\n",
              " 'j': 14,\n",
              " 'k': 15,\n",
              " 'l': 16,\n",
              " 'm': 17,\n",
              " 'n': 18,\n",
              " 'o': 19,\n",
              " 'p': 20,\n",
              " 'q': 21,\n",
              " 'r': 22,\n",
              " 's': 23,\n",
              " 't': 24,\n",
              " 'u': 25,\n",
              " 'v': 26,\n",
              " 'w': 27,\n",
              " 'x': 28,\n",
              " 'y': 29,\n",
              " 'z': 30,\n",
              " 'ď': 31,\n",
              " 'ě': 32,\n",
              " 'ň': 33,\n",
              " 'ř': 34,\n",
              " 'š': 35,\n",
              " 'ť': 36,\n",
              " 'ů': 37,\n",
              " 'ž': 38}"
            ]
          },
          "metadata": {},
          "execution_count": 26
        }
      ],
      "source": [
        "vocab_dict = {v: k for k, v in enumerate(sorted(vocab_list))}\n",
        "vocab_dict"
      ]
    },
    {
      "cell_type": "code",
      "execution_count": null,
      "metadata": {
        "id": "npbIbBoLgaFX"
      },
      "outputs": [],
      "source": [
        "vocab_dict[\"|\"] = vocab_dict[\" \"]\n",
        "del vocab_dict[\" \"]"
      ]
    },
    {
      "cell_type": "code",
      "execution_count": null,
      "metadata": {
        "colab": {
          "base_uri": "https://localhost:8080/"
        },
        "id": "znF0bNunsjbl",
        "outputId": "1c9219f7-6b60-4313-d9f6-a228ef695627"
      },
      "outputs": [
        {
          "output_type": "execute_result",
          "data": {
            "text/plain": [
              "41"
            ]
          },
          "metadata": {},
          "execution_count": 28
        }
      ],
      "source": [
        "vocab_dict[\"[UNK]\"] = len(vocab_dict)\n",
        "vocab_dict[\"[PAD]\"] = len(vocab_dict)\n",
        "len(vocab_dict)"
      ]
    },
    {
      "cell_type": "code",
      "execution_count": null,
      "metadata": {
        "id": "mSqxIfY1pch8"
      },
      "outputs": [],
      "source": [
        "import json\n",
        "with open('vocab.json', 'w') as vocab_file:\n",
        "    json.dump(vocab_dict, vocab_file)"
      ]
    },
    {
      "cell_type": "code",
      "execution_count": null,
      "metadata": {
        "id": "xriFGEWQkO4M"
      },
      "outputs": [],
      "source": [
        "from transformers import Wav2Vec2CTCTokenizer\n",
        "\n",
        "tokenizer = Wav2Vec2CTCTokenizer.from_pretrained(\"./\", unk_token=\"[UNK]\", pad_token=\"[PAD]\", word_delimiter_token=\"|\")"
      ]
    },
    {
      "cell_type": "code",
      "execution_count": null,
      "metadata": {
        "id": "A1XApZBAF2zr"
      },
      "outputs": [],
      "source": [
        "repo_name_original = \"wav2vec2-large-xls-r-300m-czech-colab\""
      ]
    },
    {
      "cell_type": "code",
      "execution_count": null,
      "metadata": {
        "colab": {
          "base_uri": "https://localhost:8080/"
        },
        "id": "zytE1175GAKM",
        "outputId": "a0998660-cc2c-4e08-84ce-251be34aa3fe"
      },
      "outputs": [
        {
          "output_type": "execute_result",
          "data": {
            "text/plain": [
              "CommitInfo(commit_url='https://huggingface.co/Roxysun/wav2vec2-large-xls-r-300m-czech-colab/commit/15055316078e86570bf9f92906ca627badc7ad26', commit_message='Upload tokenizer', commit_description='', oid='15055316078e86570bf9f92906ca627badc7ad26', pr_url=None, pr_revision=None, pr_num=None)"
            ]
          },
          "metadata": {},
          "execution_count": 32
        }
      ],
      "source": [
        "tokenizer.push_to_hub(repo_name_original)"
      ]
    },
    {
      "cell_type": "code",
      "execution_count": null,
      "metadata": {
        "id": "kAR0-2KLkopp"
      },
      "outputs": [],
      "source": [
        "from transformers import Wav2Vec2FeatureExtractor\n",
        "\n",
        "feature_extractor = Wav2Vec2FeatureExtractor(feature_size=1, sampling_rate=16000, padding_value=0.0, do_normalize=True, return_attention_mask=True)"
      ]
    },
    {
      "cell_type": "code",
      "execution_count": null,
      "metadata": {
        "id": "KYZtoW-tlZgl"
      },
      "outputs": [],
      "source": [
        "from transformers import Wav2Vec2Processor\n",
        "\n",
        "# processor = Wav2Vec2Processor(feature_extractor=feature_extractor, tokenizer=tokenizer)\n",
        "processor = Wav2Vec2Processor.from_pretrained(\"facebook/wav2vec2-base-960h\")"
      ]
    },
    {
      "cell_type": "code",
      "execution_count": null,
      "metadata": {
        "colab": {
          "base_uri": "https://localhost:8080/"
        },
        "id": "39LONaVkWPOu",
        "outputId": "f010426d-7f97-43fb-fae5-59e1bfb2f0ca"
      },
      "outputs": [
        {
          "output_type": "execute_result",
          "data": {
            "text/plain": [
              "Dataset({\n",
              "    features: ['audio_id', 'language', 'audio', 'raw_text', 'normalized_text', 'speaker_id', 'is_gold_transcript'],\n",
              "    num_rows: 3000\n",
              "})"
            ]
          },
          "metadata": {},
          "execution_count": 35
        }
      ],
      "source": [
        "common_voice_train"
      ]
    },
    {
      "cell_type": "code",
      "execution_count": null,
      "metadata": {
        "colab": {
          "base_uri": "https://localhost:8080/"
        },
        "id": "qj_z5Zc3GAs9",
        "outputId": "86737365-b2c8-4afc-c4f7-2fb8c5ee7987"
      },
      "outputs": [
        {
          "output_type": "execute_result",
          "data": {
            "text/plain": [
              "{'path': '/root/.cache/huggingface/datasets/downloads/extracted/f860858b1727f7dfcbcf1817dd95332e8fad098537c56802f61c4de2454c7def/train_part_0/20140204-0900-PLENARY-23-cs_20140204-22:43:32_1.wav',\n",
              " 'array': array([-0.00384521, -0.00048828,  0.00222778, ...,  0.00286865,\n",
              "         0.00192261,  0.00024414]),\n",
              " 'sampling_rate': 16000}"
            ]
          },
          "metadata": {},
          "execution_count": 36
        }
      ],
      "source": [
        "common_voice_train[0][\"audio\"]"
      ]
    },
    {
      "cell_type": "code",
      "execution_count": null,
      "metadata": {
        "id": "rrv65aj7G95i"
      },
      "outputs": [],
      "source": [
        "common_voice_train = common_voice_train.cast_column(\"audio\", Audio(sampling_rate=16_000))\n",
        "common_voice_test = common_voice_test.cast_column(\"audio\", Audio(sampling_rate=16_000))"
      ]
    },
    {
      "cell_type": "code",
      "execution_count": null,
      "metadata": {
        "colab": {
          "base_uri": "https://localhost:8080/"
        },
        "id": "aKtkc1o_HWHC",
        "outputId": "c4865022-b6ef-4529-ecfe-d0fbb8feaa4e"
      },
      "outputs": [
        {
          "output_type": "execute_result",
          "data": {
            "text/plain": [
              "{'path': '/root/.cache/huggingface/datasets/downloads/extracted/f860858b1727f7dfcbcf1817dd95332e8fad098537c56802f61c4de2454c7def/train_part_0/20140204-0900-PLENARY-23-cs_20140204-22:43:32_1.wav',\n",
              " 'array': array([-0.00384521, -0.00048828,  0.00222778, ...,  0.00286865,\n",
              "         0.00192261,  0.00024414]),\n",
              " 'sampling_rate': 16000}"
            ]
          },
          "metadata": {},
          "execution_count": 38
        }
      ],
      "source": [
        "common_voice_train[0][\"audio\"]"
      ]
    },
    {
      "cell_type": "code",
      "execution_count": null,
      "metadata": {
        "colab": {
          "base_uri": "https://localhost:8080/",
          "height": 113
        },
        "id": "dueM6U7Ev0OA",
        "outputId": "2a7ea00c-43f0-4474-9c90-929e9a9ccdfe"
      },
      "outputs": [
        {
          "output_type": "stream",
          "name": "stdout",
          "text": [
            "to si myslim že je i na půdě evropskeho parlamentu ktery velmi casto produkuje naprosto nesmyslne a zbytecne byrokraticke překažky podstatne řici a je dobre že to ta zprava zdůrazňuje.\n"
          ]
        },
        {
          "output_type": "execute_result",
          "data": {
            "text/plain": [
              "<IPython.lib.display.Audio object>"
            ],
            "text/html": [
              "\n",
              "                <audio  controls=\"controls\" autoplay=\"autoplay\">\n",
              "                    <source src=\"data:audio/wav;base64,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\" type=\"audio/wav\" />\n",
              "                    Your browser does not support the audio element.\n",
              "                </audio>\n",
              "              "
            ]
          },
          "metadata": {},
          "execution_count": 39
        }
      ],
      "source": [
        "import IPython.display as ipd\n",
        "import numpy as np\n",
        "import random\n",
        "\n",
        "rand_int = random.randint(0, len(common_voice_train)-1)\n",
        "\n",
        "print(common_voice_train[rand_int][sentence])\n",
        "ipd.Audio(data=common_voice_train[rand_int][\"audio\"][\"array\"], autoplay=True, rate=16000)"
      ]
    },
    {
      "cell_type": "code",
      "execution_count": null,
      "metadata": {
        "colab": {
          "base_uri": "https://localhost:8080/"
        },
        "id": "1Po2g7YPuRTx",
        "outputId": "fc99f800-b7d3-4cf5-95d5-4c16fdedaf25"
      },
      "outputs": [
        {
          "output_type": "stream",
          "name": "stdout",
          "text": [
            "Target text: a evropa se bez energie vcetně te z jaderneho štěpeni i fuze nikam nepohne.\n",
            "Input array shape: (89600,)\n",
            "Sampling rate: 16000\n"
          ]
        }
      ],
      "source": [
        "rand_int = random.randint(0, len(common_voice_train)-1)\n",
        "\n",
        "print(\"Target text:\", common_voice_train[rand_int][sentence])\n",
        "print(\"Input array shape:\", common_voice_train[rand_int][\"audio\"][\"array\"].shape)\n",
        "print(\"Sampling rate:\", common_voice_train[rand_int][\"audio\"][\"sampling_rate\"])"
      ]
    },
    {
      "cell_type": "code",
      "execution_count": null,
      "metadata": {
        "id": "eJY7I0XAwe9p"
      },
      "outputs": [],
      "source": [
        "def prepare_dataset(batch):\n",
        "    audio = batch[\"audio\"]\n",
        "\n",
        "    # batched output is \"un-batched\"\n",
        "    batch[\"input_values\"] = processor(audio[\"array\"], sampling_rate=audio[\"sampling_rate\"]).input_values[0]\n",
        "    batch[\"input_length\"] = len(batch[\"input_values\"])\n",
        "\n",
        "    with processor.as_target_processor():\n",
        "        batch[\"labels\"] = processor(batch[sentence]).input_ids\n",
        "\n",
        "    return batch"
      ]
    },
    {
      "cell_type": "code",
      "execution_count": null,
      "metadata": {
        "colab": {
          "base_uri": "https://localhost:8080/",
          "height": 105,
          "referenced_widgets": [
            "75b76759bc9f4b5492026707a8842db9",
            "cae878e90f7944a795d6c18a2ec4b330",
            "30b3e72cc4954c03a8bbfe08c8921af2",
            "4904bc5c1963478aa98493b1d8f59dc3",
            "d5a6d2211ba7476f91a058f7cc8539d4",
            "84c642657e424dd9ba9f97c196042575",
            "261ce27be1454812a4840d871dbcdae7",
            "6176f47c6a19411681a2deb76dfe14a7",
            "4fff74d8f0b24b2d97c36dcd5a23a404",
            "21f3bc93441b4729b5a561cdc1ac5b83",
            "0703c18b81c145159300b9a32b3b3442"
          ]
        },
        "id": "-np9xYK-wl8q",
        "outputId": "7a49d353-c616-49ce-db3b-0967e32a80b7"
      },
      "outputs": [
        {
          "output_type": "display_data",
          "data": {
            "text/plain": [
              "Map:   0%|          | 0/3000 [00:00<?, ? examples/s]"
            ],
            "application/vnd.jupyter.widget-view+json": {
              "version_major": 2,
              "version_minor": 0,
              "model_id": "75b76759bc9f4b5492026707a8842db9"
            }
          },
          "metadata": {}
        },
        {
          "output_type": "stream",
          "name": "stderr",
          "text": [
            "/usr/local/lib/python3.10/dist-packages/transformers/models/wav2vec2/processing_wav2vec2.py:155: UserWarning: `as_target_processor` is deprecated and will be removed in v5 of Transformers. You can process your labels by using the argument `text` of the regular `__call__` method (either in the same call as your audio inputs, or in a separate call.\n",
            "  warnings.warn(\n"
          ]
        }
      ],
      "source": [
        "common_voice_train = common_voice_train.map(prepare_dataset, remove_columns=common_voice_train.column_names)\n",
        "common_voice_test = common_voice_test.map(prepare_dataset, remove_columns=common_voice_test.column_names)"
      ]
    },
    {
      "cell_type": "code",
      "execution_count": null,
      "metadata": {
        "colab": {
          "base_uri": "https://localhost:8080/"
        },
        "id": "pA2gzUSCUmJ0",
        "outputId": "ddefdcbb-45a2-4e34-bacd-e6b7890b4f9e"
      },
      "outputs": [
        {
          "output_type": "execute_result",
          "data": {
            "text/plain": [
              "Dataset({\n",
              "    features: ['input_values', 'input_length', 'labels'],\n",
              "    num_rows: 3000\n",
              "})"
            ]
          },
          "metadata": {},
          "execution_count": 43
        }
      ],
      "source": [
        "common_voice_train"
      ]
    },
    {
      "cell_type": "code",
      "execution_count": null,
      "metadata": {
        "colab": {
          "base_uri": "https://localhost:8080/",
          "height": 49,
          "referenced_widgets": [
            "e39e36ff205b41f78e253548d0f8bf03",
            "552db6830fda437ebd65a188ab002a96",
            "3913dd80dff54f88b0519ac1ae0cdb94",
            "0e6723600bf64b26951dfe576c9104bd",
            "39d071b0ab5449f0b9b76e88f47667e9",
            "b8c9127fefef438490958aa74fdc8563",
            "f5406a5218a2485f816b3ad4e7e3fcda",
            "baf3d124f9d440e8841c0ed324fccb61",
            "edd40ef79c0e4631bbaa3e37e3e8ae63",
            "37ce0c68380a4530ae3eb7ed1efa698f",
            "54f7c4772bfc4d80bcfc9d93989ef2be"
          ]
        },
        "id": "tdHfbUJ_09iA",
        "outputId": "ba3833c1-1968-4fac-8807-c58b82356cad"
      },
      "outputs": [
        {
          "output_type": "display_data",
          "data": {
            "text/plain": [
              "Filter:   0%|          | 0/3000 [00:00<?, ? examples/s]"
            ],
            "application/vnd.jupyter.widget-view+json": {
              "version_major": 2,
              "version_minor": 0,
              "model_id": "e39e36ff205b41f78e253548d0f8bf03"
            }
          },
          "metadata": {}
        }
      ],
      "source": [
        "# max_input_length_in_sec = 5.0\n",
        "max_input_length_in_sec = 5.0\n",
        "common_voice_train = common_voice_train.filter(lambda x: x < max_input_length_in_sec * processor.feature_extractor.sampling_rate, input_columns=[\"input_length\"])"
      ]
    },
    {
      "cell_type": "code",
      "execution_count": null,
      "metadata": {
        "id": "tborvC9hx88e"
      },
      "outputs": [],
      "source": [
        "import torch\n",
        "\n",
        "from dataclasses import dataclass, field\n",
        "from typing import Any, Dict, List, Optional, Union\n",
        "\n",
        "@dataclass\n",
        "class DataCollatorCTCWithPadding:\n",
        "    \"\"\"\n",
        "    Data collator that will dynamically pad the inputs received.\n",
        "    Args:\n",
        "        processor (:class:`~transformers.Wav2Vec2Processor`)\n",
        "            The processor used for proccessing the data.\n",
        "        padding (:obj:`bool`, :obj:`str` or :class:`~transformers.tokenization_utils_base.PaddingStrategy`, `optional`, defaults to :obj:`True`):\n",
        "            Select a strategy to pad the returned sequences (according to the model's padding side and padding index)\n",
        "            among:\n",
        "            * :obj:`True` or :obj:`'longest'`: Pad to the longest sequence in the batch (or no padding if only a single\n",
        "              sequence if provided).\n",
        "            * :obj:`'max_length'`: Pad to a maximum length specified with the argument :obj:`max_length` or to the\n",
        "              maximum acceptable input length for the model if that argument is not provided.\n",
        "            * :obj:`False` or :obj:`'do_not_pad'` (default): No padding (i.e., can output a batch with sequences of\n",
        "              different lengths).\n",
        "    \"\"\"\n",
        "\n",
        "    processor: Wav2Vec2Processor\n",
        "    padding: Union[bool, str] = True\n",
        "\n",
        "    def __call__(self, features: List[Dict[str, Union[List[int], torch.Tensor]]]) -> Dict[str, torch.Tensor]:\n",
        "        # split inputs and labels since they have to be of different lenghts and need\n",
        "        # different padding methods\n",
        "        input_features = [{\"input_values\": feature[\"input_values\"]} for feature in features]\n",
        "        label_features = [{\"input_ids\": feature[\"labels\"]} for feature in features]\n",
        "\n",
        "        batch = self.processor.pad(\n",
        "            input_features,\n",
        "            padding=self.padding,\n",
        "            return_tensors=\"pt\",\n",
        "        )\n",
        "        with self.processor.as_target_processor():\n",
        "            labels_batch = self.processor.pad(\n",
        "                label_features,\n",
        "                padding=self.padding,\n",
        "                return_tensors=\"pt\",\n",
        "            )\n",
        "\n",
        "        # replace padding with -100 to ignore loss correctly\n",
        "        labels = labels_batch[\"input_ids\"].masked_fill(labels_batch.attention_mask.ne(1), -100)\n",
        "\n",
        "        batch[\"labels\"] = labels\n",
        "\n",
        "        return batch"
      ]
    },
    {
      "cell_type": "code",
      "execution_count": null,
      "metadata": {
        "id": "lbQf5GuZyQ4_"
      },
      "outputs": [],
      "source": [
        "data_collator = DataCollatorCTCWithPadding(processor=processor, padding=True)"
      ]
    },
    {
      "cell_type": "code",
      "execution_count": null,
      "metadata": {
        "colab": {
          "base_uri": "https://localhost:8080/"
        },
        "id": "9Xsux2gmyXso",
        "outputId": "c382cb60-2a48-42ca-fd12-b8014aa99543"
      },
      "outputs": [
        {
          "output_type": "stream",
          "name": "stderr",
          "text": [
            "<ipython-input-47-605de035dfd7>:1: FutureWarning: load_metric is deprecated and will be removed in the next major version of datasets. Use 'evaluate.load' instead, from the new library 🤗 Evaluate: https://huggingface.co/docs/evaluate\n",
            "  wer_metric = load_metric(\"wer\")\n"
          ]
        }
      ],
      "source": [
        "wer_metric = load_metric(\"wer\")"
      ]
    },
    {
      "cell_type": "code",
      "execution_count": null,
      "metadata": {
        "id": "1XZ-kjweyTy_"
      },
      "outputs": [],
      "source": [
        "def compute_metrics(pred):\n",
        "    pred_logits = pred.predictions\n",
        "    pred_ids = np.argmax(pred_logits, axis=-1)\n",
        "\n",
        "    pred.label_ids[pred.label_ids == -100] = processor.tokenizer.pad_token_id\n",
        "\n",
        "    pred_str = processor.batch_decode(pred_ids)\n",
        "    # we do not want to group tokens when computing the metrics\n",
        "    label_str = processor.batch_decode(pred.label_ids, group_tokens=False)\n",
        "\n",
        "    wer = wer_metric.compute(predictions=pred_str, references=label_str)\n",
        "\n",
        "    return {\"wer\": wer}"
      ]
    },
    {
      "cell_type": "code",
      "execution_count": null,
      "metadata": {
        "colab": {
          "base_uri": "https://localhost:8080/"
        },
        "id": "2-VQOa1fKYHk",
        "outputId": "b08b12b0-8768-420c-a964-4d58d1640ade"
      },
      "outputs": [
        {
          "output_type": "stream",
          "name": "stderr",
          "text": [
            "Some weights of the model checkpoint at facebook/wav2vec2-lv-60-espeak-cv-ft were not used when initializing Wav2Vec2ForCTC: ['wav2vec2.encoder.pos_conv_embed.conv.weight_v', 'wav2vec2.encoder.pos_conv_embed.conv.weight_g']\n",
            "- This IS expected if you are initializing Wav2Vec2ForCTC from the checkpoint of a model trained on another task or with another architecture (e.g. initializing a BertForSequenceClassification model from a BertForPreTraining model).\n",
            "- This IS NOT expected if you are initializing Wav2Vec2ForCTC from the checkpoint of a model that you expect to be exactly identical (initializing a BertForSequenceClassification model from a BertForSequenceClassification model).\n",
            "Some weights of Wav2Vec2ForCTC were not initialized from the model checkpoint at facebook/wav2vec2-lv-60-espeak-cv-ft and are newly initialized: ['wav2vec2.encoder.pos_conv_embed.conv.parametrizations.weight.original0', 'wav2vec2.encoder.pos_conv_embed.conv.parametrizations.weight.original1']\n",
            "You should probably TRAIN this model on a down-stream task to be able to use it for predictions and inference.\n"
          ]
        }
      ],
      "source": [
        "from transformers import Wav2Vec2ForCTC\n",
        "\n",
        "model = Wav2Vec2ForCTC.from_pretrained(\"facebook/wav2vec2-lv-60-espeak-cv-ft\")"
      ]
    },
    {
      "cell_type": "code",
      "execution_count": null,
      "metadata": {
        "id": "Opx8K_O6RvyV"
      },
      "outputs": [],
      "source": [
        "# from transformers import Wav2Vec2ForCTC\n",
        "\n",
        "# model = Wav2Vec2ForCTC.from_pretrained(\n",
        "#     \"facebook/wav2vec2-lv-60-espeak-cv-ft\",\n",
        "#     attention_dropout=0.0,\n",
        "#     hidden_dropout=0.0,\n",
        "#     feat_proj_dropout=0.0,\n",
        "#     mask_time_prob=0.05,\n",
        "#     layerdrop=0.0,\n",
        "#     ctc_loss_reduction=\"mean\",\n",
        "#     pad_token_id=processor.tokenizer.pad_token_id,\n",
        "#     vocab_size=len(processor.tokenizer),\n",
        "# )"
      ]
    },
    {
      "cell_type": "code",
      "execution_count": null,
      "metadata": {
        "colab": {
          "base_uri": "https://localhost:8080/"
        },
        "id": "oGI8zObtZ3V0",
        "outputId": "4841f1ad-a236-4bc0-f1b9-167f7b710e3b"
      },
      "outputs": [
        {
          "output_type": "stream",
          "name": "stderr",
          "text": [
            "/usr/local/lib/python3.10/dist-packages/transformers/models/wav2vec2/modeling_wav2vec2.py:1913: FutureWarning: The method `freeze_feature_extractor` is deprecated and will be removed in Transformers v5. Please use the equivalent `freeze_feature_encoder` method instead.\n",
            "  warnings.warn(\n"
          ]
        }
      ],
      "source": [
        "model.freeze_feature_extractor()"
      ]
    },
    {
      "cell_type": "code",
      "execution_count": null,
      "metadata": {
        "id": "buT97caSbHTS"
      },
      "outputs": [],
      "source": [
        "repo_name = \"wav2vec2-large-xls-r-300m-czech-colab-finetuned\""
      ]
    },
    {
      "cell_type": "code",
      "execution_count": null,
      "metadata": {
        "id": "KbeKSV7uzGPP"
      },
      "outputs": [],
      "source": [
        "from transformers import TrainingArguments\n",
        "\n",
        "# repo_name = \"wav2vec2-large-xls-r-300m-finnish-colab-finetuned\"\n",
        "\n",
        "# Not sure. using the name after finetune training here? ? ?\n",
        "\n",
        "training_args = TrainingArguments(\n",
        "  output_dir=repo_name,\n",
        "  group_by_length=True,\n",
        "  per_device_train_batch_size=8,\n",
        "  gradient_accumulation_steps=2,\n",
        "  evaluation_strategy=\"steps\",\n",
        "  num_train_epochs=50, #50\n",
        "  gradient_checkpointing=True,\n",
        "  fp16=True,\n",
        "  save_steps=400,\n",
        "  eval_steps=400,\n",
        "  logging_steps=400,\n",
        "  learning_rate=3e-4,\n",
        "  warmup_steps=500,\n",
        "  save_total_limit=2,\n",
        "  push_to_hub=True,\n",
        ")"
      ]
    },
    {
      "cell_type": "code",
      "execution_count": null,
      "metadata": {
        "id": "rY7vBmFCPFgC"
      },
      "outputs": [],
      "source": [
        "from transformers import Trainer\n",
        "\n",
        "trainer = Trainer(\n",
        "    model=model,\n",
        "    data_collator=data_collator,\n",
        "    args=training_args,\n",
        "    compute_metrics=compute_metrics,\n",
        "    train_dataset=common_voice_train,\n",
        "    eval_dataset=common_voice_test,\n",
        "    tokenizer=processor.feature_extractor,\n",
        ")"
      ]
    },
    {
      "cell_type": "code",
      "execution_count": null,
      "metadata": {
        "colab": {
          "base_uri": "https://localhost:8080/",
          "height": 182
        },
        "id": "BWAFuhvdCv7i",
        "outputId": "389a091d-4f8d-4c0f-9796-adadf2c7edcb"
      },
      "outputs": [
        {
          "output_type": "stream",
          "name": "stderr",
          "text": [
            "/usr/local/lib/python3.10/dist-packages/transformers/models/wav2vec2/processing_wav2vec2.py:155: UserWarning: `as_target_processor` is deprecated and will be removed in v5 of Transformers. You can process your labels by using the argument `text` of the regular `__call__` method (either in the same call as your audio inputs, or in a separate call.\n",
            "  warnings.warn(\n"
          ]
        },
        {
          "output_type": "display_data",
          "data": {
            "text/plain": [
              "<IPython.core.display.HTML object>"
            ],
            "text/html": [
              "\n",
              "    <div>\n",
              "      \n",
              "      <progress value='63' max='63' style='width:300px; height:20px; vertical-align: middle;'></progress>\n",
              "      [63/63 01:45]\n",
              "    </div>\n",
              "    "
            ]
          },
          "metadata": {}
        },
        {
          "output_type": "execute_result",
          "data": {
            "text/plain": [
              "{'eval_loss': 16709.126953125,\n",
              " 'eval_wer': 0.9985053713218123,\n",
              " 'eval_runtime': 111.0599,\n",
              " 'eval_samples_per_second': 4.502,\n",
              " 'eval_steps_per_second': 0.567}"
            ]
          },
          "metadata": {},
          "execution_count": 55
        }
      ],
      "source": [
        "trainer.evaluate()"
      ]
    },
    {
      "cell_type": "code",
      "execution_count": null,
      "metadata": {
        "id": "9fRr9TG5pGBl"
      },
      "outputs": [],
      "source": [
        "# for i in range(8):\n",
        "#   torch.cuda.empty_cache()\n",
        "\n",
        "#   repo = \"wav2vec2-efeat-300m-finnish-colab\"\n",
        "#   trainer.train()\n",
        "#   trainer.push_to_hub(repo)"
      ]
    },
    {
      "cell_type": "code",
      "execution_count": null,
      "metadata": {
        "colab": {
          "base_uri": "https://localhost:8080/",
          "height": 159,
          "referenced_widgets": [
            "e6030520d4af48eabbfaa31c8bca5f9e",
            "a3188bfa6b67409087dc79981cbe787d",
            "9968cc9d147143a88877e3d90c5aa406",
            "f55d8b860bf742268d24f78ac7b35337",
            "074d758ef5054257bfaf961c16509063",
            "4d23c887f49d4c22af1ff1a92aef0419",
            "cd55dbd064d442b1b8b0f2ca84c00712",
            "66fd222e62c84248b4a03c4536d93bbc",
            "0a73d42e60514200985ce067cfe79e55",
            "1915ad3a6e4841dcb5345045bed05983",
            "109eed4412204925adcab13158ed1cf0",
            "2b89d9214ae042a98ddb844e4bfaebe7",
            "0a3437d7abf049d58b3e9dbd7784ba1e",
            "c915ef03a6fa4c4cb041c4881acc2052",
            "5e967cde31e04a30bd04e1004c7ef9eb",
            "9fb240b64be44250b1892d39fcf102c4",
            "57900d82fa2c420fbc116b8a082d4ba0",
            "6f706b5b6e024e7a9e760dfe1988dd2f",
            "bf9a5c71344b46498b344a898fe50805",
            "4bae6917d9b941f78fe9c68addc8d189",
            "8d7d5c9f1a9d4204ae5e935b023afb87",
            "1f7ad71f812148308518d87177e5345d",
            "88fe8153e5d34d409084fb0f3965f668",
            "1cf650970db743f491728aae5d344932",
            "1b7a6f4d552a4ba78a9a323d68bb5f2e",
            "1891a8d3ddbc431cbaa28f518f9e762f",
            "3e060ce8126e4fdaba0f40244b948222",
            "9b839cf5bed94d3ebd7abb9aaa22b7a9",
            "3a93b964a8b24325a0d9d0acbfc67f8a",
            "b4acfad6e6434ca4834eb086f09080a8",
            "3373506814cb40c5b4ed3a77311f26e0",
            "854918dc450b4750afbaad29b928491c",
            "0bf257cd50f14e3abc2b35c5fbe03534"
          ]
        },
        "id": "iiiBBrvnY3V_",
        "outputId": "3caa1738-0e08-4b98-a173-f7db8f3b5226"
      },
      "outputs": [
        {
          "output_type": "display_data",
          "data": {
            "text/plain": [
              "events.out.tfevents.1701248254.142c7203439a.21442.0:   0%|          | 0.00/341 [00:00<?, ?B/s]"
            ],
            "application/vnd.jupyter.widget-view+json": {
              "version_major": 2,
              "version_minor": 0,
              "model_id": "e6030520d4af48eabbfaa31c8bca5f9e"
            }
          },
          "metadata": {}
        },
        {
          "output_type": "display_data",
          "data": {
            "text/plain": [
              "training_args.bin:   0%|          | 0.00/4.60k [00:00<?, ?B/s]"
            ],
            "application/vnd.jupyter.widget-view+json": {
              "version_major": 2,
              "version_minor": 0,
              "model_id": "2b89d9214ae042a98ddb844e4bfaebe7"
            }
          },
          "metadata": {}
        },
        {
          "output_type": "display_data",
          "data": {
            "text/plain": [
              "Upload 2 LFS files:   0%|          | 0/2 [00:00<?, ?it/s]"
            ],
            "application/vnd.jupyter.widget-view+json": {
              "version_major": 2,
              "version_minor": 0,
              "model_id": "88fe8153e5d34d409084fb0f3965f668"
            }
          },
          "metadata": {}
        },
        {
          "output_type": "execute_result",
          "data": {
            "text/plain": [
              "'https://huggingface.co/Roxysun/wav2vec2-large-xls-r-300m-czech-colab-finetuned/tree/main/'"
            ],
            "application/vnd.google.colaboratory.intrinsic+json": {
              "type": "string"
            }
          },
          "metadata": {},
          "execution_count": 57
        }
      ],
      "source": [
        "trainer.push_to_hub(repo_name_original)\n",
        "\n",
        "# Maxence uploaded this after train(), is it a bit strange? ? ?"
      ]
    },
    {
      "cell_type": "code",
      "execution_count": null,
      "metadata": {
        "colab": {
          "base_uri": "https://localhost:8080/",
          "height": 344
        },
        "id": "y2l9-hrSVVcI",
        "outputId": "5ec5faae-bd58-4eb0-aa31-be722835a48c"
      },
      "outputs": [
        {
          "metadata": {
            "tags": null
          },
          "name": "stderr",
          "output_type": "stream",
          "text": [
            "/usr/local/lib/python3.10/dist-packages/torch/utils/checkpoint.py:429: UserWarning: torch.utils.checkpoint: please pass in use_reentrant=True or use_reentrant=False explicitly. The default value of use_reentrant will be updated to be False in the future. To maintain current behavior, pass use_reentrant=True. It is recommended that you use use_reentrant=False. Refer to docs for more details on the differences between the two variants.\n",
            "  warnings.warn(\n"
          ]
        },
        {
          "data": {
            "text/html": [
              "\n",
              "    <div>\n",
              "      \n",
              "      <progress value='773' max='1400' style='width:300px; height:20px; vertical-align: middle;'></progress>\n",
              "      [ 773/1400 19:44 < 16:03, 0.65 it/s, Epoch 27.09/50]\n",
              "    </div>\n",
              "    <table border=\"1\" class=\"dataframe\">\n",
              "  <thead>\n",
              " <tr style=\"text-align: left;\">\n",
              "      <th>Step</th>\n",
              "      <th>Training Loss</th>\n",
              "      <th>Validation Loss</th>\n",
              "      <th>Wer</th>\n",
              "    </tr>\n",
              "  </thead>\n",
              "  <tbody>\n",
              "    <tr>\n",
              "      <td>400</td>\n",
              "      <td>940.685700</td>\n",
              "      <td>440.808960</td>\n",
              "      <td>0.755255</td>\n",
              "    </tr>\n",
              "  </tbody>\n",
              "</table><p>"
            ],
            "text/plain": [
              "<IPython.core.display.HTML object>"
            ]
          },
          "metadata": {},
          "output_type": "display_data"
        },
        {
          "data": {
            "text/html": [
              "\n",
              "    <div>\n",
              "      \n",
              "      <progress value='126' max='63' style='width:300px; height:20px; vertical-align: middle;'></progress>\n",
              "      [63/63 12:57]\n",
              "    </div>\n",
              "    "
            ],
            "text/plain": [
              "<IPython.core.display.HTML object>"
            ]
          },
          "metadata": {},
          "output_type": "display_data"
        },
        {
          "metadata": {
            "tags": null
          },
          "name": "stderr",
          "output_type": "stream",
          "text": [
            "/usr/local/lib/python3.10/dist-packages/transformers/models/wav2vec2/processing_wav2vec2.py:155: UserWarning: `as_target_processor` is deprecated and will be removed in v5 of Transformers. You can process your labels by using the argument `text` of the regular `__call__` method (either in the same call as your audio inputs, or in a separate call.\n",
            "  warnings.warn(\n",
            "/usr/local/lib/python3.10/dist-packages/torch/utils/checkpoint.py:429: UserWarning: torch.utils.checkpoint: please pass in use_reentrant=True or use_reentrant=False explicitly. The default value of use_reentrant will be updated to be False in the future. To maintain current behavior, pass use_reentrant=True. It is recommended that you use use_reentrant=False. Refer to docs for more details on the differences between the two variants.\n",
            "  warnings.warn(\n"
          ]
        },
        {
          "output_type": "display_data",
          "data": {
            "text/plain": [
              "<IPython.core.display.HTML object>"
            ],
            "text/html": [
              "\n",
              "    <div>\n",
              "      \n",
              "      <progress value='775' max='1400' style='width:300px; height:20px; vertical-align: middle;'></progress>\n",
              "      [ 775/1400 19:47 < 15:59, 0.65 it/s, Epoch 27.16/50]\n",
              "    </div>\n",
              "    <table border=\"1\" class=\"dataframe\">\n",
              "  <thead>\n",
              " <tr style=\"text-align: left;\">\n",
              "      <th>Step</th>\n",
              "      <th>Training Loss</th>\n",
              "      <th>Validation Loss</th>\n",
              "      <th>Wer</th>\n",
              "    </tr>\n",
              "  </thead>\n",
              "  <tbody>\n",
              "    <tr>\n",
              "      <td>400</td>\n",
              "      <td>940.685700</td>\n",
              "      <td>440.808960</td>\n",
              "      <td>0.755255</td>\n",
              "    </tr>\n",
              "  </tbody>\n",
              "</table><p>"
            ]
          },
          "metadata": {}
        }
      ],
      "source": [
        "torch.cuda.empty_cache()\n",
        "trainer.train()"
      ]
    },
    {
      "cell_type": "code",
      "execution_count": null,
      "metadata": {
        "id": "ArG1Thf6NBWm"
      },
      "outputs": [],
      "source": [
        "# upload the model after finetune\n",
        "trainer.push_to_hub(repo_name)"
      ]
    }
  ],
  "metadata": {
    "accelerator": "GPU",
    "colab": {
      "provenance": [],
      "include_colab_link": true
    },
    "kernelspec": {
      "display_name": "Python 3",
      "name": "python3"
    },
    "widgets": {
      "application/vnd.jupyter.widget-state+json": {
        "dc9798b5b17549f7b48bc7ff3b2cec34": {
          "model_module": "@jupyter-widgets/controls",
          "model_name": "VBoxModel",
          "model_module_version": "1.5.0",
          "state": {
            "_dom_classes": [],
            "_model_module": "@jupyter-widgets/controls",
            "_model_module_version": "1.5.0",
            "_model_name": "VBoxModel",
            "_view_count": null,
            "_view_module": "@jupyter-widgets/controls",
            "_view_module_version": "1.5.0",
            "_view_name": "VBoxView",
            "box_style": "",
            "children": [
              "IPY_MODEL_18339c61b0884650989bae30444a693d",
              "IPY_MODEL_ad0288f117bd4fcdbf8f1aaa45962c8d",
              "IPY_MODEL_9bb7bf4b1e52435aa9dc1922214ed48a",
              "IPY_MODEL_5365c93a9da14cbcae41af169731bfa3"
            ],
            "layout": "IPY_MODEL_4b2e3f31b27440cea43a04721670af8f"
          }
        },
        "f062e5cfd9d14f168948b0b34e3156b4": {
          "model_module": "@jupyter-widgets/controls",
          "model_name": "HTMLModel",
          "model_module_version": "1.5.0",
          "state": {
            "_dom_classes": [],
            "_model_module": "@jupyter-widgets/controls",
            "_model_module_version": "1.5.0",
            "_model_name": "HTMLModel",
            "_view_count": null,
            "_view_module": "@jupyter-widgets/controls",
            "_view_module_version": "1.5.0",
            "_view_name": "HTMLView",
            "description": "",
            "description_tooltip": null,
            "layout": "IPY_MODEL_8de0efdb1ae34948bcb64e47051a4bf8",
            "placeholder": "​",
            "style": "IPY_MODEL_a6af583dc79d4e17920de56d699c730a",
            "value": "<center> <img\nsrc=https://huggingface.co/front/assets/huggingface_logo-noborder.svg\nalt='Hugging Face'> <br> Copy a token from <a\nhref=\"https://huggingface.co/settings/tokens\" target=\"_blank\">your Hugging Face\ntokens page</a> and paste it below. <br> Immediately click login after copying\nyour token or it might be stored in plain text in this notebook file. </center>"
          }
        },
        "20f4289415d0418e9977257731f7a101": {
          "model_module": "@jupyter-widgets/controls",
          "model_name": "PasswordModel",
          "model_module_version": "1.5.0",
          "state": {
            "_dom_classes": [],
            "_model_module": "@jupyter-widgets/controls",
            "_model_module_version": "1.5.0",
            "_model_name": "PasswordModel",
            "_view_count": null,
            "_view_module": "@jupyter-widgets/controls",
            "_view_module_version": "1.5.0",
            "_view_name": "PasswordView",
            "continuous_update": true,
            "description": "Token:",
            "description_tooltip": null,
            "disabled": false,
            "layout": "IPY_MODEL_c8971ba5a2da49c7b74b10cec52d69c1",
            "placeholder": "​",
            "style": "IPY_MODEL_f1bae7ced0ea4f4fa8c3837e63d2e1c6",
            "value": ""
          }
        },
        "c4c45765e3e942d78c958671167332b2": {
          "model_module": "@jupyter-widgets/controls",
          "model_name": "CheckboxModel",
          "model_module_version": "1.5.0",
          "state": {
            "_dom_classes": [],
            "_model_module": "@jupyter-widgets/controls",
            "_model_module_version": "1.5.0",
            "_model_name": "CheckboxModel",
            "_view_count": null,
            "_view_module": "@jupyter-widgets/controls",
            "_view_module_version": "1.5.0",
            "_view_name": "CheckboxView",
            "description": "Add token as git credential?",
            "description_tooltip": null,
            "disabled": false,
            "indent": true,
            "layout": "IPY_MODEL_0b0ddf4577ad4c858a9eca49e4c45bf1",
            "style": "IPY_MODEL_bea1c6000e414b558a80026a9a866d1e",
            "value": true
          }
        },
        "51cc001fe74f42b3982e88fabd651582": {
          "model_module": "@jupyter-widgets/controls",
          "model_name": "ButtonModel",
          "model_module_version": "1.5.0",
          "state": {
            "_dom_classes": [],
            "_model_module": "@jupyter-widgets/controls",
            "_model_module_version": "1.5.0",
            "_model_name": "ButtonModel",
            "_view_count": null,
            "_view_module": "@jupyter-widgets/controls",
            "_view_module_version": "1.5.0",
            "_view_name": "ButtonView",
            "button_style": "",
            "description": "Login",
            "disabled": false,
            "icon": "",
            "layout": "IPY_MODEL_b2c6efaadeeb4943baa76ea0829bb406",
            "style": "IPY_MODEL_777cd6823a8b488bae05354c4cace949",
            "tooltip": ""
          }
        },
        "d4c68a5279ee4074b09709e4f1f0599f": {
          "model_module": "@jupyter-widgets/controls",
          "model_name": "HTMLModel",
          "model_module_version": "1.5.0",
          "state": {
            "_dom_classes": [],
            "_model_module": "@jupyter-widgets/controls",
            "_model_module_version": "1.5.0",
            "_model_name": "HTMLModel",
            "_view_count": null,
            "_view_module": "@jupyter-widgets/controls",
            "_view_module_version": "1.5.0",
            "_view_name": "HTMLView",
            "description": "",
            "description_tooltip": null,
            "layout": "IPY_MODEL_c04f05f2779242c6a24ed63f67f9f635",
            "placeholder": "​",
            "style": "IPY_MODEL_0e43154712c242468269491addb37790",
            "value": "\n<b>Pro Tip:</b> If you don't already have one, you can create a dedicated\n'notebooks' token with 'write' access, that you can then easily reuse for all\nnotebooks. </center>"
          }
        },
        "4b2e3f31b27440cea43a04721670af8f": {
          "model_module": "@jupyter-widgets/base",
          "model_name": "LayoutModel",
          "model_module_version": "1.2.0",
          "state": {
            "_model_module": "@jupyter-widgets/base",
            "_model_module_version": "1.2.0",
            "_model_name": "LayoutModel",
            "_view_count": null,
            "_view_module": "@jupyter-widgets/base",
            "_view_module_version": "1.2.0",
            "_view_name": "LayoutView",
            "align_content": null,
            "align_items": "center",
            "align_self": null,
            "border": null,
            "bottom": null,
            "display": "flex",
            "flex": null,
            "flex_flow": "column",
            "grid_area": null,
            "grid_auto_columns": null,
            "grid_auto_flow": null,
            "grid_auto_rows": null,
            "grid_column": null,
            "grid_gap": null,
            "grid_row": null,
            "grid_template_areas": null,
            "grid_template_columns": null,
            "grid_template_rows": null,
            "height": null,
            "justify_content": null,
            "justify_items": null,
            "left": null,
            "margin": null,
            "max_height": null,
            "max_width": null,
            "min_height": null,
            "min_width": null,
            "object_fit": null,
            "object_position": null,
            "order": null,
            "overflow": null,
            "overflow_x": null,
            "overflow_y": null,
            "padding": null,
            "right": null,
            "top": null,
            "visibility": null,
            "width": "50%"
          }
        },
        "8de0efdb1ae34948bcb64e47051a4bf8": {
          "model_module": "@jupyter-widgets/base",
          "model_name": "LayoutModel",
          "model_module_version": "1.2.0",
          "state": {
            "_model_module": "@jupyter-widgets/base",
            "_model_module_version": "1.2.0",
            "_model_name": "LayoutModel",
            "_view_count": null,
            "_view_module": "@jupyter-widgets/base",
            "_view_module_version": "1.2.0",
            "_view_name": "LayoutView",
            "align_content": null,
            "align_items": null,
            "align_self": null,
            "border": null,
            "bottom": null,
            "display": null,
            "flex": null,
            "flex_flow": null,
            "grid_area": null,
            "grid_auto_columns": null,
            "grid_auto_flow": null,
            "grid_auto_rows": null,
            "grid_column": null,
            "grid_gap": null,
            "grid_row": null,
            "grid_template_areas": null,
            "grid_template_columns": null,
            "grid_template_rows": null,
            "height": null,
            "justify_content": null,
            "justify_items": null,
            "left": null,
            "margin": null,
            "max_height": null,
            "max_width": null,
            "min_height": null,
            "min_width": null,
            "object_fit": null,
            "object_position": null,
            "order": null,
            "overflow": null,
            "overflow_x": null,
            "overflow_y": null,
            "padding": null,
            "right": null,
            "top": null,
            "visibility": null,
            "width": null
          }
        },
        "a6af583dc79d4e17920de56d699c730a": {
          "model_module": "@jupyter-widgets/controls",
          "model_name": "DescriptionStyleModel",
          "model_module_version": "1.5.0",
          "state": {
            "_model_module": "@jupyter-widgets/controls",
            "_model_module_version": "1.5.0",
            "_model_name": "DescriptionStyleModel",
            "_view_count": null,
            "_view_module": "@jupyter-widgets/base",
            "_view_module_version": "1.2.0",
            "_view_name": "StyleView",
            "description_width": ""
          }
        },
        "c8971ba5a2da49c7b74b10cec52d69c1": {
          "model_module": "@jupyter-widgets/base",
          "model_name": "LayoutModel",
          "model_module_version": "1.2.0",
          "state": {
            "_model_module": "@jupyter-widgets/base",
            "_model_module_version": "1.2.0",
            "_model_name": "LayoutModel",
            "_view_count": null,
            "_view_module": "@jupyter-widgets/base",
            "_view_module_version": "1.2.0",
            "_view_name": "LayoutView",
            "align_content": null,
            "align_items": null,
            "align_self": null,
            "border": null,
            "bottom": null,
            "display": null,
            "flex": null,
            "flex_flow": null,
            "grid_area": null,
            "grid_auto_columns": null,
            "grid_auto_flow": null,
            "grid_auto_rows": null,
            "grid_column": null,
            "grid_gap": null,
            "grid_row": null,
            "grid_template_areas": null,
            "grid_template_columns": null,
            "grid_template_rows": null,
            "height": null,
            "justify_content": null,
            "justify_items": null,
            "left": null,
            "margin": null,
            "max_height": null,
            "max_width": null,
            "min_height": null,
            "min_width": null,
            "object_fit": null,
            "object_position": null,
            "order": null,
            "overflow": null,
            "overflow_x": null,
            "overflow_y": null,
            "padding": null,
            "right": null,
            "top": null,
            "visibility": null,
            "width": null
          }
        },
        "f1bae7ced0ea4f4fa8c3837e63d2e1c6": {
          "model_module": "@jupyter-widgets/controls",
          "model_name": "DescriptionStyleModel",
          "model_module_version": "1.5.0",
          "state": {
            "_model_module": "@jupyter-widgets/controls",
            "_model_module_version": "1.5.0",
            "_model_name": "DescriptionStyleModel",
            "_view_count": null,
            "_view_module": "@jupyter-widgets/base",
            "_view_module_version": "1.2.0",
            "_view_name": "StyleView",
            "description_width": ""
          }
        },
        "0b0ddf4577ad4c858a9eca49e4c45bf1": {
          "model_module": "@jupyter-widgets/base",
          "model_name": "LayoutModel",
          "model_module_version": "1.2.0",
          "state": {
            "_model_module": "@jupyter-widgets/base",
            "_model_module_version": "1.2.0",
            "_model_name": "LayoutModel",
            "_view_count": null,
            "_view_module": "@jupyter-widgets/base",
            "_view_module_version": "1.2.0",
            "_view_name": "LayoutView",
            "align_content": null,
            "align_items": null,
            "align_self": null,
            "border": null,
            "bottom": null,
            "display": null,
            "flex": null,
            "flex_flow": null,
            "grid_area": null,
            "grid_auto_columns": null,
            "grid_auto_flow": null,
            "grid_auto_rows": null,
            "grid_column": null,
            "grid_gap": null,
            "grid_row": null,
            "grid_template_areas": null,
            "grid_template_columns": null,
            "grid_template_rows": null,
            "height": null,
            "justify_content": null,
            "justify_items": null,
            "left": null,
            "margin": null,
            "max_height": null,
            "max_width": null,
            "min_height": null,
            "min_width": null,
            "object_fit": null,
            "object_position": null,
            "order": null,
            "overflow": null,
            "overflow_x": null,
            "overflow_y": null,
            "padding": null,
            "right": null,
            "top": null,
            "visibility": null,
            "width": null
          }
        },
        "bea1c6000e414b558a80026a9a866d1e": {
          "model_module": "@jupyter-widgets/controls",
          "model_name": "DescriptionStyleModel",
          "model_module_version": "1.5.0",
          "state": {
            "_model_module": "@jupyter-widgets/controls",
            "_model_module_version": "1.5.0",
            "_model_name": "DescriptionStyleModel",
            "_view_count": null,
            "_view_module": "@jupyter-widgets/base",
            "_view_module_version": "1.2.0",
            "_view_name": "StyleView",
            "description_width": ""
          }
        },
        "b2c6efaadeeb4943baa76ea0829bb406": {
          "model_module": "@jupyter-widgets/base",
          "model_name": "LayoutModel",
          "model_module_version": "1.2.0",
          "state": {
            "_model_module": "@jupyter-widgets/base",
            "_model_module_version": "1.2.0",
            "_model_name": "LayoutModel",
            "_view_count": null,
            "_view_module": "@jupyter-widgets/base",
            "_view_module_version": "1.2.0",
            "_view_name": "LayoutView",
            "align_content": null,
            "align_items": null,
            "align_self": null,
            "border": null,
            "bottom": null,
            "display": null,
            "flex": null,
            "flex_flow": null,
            "grid_area": null,
            "grid_auto_columns": null,
            "grid_auto_flow": null,
            "grid_auto_rows": null,
            "grid_column": null,
            "grid_gap": null,
            "grid_row": null,
            "grid_template_areas": null,
            "grid_template_columns": null,
            "grid_template_rows": null,
            "height": null,
            "justify_content": null,
            "justify_items": null,
            "left": null,
            "margin": null,
            "max_height": null,
            "max_width": null,
            "min_height": null,
            "min_width": null,
            "object_fit": null,
            "object_position": null,
            "order": null,
            "overflow": null,
            "overflow_x": null,
            "overflow_y": null,
            "padding": null,
            "right": null,
            "top": null,
            "visibility": null,
            "width": null
          }
        },
        "777cd6823a8b488bae05354c4cace949": {
          "model_module": "@jupyter-widgets/controls",
          "model_name": "ButtonStyleModel",
          "model_module_version": "1.5.0",
          "state": {
            "_model_module": "@jupyter-widgets/controls",
            "_model_module_version": "1.5.0",
            "_model_name": "ButtonStyleModel",
            "_view_count": null,
            "_view_module": "@jupyter-widgets/base",
            "_view_module_version": "1.2.0",
            "_view_name": "StyleView",
            "button_color": null,
            "font_weight": ""
          }
        },
        "c04f05f2779242c6a24ed63f67f9f635": {
          "model_module": "@jupyter-widgets/base",
          "model_name": "LayoutModel",
          "model_module_version": "1.2.0",
          "state": {
            "_model_module": "@jupyter-widgets/base",
            "_model_module_version": "1.2.0",
            "_model_name": "LayoutModel",
            "_view_count": null,
            "_view_module": "@jupyter-widgets/base",
            "_view_module_version": "1.2.0",
            "_view_name": "LayoutView",
            "align_content": null,
            "align_items": null,
            "align_self": null,
            "border": null,
            "bottom": null,
            "display": null,
            "flex": null,
            "flex_flow": null,
            "grid_area": null,
            "grid_auto_columns": null,
            "grid_auto_flow": null,
            "grid_auto_rows": null,
            "grid_column": null,
            "grid_gap": null,
            "grid_row": null,
            "grid_template_areas": null,
            "grid_template_columns": null,
            "grid_template_rows": null,
            "height": null,
            "justify_content": null,
            "justify_items": null,
            "left": null,
            "margin": null,
            "max_height": null,
            "max_width": null,
            "min_height": null,
            "min_width": null,
            "object_fit": null,
            "object_position": null,
            "order": null,
            "overflow": null,
            "overflow_x": null,
            "overflow_y": null,
            "padding": null,
            "right": null,
            "top": null,
            "visibility": null,
            "width": null
          }
        },
        "0e43154712c242468269491addb37790": {
          "model_module": "@jupyter-widgets/controls",
          "model_name": "DescriptionStyleModel",
          "model_module_version": "1.5.0",
          "state": {
            "_model_module": "@jupyter-widgets/controls",
            "_model_module_version": "1.5.0",
            "_model_name": "DescriptionStyleModel",
            "_view_count": null,
            "_view_module": "@jupyter-widgets/base",
            "_view_module_version": "1.2.0",
            "_view_name": "StyleView",
            "description_width": ""
          }
        },
        "da37f4dcfe4c4603b29153950c248afe": {
          "model_module": "@jupyter-widgets/controls",
          "model_name": "LabelModel",
          "model_module_version": "1.5.0",
          "state": {
            "_dom_classes": [],
            "_model_module": "@jupyter-widgets/controls",
            "_model_module_version": "1.5.0",
            "_model_name": "LabelModel",
            "_view_count": null,
            "_view_module": "@jupyter-widgets/controls",
            "_view_module_version": "1.5.0",
            "_view_name": "LabelView",
            "description": "",
            "description_tooltip": null,
            "layout": "IPY_MODEL_b1cfbf4fb19e48cface8c5efb76c706c",
            "placeholder": "​",
            "style": "IPY_MODEL_999acac4be2b477aa9d09f150007bef6",
            "value": "Connecting..."
          }
        },
        "b1cfbf4fb19e48cface8c5efb76c706c": {
          "model_module": "@jupyter-widgets/base",
          "model_name": "LayoutModel",
          "model_module_version": "1.2.0",
          "state": {
            "_model_module": "@jupyter-widgets/base",
            "_model_module_version": "1.2.0",
            "_model_name": "LayoutModel",
            "_view_count": null,
            "_view_module": "@jupyter-widgets/base",
            "_view_module_version": "1.2.0",
            "_view_name": "LayoutView",
            "align_content": null,
            "align_items": null,
            "align_self": null,
            "border": null,
            "bottom": null,
            "display": null,
            "flex": null,
            "flex_flow": null,
            "grid_area": null,
            "grid_auto_columns": null,
            "grid_auto_flow": null,
            "grid_auto_rows": null,
            "grid_column": null,
            "grid_gap": null,
            "grid_row": null,
            "grid_template_areas": null,
            "grid_template_columns": null,
            "grid_template_rows": null,
            "height": null,
            "justify_content": null,
            "justify_items": null,
            "left": null,
            "margin": null,
            "max_height": null,
            "max_width": null,
            "min_height": null,
            "min_width": null,
            "object_fit": null,
            "object_position": null,
            "order": null,
            "overflow": null,
            "overflow_x": null,
            "overflow_y": null,
            "padding": null,
            "right": null,
            "top": null,
            "visibility": null,
            "width": null
          }
        },
        "999acac4be2b477aa9d09f150007bef6": {
          "model_module": "@jupyter-widgets/controls",
          "model_name": "DescriptionStyleModel",
          "model_module_version": "1.5.0",
          "state": {
            "_model_module": "@jupyter-widgets/controls",
            "_model_module_version": "1.5.0",
            "_model_name": "DescriptionStyleModel",
            "_view_count": null,
            "_view_module": "@jupyter-widgets/base",
            "_view_module_version": "1.2.0",
            "_view_name": "StyleView",
            "description_width": ""
          }
        },
        "18339c61b0884650989bae30444a693d": {
          "model_module": "@jupyter-widgets/controls",
          "model_name": "LabelModel",
          "model_module_version": "1.5.0",
          "state": {
            "_dom_classes": [],
            "_model_module": "@jupyter-widgets/controls",
            "_model_module_version": "1.5.0",
            "_model_name": "LabelModel",
            "_view_count": null,
            "_view_module": "@jupyter-widgets/controls",
            "_view_module_version": "1.5.0",
            "_view_name": "LabelView",
            "description": "",
            "description_tooltip": null,
            "layout": "IPY_MODEL_7140513a12d9499b9b239d9233b11112",
            "placeholder": "​",
            "style": "IPY_MODEL_dc64064f82a843d7b6d42b1667cc7ba2",
            "value": "Token is valid (permission: write)."
          }
        },
        "ad0288f117bd4fcdbf8f1aaa45962c8d": {
          "model_module": "@jupyter-widgets/controls",
          "model_name": "LabelModel",
          "model_module_version": "1.5.0",
          "state": {
            "_dom_classes": [],
            "_model_module": "@jupyter-widgets/controls",
            "_model_module_version": "1.5.0",
            "_model_name": "LabelModel",
            "_view_count": null,
            "_view_module": "@jupyter-widgets/controls",
            "_view_module_version": "1.5.0",
            "_view_name": "LabelView",
            "description": "",
            "description_tooltip": null,
            "layout": "IPY_MODEL_aba322a97e8e4e7e8fa966762b6ae11d",
            "placeholder": "​",
            "style": "IPY_MODEL_1ca5f850e52442dd820506ba57062984",
            "value": "Your token has been saved in your configured git credential helpers (store)."
          }
        },
        "9bb7bf4b1e52435aa9dc1922214ed48a": {
          "model_module": "@jupyter-widgets/controls",
          "model_name": "LabelModel",
          "model_module_version": "1.5.0",
          "state": {
            "_dom_classes": [],
            "_model_module": "@jupyter-widgets/controls",
            "_model_module_version": "1.5.0",
            "_model_name": "LabelModel",
            "_view_count": null,
            "_view_module": "@jupyter-widgets/controls",
            "_view_module_version": "1.5.0",
            "_view_name": "LabelView",
            "description": "",
            "description_tooltip": null,
            "layout": "IPY_MODEL_ac72543cd65f4176b1f3331b661f62b2",
            "placeholder": "​",
            "style": "IPY_MODEL_407e5c7b341e45fab098f19acce1fb6f",
            "value": "Your token has been saved to /root/.cache/huggingface/token"
          }
        },
        "5365c93a9da14cbcae41af169731bfa3": {
          "model_module": "@jupyter-widgets/controls",
          "model_name": "LabelModel",
          "model_module_version": "1.5.0",
          "state": {
            "_dom_classes": [],
            "_model_module": "@jupyter-widgets/controls",
            "_model_module_version": "1.5.0",
            "_model_name": "LabelModel",
            "_view_count": null,
            "_view_module": "@jupyter-widgets/controls",
            "_view_module_version": "1.5.0",
            "_view_name": "LabelView",
            "description": "",
            "description_tooltip": null,
            "layout": "IPY_MODEL_96663216faf3423ab07b35f7a198fff0",
            "placeholder": "​",
            "style": "IPY_MODEL_9dde53e831a2484b825392779be7d1b4",
            "value": "Login successful"
          }
        },
        "7140513a12d9499b9b239d9233b11112": {
          "model_module": "@jupyter-widgets/base",
          "model_name": "LayoutModel",
          "model_module_version": "1.2.0",
          "state": {
            "_model_module": "@jupyter-widgets/base",
            "_model_module_version": "1.2.0",
            "_model_name": "LayoutModel",
            "_view_count": null,
            "_view_module": "@jupyter-widgets/base",
            "_view_module_version": "1.2.0",
            "_view_name": "LayoutView",
            "align_content": null,
            "align_items": null,
            "align_self": null,
            "border": null,
            "bottom": null,
            "display": null,
            "flex": null,
            "flex_flow": null,
            "grid_area": null,
            "grid_auto_columns": null,
            "grid_auto_flow": null,
            "grid_auto_rows": null,
            "grid_column": null,
            "grid_gap": null,
            "grid_row": null,
            "grid_template_areas": null,
            "grid_template_columns": null,
            "grid_template_rows": null,
            "height": null,
            "justify_content": null,
            "justify_items": null,
            "left": null,
            "margin": null,
            "max_height": null,
            "max_width": null,
            "min_height": null,
            "min_width": null,
            "object_fit": null,
            "object_position": null,
            "order": null,
            "overflow": null,
            "overflow_x": null,
            "overflow_y": null,
            "padding": null,
            "right": null,
            "top": null,
            "visibility": null,
            "width": null
          }
        },
        "dc64064f82a843d7b6d42b1667cc7ba2": {
          "model_module": "@jupyter-widgets/controls",
          "model_name": "DescriptionStyleModel",
          "model_module_version": "1.5.0",
          "state": {
            "_model_module": "@jupyter-widgets/controls",
            "_model_module_version": "1.5.0",
            "_model_name": "DescriptionStyleModel",
            "_view_count": null,
            "_view_module": "@jupyter-widgets/base",
            "_view_module_version": "1.2.0",
            "_view_name": "StyleView",
            "description_width": ""
          }
        },
        "aba322a97e8e4e7e8fa966762b6ae11d": {
          "model_module": "@jupyter-widgets/base",
          "model_name": "LayoutModel",
          "model_module_version": "1.2.0",
          "state": {
            "_model_module": "@jupyter-widgets/base",
            "_model_module_version": "1.2.0",
            "_model_name": "LayoutModel",
            "_view_count": null,
            "_view_module": "@jupyter-widgets/base",
            "_view_module_version": "1.2.0",
            "_view_name": "LayoutView",
            "align_content": null,
            "align_items": null,
            "align_self": null,
            "border": null,
            "bottom": null,
            "display": null,
            "flex": null,
            "flex_flow": null,
            "grid_area": null,
            "grid_auto_columns": null,
            "grid_auto_flow": null,
            "grid_auto_rows": null,
            "grid_column": null,
            "grid_gap": null,
            "grid_row": null,
            "grid_template_areas": null,
            "grid_template_columns": null,
            "grid_template_rows": null,
            "height": null,
            "justify_content": null,
            "justify_items": null,
            "left": null,
            "margin": null,
            "max_height": null,
            "max_width": null,
            "min_height": null,
            "min_width": null,
            "object_fit": null,
            "object_position": null,
            "order": null,
            "overflow": null,
            "overflow_x": null,
            "overflow_y": null,
            "padding": null,
            "right": null,
            "top": null,
            "visibility": null,
            "width": null
          }
        },
        "1ca5f850e52442dd820506ba57062984": {
          "model_module": "@jupyter-widgets/controls",
          "model_name": "DescriptionStyleModel",
          "model_module_version": "1.5.0",
          "state": {
            "_model_module": "@jupyter-widgets/controls",
            "_model_module_version": "1.5.0",
            "_model_name": "DescriptionStyleModel",
            "_view_count": null,
            "_view_module": "@jupyter-widgets/base",
            "_view_module_version": "1.2.0",
            "_view_name": "StyleView",
            "description_width": ""
          }
        },
        "ac72543cd65f4176b1f3331b661f62b2": {
          "model_module": "@jupyter-widgets/base",
          "model_name": "LayoutModel",
          "model_module_version": "1.2.0",
          "state": {
            "_model_module": "@jupyter-widgets/base",
            "_model_module_version": "1.2.0",
            "_model_name": "LayoutModel",
            "_view_count": null,
            "_view_module": "@jupyter-widgets/base",
            "_view_module_version": "1.2.0",
            "_view_name": "LayoutView",
            "align_content": null,
            "align_items": null,
            "align_self": null,
            "border": null,
            "bottom": null,
            "display": null,
            "flex": null,
            "flex_flow": null,
            "grid_area": null,
            "grid_auto_columns": null,
            "grid_auto_flow": null,
            "grid_auto_rows": null,
            "grid_column": null,
            "grid_gap": null,
            "grid_row": null,
            "grid_template_areas": null,
            "grid_template_columns": null,
            "grid_template_rows": null,
            "height": null,
            "justify_content": null,
            "justify_items": null,
            "left": null,
            "margin": null,
            "max_height": null,
            "max_width": null,
            "min_height": null,
            "min_width": null,
            "object_fit": null,
            "object_position": null,
            "order": null,
            "overflow": null,
            "overflow_x": null,
            "overflow_y": null,
            "padding": null,
            "right": null,
            "top": null,
            "visibility": null,
            "width": null
          }
        },
        "407e5c7b341e45fab098f19acce1fb6f": {
          "model_module": "@jupyter-widgets/controls",
          "model_name": "DescriptionStyleModel",
          "model_module_version": "1.5.0",
          "state": {
            "_model_module": "@jupyter-widgets/controls",
            "_model_module_version": "1.5.0",
            "_model_name": "DescriptionStyleModel",
            "_view_count": null,
            "_view_module": "@jupyter-widgets/base",
            "_view_module_version": "1.2.0",
            "_view_name": "StyleView",
            "description_width": ""
          }
        },
        "96663216faf3423ab07b35f7a198fff0": {
          "model_module": "@jupyter-widgets/base",
          "model_name": "LayoutModel",
          "model_module_version": "1.2.0",
          "state": {
            "_model_module": "@jupyter-widgets/base",
            "_model_module_version": "1.2.0",
            "_model_name": "LayoutModel",
            "_view_count": null,
            "_view_module": "@jupyter-widgets/base",
            "_view_module_version": "1.2.0",
            "_view_name": "LayoutView",
            "align_content": null,
            "align_items": null,
            "align_self": null,
            "border": null,
            "bottom": null,
            "display": null,
            "flex": null,
            "flex_flow": null,
            "grid_area": null,
            "grid_auto_columns": null,
            "grid_auto_flow": null,
            "grid_auto_rows": null,
            "grid_column": null,
            "grid_gap": null,
            "grid_row": null,
            "grid_template_areas": null,
            "grid_template_columns": null,
            "grid_template_rows": null,
            "height": null,
            "justify_content": null,
            "justify_items": null,
            "left": null,
            "margin": null,
            "max_height": null,
            "max_width": null,
            "min_height": null,
            "min_width": null,
            "object_fit": null,
            "object_position": null,
            "order": null,
            "overflow": null,
            "overflow_x": null,
            "overflow_y": null,
            "padding": null,
            "right": null,
            "top": null,
            "visibility": null,
            "width": null
          }
        },
        "9dde53e831a2484b825392779be7d1b4": {
          "model_module": "@jupyter-widgets/controls",
          "model_name": "DescriptionStyleModel",
          "model_module_version": "1.5.0",
          "state": {
            "_model_module": "@jupyter-widgets/controls",
            "_model_module_version": "1.5.0",
            "_model_name": "DescriptionStyleModel",
            "_view_count": null,
            "_view_module": "@jupyter-widgets/base",
            "_view_module_version": "1.2.0",
            "_view_name": "StyleView",
            "description_width": ""
          }
        },
        "e070a4a6646d4ead825d6abfffe4a15a": {
          "model_module": "@jupyter-widgets/controls",
          "model_name": "HBoxModel",
          "model_module_version": "1.5.0",
          "state": {
            "_dom_classes": [],
            "_model_module": "@jupyter-widgets/controls",
            "_model_module_version": "1.5.0",
            "_model_name": "HBoxModel",
            "_view_count": null,
            "_view_module": "@jupyter-widgets/controls",
            "_view_module_version": "1.5.0",
            "_view_name": "HBoxView",
            "box_style": "",
            "children": [
              "IPY_MODEL_937696b89909437ebfeb159c3f5cbe44",
              "IPY_MODEL_9092dfa6f81142ea9d6efc5a683b413f",
              "IPY_MODEL_14c0386024654281822c9b69277ac0d5"
            ],
            "layout": "IPY_MODEL_b57efcd2b0c0492b872f80476c5e492e"
          }
        },
        "937696b89909437ebfeb159c3f5cbe44": {
          "model_module": "@jupyter-widgets/controls",
          "model_name": "HTMLModel",
          "model_module_version": "1.5.0",
          "state": {
            "_dom_classes": [],
            "_model_module": "@jupyter-widgets/controls",
            "_model_module_version": "1.5.0",
            "_model_name": "HTMLModel",
            "_view_count": null,
            "_view_module": "@jupyter-widgets/controls",
            "_view_module_version": "1.5.0",
            "_view_name": "HTMLView",
            "description": "",
            "description_tooltip": null,
            "layout": "IPY_MODEL_80b846610a674c298e5a27189016b868",
            "placeholder": "​",
            "style": "IPY_MODEL_d56f574412ab44fb947baec9d239904f",
            "value": "Map: 100%"
          }
        },
        "9092dfa6f81142ea9d6efc5a683b413f": {
          "model_module": "@jupyter-widgets/controls",
          "model_name": "FloatProgressModel",
          "model_module_version": "1.5.0",
          "state": {
            "_dom_classes": [],
            "_model_module": "@jupyter-widgets/controls",
            "_model_module_version": "1.5.0",
            "_model_name": "FloatProgressModel",
            "_view_count": null,
            "_view_module": "@jupyter-widgets/controls",
            "_view_module_version": "1.5.0",
            "_view_name": "ProgressView",
            "bar_style": "success",
            "description": "",
            "description_tooltip": null,
            "layout": "IPY_MODEL_7fe66d679b78429db7c3602011f7c1af",
            "max": 3000,
            "min": 0,
            "orientation": "horizontal",
            "style": "IPY_MODEL_80749835ee8b4e8e8cc8269d7a8e37f1",
            "value": 3000
          }
        },
        "14c0386024654281822c9b69277ac0d5": {
          "model_module": "@jupyter-widgets/controls",
          "model_name": "HTMLModel",
          "model_module_version": "1.5.0",
          "state": {
            "_dom_classes": [],
            "_model_module": "@jupyter-widgets/controls",
            "_model_module_version": "1.5.0",
            "_model_name": "HTMLModel",
            "_view_count": null,
            "_view_module": "@jupyter-widgets/controls",
            "_view_module_version": "1.5.0",
            "_view_name": "HTMLView",
            "description": "",
            "description_tooltip": null,
            "layout": "IPY_MODEL_e0fbc67387bc4e72b53633620c7eb102",
            "placeholder": "​",
            "style": "IPY_MODEL_e7178de5b26e402a8bd5bb687c5aead6",
            "value": " 3000/3000 [00:00&lt;00:00, 5612.99 examples/s]"
          }
        },
        "b57efcd2b0c0492b872f80476c5e492e": {
          "model_module": "@jupyter-widgets/base",
          "model_name": "LayoutModel",
          "model_module_version": "1.2.0",
          "state": {
            "_model_module": "@jupyter-widgets/base",
            "_model_module_version": "1.2.0",
            "_model_name": "LayoutModel",
            "_view_count": null,
            "_view_module": "@jupyter-widgets/base",
            "_view_module_version": "1.2.0",
            "_view_name": "LayoutView",
            "align_content": null,
            "align_items": null,
            "align_self": null,
            "border": null,
            "bottom": null,
            "display": null,
            "flex": null,
            "flex_flow": null,
            "grid_area": null,
            "grid_auto_columns": null,
            "grid_auto_flow": null,
            "grid_auto_rows": null,
            "grid_column": null,
            "grid_gap": null,
            "grid_row": null,
            "grid_template_areas": null,
            "grid_template_columns": null,
            "grid_template_rows": null,
            "height": null,
            "justify_content": null,
            "justify_items": null,
            "left": null,
            "margin": null,
            "max_height": null,
            "max_width": null,
            "min_height": null,
            "min_width": null,
            "object_fit": null,
            "object_position": null,
            "order": null,
            "overflow": null,
            "overflow_x": null,
            "overflow_y": null,
            "padding": null,
            "right": null,
            "top": null,
            "visibility": null,
            "width": null
          }
        },
        "80b846610a674c298e5a27189016b868": {
          "model_module": "@jupyter-widgets/base",
          "model_name": "LayoutModel",
          "model_module_version": "1.2.0",
          "state": {
            "_model_module": "@jupyter-widgets/base",
            "_model_module_version": "1.2.0",
            "_model_name": "LayoutModel",
            "_view_count": null,
            "_view_module": "@jupyter-widgets/base",
            "_view_module_version": "1.2.0",
            "_view_name": "LayoutView",
            "align_content": null,
            "align_items": null,
            "align_self": null,
            "border": null,
            "bottom": null,
            "display": null,
            "flex": null,
            "flex_flow": null,
            "grid_area": null,
            "grid_auto_columns": null,
            "grid_auto_flow": null,
            "grid_auto_rows": null,
            "grid_column": null,
            "grid_gap": null,
            "grid_row": null,
            "grid_template_areas": null,
            "grid_template_columns": null,
            "grid_template_rows": null,
            "height": null,
            "justify_content": null,
            "justify_items": null,
            "left": null,
            "margin": null,
            "max_height": null,
            "max_width": null,
            "min_height": null,
            "min_width": null,
            "object_fit": null,
            "object_position": null,
            "order": null,
            "overflow": null,
            "overflow_x": null,
            "overflow_y": null,
            "padding": null,
            "right": null,
            "top": null,
            "visibility": null,
            "width": null
          }
        },
        "d56f574412ab44fb947baec9d239904f": {
          "model_module": "@jupyter-widgets/controls",
          "model_name": "DescriptionStyleModel",
          "model_module_version": "1.5.0",
          "state": {
            "_model_module": "@jupyter-widgets/controls",
            "_model_module_version": "1.5.0",
            "_model_name": "DescriptionStyleModel",
            "_view_count": null,
            "_view_module": "@jupyter-widgets/base",
            "_view_module_version": "1.2.0",
            "_view_name": "StyleView",
            "description_width": ""
          }
        },
        "7fe66d679b78429db7c3602011f7c1af": {
          "model_module": "@jupyter-widgets/base",
          "model_name": "LayoutModel",
          "model_module_version": "1.2.0",
          "state": {
            "_model_module": "@jupyter-widgets/base",
            "_model_module_version": "1.2.0",
            "_model_name": "LayoutModel",
            "_view_count": null,
            "_view_module": "@jupyter-widgets/base",
            "_view_module_version": "1.2.0",
            "_view_name": "LayoutView",
            "align_content": null,
            "align_items": null,
            "align_self": null,
            "border": null,
            "bottom": null,
            "display": null,
            "flex": null,
            "flex_flow": null,
            "grid_area": null,
            "grid_auto_columns": null,
            "grid_auto_flow": null,
            "grid_auto_rows": null,
            "grid_column": null,
            "grid_gap": null,
            "grid_row": null,
            "grid_template_areas": null,
            "grid_template_columns": null,
            "grid_template_rows": null,
            "height": null,
            "justify_content": null,
            "justify_items": null,
            "left": null,
            "margin": null,
            "max_height": null,
            "max_width": null,
            "min_height": null,
            "min_width": null,
            "object_fit": null,
            "object_position": null,
            "order": null,
            "overflow": null,
            "overflow_x": null,
            "overflow_y": null,
            "padding": null,
            "right": null,
            "top": null,
            "visibility": null,
            "width": null
          }
        },
        "80749835ee8b4e8e8cc8269d7a8e37f1": {
          "model_module": "@jupyter-widgets/controls",
          "model_name": "ProgressStyleModel",
          "model_module_version": "1.5.0",
          "state": {
            "_model_module": "@jupyter-widgets/controls",
            "_model_module_version": "1.5.0",
            "_model_name": "ProgressStyleModel",
            "_view_count": null,
            "_view_module": "@jupyter-widgets/base",
            "_view_module_version": "1.2.0",
            "_view_name": "StyleView",
            "bar_color": null,
            "description_width": ""
          }
        },
        "e0fbc67387bc4e72b53633620c7eb102": {
          "model_module": "@jupyter-widgets/base",
          "model_name": "LayoutModel",
          "model_module_version": "1.2.0",
          "state": {
            "_model_module": "@jupyter-widgets/base",
            "_model_module_version": "1.2.0",
            "_model_name": "LayoutModel",
            "_view_count": null,
            "_view_module": "@jupyter-widgets/base",
            "_view_module_version": "1.2.0",
            "_view_name": "LayoutView",
            "align_content": null,
            "align_items": null,
            "align_self": null,
            "border": null,
            "bottom": null,
            "display": null,
            "flex": null,
            "flex_flow": null,
            "grid_area": null,
            "grid_auto_columns": null,
            "grid_auto_flow": null,
            "grid_auto_rows": null,
            "grid_column": null,
            "grid_gap": null,
            "grid_row": null,
            "grid_template_areas": null,
            "grid_template_columns": null,
            "grid_template_rows": null,
            "height": null,
            "justify_content": null,
            "justify_items": null,
            "left": null,
            "margin": null,
            "max_height": null,
            "max_width": null,
            "min_height": null,
            "min_width": null,
            "object_fit": null,
            "object_position": null,
            "order": null,
            "overflow": null,
            "overflow_x": null,
            "overflow_y": null,
            "padding": null,
            "right": null,
            "top": null,
            "visibility": null,
            "width": null
          }
        },
        "e7178de5b26e402a8bd5bb687c5aead6": {
          "model_module": "@jupyter-widgets/controls",
          "model_name": "DescriptionStyleModel",
          "model_module_version": "1.5.0",
          "state": {
            "_model_module": "@jupyter-widgets/controls",
            "_model_module_version": "1.5.0",
            "_model_name": "DescriptionStyleModel",
            "_view_count": null,
            "_view_module": "@jupyter-widgets/base",
            "_view_module_version": "1.2.0",
            "_view_name": "StyleView",
            "description_width": ""
          }
        },
        "8a45258777cd4df1b37c64b8d5c7b6c0": {
          "model_module": "@jupyter-widgets/controls",
          "model_name": "HBoxModel",
          "model_module_version": "1.5.0",
          "state": {
            "_dom_classes": [],
            "_model_module": "@jupyter-widgets/controls",
            "_model_module_version": "1.5.0",
            "_model_name": "HBoxModel",
            "_view_count": null,
            "_view_module": "@jupyter-widgets/controls",
            "_view_module_version": "1.5.0",
            "_view_name": "HBoxView",
            "box_style": "",
            "children": [
              "IPY_MODEL_e2377d1232e9411bba506055a63d78db",
              "IPY_MODEL_969dff7c4bd14e16b2312b0904285cda",
              "IPY_MODEL_fcc88049f4c240d991fa535f7692d1d2"
            ],
            "layout": "IPY_MODEL_792b33324bd142b78e9902cd361b3c11"
          }
        },
        "e2377d1232e9411bba506055a63d78db": {
          "model_module": "@jupyter-widgets/controls",
          "model_name": "HTMLModel",
          "model_module_version": "1.5.0",
          "state": {
            "_dom_classes": [],
            "_model_module": "@jupyter-widgets/controls",
            "_model_module_version": "1.5.0",
            "_model_name": "HTMLModel",
            "_view_count": null,
            "_view_module": "@jupyter-widgets/controls",
            "_view_module_version": "1.5.0",
            "_view_name": "HTMLView",
            "description": "",
            "description_tooltip": null,
            "layout": "IPY_MODEL_4079cf9528a24e838973ff3c1d2ba29b",
            "placeholder": "​",
            "style": "IPY_MODEL_ab661d768e504006b7d69d94a463c489",
            "value": "Map: 100%"
          }
        },
        "969dff7c4bd14e16b2312b0904285cda": {
          "model_module": "@jupyter-widgets/controls",
          "model_name": "FloatProgressModel",
          "model_module_version": "1.5.0",
          "state": {
            "_dom_classes": [],
            "_model_module": "@jupyter-widgets/controls",
            "_model_module_version": "1.5.0",
            "_model_name": "FloatProgressModel",
            "_view_count": null,
            "_view_module": "@jupyter-widgets/controls",
            "_view_module_version": "1.5.0",
            "_view_name": "ProgressView",
            "bar_style": "success",
            "description": "",
            "description_tooltip": null,
            "layout": "IPY_MODEL_42f80385246e4bb3bd993c9212f2b3ed",
            "max": 3000,
            "min": 0,
            "orientation": "horizontal",
            "style": "IPY_MODEL_1a72dd7e295b439aba271d4a4f871563",
            "value": 3000
          }
        },
        "fcc88049f4c240d991fa535f7692d1d2": {
          "model_module": "@jupyter-widgets/controls",
          "model_name": "HTMLModel",
          "model_module_version": "1.5.0",
          "state": {
            "_dom_classes": [],
            "_model_module": "@jupyter-widgets/controls",
            "_model_module_version": "1.5.0",
            "_model_name": "HTMLModel",
            "_view_count": null,
            "_view_module": "@jupyter-widgets/controls",
            "_view_module_version": "1.5.0",
            "_view_name": "HTMLView",
            "description": "",
            "description_tooltip": null,
            "layout": "IPY_MODEL_065c62d51bb940639e8075ac67731393",
            "placeholder": "​",
            "style": "IPY_MODEL_bf90812a3c7c4a288d4e51e7d749711f",
            "value": " 3000/3000 [00:00&lt;00:00, 5853.60 examples/s]"
          }
        },
        "792b33324bd142b78e9902cd361b3c11": {
          "model_module": "@jupyter-widgets/base",
          "model_name": "LayoutModel",
          "model_module_version": "1.2.0",
          "state": {
            "_model_module": "@jupyter-widgets/base",
            "_model_module_version": "1.2.0",
            "_model_name": "LayoutModel",
            "_view_count": null,
            "_view_module": "@jupyter-widgets/base",
            "_view_module_version": "1.2.0",
            "_view_name": "LayoutView",
            "align_content": null,
            "align_items": null,
            "align_self": null,
            "border": null,
            "bottom": null,
            "display": null,
            "flex": null,
            "flex_flow": null,
            "grid_area": null,
            "grid_auto_columns": null,
            "grid_auto_flow": null,
            "grid_auto_rows": null,
            "grid_column": null,
            "grid_gap": null,
            "grid_row": null,
            "grid_template_areas": null,
            "grid_template_columns": null,
            "grid_template_rows": null,
            "height": null,
            "justify_content": null,
            "justify_items": null,
            "left": null,
            "margin": null,
            "max_height": null,
            "max_width": null,
            "min_height": null,
            "min_width": null,
            "object_fit": null,
            "object_position": null,
            "order": null,
            "overflow": null,
            "overflow_x": null,
            "overflow_y": null,
            "padding": null,
            "right": null,
            "top": null,
            "visibility": null,
            "width": null
          }
        },
        "4079cf9528a24e838973ff3c1d2ba29b": {
          "model_module": "@jupyter-widgets/base",
          "model_name": "LayoutModel",
          "model_module_version": "1.2.0",
          "state": {
            "_model_module": "@jupyter-widgets/base",
            "_model_module_version": "1.2.0",
            "_model_name": "LayoutModel",
            "_view_count": null,
            "_view_module": "@jupyter-widgets/base",
            "_view_module_version": "1.2.0",
            "_view_name": "LayoutView",
            "align_content": null,
            "align_items": null,
            "align_self": null,
            "border": null,
            "bottom": null,
            "display": null,
            "flex": null,
            "flex_flow": null,
            "grid_area": null,
            "grid_auto_columns": null,
            "grid_auto_flow": null,
            "grid_auto_rows": null,
            "grid_column": null,
            "grid_gap": null,
            "grid_row": null,
            "grid_template_areas": null,
            "grid_template_columns": null,
            "grid_template_rows": null,
            "height": null,
            "justify_content": null,
            "justify_items": null,
            "left": null,
            "margin": null,
            "max_height": null,
            "max_width": null,
            "min_height": null,
            "min_width": null,
            "object_fit": null,
            "object_position": null,
            "order": null,
            "overflow": null,
            "overflow_x": null,
            "overflow_y": null,
            "padding": null,
            "right": null,
            "top": null,
            "visibility": null,
            "width": null
          }
        },
        "ab661d768e504006b7d69d94a463c489": {
          "model_module": "@jupyter-widgets/controls",
          "model_name": "DescriptionStyleModel",
          "model_module_version": "1.5.0",
          "state": {
            "_model_module": "@jupyter-widgets/controls",
            "_model_module_version": "1.5.0",
            "_model_name": "DescriptionStyleModel",
            "_view_count": null,
            "_view_module": "@jupyter-widgets/base",
            "_view_module_version": "1.2.0",
            "_view_name": "StyleView",
            "description_width": ""
          }
        },
        "42f80385246e4bb3bd993c9212f2b3ed": {
          "model_module": "@jupyter-widgets/base",
          "model_name": "LayoutModel",
          "model_module_version": "1.2.0",
          "state": {
            "_model_module": "@jupyter-widgets/base",
            "_model_module_version": "1.2.0",
            "_model_name": "LayoutModel",
            "_view_count": null,
            "_view_module": "@jupyter-widgets/base",
            "_view_module_version": "1.2.0",
            "_view_name": "LayoutView",
            "align_content": null,
            "align_items": null,
            "align_self": null,
            "border": null,
            "bottom": null,
            "display": null,
            "flex": null,
            "flex_flow": null,
            "grid_area": null,
            "grid_auto_columns": null,
            "grid_auto_flow": null,
            "grid_auto_rows": null,
            "grid_column": null,
            "grid_gap": null,
            "grid_row": null,
            "grid_template_areas": null,
            "grid_template_columns": null,
            "grid_template_rows": null,
            "height": null,
            "justify_content": null,
            "justify_items": null,
            "left": null,
            "margin": null,
            "max_height": null,
            "max_width": null,
            "min_height": null,
            "min_width": null,
            "object_fit": null,
            "object_position": null,
            "order": null,
            "overflow": null,
            "overflow_x": null,
            "overflow_y": null,
            "padding": null,
            "right": null,
            "top": null,
            "visibility": null,
            "width": null
          }
        },
        "1a72dd7e295b439aba271d4a4f871563": {
          "model_module": "@jupyter-widgets/controls",
          "model_name": "ProgressStyleModel",
          "model_module_version": "1.5.0",
          "state": {
            "_model_module": "@jupyter-widgets/controls",
            "_model_module_version": "1.5.0",
            "_model_name": "ProgressStyleModel",
            "_view_count": null,
            "_view_module": "@jupyter-widgets/base",
            "_view_module_version": "1.2.0",
            "_view_name": "StyleView",
            "bar_color": null,
            "description_width": ""
          }
        },
        "065c62d51bb940639e8075ac67731393": {
          "model_module": "@jupyter-widgets/base",
          "model_name": "LayoutModel",
          "model_module_version": "1.2.0",
          "state": {
            "_model_module": "@jupyter-widgets/base",
            "_model_module_version": "1.2.0",
            "_model_name": "LayoutModel",
            "_view_count": null,
            "_view_module": "@jupyter-widgets/base",
            "_view_module_version": "1.2.0",
            "_view_name": "LayoutView",
            "align_content": null,
            "align_items": null,
            "align_self": null,
            "border": null,
            "bottom": null,
            "display": null,
            "flex": null,
            "flex_flow": null,
            "grid_area": null,
            "grid_auto_columns": null,
            "grid_auto_flow": null,
            "grid_auto_rows": null,
            "grid_column": null,
            "grid_gap": null,
            "grid_row": null,
            "grid_template_areas": null,
            "grid_template_columns": null,
            "grid_template_rows": null,
            "height": null,
            "justify_content": null,
            "justify_items": null,
            "left": null,
            "margin": null,
            "max_height": null,
            "max_width": null,
            "min_height": null,
            "min_width": null,
            "object_fit": null,
            "object_position": null,
            "order": null,
            "overflow": null,
            "overflow_x": null,
            "overflow_y": null,
            "padding": null,
            "right": null,
            "top": null,
            "visibility": null,
            "width": null
          }
        },
        "bf90812a3c7c4a288d4e51e7d749711f": {
          "model_module": "@jupyter-widgets/controls",
          "model_name": "DescriptionStyleModel",
          "model_module_version": "1.5.0",
          "state": {
            "_model_module": "@jupyter-widgets/controls",
            "_model_module_version": "1.5.0",
            "_model_name": "DescriptionStyleModel",
            "_view_count": null,
            "_view_module": "@jupyter-widgets/base",
            "_view_module_version": "1.2.0",
            "_view_name": "StyleView",
            "description_width": ""
          }
        },
        "e14a5c8fb38243288b7184d2c08d8354": {
          "model_module": "@jupyter-widgets/controls",
          "model_name": "HBoxModel",
          "model_module_version": "1.5.0",
          "state": {
            "_dom_classes": [],
            "_model_module": "@jupyter-widgets/controls",
            "_model_module_version": "1.5.0",
            "_model_name": "HBoxModel",
            "_view_count": null,
            "_view_module": "@jupyter-widgets/controls",
            "_view_module_version": "1.5.0",
            "_view_name": "HBoxView",
            "box_style": "",
            "children": [
              "IPY_MODEL_2a06bf049e34419e9dc0808a07d49e7f",
              "IPY_MODEL_df2aa115a7ca4aebb4e94c6cdc38a4a8",
              "IPY_MODEL_f42b95e63bc140f1b7d821abad8b297b"
            ],
            "layout": "IPY_MODEL_d765fb100dfc4a3baf116cf677ef17de"
          }
        },
        "2a06bf049e34419e9dc0808a07d49e7f": {
          "model_module": "@jupyter-widgets/controls",
          "model_name": "HTMLModel",
          "model_module_version": "1.5.0",
          "state": {
            "_dom_classes": [],
            "_model_module": "@jupyter-widgets/controls",
            "_model_module_version": "1.5.0",
            "_model_name": "HTMLModel",
            "_view_count": null,
            "_view_module": "@jupyter-widgets/controls",
            "_view_module_version": "1.5.0",
            "_view_name": "HTMLView",
            "description": "",
            "description_tooltip": null,
            "layout": "IPY_MODEL_68226ba23acc44a7b3827fec53af31a0",
            "placeholder": "​",
            "style": "IPY_MODEL_8242efd5b88445e5b199af09ca671915",
            "value": "Map: 100%"
          }
        },
        "df2aa115a7ca4aebb4e94c6cdc38a4a8": {
          "model_module": "@jupyter-widgets/controls",
          "model_name": "FloatProgressModel",
          "model_module_version": "1.5.0",
          "state": {
            "_dom_classes": [],
            "_model_module": "@jupyter-widgets/controls",
            "_model_module_version": "1.5.0",
            "_model_name": "FloatProgressModel",
            "_view_count": null,
            "_view_module": "@jupyter-widgets/controls",
            "_view_module_version": "1.5.0",
            "_view_name": "ProgressView",
            "bar_style": "success",
            "description": "",
            "description_tooltip": null,
            "layout": "IPY_MODEL_9d8b5ff9dade44fa9bfbd6bc42498cf2",
            "max": 3000,
            "min": 0,
            "orientation": "horizontal",
            "style": "IPY_MODEL_df76dab8ac4d41fe8153d8232f4a7927",
            "value": 3000
          }
        },
        "f42b95e63bc140f1b7d821abad8b297b": {
          "model_module": "@jupyter-widgets/controls",
          "model_name": "HTMLModel",
          "model_module_version": "1.5.0",
          "state": {
            "_dom_classes": [],
            "_model_module": "@jupyter-widgets/controls",
            "_model_module_version": "1.5.0",
            "_model_name": "HTMLModel",
            "_view_count": null,
            "_view_module": "@jupyter-widgets/controls",
            "_view_module_version": "1.5.0",
            "_view_name": "HTMLView",
            "description": "",
            "description_tooltip": null,
            "layout": "IPY_MODEL_f8ea66e7211f49d39e2d2afb434210b7",
            "placeholder": "​",
            "style": "IPY_MODEL_669ba455519e438ba88d7f9c0c82ed94",
            "value": " 3000/3000 [00:00&lt;00:00, 45591.75 examples/s]"
          }
        },
        "d765fb100dfc4a3baf116cf677ef17de": {
          "model_module": "@jupyter-widgets/base",
          "model_name": "LayoutModel",
          "model_module_version": "1.2.0",
          "state": {
            "_model_module": "@jupyter-widgets/base",
            "_model_module_version": "1.2.0",
            "_model_name": "LayoutModel",
            "_view_count": null,
            "_view_module": "@jupyter-widgets/base",
            "_view_module_version": "1.2.0",
            "_view_name": "LayoutView",
            "align_content": null,
            "align_items": null,
            "align_self": null,
            "border": null,
            "bottom": null,
            "display": null,
            "flex": null,
            "flex_flow": null,
            "grid_area": null,
            "grid_auto_columns": null,
            "grid_auto_flow": null,
            "grid_auto_rows": null,
            "grid_column": null,
            "grid_gap": null,
            "grid_row": null,
            "grid_template_areas": null,
            "grid_template_columns": null,
            "grid_template_rows": null,
            "height": null,
            "justify_content": null,
            "justify_items": null,
            "left": null,
            "margin": null,
            "max_height": null,
            "max_width": null,
            "min_height": null,
            "min_width": null,
            "object_fit": null,
            "object_position": null,
            "order": null,
            "overflow": null,
            "overflow_x": null,
            "overflow_y": null,
            "padding": null,
            "right": null,
            "top": null,
            "visibility": null,
            "width": null
          }
        },
        "68226ba23acc44a7b3827fec53af31a0": {
          "model_module": "@jupyter-widgets/base",
          "model_name": "LayoutModel",
          "model_module_version": "1.2.0",
          "state": {
            "_model_module": "@jupyter-widgets/base",
            "_model_module_version": "1.2.0",
            "_model_name": "LayoutModel",
            "_view_count": null,
            "_view_module": "@jupyter-widgets/base",
            "_view_module_version": "1.2.0",
            "_view_name": "LayoutView",
            "align_content": null,
            "align_items": null,
            "align_self": null,
            "border": null,
            "bottom": null,
            "display": null,
            "flex": null,
            "flex_flow": null,
            "grid_area": null,
            "grid_auto_columns": null,
            "grid_auto_flow": null,
            "grid_auto_rows": null,
            "grid_column": null,
            "grid_gap": null,
            "grid_row": null,
            "grid_template_areas": null,
            "grid_template_columns": null,
            "grid_template_rows": null,
            "height": null,
            "justify_content": null,
            "justify_items": null,
            "left": null,
            "margin": null,
            "max_height": null,
            "max_width": null,
            "min_height": null,
            "min_width": null,
            "object_fit": null,
            "object_position": null,
            "order": null,
            "overflow": null,
            "overflow_x": null,
            "overflow_y": null,
            "padding": null,
            "right": null,
            "top": null,
            "visibility": null,
            "width": null
          }
        },
        "8242efd5b88445e5b199af09ca671915": {
          "model_module": "@jupyter-widgets/controls",
          "model_name": "DescriptionStyleModel",
          "model_module_version": "1.5.0",
          "state": {
            "_model_module": "@jupyter-widgets/controls",
            "_model_module_version": "1.5.0",
            "_model_name": "DescriptionStyleModel",
            "_view_count": null,
            "_view_module": "@jupyter-widgets/base",
            "_view_module_version": "1.2.0",
            "_view_name": "StyleView",
            "description_width": ""
          }
        },
        "9d8b5ff9dade44fa9bfbd6bc42498cf2": {
          "model_module": "@jupyter-widgets/base",
          "model_name": "LayoutModel",
          "model_module_version": "1.2.0",
          "state": {
            "_model_module": "@jupyter-widgets/base",
            "_model_module_version": "1.2.0",
            "_model_name": "LayoutModel",
            "_view_count": null,
            "_view_module": "@jupyter-widgets/base",
            "_view_module_version": "1.2.0",
            "_view_name": "LayoutView",
            "align_content": null,
            "align_items": null,
            "align_self": null,
            "border": null,
            "bottom": null,
            "display": null,
            "flex": null,
            "flex_flow": null,
            "grid_area": null,
            "grid_auto_columns": null,
            "grid_auto_flow": null,
            "grid_auto_rows": null,
            "grid_column": null,
            "grid_gap": null,
            "grid_row": null,
            "grid_template_areas": null,
            "grid_template_columns": null,
            "grid_template_rows": null,
            "height": null,
            "justify_content": null,
            "justify_items": null,
            "left": null,
            "margin": null,
            "max_height": null,
            "max_width": null,
            "min_height": null,
            "min_width": null,
            "object_fit": null,
            "object_position": null,
            "order": null,
            "overflow": null,
            "overflow_x": null,
            "overflow_y": null,
            "padding": null,
            "right": null,
            "top": null,
            "visibility": null,
            "width": null
          }
        },
        "df76dab8ac4d41fe8153d8232f4a7927": {
          "model_module": "@jupyter-widgets/controls",
          "model_name": "ProgressStyleModel",
          "model_module_version": "1.5.0",
          "state": {
            "_model_module": "@jupyter-widgets/controls",
            "_model_module_version": "1.5.0",
            "_model_name": "ProgressStyleModel",
            "_view_count": null,
            "_view_module": "@jupyter-widgets/base",
            "_view_module_version": "1.2.0",
            "_view_name": "StyleView",
            "bar_color": null,
            "description_width": ""
          }
        },
        "f8ea66e7211f49d39e2d2afb434210b7": {
          "model_module": "@jupyter-widgets/base",
          "model_name": "LayoutModel",
          "model_module_version": "1.2.0",
          "state": {
            "_model_module": "@jupyter-widgets/base",
            "_model_module_version": "1.2.0",
            "_model_name": "LayoutModel",
            "_view_count": null,
            "_view_module": "@jupyter-widgets/base",
            "_view_module_version": "1.2.0",
            "_view_name": "LayoutView",
            "align_content": null,
            "align_items": null,
            "align_self": null,
            "border": null,
            "bottom": null,
            "display": null,
            "flex": null,
            "flex_flow": null,
            "grid_area": null,
            "grid_auto_columns": null,
            "grid_auto_flow": null,
            "grid_auto_rows": null,
            "grid_column": null,
            "grid_gap": null,
            "grid_row": null,
            "grid_template_areas": null,
            "grid_template_columns": null,
            "grid_template_rows": null,
            "height": null,
            "justify_content": null,
            "justify_items": null,
            "left": null,
            "margin": null,
            "max_height": null,
            "max_width": null,
            "min_height": null,
            "min_width": null,
            "object_fit": null,
            "object_position": null,
            "order": null,
            "overflow": null,
            "overflow_x": null,
            "overflow_y": null,
            "padding": null,
            "right": null,
            "top": null,
            "visibility": null,
            "width": null
          }
        },
        "669ba455519e438ba88d7f9c0c82ed94": {
          "model_module": "@jupyter-widgets/controls",
          "model_name": "DescriptionStyleModel",
          "model_module_version": "1.5.0",
          "state": {
            "_model_module": "@jupyter-widgets/controls",
            "_model_module_version": "1.5.0",
            "_model_name": "DescriptionStyleModel",
            "_view_count": null,
            "_view_module": "@jupyter-widgets/base",
            "_view_module_version": "1.2.0",
            "_view_name": "StyleView",
            "description_width": ""
          }
        },
        "5039ba151ebd431295d4ccfb1fad98bd": {
          "model_module": "@jupyter-widgets/controls",
          "model_name": "HBoxModel",
          "model_module_version": "1.5.0",
          "state": {
            "_dom_classes": [],
            "_model_module": "@jupyter-widgets/controls",
            "_model_module_version": "1.5.0",
            "_model_name": "HBoxModel",
            "_view_count": null,
            "_view_module": "@jupyter-widgets/controls",
            "_view_module_version": "1.5.0",
            "_view_name": "HBoxView",
            "box_style": "",
            "children": [
              "IPY_MODEL_075fbd0d852748c8af7996c1b970a663",
              "IPY_MODEL_87c571538a564b19acb98c8f5f9be4ca",
              "IPY_MODEL_85c1dcba9e0948be88283c54e24507e9"
            ],
            "layout": "IPY_MODEL_95689ad436c646c1b71ff362f23da047"
          }
        },
        "075fbd0d852748c8af7996c1b970a663": {
          "model_module": "@jupyter-widgets/controls",
          "model_name": "HTMLModel",
          "model_module_version": "1.5.0",
          "state": {
            "_dom_classes": [],
            "_model_module": "@jupyter-widgets/controls",
            "_model_module_version": "1.5.0",
            "_model_name": "HTMLModel",
            "_view_count": null,
            "_view_module": "@jupyter-widgets/controls",
            "_view_module_version": "1.5.0",
            "_view_name": "HTMLView",
            "description": "",
            "description_tooltip": null,
            "layout": "IPY_MODEL_339b877954c04d61b55f171891d39668",
            "placeholder": "​",
            "style": "IPY_MODEL_8d6268aef3cd44bf8f48e410a22739f5",
            "value": "Map: 100%"
          }
        },
        "87c571538a564b19acb98c8f5f9be4ca": {
          "model_module": "@jupyter-widgets/controls",
          "model_name": "FloatProgressModel",
          "model_module_version": "1.5.0",
          "state": {
            "_dom_classes": [],
            "_model_module": "@jupyter-widgets/controls",
            "_model_module_version": "1.5.0",
            "_model_name": "FloatProgressModel",
            "_view_count": null,
            "_view_module": "@jupyter-widgets/controls",
            "_view_module_version": "1.5.0",
            "_view_name": "ProgressView",
            "bar_style": "success",
            "description": "",
            "description_tooltip": null,
            "layout": "IPY_MODEL_45e52602a6de48908a648f59d342a2d7",
            "max": 500,
            "min": 0,
            "orientation": "horizontal",
            "style": "IPY_MODEL_686e6715642d4f2aaf0030747743ee75",
            "value": 500
          }
        },
        "85c1dcba9e0948be88283c54e24507e9": {
          "model_module": "@jupyter-widgets/controls",
          "model_name": "HTMLModel",
          "model_module_version": "1.5.0",
          "state": {
            "_dom_classes": [],
            "_model_module": "@jupyter-widgets/controls",
            "_model_module_version": "1.5.0",
            "_model_name": "HTMLModel",
            "_view_count": null,
            "_view_module": "@jupyter-widgets/controls",
            "_view_module_version": "1.5.0",
            "_view_name": "HTMLView",
            "description": "",
            "description_tooltip": null,
            "layout": "IPY_MODEL_6fe1f839ecb0419b886f54d66ed8a0da",
            "placeholder": "​",
            "style": "IPY_MODEL_47e51fcfbc3f4e8ea7ecf2f3a72376eb",
            "value": " 500/500 [00:00&lt;00:00, 15684.21 examples/s]"
          }
        },
        "95689ad436c646c1b71ff362f23da047": {
          "model_module": "@jupyter-widgets/base",
          "model_name": "LayoutModel",
          "model_module_version": "1.2.0",
          "state": {
            "_model_module": "@jupyter-widgets/base",
            "_model_module_version": "1.2.0",
            "_model_name": "LayoutModel",
            "_view_count": null,
            "_view_module": "@jupyter-widgets/base",
            "_view_module_version": "1.2.0",
            "_view_name": "LayoutView",
            "align_content": null,
            "align_items": null,
            "align_self": null,
            "border": null,
            "bottom": null,
            "display": null,
            "flex": null,
            "flex_flow": null,
            "grid_area": null,
            "grid_auto_columns": null,
            "grid_auto_flow": null,
            "grid_auto_rows": null,
            "grid_column": null,
            "grid_gap": null,
            "grid_row": null,
            "grid_template_areas": null,
            "grid_template_columns": null,
            "grid_template_rows": null,
            "height": null,
            "justify_content": null,
            "justify_items": null,
            "left": null,
            "margin": null,
            "max_height": null,
            "max_width": null,
            "min_height": null,
            "min_width": null,
            "object_fit": null,
            "object_position": null,
            "order": null,
            "overflow": null,
            "overflow_x": null,
            "overflow_y": null,
            "padding": null,
            "right": null,
            "top": null,
            "visibility": null,
            "width": null
          }
        },
        "339b877954c04d61b55f171891d39668": {
          "model_module": "@jupyter-widgets/base",
          "model_name": "LayoutModel",
          "model_module_version": "1.2.0",
          "state": {
            "_model_module": "@jupyter-widgets/base",
            "_model_module_version": "1.2.0",
            "_model_name": "LayoutModel",
            "_view_count": null,
            "_view_module": "@jupyter-widgets/base",
            "_view_module_version": "1.2.0",
            "_view_name": "LayoutView",
            "align_content": null,
            "align_items": null,
            "align_self": null,
            "border": null,
            "bottom": null,
            "display": null,
            "flex": null,
            "flex_flow": null,
            "grid_area": null,
            "grid_auto_columns": null,
            "grid_auto_flow": null,
            "grid_auto_rows": null,
            "grid_column": null,
            "grid_gap": null,
            "grid_row": null,
            "grid_template_areas": null,
            "grid_template_columns": null,
            "grid_template_rows": null,
            "height": null,
            "justify_content": null,
            "justify_items": null,
            "left": null,
            "margin": null,
            "max_height": null,
            "max_width": null,
            "min_height": null,
            "min_width": null,
            "object_fit": null,
            "object_position": null,
            "order": null,
            "overflow": null,
            "overflow_x": null,
            "overflow_y": null,
            "padding": null,
            "right": null,
            "top": null,
            "visibility": null,
            "width": null
          }
        },
        "8d6268aef3cd44bf8f48e410a22739f5": {
          "model_module": "@jupyter-widgets/controls",
          "model_name": "DescriptionStyleModel",
          "model_module_version": "1.5.0",
          "state": {
            "_model_module": "@jupyter-widgets/controls",
            "_model_module_version": "1.5.0",
            "_model_name": "DescriptionStyleModel",
            "_view_count": null,
            "_view_module": "@jupyter-widgets/base",
            "_view_module_version": "1.2.0",
            "_view_name": "StyleView",
            "description_width": ""
          }
        },
        "45e52602a6de48908a648f59d342a2d7": {
          "model_module": "@jupyter-widgets/base",
          "model_name": "LayoutModel",
          "model_module_version": "1.2.0",
          "state": {
            "_model_module": "@jupyter-widgets/base",
            "_model_module_version": "1.2.0",
            "_model_name": "LayoutModel",
            "_view_count": null,
            "_view_module": "@jupyter-widgets/base",
            "_view_module_version": "1.2.0",
            "_view_name": "LayoutView",
            "align_content": null,
            "align_items": null,
            "align_self": null,
            "border": null,
            "bottom": null,
            "display": null,
            "flex": null,
            "flex_flow": null,
            "grid_area": null,
            "grid_auto_columns": null,
            "grid_auto_flow": null,
            "grid_auto_rows": null,
            "grid_column": null,
            "grid_gap": null,
            "grid_row": null,
            "grid_template_areas": null,
            "grid_template_columns": null,
            "grid_template_rows": null,
            "height": null,
            "justify_content": null,
            "justify_items": null,
            "left": null,
            "margin": null,
            "max_height": null,
            "max_width": null,
            "min_height": null,
            "min_width": null,
            "object_fit": null,
            "object_position": null,
            "order": null,
            "overflow": null,
            "overflow_x": null,
            "overflow_y": null,
            "padding": null,
            "right": null,
            "top": null,
            "visibility": null,
            "width": null
          }
        },
        "686e6715642d4f2aaf0030747743ee75": {
          "model_module": "@jupyter-widgets/controls",
          "model_name": "ProgressStyleModel",
          "model_module_version": "1.5.0",
          "state": {
            "_model_module": "@jupyter-widgets/controls",
            "_model_module_version": "1.5.0",
            "_model_name": "ProgressStyleModel",
            "_view_count": null,
            "_view_module": "@jupyter-widgets/base",
            "_view_module_version": "1.2.0",
            "_view_name": "StyleView",
            "bar_color": null,
            "description_width": ""
          }
        },
        "6fe1f839ecb0419b886f54d66ed8a0da": {
          "model_module": "@jupyter-widgets/base",
          "model_name": "LayoutModel",
          "model_module_version": "1.2.0",
          "state": {
            "_model_module": "@jupyter-widgets/base",
            "_model_module_version": "1.2.0",
            "_model_name": "LayoutModel",
            "_view_count": null,
            "_view_module": "@jupyter-widgets/base",
            "_view_module_version": "1.2.0",
            "_view_name": "LayoutView",
            "align_content": null,
            "align_items": null,
            "align_self": null,
            "border": null,
            "bottom": null,
            "display": null,
            "flex": null,
            "flex_flow": null,
            "grid_area": null,
            "grid_auto_columns": null,
            "grid_auto_flow": null,
            "grid_auto_rows": null,
            "grid_column": null,
            "grid_gap": null,
            "grid_row": null,
            "grid_template_areas": null,
            "grid_template_columns": null,
            "grid_template_rows": null,
            "height": null,
            "justify_content": null,
            "justify_items": null,
            "left": null,
            "margin": null,
            "max_height": null,
            "max_width": null,
            "min_height": null,
            "min_width": null,
            "object_fit": null,
            "object_position": null,
            "order": null,
            "overflow": null,
            "overflow_x": null,
            "overflow_y": null,
            "padding": null,
            "right": null,
            "top": null,
            "visibility": null,
            "width": null
          }
        },
        "47e51fcfbc3f4e8ea7ecf2f3a72376eb": {
          "model_module": "@jupyter-widgets/controls",
          "model_name": "DescriptionStyleModel",
          "model_module_version": "1.5.0",
          "state": {
            "_model_module": "@jupyter-widgets/controls",
            "_model_module_version": "1.5.0",
            "_model_name": "DescriptionStyleModel",
            "_view_count": null,
            "_view_module": "@jupyter-widgets/base",
            "_view_module_version": "1.2.0",
            "_view_name": "StyleView",
            "description_width": ""
          }
        },
        "75b76759bc9f4b5492026707a8842db9": {
          "model_module": "@jupyter-widgets/controls",
          "model_name": "HBoxModel",
          "model_module_version": "1.5.0",
          "state": {
            "_dom_classes": [],
            "_model_module": "@jupyter-widgets/controls",
            "_model_module_version": "1.5.0",
            "_model_name": "HBoxModel",
            "_view_count": null,
            "_view_module": "@jupyter-widgets/controls",
            "_view_module_version": "1.5.0",
            "_view_name": "HBoxView",
            "box_style": "",
            "children": [
              "IPY_MODEL_cae878e90f7944a795d6c18a2ec4b330",
              "IPY_MODEL_30b3e72cc4954c03a8bbfe08c8921af2",
              "IPY_MODEL_4904bc5c1963478aa98493b1d8f59dc3"
            ],
            "layout": "IPY_MODEL_d5a6d2211ba7476f91a058f7cc8539d4"
          }
        },
        "cae878e90f7944a795d6c18a2ec4b330": {
          "model_module": "@jupyter-widgets/controls",
          "model_name": "HTMLModel",
          "model_module_version": "1.5.0",
          "state": {
            "_dom_classes": [],
            "_model_module": "@jupyter-widgets/controls",
            "_model_module_version": "1.5.0",
            "_model_name": "HTMLModel",
            "_view_count": null,
            "_view_module": "@jupyter-widgets/controls",
            "_view_module_version": "1.5.0",
            "_view_name": "HTMLView",
            "description": "",
            "description_tooltip": null,
            "layout": "IPY_MODEL_84c642657e424dd9ba9f97c196042575",
            "placeholder": "​",
            "style": "IPY_MODEL_261ce27be1454812a4840d871dbcdae7",
            "value": "Map: 100%"
          }
        },
        "30b3e72cc4954c03a8bbfe08c8921af2": {
          "model_module": "@jupyter-widgets/controls",
          "model_name": "FloatProgressModel",
          "model_module_version": "1.5.0",
          "state": {
            "_dom_classes": [],
            "_model_module": "@jupyter-widgets/controls",
            "_model_module_version": "1.5.0",
            "_model_name": "FloatProgressModel",
            "_view_count": null,
            "_view_module": "@jupyter-widgets/controls",
            "_view_module_version": "1.5.0",
            "_view_name": "ProgressView",
            "bar_style": "success",
            "description": "",
            "description_tooltip": null,
            "layout": "IPY_MODEL_6176f47c6a19411681a2deb76dfe14a7",
            "max": 3000,
            "min": 0,
            "orientation": "horizontal",
            "style": "IPY_MODEL_4fff74d8f0b24b2d97c36dcd5a23a404",
            "value": 3000
          }
        },
        "4904bc5c1963478aa98493b1d8f59dc3": {
          "model_module": "@jupyter-widgets/controls",
          "model_name": "HTMLModel",
          "model_module_version": "1.5.0",
          "state": {
            "_dom_classes": [],
            "_model_module": "@jupyter-widgets/controls",
            "_model_module_version": "1.5.0",
            "_model_name": "HTMLModel",
            "_view_count": null,
            "_view_module": "@jupyter-widgets/controls",
            "_view_module_version": "1.5.0",
            "_view_name": "HTMLView",
            "description": "",
            "description_tooltip": null,
            "layout": "IPY_MODEL_21f3bc93441b4729b5a561cdc1ac5b83",
            "placeholder": "​",
            "style": "IPY_MODEL_0703c18b81c145159300b9a32b3b3442",
            "value": " 3000/3000 [00:32&lt;00:00, 192.49 examples/s]"
          }
        },
        "d5a6d2211ba7476f91a058f7cc8539d4": {
          "model_module": "@jupyter-widgets/base",
          "model_name": "LayoutModel",
          "model_module_version": "1.2.0",
          "state": {
            "_model_module": "@jupyter-widgets/base",
            "_model_module_version": "1.2.0",
            "_model_name": "LayoutModel",
            "_view_count": null,
            "_view_module": "@jupyter-widgets/base",
            "_view_module_version": "1.2.0",
            "_view_name": "LayoutView",
            "align_content": null,
            "align_items": null,
            "align_self": null,
            "border": null,
            "bottom": null,
            "display": null,
            "flex": null,
            "flex_flow": null,
            "grid_area": null,
            "grid_auto_columns": null,
            "grid_auto_flow": null,
            "grid_auto_rows": null,
            "grid_column": null,
            "grid_gap": null,
            "grid_row": null,
            "grid_template_areas": null,
            "grid_template_columns": null,
            "grid_template_rows": null,
            "height": null,
            "justify_content": null,
            "justify_items": null,
            "left": null,
            "margin": null,
            "max_height": null,
            "max_width": null,
            "min_height": null,
            "min_width": null,
            "object_fit": null,
            "object_position": null,
            "order": null,
            "overflow": null,
            "overflow_x": null,
            "overflow_y": null,
            "padding": null,
            "right": null,
            "top": null,
            "visibility": null,
            "width": null
          }
        },
        "84c642657e424dd9ba9f97c196042575": {
          "model_module": "@jupyter-widgets/base",
          "model_name": "LayoutModel",
          "model_module_version": "1.2.0",
          "state": {
            "_model_module": "@jupyter-widgets/base",
            "_model_module_version": "1.2.0",
            "_model_name": "LayoutModel",
            "_view_count": null,
            "_view_module": "@jupyter-widgets/base",
            "_view_module_version": "1.2.0",
            "_view_name": "LayoutView",
            "align_content": null,
            "align_items": null,
            "align_self": null,
            "border": null,
            "bottom": null,
            "display": null,
            "flex": null,
            "flex_flow": null,
            "grid_area": null,
            "grid_auto_columns": null,
            "grid_auto_flow": null,
            "grid_auto_rows": null,
            "grid_column": null,
            "grid_gap": null,
            "grid_row": null,
            "grid_template_areas": null,
            "grid_template_columns": null,
            "grid_template_rows": null,
            "height": null,
            "justify_content": null,
            "justify_items": null,
            "left": null,
            "margin": null,
            "max_height": null,
            "max_width": null,
            "min_height": null,
            "min_width": null,
            "object_fit": null,
            "object_position": null,
            "order": null,
            "overflow": null,
            "overflow_x": null,
            "overflow_y": null,
            "padding": null,
            "right": null,
            "top": null,
            "visibility": null,
            "width": null
          }
        },
        "261ce27be1454812a4840d871dbcdae7": {
          "model_module": "@jupyter-widgets/controls",
          "model_name": "DescriptionStyleModel",
          "model_module_version": "1.5.0",
          "state": {
            "_model_module": "@jupyter-widgets/controls",
            "_model_module_version": "1.5.0",
            "_model_name": "DescriptionStyleModel",
            "_view_count": null,
            "_view_module": "@jupyter-widgets/base",
            "_view_module_version": "1.2.0",
            "_view_name": "StyleView",
            "description_width": ""
          }
        },
        "6176f47c6a19411681a2deb76dfe14a7": {
          "model_module": "@jupyter-widgets/base",
          "model_name": "LayoutModel",
          "model_module_version": "1.2.0",
          "state": {
            "_model_module": "@jupyter-widgets/base",
            "_model_module_version": "1.2.0",
            "_model_name": "LayoutModel",
            "_view_count": null,
            "_view_module": "@jupyter-widgets/base",
            "_view_module_version": "1.2.0",
            "_view_name": "LayoutView",
            "align_content": null,
            "align_items": null,
            "align_self": null,
            "border": null,
            "bottom": null,
            "display": null,
            "flex": null,
            "flex_flow": null,
            "grid_area": null,
            "grid_auto_columns": null,
            "grid_auto_flow": null,
            "grid_auto_rows": null,
            "grid_column": null,
            "grid_gap": null,
            "grid_row": null,
            "grid_template_areas": null,
            "grid_template_columns": null,
            "grid_template_rows": null,
            "height": null,
            "justify_content": null,
            "justify_items": null,
            "left": null,
            "margin": null,
            "max_height": null,
            "max_width": null,
            "min_height": null,
            "min_width": null,
            "object_fit": null,
            "object_position": null,
            "order": null,
            "overflow": null,
            "overflow_x": null,
            "overflow_y": null,
            "padding": null,
            "right": null,
            "top": null,
            "visibility": null,
            "width": null
          }
        },
        "4fff74d8f0b24b2d97c36dcd5a23a404": {
          "model_module": "@jupyter-widgets/controls",
          "model_name": "ProgressStyleModel",
          "model_module_version": "1.5.0",
          "state": {
            "_model_module": "@jupyter-widgets/controls",
            "_model_module_version": "1.5.0",
            "_model_name": "ProgressStyleModel",
            "_view_count": null,
            "_view_module": "@jupyter-widgets/base",
            "_view_module_version": "1.2.0",
            "_view_name": "StyleView",
            "bar_color": null,
            "description_width": ""
          }
        },
        "21f3bc93441b4729b5a561cdc1ac5b83": {
          "model_module": "@jupyter-widgets/base",
          "model_name": "LayoutModel",
          "model_module_version": "1.2.0",
          "state": {
            "_model_module": "@jupyter-widgets/base",
            "_model_module_version": "1.2.0",
            "_model_name": "LayoutModel",
            "_view_count": null,
            "_view_module": "@jupyter-widgets/base",
            "_view_module_version": "1.2.0",
            "_view_name": "LayoutView",
            "align_content": null,
            "align_items": null,
            "align_self": null,
            "border": null,
            "bottom": null,
            "display": null,
            "flex": null,
            "flex_flow": null,
            "grid_area": null,
            "grid_auto_columns": null,
            "grid_auto_flow": null,
            "grid_auto_rows": null,
            "grid_column": null,
            "grid_gap": null,
            "grid_row": null,
            "grid_template_areas": null,
            "grid_template_columns": null,
            "grid_template_rows": null,
            "height": null,
            "justify_content": null,
            "justify_items": null,
            "left": null,
            "margin": null,
            "max_height": null,
            "max_width": null,
            "min_height": null,
            "min_width": null,
            "object_fit": null,
            "object_position": null,
            "order": null,
            "overflow": null,
            "overflow_x": null,
            "overflow_y": null,
            "padding": null,
            "right": null,
            "top": null,
            "visibility": null,
            "width": null
          }
        },
        "0703c18b81c145159300b9a32b3b3442": {
          "model_module": "@jupyter-widgets/controls",
          "model_name": "DescriptionStyleModel",
          "model_module_version": "1.5.0",
          "state": {
            "_model_module": "@jupyter-widgets/controls",
            "_model_module_version": "1.5.0",
            "_model_name": "DescriptionStyleModel",
            "_view_count": null,
            "_view_module": "@jupyter-widgets/base",
            "_view_module_version": "1.2.0",
            "_view_name": "StyleView",
            "description_width": ""
          }
        },
        "e39e36ff205b41f78e253548d0f8bf03": {
          "model_module": "@jupyter-widgets/controls",
          "model_name": "HBoxModel",
          "model_module_version": "1.5.0",
          "state": {
            "_dom_classes": [],
            "_model_module": "@jupyter-widgets/controls",
            "_model_module_version": "1.5.0",
            "_model_name": "HBoxModel",
            "_view_count": null,
            "_view_module": "@jupyter-widgets/controls",
            "_view_module_version": "1.5.0",
            "_view_name": "HBoxView",
            "box_style": "",
            "children": [
              "IPY_MODEL_552db6830fda437ebd65a188ab002a96",
              "IPY_MODEL_3913dd80dff54f88b0519ac1ae0cdb94",
              "IPY_MODEL_0e6723600bf64b26951dfe576c9104bd"
            ],
            "layout": "IPY_MODEL_39d071b0ab5449f0b9b76e88f47667e9"
          }
        },
        "552db6830fda437ebd65a188ab002a96": {
          "model_module": "@jupyter-widgets/controls",
          "model_name": "HTMLModel",
          "model_module_version": "1.5.0",
          "state": {
            "_dom_classes": [],
            "_model_module": "@jupyter-widgets/controls",
            "_model_module_version": "1.5.0",
            "_model_name": "HTMLModel",
            "_view_count": null,
            "_view_module": "@jupyter-widgets/controls",
            "_view_module_version": "1.5.0",
            "_view_name": "HTMLView",
            "description": "",
            "description_tooltip": null,
            "layout": "IPY_MODEL_b8c9127fefef438490958aa74fdc8563",
            "placeholder": "​",
            "style": "IPY_MODEL_f5406a5218a2485f816b3ad4e7e3fcda",
            "value": "Filter: 100%"
          }
        },
        "3913dd80dff54f88b0519ac1ae0cdb94": {
          "model_module": "@jupyter-widgets/controls",
          "model_name": "FloatProgressModel",
          "model_module_version": "1.5.0",
          "state": {
            "_dom_classes": [],
            "_model_module": "@jupyter-widgets/controls",
            "_model_module_version": "1.5.0",
            "_model_name": "FloatProgressModel",
            "_view_count": null,
            "_view_module": "@jupyter-widgets/controls",
            "_view_module_version": "1.5.0",
            "_view_name": "ProgressView",
            "bar_style": "success",
            "description": "",
            "description_tooltip": null,
            "layout": "IPY_MODEL_baf3d124f9d440e8841c0ed324fccb61",
            "max": 3000,
            "min": 0,
            "orientation": "horizontal",
            "style": "IPY_MODEL_edd40ef79c0e4631bbaa3e37e3e8ae63",
            "value": 3000
          }
        },
        "0e6723600bf64b26951dfe576c9104bd": {
          "model_module": "@jupyter-widgets/controls",
          "model_name": "HTMLModel",
          "model_module_version": "1.5.0",
          "state": {
            "_dom_classes": [],
            "_model_module": "@jupyter-widgets/controls",
            "_model_module_version": "1.5.0",
            "_model_name": "HTMLModel",
            "_view_count": null,
            "_view_module": "@jupyter-widgets/controls",
            "_view_module_version": "1.5.0",
            "_view_name": "HTMLView",
            "description": "",
            "description_tooltip": null,
            "layout": "IPY_MODEL_37ce0c68380a4530ae3eb7ed1efa698f",
            "placeholder": "​",
            "style": "IPY_MODEL_54f7c4772bfc4d80bcfc9d93989ef2be",
            "value": " 3000/3000 [00:00&lt;00:00, 66146.48 examples/s]"
          }
        },
        "39d071b0ab5449f0b9b76e88f47667e9": {
          "model_module": "@jupyter-widgets/base",
          "model_name": "LayoutModel",
          "model_module_version": "1.2.0",
          "state": {
            "_model_module": "@jupyter-widgets/base",
            "_model_module_version": "1.2.0",
            "_model_name": "LayoutModel",
            "_view_count": null,
            "_view_module": "@jupyter-widgets/base",
            "_view_module_version": "1.2.0",
            "_view_name": "LayoutView",
            "align_content": null,
            "align_items": null,
            "align_self": null,
            "border": null,
            "bottom": null,
            "display": null,
            "flex": null,
            "flex_flow": null,
            "grid_area": null,
            "grid_auto_columns": null,
            "grid_auto_flow": null,
            "grid_auto_rows": null,
            "grid_column": null,
            "grid_gap": null,
            "grid_row": null,
            "grid_template_areas": null,
            "grid_template_columns": null,
            "grid_template_rows": null,
            "height": null,
            "justify_content": null,
            "justify_items": null,
            "left": null,
            "margin": null,
            "max_height": null,
            "max_width": null,
            "min_height": null,
            "min_width": null,
            "object_fit": null,
            "object_position": null,
            "order": null,
            "overflow": null,
            "overflow_x": null,
            "overflow_y": null,
            "padding": null,
            "right": null,
            "top": null,
            "visibility": null,
            "width": null
          }
        },
        "b8c9127fefef438490958aa74fdc8563": {
          "model_module": "@jupyter-widgets/base",
          "model_name": "LayoutModel",
          "model_module_version": "1.2.0",
          "state": {
            "_model_module": "@jupyter-widgets/base",
            "_model_module_version": "1.2.0",
            "_model_name": "LayoutModel",
            "_view_count": null,
            "_view_module": "@jupyter-widgets/base",
            "_view_module_version": "1.2.0",
            "_view_name": "LayoutView",
            "align_content": null,
            "align_items": null,
            "align_self": null,
            "border": null,
            "bottom": null,
            "display": null,
            "flex": null,
            "flex_flow": null,
            "grid_area": null,
            "grid_auto_columns": null,
            "grid_auto_flow": null,
            "grid_auto_rows": null,
            "grid_column": null,
            "grid_gap": null,
            "grid_row": null,
            "grid_template_areas": null,
            "grid_template_columns": null,
            "grid_template_rows": null,
            "height": null,
            "justify_content": null,
            "justify_items": null,
            "left": null,
            "margin": null,
            "max_height": null,
            "max_width": null,
            "min_height": null,
            "min_width": null,
            "object_fit": null,
            "object_position": null,
            "order": null,
            "overflow": null,
            "overflow_x": null,
            "overflow_y": null,
            "padding": null,
            "right": null,
            "top": null,
            "visibility": null,
            "width": null
          }
        },
        "f5406a5218a2485f816b3ad4e7e3fcda": {
          "model_module": "@jupyter-widgets/controls",
          "model_name": "DescriptionStyleModel",
          "model_module_version": "1.5.0",
          "state": {
            "_model_module": "@jupyter-widgets/controls",
            "_model_module_version": "1.5.0",
            "_model_name": "DescriptionStyleModel",
            "_view_count": null,
            "_view_module": "@jupyter-widgets/base",
            "_view_module_version": "1.2.0",
            "_view_name": "StyleView",
            "description_width": ""
          }
        },
        "baf3d124f9d440e8841c0ed324fccb61": {
          "model_module": "@jupyter-widgets/base",
          "model_name": "LayoutModel",
          "model_module_version": "1.2.0",
          "state": {
            "_model_module": "@jupyter-widgets/base",
            "_model_module_version": "1.2.0",
            "_model_name": "LayoutModel",
            "_view_count": null,
            "_view_module": "@jupyter-widgets/base",
            "_view_module_version": "1.2.0",
            "_view_name": "LayoutView",
            "align_content": null,
            "align_items": null,
            "align_self": null,
            "border": null,
            "bottom": null,
            "display": null,
            "flex": null,
            "flex_flow": null,
            "grid_area": null,
            "grid_auto_columns": null,
            "grid_auto_flow": null,
            "grid_auto_rows": null,
            "grid_column": null,
            "grid_gap": null,
            "grid_row": null,
            "grid_template_areas": null,
            "grid_template_columns": null,
            "grid_template_rows": null,
            "height": null,
            "justify_content": null,
            "justify_items": null,
            "left": null,
            "margin": null,
            "max_height": null,
            "max_width": null,
            "min_height": null,
            "min_width": null,
            "object_fit": null,
            "object_position": null,
            "order": null,
            "overflow": null,
            "overflow_x": null,
            "overflow_y": null,
            "padding": null,
            "right": null,
            "top": null,
            "visibility": null,
            "width": null
          }
        },
        "edd40ef79c0e4631bbaa3e37e3e8ae63": {
          "model_module": "@jupyter-widgets/controls",
          "model_name": "ProgressStyleModel",
          "model_module_version": "1.5.0",
          "state": {
            "_model_module": "@jupyter-widgets/controls",
            "_model_module_version": "1.5.0",
            "_model_name": "ProgressStyleModel",
            "_view_count": null,
            "_view_module": "@jupyter-widgets/base",
            "_view_module_version": "1.2.0",
            "_view_name": "StyleView",
            "bar_color": null,
            "description_width": ""
          }
        },
        "37ce0c68380a4530ae3eb7ed1efa698f": {
          "model_module": "@jupyter-widgets/base",
          "model_name": "LayoutModel",
          "model_module_version": "1.2.0",
          "state": {
            "_model_module": "@jupyter-widgets/base",
            "_model_module_version": "1.2.0",
            "_model_name": "LayoutModel",
            "_view_count": null,
            "_view_module": "@jupyter-widgets/base",
            "_view_module_version": "1.2.0",
            "_view_name": "LayoutView",
            "align_content": null,
            "align_items": null,
            "align_self": null,
            "border": null,
            "bottom": null,
            "display": null,
            "flex": null,
            "flex_flow": null,
            "grid_area": null,
            "grid_auto_columns": null,
            "grid_auto_flow": null,
            "grid_auto_rows": null,
            "grid_column": null,
            "grid_gap": null,
            "grid_row": null,
            "grid_template_areas": null,
            "grid_template_columns": null,
            "grid_template_rows": null,
            "height": null,
            "justify_content": null,
            "justify_items": null,
            "left": null,
            "margin": null,
            "max_height": null,
            "max_width": null,
            "min_height": null,
            "min_width": null,
            "object_fit": null,
            "object_position": null,
            "order": null,
            "overflow": null,
            "overflow_x": null,
            "overflow_y": null,
            "padding": null,
            "right": null,
            "top": null,
            "visibility": null,
            "width": null
          }
        },
        "54f7c4772bfc4d80bcfc9d93989ef2be": {
          "model_module": "@jupyter-widgets/controls",
          "model_name": "DescriptionStyleModel",
          "model_module_version": "1.5.0",
          "state": {
            "_model_module": "@jupyter-widgets/controls",
            "_model_module_version": "1.5.0",
            "_model_name": "DescriptionStyleModel",
            "_view_count": null,
            "_view_module": "@jupyter-widgets/base",
            "_view_module_version": "1.2.0",
            "_view_name": "StyleView",
            "description_width": ""
          }
        },
        "e6030520d4af48eabbfaa31c8bca5f9e": {
          "model_module": "@jupyter-widgets/controls",
          "model_name": "HBoxModel",
          "model_module_version": "1.5.0",
          "state": {
            "_dom_classes": [],
            "_model_module": "@jupyter-widgets/controls",
            "_model_module_version": "1.5.0",
            "_model_name": "HBoxModel",
            "_view_count": null,
            "_view_module": "@jupyter-widgets/controls",
            "_view_module_version": "1.5.0",
            "_view_name": "HBoxView",
            "box_style": "",
            "children": [
              "IPY_MODEL_a3188bfa6b67409087dc79981cbe787d",
              "IPY_MODEL_9968cc9d147143a88877e3d90c5aa406",
              "IPY_MODEL_f55d8b860bf742268d24f78ac7b35337"
            ],
            "layout": "IPY_MODEL_074d758ef5054257bfaf961c16509063"
          }
        },
        "a3188bfa6b67409087dc79981cbe787d": {
          "model_module": "@jupyter-widgets/controls",
          "model_name": "HTMLModel",
          "model_module_version": "1.5.0",
          "state": {
            "_dom_classes": [],
            "_model_module": "@jupyter-widgets/controls",
            "_model_module_version": "1.5.0",
            "_model_name": "HTMLModel",
            "_view_count": null,
            "_view_module": "@jupyter-widgets/controls",
            "_view_module_version": "1.5.0",
            "_view_name": "HTMLView",
            "description": "",
            "description_tooltip": null,
            "layout": "IPY_MODEL_4d23c887f49d4c22af1ff1a92aef0419",
            "placeholder": "​",
            "style": "IPY_MODEL_cd55dbd064d442b1b8b0f2ca84c00712",
            "value": "events.out.tfevents.1701248254.142c7203439a.21442.0: 100%"
          }
        },
        "9968cc9d147143a88877e3d90c5aa406": {
          "model_module": "@jupyter-widgets/controls",
          "model_name": "FloatProgressModel",
          "model_module_version": "1.5.0",
          "state": {
            "_dom_classes": [],
            "_model_module": "@jupyter-widgets/controls",
            "_model_module_version": "1.5.0",
            "_model_name": "FloatProgressModel",
            "_view_count": null,
            "_view_module": "@jupyter-widgets/controls",
            "_view_module_version": "1.5.0",
            "_view_name": "ProgressView",
            "bar_style": "success",
            "description": "",
            "description_tooltip": null,
            "layout": "IPY_MODEL_66fd222e62c84248b4a03c4536d93bbc",
            "max": 341,
            "min": 0,
            "orientation": "horizontal",
            "style": "IPY_MODEL_0a73d42e60514200985ce067cfe79e55",
            "value": 341
          }
        },
        "f55d8b860bf742268d24f78ac7b35337": {
          "model_module": "@jupyter-widgets/controls",
          "model_name": "HTMLModel",
          "model_module_version": "1.5.0",
          "state": {
            "_dom_classes": [],
            "_model_module": "@jupyter-widgets/controls",
            "_model_module_version": "1.5.0",
            "_model_name": "HTMLModel",
            "_view_count": null,
            "_view_module": "@jupyter-widgets/controls",
            "_view_module_version": "1.5.0",
            "_view_name": "HTMLView",
            "description": "",
            "description_tooltip": null,
            "layout": "IPY_MODEL_1915ad3a6e4841dcb5345045bed05983",
            "placeholder": "​",
            "style": "IPY_MODEL_109eed4412204925adcab13158ed1cf0",
            "value": " 341/341 [00:00&lt;00:00, 1.34kB/s]"
          }
        },
        "074d758ef5054257bfaf961c16509063": {
          "model_module": "@jupyter-widgets/base",
          "model_name": "LayoutModel",
          "model_module_version": "1.2.0",
          "state": {
            "_model_module": "@jupyter-widgets/base",
            "_model_module_version": "1.2.0",
            "_model_name": "LayoutModel",
            "_view_count": null,
            "_view_module": "@jupyter-widgets/base",
            "_view_module_version": "1.2.0",
            "_view_name": "LayoutView",
            "align_content": null,
            "align_items": null,
            "align_self": null,
            "border": null,
            "bottom": null,
            "display": null,
            "flex": null,
            "flex_flow": null,
            "grid_area": null,
            "grid_auto_columns": null,
            "grid_auto_flow": null,
            "grid_auto_rows": null,
            "grid_column": null,
            "grid_gap": null,
            "grid_row": null,
            "grid_template_areas": null,
            "grid_template_columns": null,
            "grid_template_rows": null,
            "height": null,
            "justify_content": null,
            "justify_items": null,
            "left": null,
            "margin": null,
            "max_height": null,
            "max_width": null,
            "min_height": null,
            "min_width": null,
            "object_fit": null,
            "object_position": null,
            "order": null,
            "overflow": null,
            "overflow_x": null,
            "overflow_y": null,
            "padding": null,
            "right": null,
            "top": null,
            "visibility": null,
            "width": null
          }
        },
        "4d23c887f49d4c22af1ff1a92aef0419": {
          "model_module": "@jupyter-widgets/base",
          "model_name": "LayoutModel",
          "model_module_version": "1.2.0",
          "state": {
            "_model_module": "@jupyter-widgets/base",
            "_model_module_version": "1.2.0",
            "_model_name": "LayoutModel",
            "_view_count": null,
            "_view_module": "@jupyter-widgets/base",
            "_view_module_version": "1.2.0",
            "_view_name": "LayoutView",
            "align_content": null,
            "align_items": null,
            "align_self": null,
            "border": null,
            "bottom": null,
            "display": null,
            "flex": null,
            "flex_flow": null,
            "grid_area": null,
            "grid_auto_columns": null,
            "grid_auto_flow": null,
            "grid_auto_rows": null,
            "grid_column": null,
            "grid_gap": null,
            "grid_row": null,
            "grid_template_areas": null,
            "grid_template_columns": null,
            "grid_template_rows": null,
            "height": null,
            "justify_content": null,
            "justify_items": null,
            "left": null,
            "margin": null,
            "max_height": null,
            "max_width": null,
            "min_height": null,
            "min_width": null,
            "object_fit": null,
            "object_position": null,
            "order": null,
            "overflow": null,
            "overflow_x": null,
            "overflow_y": null,
            "padding": null,
            "right": null,
            "top": null,
            "visibility": null,
            "width": null
          }
        },
        "cd55dbd064d442b1b8b0f2ca84c00712": {
          "model_module": "@jupyter-widgets/controls",
          "model_name": "DescriptionStyleModel",
          "model_module_version": "1.5.0",
          "state": {
            "_model_module": "@jupyter-widgets/controls",
            "_model_module_version": "1.5.0",
            "_model_name": "DescriptionStyleModel",
            "_view_count": null,
            "_view_module": "@jupyter-widgets/base",
            "_view_module_version": "1.2.0",
            "_view_name": "StyleView",
            "description_width": ""
          }
        },
        "66fd222e62c84248b4a03c4536d93bbc": {
          "model_module": "@jupyter-widgets/base",
          "model_name": "LayoutModel",
          "model_module_version": "1.2.0",
          "state": {
            "_model_module": "@jupyter-widgets/base",
            "_model_module_version": "1.2.0",
            "_model_name": "LayoutModel",
            "_view_count": null,
            "_view_module": "@jupyter-widgets/base",
            "_view_module_version": "1.2.0",
            "_view_name": "LayoutView",
            "align_content": null,
            "align_items": null,
            "align_self": null,
            "border": null,
            "bottom": null,
            "display": null,
            "flex": null,
            "flex_flow": null,
            "grid_area": null,
            "grid_auto_columns": null,
            "grid_auto_flow": null,
            "grid_auto_rows": null,
            "grid_column": null,
            "grid_gap": null,
            "grid_row": null,
            "grid_template_areas": null,
            "grid_template_columns": null,
            "grid_template_rows": null,
            "height": null,
            "justify_content": null,
            "justify_items": null,
            "left": null,
            "margin": null,
            "max_height": null,
            "max_width": null,
            "min_height": null,
            "min_width": null,
            "object_fit": null,
            "object_position": null,
            "order": null,
            "overflow": null,
            "overflow_x": null,
            "overflow_y": null,
            "padding": null,
            "right": null,
            "top": null,
            "visibility": null,
            "width": null
          }
        },
        "0a73d42e60514200985ce067cfe79e55": {
          "model_module": "@jupyter-widgets/controls",
          "model_name": "ProgressStyleModel",
          "model_module_version": "1.5.0",
          "state": {
            "_model_module": "@jupyter-widgets/controls",
            "_model_module_version": "1.5.0",
            "_model_name": "ProgressStyleModel",
            "_view_count": null,
            "_view_module": "@jupyter-widgets/base",
            "_view_module_version": "1.2.0",
            "_view_name": "StyleView",
            "bar_color": null,
            "description_width": ""
          }
        },
        "1915ad3a6e4841dcb5345045bed05983": {
          "model_module": "@jupyter-widgets/base",
          "model_name": "LayoutModel",
          "model_module_version": "1.2.0",
          "state": {
            "_model_module": "@jupyter-widgets/base",
            "_model_module_version": "1.2.0",
            "_model_name": "LayoutModel",
            "_view_count": null,
            "_view_module": "@jupyter-widgets/base",
            "_view_module_version": "1.2.0",
            "_view_name": "LayoutView",
            "align_content": null,
            "align_items": null,
            "align_self": null,
            "border": null,
            "bottom": null,
            "display": null,
            "flex": null,
            "flex_flow": null,
            "grid_area": null,
            "grid_auto_columns": null,
            "grid_auto_flow": null,
            "grid_auto_rows": null,
            "grid_column": null,
            "grid_gap": null,
            "grid_row": null,
            "grid_template_areas": null,
            "grid_template_columns": null,
            "grid_template_rows": null,
            "height": null,
            "justify_content": null,
            "justify_items": null,
            "left": null,
            "margin": null,
            "max_height": null,
            "max_width": null,
            "min_height": null,
            "min_width": null,
            "object_fit": null,
            "object_position": null,
            "order": null,
            "overflow": null,
            "overflow_x": null,
            "overflow_y": null,
            "padding": null,
            "right": null,
            "top": null,
            "visibility": null,
            "width": null
          }
        },
        "109eed4412204925adcab13158ed1cf0": {
          "model_module": "@jupyter-widgets/controls",
          "model_name": "DescriptionStyleModel",
          "model_module_version": "1.5.0",
          "state": {
            "_model_module": "@jupyter-widgets/controls",
            "_model_module_version": "1.5.0",
            "_model_name": "DescriptionStyleModel",
            "_view_count": null,
            "_view_module": "@jupyter-widgets/base",
            "_view_module_version": "1.2.0",
            "_view_name": "StyleView",
            "description_width": ""
          }
        },
        "2b89d9214ae042a98ddb844e4bfaebe7": {
          "model_module": "@jupyter-widgets/controls",
          "model_name": "HBoxModel",
          "model_module_version": "1.5.0",
          "state": {
            "_dom_classes": [],
            "_model_module": "@jupyter-widgets/controls",
            "_model_module_version": "1.5.0",
            "_model_name": "HBoxModel",
            "_view_count": null,
            "_view_module": "@jupyter-widgets/controls",
            "_view_module_version": "1.5.0",
            "_view_name": "HBoxView",
            "box_style": "",
            "children": [
              "IPY_MODEL_0a3437d7abf049d58b3e9dbd7784ba1e",
              "IPY_MODEL_c915ef03a6fa4c4cb041c4881acc2052",
              "IPY_MODEL_5e967cde31e04a30bd04e1004c7ef9eb"
            ],
            "layout": "IPY_MODEL_9fb240b64be44250b1892d39fcf102c4"
          }
        },
        "0a3437d7abf049d58b3e9dbd7784ba1e": {
          "model_module": "@jupyter-widgets/controls",
          "model_name": "HTMLModel",
          "model_module_version": "1.5.0",
          "state": {
            "_dom_classes": [],
            "_model_module": "@jupyter-widgets/controls",
            "_model_module_version": "1.5.0",
            "_model_name": "HTMLModel",
            "_view_count": null,
            "_view_module": "@jupyter-widgets/controls",
            "_view_module_version": "1.5.0",
            "_view_name": "HTMLView",
            "description": "",
            "description_tooltip": null,
            "layout": "IPY_MODEL_57900d82fa2c420fbc116b8a082d4ba0",
            "placeholder": "​",
            "style": "IPY_MODEL_6f706b5b6e024e7a9e760dfe1988dd2f",
            "value": "training_args.bin: 100%"
          }
        },
        "c915ef03a6fa4c4cb041c4881acc2052": {
          "model_module": "@jupyter-widgets/controls",
          "model_name": "FloatProgressModel",
          "model_module_version": "1.5.0",
          "state": {
            "_dom_classes": [],
            "_model_module": "@jupyter-widgets/controls",
            "_model_module_version": "1.5.0",
            "_model_name": "FloatProgressModel",
            "_view_count": null,
            "_view_module": "@jupyter-widgets/controls",
            "_view_module_version": "1.5.0",
            "_view_name": "ProgressView",
            "bar_style": "success",
            "description": "",
            "description_tooltip": null,
            "layout": "IPY_MODEL_bf9a5c71344b46498b344a898fe50805",
            "max": 4600,
            "min": 0,
            "orientation": "horizontal",
            "style": "IPY_MODEL_4bae6917d9b941f78fe9c68addc8d189",
            "value": 4600
          }
        },
        "5e967cde31e04a30bd04e1004c7ef9eb": {
          "model_module": "@jupyter-widgets/controls",
          "model_name": "HTMLModel",
          "model_module_version": "1.5.0",
          "state": {
            "_dom_classes": [],
            "_model_module": "@jupyter-widgets/controls",
            "_model_module_version": "1.5.0",
            "_model_name": "HTMLModel",
            "_view_count": null,
            "_view_module": "@jupyter-widgets/controls",
            "_view_module_version": "1.5.0",
            "_view_name": "HTMLView",
            "description": "",
            "description_tooltip": null,
            "layout": "IPY_MODEL_8d7d5c9f1a9d4204ae5e935b023afb87",
            "placeholder": "​",
            "style": "IPY_MODEL_1f7ad71f812148308518d87177e5345d",
            "value": " 4.60k/4.60k [00:00&lt;00:00, 16.5kB/s]"
          }
        },
        "9fb240b64be44250b1892d39fcf102c4": {
          "model_module": "@jupyter-widgets/base",
          "model_name": "LayoutModel",
          "model_module_version": "1.2.0",
          "state": {
            "_model_module": "@jupyter-widgets/base",
            "_model_module_version": "1.2.0",
            "_model_name": "LayoutModel",
            "_view_count": null,
            "_view_module": "@jupyter-widgets/base",
            "_view_module_version": "1.2.0",
            "_view_name": "LayoutView",
            "align_content": null,
            "align_items": null,
            "align_self": null,
            "border": null,
            "bottom": null,
            "display": null,
            "flex": null,
            "flex_flow": null,
            "grid_area": null,
            "grid_auto_columns": null,
            "grid_auto_flow": null,
            "grid_auto_rows": null,
            "grid_column": null,
            "grid_gap": null,
            "grid_row": null,
            "grid_template_areas": null,
            "grid_template_columns": null,
            "grid_template_rows": null,
            "height": null,
            "justify_content": null,
            "justify_items": null,
            "left": null,
            "margin": null,
            "max_height": null,
            "max_width": null,
            "min_height": null,
            "min_width": null,
            "object_fit": null,
            "object_position": null,
            "order": null,
            "overflow": null,
            "overflow_x": null,
            "overflow_y": null,
            "padding": null,
            "right": null,
            "top": null,
            "visibility": null,
            "width": null
          }
        },
        "57900d82fa2c420fbc116b8a082d4ba0": {
          "model_module": "@jupyter-widgets/base",
          "model_name": "LayoutModel",
          "model_module_version": "1.2.0",
          "state": {
            "_model_module": "@jupyter-widgets/base",
            "_model_module_version": "1.2.0",
            "_model_name": "LayoutModel",
            "_view_count": null,
            "_view_module": "@jupyter-widgets/base",
            "_view_module_version": "1.2.0",
            "_view_name": "LayoutView",
            "align_content": null,
            "align_items": null,
            "align_self": null,
            "border": null,
            "bottom": null,
            "display": null,
            "flex": null,
            "flex_flow": null,
            "grid_area": null,
            "grid_auto_columns": null,
            "grid_auto_flow": null,
            "grid_auto_rows": null,
            "grid_column": null,
            "grid_gap": null,
            "grid_row": null,
            "grid_template_areas": null,
            "grid_template_columns": null,
            "grid_template_rows": null,
            "height": null,
            "justify_content": null,
            "justify_items": null,
            "left": null,
            "margin": null,
            "max_height": null,
            "max_width": null,
            "min_height": null,
            "min_width": null,
            "object_fit": null,
            "object_position": null,
            "order": null,
            "overflow": null,
            "overflow_x": null,
            "overflow_y": null,
            "padding": null,
            "right": null,
            "top": null,
            "visibility": null,
            "width": null
          }
        },
        "6f706b5b6e024e7a9e760dfe1988dd2f": {
          "model_module": "@jupyter-widgets/controls",
          "model_name": "DescriptionStyleModel",
          "model_module_version": "1.5.0",
          "state": {
            "_model_module": "@jupyter-widgets/controls",
            "_model_module_version": "1.5.0",
            "_model_name": "DescriptionStyleModel",
            "_view_count": null,
            "_view_module": "@jupyter-widgets/base",
            "_view_module_version": "1.2.0",
            "_view_name": "StyleView",
            "description_width": ""
          }
        },
        "bf9a5c71344b46498b344a898fe50805": {
          "model_module": "@jupyter-widgets/base",
          "model_name": "LayoutModel",
          "model_module_version": "1.2.0",
          "state": {
            "_model_module": "@jupyter-widgets/base",
            "_model_module_version": "1.2.0",
            "_model_name": "LayoutModel",
            "_view_count": null,
            "_view_module": "@jupyter-widgets/base",
            "_view_module_version": "1.2.0",
            "_view_name": "LayoutView",
            "align_content": null,
            "align_items": null,
            "align_self": null,
            "border": null,
            "bottom": null,
            "display": null,
            "flex": null,
            "flex_flow": null,
            "grid_area": null,
            "grid_auto_columns": null,
            "grid_auto_flow": null,
            "grid_auto_rows": null,
            "grid_column": null,
            "grid_gap": null,
            "grid_row": null,
            "grid_template_areas": null,
            "grid_template_columns": null,
            "grid_template_rows": null,
            "height": null,
            "justify_content": null,
            "justify_items": null,
            "left": null,
            "margin": null,
            "max_height": null,
            "max_width": null,
            "min_height": null,
            "min_width": null,
            "object_fit": null,
            "object_position": null,
            "order": null,
            "overflow": null,
            "overflow_x": null,
            "overflow_y": null,
            "padding": null,
            "right": null,
            "top": null,
            "visibility": null,
            "width": null
          }
        },
        "4bae6917d9b941f78fe9c68addc8d189": {
          "model_module": "@jupyter-widgets/controls",
          "model_name": "ProgressStyleModel",
          "model_module_version": "1.5.0",
          "state": {
            "_model_module": "@jupyter-widgets/controls",
            "_model_module_version": "1.5.0",
            "_model_name": "ProgressStyleModel",
            "_view_count": null,
            "_view_module": "@jupyter-widgets/base",
            "_view_module_version": "1.2.0",
            "_view_name": "StyleView",
            "bar_color": null,
            "description_width": ""
          }
        },
        "8d7d5c9f1a9d4204ae5e935b023afb87": {
          "model_module": "@jupyter-widgets/base",
          "model_name": "LayoutModel",
          "model_module_version": "1.2.0",
          "state": {
            "_model_module": "@jupyter-widgets/base",
            "_model_module_version": "1.2.0",
            "_model_name": "LayoutModel",
            "_view_count": null,
            "_view_module": "@jupyter-widgets/base",
            "_view_module_version": "1.2.0",
            "_view_name": "LayoutView",
            "align_content": null,
            "align_items": null,
            "align_self": null,
            "border": null,
            "bottom": null,
            "display": null,
            "flex": null,
            "flex_flow": null,
            "grid_area": null,
            "grid_auto_columns": null,
            "grid_auto_flow": null,
            "grid_auto_rows": null,
            "grid_column": null,
            "grid_gap": null,
            "grid_row": null,
            "grid_template_areas": null,
            "grid_template_columns": null,
            "grid_template_rows": null,
            "height": null,
            "justify_content": null,
            "justify_items": null,
            "left": null,
            "margin": null,
            "max_height": null,
            "max_width": null,
            "min_height": null,
            "min_width": null,
            "object_fit": null,
            "object_position": null,
            "order": null,
            "overflow": null,
            "overflow_x": null,
            "overflow_y": null,
            "padding": null,
            "right": null,
            "top": null,
            "visibility": null,
            "width": null
          }
        },
        "1f7ad71f812148308518d87177e5345d": {
          "model_module": "@jupyter-widgets/controls",
          "model_name": "DescriptionStyleModel",
          "model_module_version": "1.5.0",
          "state": {
            "_model_module": "@jupyter-widgets/controls",
            "_model_module_version": "1.5.0",
            "_model_name": "DescriptionStyleModel",
            "_view_count": null,
            "_view_module": "@jupyter-widgets/base",
            "_view_module_version": "1.2.0",
            "_view_name": "StyleView",
            "description_width": ""
          }
        },
        "88fe8153e5d34d409084fb0f3965f668": {
          "model_module": "@jupyter-widgets/controls",
          "model_name": "HBoxModel",
          "model_module_version": "1.5.0",
          "state": {
            "_dom_classes": [],
            "_model_module": "@jupyter-widgets/controls",
            "_model_module_version": "1.5.0",
            "_model_name": "HBoxModel",
            "_view_count": null,
            "_view_module": "@jupyter-widgets/controls",
            "_view_module_version": "1.5.0",
            "_view_name": "HBoxView",
            "box_style": "",
            "children": [
              "IPY_MODEL_1cf650970db743f491728aae5d344932",
              "IPY_MODEL_1b7a6f4d552a4ba78a9a323d68bb5f2e",
              "IPY_MODEL_1891a8d3ddbc431cbaa28f518f9e762f"
            ],
            "layout": "IPY_MODEL_3e060ce8126e4fdaba0f40244b948222"
          }
        },
        "1cf650970db743f491728aae5d344932": {
          "model_module": "@jupyter-widgets/controls",
          "model_name": "HTMLModel",
          "model_module_version": "1.5.0",
          "state": {
            "_dom_classes": [],
            "_model_module": "@jupyter-widgets/controls",
            "_model_module_version": "1.5.0",
            "_model_name": "HTMLModel",
            "_view_count": null,
            "_view_module": "@jupyter-widgets/controls",
            "_view_module_version": "1.5.0",
            "_view_name": "HTMLView",
            "description": "",
            "description_tooltip": null,
            "layout": "IPY_MODEL_9b839cf5bed94d3ebd7abb9aaa22b7a9",
            "placeholder": "​",
            "style": "IPY_MODEL_3a93b964a8b24325a0d9d0acbfc67f8a",
            "value": "Upload 2 LFS files: 100%"
          }
        },
        "1b7a6f4d552a4ba78a9a323d68bb5f2e": {
          "model_module": "@jupyter-widgets/controls",
          "model_name": "FloatProgressModel",
          "model_module_version": "1.5.0",
          "state": {
            "_dom_classes": [],
            "_model_module": "@jupyter-widgets/controls",
            "_model_module_version": "1.5.0",
            "_model_name": "FloatProgressModel",
            "_view_count": null,
            "_view_module": "@jupyter-widgets/controls",
            "_view_module_version": "1.5.0",
            "_view_name": "ProgressView",
            "bar_style": "success",
            "description": "",
            "description_tooltip": null,
            "layout": "IPY_MODEL_b4acfad6e6434ca4834eb086f09080a8",
            "max": 2,
            "min": 0,
            "orientation": "horizontal",
            "style": "IPY_MODEL_3373506814cb40c5b4ed3a77311f26e0",
            "value": 2
          }
        },
        "1891a8d3ddbc431cbaa28f518f9e762f": {
          "model_module": "@jupyter-widgets/controls",
          "model_name": "HTMLModel",
          "model_module_version": "1.5.0",
          "state": {
            "_dom_classes": [],
            "_model_module": "@jupyter-widgets/controls",
            "_model_module_version": "1.5.0",
            "_model_name": "HTMLModel",
            "_view_count": null,
            "_view_module": "@jupyter-widgets/controls",
            "_view_module_version": "1.5.0",
            "_view_name": "HTMLView",
            "description": "",
            "description_tooltip": null,
            "layout": "IPY_MODEL_854918dc450b4750afbaad29b928491c",
            "placeholder": "​",
            "style": "IPY_MODEL_0bf257cd50f14e3abc2b35c5fbe03534",
            "value": " 2/2 [00:00&lt;00:00,  1.25it/s]"
          }
        },
        "3e060ce8126e4fdaba0f40244b948222": {
          "model_module": "@jupyter-widgets/base",
          "model_name": "LayoutModel",
          "model_module_version": "1.2.0",
          "state": {
            "_model_module": "@jupyter-widgets/base",
            "_model_module_version": "1.2.0",
            "_model_name": "LayoutModel",
            "_view_count": null,
            "_view_module": "@jupyter-widgets/base",
            "_view_module_version": "1.2.0",
            "_view_name": "LayoutView",
            "align_content": null,
            "align_items": null,
            "align_self": null,
            "border": null,
            "bottom": null,
            "display": null,
            "flex": null,
            "flex_flow": null,
            "grid_area": null,
            "grid_auto_columns": null,
            "grid_auto_flow": null,
            "grid_auto_rows": null,
            "grid_column": null,
            "grid_gap": null,
            "grid_row": null,
            "grid_template_areas": null,
            "grid_template_columns": null,
            "grid_template_rows": null,
            "height": null,
            "justify_content": null,
            "justify_items": null,
            "left": null,
            "margin": null,
            "max_height": null,
            "max_width": null,
            "min_height": null,
            "min_width": null,
            "object_fit": null,
            "object_position": null,
            "order": null,
            "overflow": null,
            "overflow_x": null,
            "overflow_y": null,
            "padding": null,
            "right": null,
            "top": null,
            "visibility": null,
            "width": null
          }
        },
        "9b839cf5bed94d3ebd7abb9aaa22b7a9": {
          "model_module": "@jupyter-widgets/base",
          "model_name": "LayoutModel",
          "model_module_version": "1.2.0",
          "state": {
            "_model_module": "@jupyter-widgets/base",
            "_model_module_version": "1.2.0",
            "_model_name": "LayoutModel",
            "_view_count": null,
            "_view_module": "@jupyter-widgets/base",
            "_view_module_version": "1.2.0",
            "_view_name": "LayoutView",
            "align_content": null,
            "align_items": null,
            "align_self": null,
            "border": null,
            "bottom": null,
            "display": null,
            "flex": null,
            "flex_flow": null,
            "grid_area": null,
            "grid_auto_columns": null,
            "grid_auto_flow": null,
            "grid_auto_rows": null,
            "grid_column": null,
            "grid_gap": null,
            "grid_row": null,
            "grid_template_areas": null,
            "grid_template_columns": null,
            "grid_template_rows": null,
            "height": null,
            "justify_content": null,
            "justify_items": null,
            "left": null,
            "margin": null,
            "max_height": null,
            "max_width": null,
            "min_height": null,
            "min_width": null,
            "object_fit": null,
            "object_position": null,
            "order": null,
            "overflow": null,
            "overflow_x": null,
            "overflow_y": null,
            "padding": null,
            "right": null,
            "top": null,
            "visibility": null,
            "width": null
          }
        },
        "3a93b964a8b24325a0d9d0acbfc67f8a": {
          "model_module": "@jupyter-widgets/controls",
          "model_name": "DescriptionStyleModel",
          "model_module_version": "1.5.0",
          "state": {
            "_model_module": "@jupyter-widgets/controls",
            "_model_module_version": "1.5.0",
            "_model_name": "DescriptionStyleModel",
            "_view_count": null,
            "_view_module": "@jupyter-widgets/base",
            "_view_module_version": "1.2.0",
            "_view_name": "StyleView",
            "description_width": ""
          }
        },
        "b4acfad6e6434ca4834eb086f09080a8": {
          "model_module": "@jupyter-widgets/base",
          "model_name": "LayoutModel",
          "model_module_version": "1.2.0",
          "state": {
            "_model_module": "@jupyter-widgets/base",
            "_model_module_version": "1.2.0",
            "_model_name": "LayoutModel",
            "_view_count": null,
            "_view_module": "@jupyter-widgets/base",
            "_view_module_version": "1.2.0",
            "_view_name": "LayoutView",
            "align_content": null,
            "align_items": null,
            "align_self": null,
            "border": null,
            "bottom": null,
            "display": null,
            "flex": null,
            "flex_flow": null,
            "grid_area": null,
            "grid_auto_columns": null,
            "grid_auto_flow": null,
            "grid_auto_rows": null,
            "grid_column": null,
            "grid_gap": null,
            "grid_row": null,
            "grid_template_areas": null,
            "grid_template_columns": null,
            "grid_template_rows": null,
            "height": null,
            "justify_content": null,
            "justify_items": null,
            "left": null,
            "margin": null,
            "max_height": null,
            "max_width": null,
            "min_height": null,
            "min_width": null,
            "object_fit": null,
            "object_position": null,
            "order": null,
            "overflow": null,
            "overflow_x": null,
            "overflow_y": null,
            "padding": null,
            "right": null,
            "top": null,
            "visibility": null,
            "width": null
          }
        },
        "3373506814cb40c5b4ed3a77311f26e0": {
          "model_module": "@jupyter-widgets/controls",
          "model_name": "ProgressStyleModel",
          "model_module_version": "1.5.0",
          "state": {
            "_model_module": "@jupyter-widgets/controls",
            "_model_module_version": "1.5.0",
            "_model_name": "ProgressStyleModel",
            "_view_count": null,
            "_view_module": "@jupyter-widgets/base",
            "_view_module_version": "1.2.0",
            "_view_name": "StyleView",
            "bar_color": null,
            "description_width": ""
          }
        },
        "854918dc450b4750afbaad29b928491c": {
          "model_module": "@jupyter-widgets/base",
          "model_name": "LayoutModel",
          "model_module_version": "1.2.0",
          "state": {
            "_model_module": "@jupyter-widgets/base",
            "_model_module_version": "1.2.0",
            "_model_name": "LayoutModel",
            "_view_count": null,
            "_view_module": "@jupyter-widgets/base",
            "_view_module_version": "1.2.0",
            "_view_name": "LayoutView",
            "align_content": null,
            "align_items": null,
            "align_self": null,
            "border": null,
            "bottom": null,
            "display": null,
            "flex": null,
            "flex_flow": null,
            "grid_area": null,
            "grid_auto_columns": null,
            "grid_auto_flow": null,
            "grid_auto_rows": null,
            "grid_column": null,
            "grid_gap": null,
            "grid_row": null,
            "grid_template_areas": null,
            "grid_template_columns": null,
            "grid_template_rows": null,
            "height": null,
            "justify_content": null,
            "justify_items": null,
            "left": null,
            "margin": null,
            "max_height": null,
            "max_width": null,
            "min_height": null,
            "min_width": null,
            "object_fit": null,
            "object_position": null,
            "order": null,
            "overflow": null,
            "overflow_x": null,
            "overflow_y": null,
            "padding": null,
            "right": null,
            "top": null,
            "visibility": null,
            "width": null
          }
        },
        "0bf257cd50f14e3abc2b35c5fbe03534": {
          "model_module": "@jupyter-widgets/controls",
          "model_name": "DescriptionStyleModel",
          "model_module_version": "1.5.0",
          "state": {
            "_model_module": "@jupyter-widgets/controls",
            "_model_module_version": "1.5.0",
            "_model_name": "DescriptionStyleModel",
            "_view_count": null,
            "_view_module": "@jupyter-widgets/base",
            "_view_module_version": "1.2.0",
            "_view_name": "StyleView",
            "description_width": ""
          }
        }
      }
    }
  },
  "nbformat": 4,
  "nbformat_minor": 0
}